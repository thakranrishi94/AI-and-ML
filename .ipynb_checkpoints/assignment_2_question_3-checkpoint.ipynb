{
 "cells": [
  {
   "cell_type": "markdown",
   "id": "651fc8a3",
   "metadata": {},
   "source": [
    "# Name : Rishabh Rajput\n",
    "# Course : MCA\n",
    "# Roll no: 2301560003"
   ]
  },
  {
   "cell_type": "markdown",
   "id": "ca9e8b7c",
   "metadata": {},
   "source": [
    "# Question no 3\n",
    "# String Matching"
   ]
  },
  {
   "cell_type": "code",
   "execution_count": 2,
   "id": "a5871b3d",
   "metadata": {},
   "outputs": [
    {
     "name": "stdout",
     "output_type": "stream",
     "text": [
      "Collecting fuzzywuzzyNote: you may need to restart the kernel to use updated packages.\n",
      "\n",
      "  Downloading fuzzywuzzy-0.18.0-py2.py3-none-any.whl (18 kB)\n",
      "Installing collected packages: fuzzywuzzy\n",
      "Successfully installed fuzzywuzzy-0.18.0\n"
     ]
    }
   ],
   "source": [
    "pip install fuzzywuzzy"
   ]
  },
  {
   "cell_type": "code",
   "execution_count": 3,
   "id": "0fb99e76",
   "metadata": {},
   "outputs": [
    {
     "name": "stderr",
     "output_type": "stream",
     "text": [
      "C:\\Users\\admin\\Desktop\\New folder\\Lib\\site-packages\\fuzzywuzzy\\fuzz.py:11: UserWarning: Using slow pure-python SequenceMatcher. Install python-Levenshtein to remove this warning\n",
      "  warnings.warn('Using slow pure-python SequenceMatcher. Install python-Levenshtein to remove this warning')\n"
     ]
    }
   ],
   "source": [
    "from fuzzywuzzy import fuzz, process"
   ]
  },
  {
   "cell_type": "code",
   "execution_count": 4,
   "id": "bea8741c",
   "metadata": {},
   "outputs": [],
   "source": [
    "berlin = ['Berlin, Germany', \n",
    "          'Berlin, Deutschland', \n",
    "          'Berlin', \n",
    "          'Berlin, DE']"
   ]
  },
  {
   "cell_type": "code",
   "execution_count": 5,
   "id": "c575bfe2",
   "metadata": {},
   "outputs": [
    {
     "data": {
      "text/plain": [
       "60"
      ]
     },
     "execution_count": 5,
     "metadata": {},
     "output_type": "execute_result"
    }
   ],
   "source": [
    "#Try matching the first and second strings: 'Berlin, Germany' and 'Berlin, Deutschland'\n",
    "fuzz.partial_ratio(berlin[0], berlin[1])\n"
   ]
  },
  {
   "cell_type": "code",
   "execution_count": 6,
   "id": "096fc648",
   "metadata": {},
   "outputs": [],
   "source": [
    "fuzz.ratio?"
   ]
  },
  {
   "cell_type": "code",
   "execution_count": 7,
   "id": "5ad33d03",
   "metadata": {},
   "outputs": [
    {
     "data": {
      "text/plain": [
       "65"
      ]
     },
     "execution_count": 7,
     "metadata": {},
     "output_type": "execute_result"
    }
   ],
   "source": [
    "fuzz.ratio(berlin[0], berlin[1])"
   ]
  },
  {
   "cell_type": "code",
   "execution_count": 8,
   "id": "7137e530",
   "metadata": {},
   "outputs": [
    {
     "data": {
      "text/plain": [
       "62"
      ]
     },
     "execution_count": 8,
     "metadata": {},
     "output_type": "execute_result"
    }
   ],
   "source": [
    "fuzz.token_set_ratio(berlin[0], berlin[1])"
   ]
  },
  {
   "cell_type": "code",
   "execution_count": 9,
   "id": "82ad2f65",
   "metadata": {},
   "outputs": [
    {
     "data": {
      "text/plain": [
       "62"
      ]
     },
     "execution_count": 9,
     "metadata": {},
     "output_type": "execute_result"
    }
   ],
   "source": [
    "fuzz.token_sort_ratio(berlin[0], berlin[1])"
   ]
  },
  {
   "cell_type": "code",
   "execution_count": 10,
   "id": "a38f7f7d",
   "metadata": {},
   "outputs": [
    {
     "data": {
      "text/plain": [
       "100"
      ]
     },
     "execution_count": 10,
     "metadata": {},
     "output_type": "execute_result"
    }
   ],
   "source": [
    "#Try matching the second and third strings: 'Berlin, Deutschland' and 'Berlin'\n",
    "fuzz.partial_ratio(berlin[1], berlin[2])"
   ]
  },
  {
   "cell_type": "code",
   "execution_count": 11,
   "id": "8119634f",
   "metadata": {},
   "outputs": [
    {
     "data": {
      "text/plain": [
       "50"
      ]
     },
     "execution_count": 11,
     "metadata": {},
     "output_type": "execute_result"
    }
   ],
   "source": [
    "fuzz.ratio(berlin[1], berlin[2])"
   ]
  },
  {
   "cell_type": "code",
   "execution_count": 12,
   "id": "efcb71c5",
   "metadata": {},
   "outputs": [
    {
     "data": {
      "text/plain": [
       "50"
      ]
     },
     "execution_count": 12,
     "metadata": {},
     "output_type": "execute_result"
    }
   ],
   "source": [
    "fuzz.token_sort_ratio(berlin[1], berlin[2])"
   ]
  },
  {
   "cell_type": "code",
   "execution_count": 13,
   "id": "13b74a15",
   "metadata": {},
   "outputs": [
    {
     "data": {
      "text/plain": [
       "100"
      ]
     },
     "execution_count": 13,
     "metadata": {},
     "output_type": "execute_result"
    }
   ],
   "source": [
    "#What do you think will score lowest and highest for the final two elements:\n",
    "#'Berlin'\n",
    "#'Berlin, DE'\n",
    "fuzz.token_set_ratio(berlin[2], berlin[3])"
   ]
  },
  {
   "cell_type": "code",
   "execution_count": 14,
   "id": "aedfce1b",
   "metadata": {},
   "outputs": [],
   "source": [
    "#Extracting a guess out of a list\n",
    "choices = ['Germany', 'Deutschland', 'France', \n",
    "           'United Kingdom', 'Great Britain', \n",
    "           'United States']"
   ]
  },
  {
   "cell_type": "code",
   "execution_count": 15,
   "id": "e35e23dd",
   "metadata": {},
   "outputs": [
    {
     "data": {
      "text/plain": [
       "[('Deutschland', 90), ('United States', 57)]"
      ]
     },
     "execution_count": 15,
     "metadata": {},
     "output_type": "execute_result"
    }
   ],
   "source": [
    "process.extract('DE', choices, limit=2)"
   ]
  },
  {
   "cell_type": "code",
   "execution_count": 16,
   "id": "9c599fc8",
   "metadata": {},
   "outputs": [
    {
     "data": {
      "text/plain": [
       "[('Deutschland', 45),\n",
       " ('United Kingdom', 45),\n",
       " ('United States', 45),\n",
       " ('Germany', 0),\n",
       " ('France', 0)]"
      ]
     },
     "execution_count": 16,
     "metadata": {},
     "output_type": "execute_result"
    }
   ],
   "source": [
    "process.extract('UK', choices)"
   ]
  },
  {
   "cell_type": "code",
   "execution_count": 17,
   "id": "3cf9923e",
   "metadata": {},
   "outputs": [
    {
     "data": {
      "text/plain": [
       "[('France', 62),\n",
       " ('Great Britain', 41),\n",
       " ('Germany', 35),\n",
       " ('United Kingdom', 25),\n",
       " ('United States', 25)]"
      ]
     },
     "execution_count": 17,
     "metadata": {},
     "output_type": "execute_result"
    }
   ],
   "source": [
    "process.extract('frankreich', choices)"
   ]
  },
  {
   "cell_type": "code",
   "execution_count": 18,
   "id": "d80e87d5",
   "metadata": {},
   "outputs": [
    {
     "data": {
      "text/plain": [
       "[('United States', 86),\n",
       " ('Deutschland', 60),\n",
       " ('United Kingdom', 57),\n",
       " ('Great Britain', 30),\n",
       " ('Germany', 0)]"
      ]
     },
     "execution_count": 18,
     "metadata": {},
     "output_type": "execute_result"
    }
   ],
   "source": [
    "#Will this properly extract?\n",
    "process.extract('U.S.', choices)"
   ]
  },
  {
   "cell_type": "markdown",
   "id": "80899331",
   "metadata": {},
   "source": [
    "# Managing Nulls with Pandas "
   ]
  },
  {
   "cell_type": "code",
   "execution_count": 19,
   "id": "e0b30bb6",
   "metadata": {},
   "outputs": [],
   "source": [
    "import pandas as pd\n",
    "from numpy import random\n",
    "df = pd.read_csv('iot_example_with_nulls.csv')"
   ]
  },
  {
   "cell_type": "code",
   "execution_count": 22,
   "id": "08cf61b1",
   "metadata": {},
   "outputs": [
    {
     "data": {
      "text/html": [
       "<div>\n",
       "<style scoped>\n",
       "    .dataframe tbody tr th:only-of-type {\n",
       "        vertical-align: middle;\n",
       "    }\n",
       "\n",
       "    .dataframe tbody tr th {\n",
       "        vertical-align: top;\n",
       "    }\n",
       "\n",
       "    .dataframe thead th {\n",
       "        text-align: right;\n",
       "    }\n",
       "</style>\n",
       "<table border=\"1\" class=\"dataframe\">\n",
       "  <thead>\n",
       "    <tr style=\"text-align: right;\">\n",
       "      <th></th>\n",
       "      <th>timestamp</th>\n",
       "      <th>username</th>\n",
       "      <th>temperature</th>\n",
       "      <th>heartrate</th>\n",
       "      <th>build</th>\n",
       "      <th>latest</th>\n",
       "      <th>note</th>\n",
       "    </tr>\n",
       "  </thead>\n",
       "  <tbody>\n",
       "    <tr>\n",
       "      <th>0</th>\n",
       "      <td>2017-01-01T12:00:23</td>\n",
       "      <td>michaelsmith</td>\n",
       "      <td>12.0</td>\n",
       "      <td>67</td>\n",
       "      <td>4e6a7805-8faa-2768-6ef6-eb3198b483ac</td>\n",
       "      <td>0.0</td>\n",
       "      <td>interval</td>\n",
       "    </tr>\n",
       "    <tr>\n",
       "      <th>1</th>\n",
       "      <td>2017-01-01T12:01:09</td>\n",
       "      <td>kharrison</td>\n",
       "      <td>6.0</td>\n",
       "      <td>78</td>\n",
       "      <td>7256b7b0-e502-f576-62ec-ed73533c9c84</td>\n",
       "      <td>0.0</td>\n",
       "      <td>wake</td>\n",
       "    </tr>\n",
       "    <tr>\n",
       "      <th>2</th>\n",
       "      <td>2017-01-01T12:01:34</td>\n",
       "      <td>smithadam</td>\n",
       "      <td>5.0</td>\n",
       "      <td>89</td>\n",
       "      <td>9226c94b-bb4b-a6c8-8e02-cb42b53e9c90</td>\n",
       "      <td>0.0</td>\n",
       "      <td>NaN</td>\n",
       "    </tr>\n",
       "    <tr>\n",
       "      <th>3</th>\n",
       "      <td>2017-01-01T12:02:09</td>\n",
       "      <td>eddierodriguez</td>\n",
       "      <td>28.0</td>\n",
       "      <td>76</td>\n",
       "      <td>NaN</td>\n",
       "      <td>0.0</td>\n",
       "      <td>update</td>\n",
       "    </tr>\n",
       "    <tr>\n",
       "      <th>4</th>\n",
       "      <td>2017-01-01T12:02:36</td>\n",
       "      <td>kenneth94</td>\n",
       "      <td>29.0</td>\n",
       "      <td>62</td>\n",
       "      <td>122f1c6a-403c-2221-6ed1-b5caa08f11e0</td>\n",
       "      <td>NaN</td>\n",
       "      <td>NaN</td>\n",
       "    </tr>\n",
       "  </tbody>\n",
       "</table>\n",
       "</div>"
      ],
      "text/plain": [
       "             timestamp        username  temperature  heartrate  \\\n",
       "0  2017-01-01T12:00:23    michaelsmith         12.0         67   \n",
       "1  2017-01-01T12:01:09       kharrison          6.0         78   \n",
       "2  2017-01-01T12:01:34       smithadam          5.0         89   \n",
       "3  2017-01-01T12:02:09  eddierodriguez         28.0         76   \n",
       "4  2017-01-01T12:02:36       kenneth94         29.0         62   \n",
       "\n",
       "                                  build  latest      note  \n",
       "0  4e6a7805-8faa-2768-6ef6-eb3198b483ac     0.0  interval  \n",
       "1  7256b7b0-e502-f576-62ec-ed73533c9c84     0.0      wake  \n",
       "2  9226c94b-bb4b-a6c8-8e02-cb42b53e9c90     0.0       NaN  \n",
       "3                                   NaN     0.0    update  \n",
       "4  122f1c6a-403c-2221-6ed1-b5caa08f11e0     NaN       NaN  "
      ]
     },
     "execution_count": 22,
     "metadata": {},
     "output_type": "execute_result"
    }
   ],
   "source": [
    "df.head()"
   ]
  },
  {
   "cell_type": "code",
   "execution_count": 23,
   "id": "65084c80",
   "metadata": {},
   "outputs": [
    {
     "data": {
      "text/plain": [
       "timestamp       object\n",
       "username        object\n",
       "temperature    float64\n",
       "heartrate        int64\n",
       "build           object\n",
       "latest         float64\n",
       "note            object\n",
       "dtype: object"
      ]
     },
     "execution_count": 23,
     "metadata": {},
     "output_type": "execute_result"
    }
   ],
   "source": [
    "df.dtypes\n"
   ]
  },
  {
   "cell_type": "code",
   "execution_count": 24,
   "id": "33bb3f82",
   "metadata": {},
   "outputs": [
    {
     "data": {
      "text/plain": [
       "note\n",
       "wake        16496\n",
       "user        16416\n",
       "interval    16274\n",
       "sleep       16226\n",
       "update      16213\n",
       "test        16068\n",
       "Name: count, dtype: int64"
      ]
     },
     "execution_count": 24,
     "metadata": {},
     "output_type": "execute_result"
    }
   ],
   "source": [
    "df.note.value_counts()"
   ]
  },
  {
   "cell_type": "code",
   "execution_count": 25,
   "id": "b507a664",
   "metadata": {},
   "outputs": [],
   "source": [
    "#Let's remove all null values (including the note: n/a)\n",
    "df = pd.read_csv('iot_example_with_nulls.csv', \n",
    "                 na_values=['n/a'])"
   ]
  },
  {
   "cell_type": "code",
   "execution_count": 26,
   "id": "a43762b8",
   "metadata": {},
   "outputs": [
    {
     "data": {
      "text/plain": [
       "(146397, 7)"
      ]
     },
     "execution_count": 26,
     "metadata": {},
     "output_type": "execute_result"
    }
   ],
   "source": [
    "#Test to see if we can use dropna\n",
    "df.shape"
   ]
  },
  {
   "cell_type": "code",
   "execution_count": 27,
   "id": "a2ed17c9",
   "metadata": {},
   "outputs": [
    {
     "data": {
      "text/plain": [
       "(46116, 7)"
      ]
     },
     "execution_count": 27,
     "metadata": {},
     "output_type": "execute_result"
    }
   ],
   "source": [
    "df.dropna().shape"
   ]
  },
  {
   "cell_type": "code",
   "execution_count": 28,
   "id": "a48e8ba1",
   "metadata": {},
   "outputs": [
    {
     "data": {
      "text/plain": [
       "(146397, 7)"
      ]
     },
     "execution_count": 28,
     "metadata": {},
     "output_type": "execute_result"
    }
   ],
   "source": [
    "df.dropna(how='all', axis=1).shape"
   ]
  },
  {
   "cell_type": "code",
   "execution_count": 30,
   "id": "96733e6c",
   "metadata": {},
   "outputs": [
    {
     "data": {
      "text/plain": [
       "['timestamp',\n",
       " 'username',\n",
       " 'temperature',\n",
       " 'heartrate',\n",
       " 'build',\n",
       " 'latest',\n",
       " 'note']"
      ]
     },
     "execution_count": 30,
     "metadata": {},
     "output_type": "execute_result"
    }
   ],
   "source": [
    "#Test to see if we can drop columns\n",
    "my_columns = list(df.columns)\n",
    "my_columns"
   ]
  },
  {
   "cell_type": "code",
   "execution_count": 31,
   "id": "e2cc0d64",
   "metadata": {},
   "outputs": [
    {
     "data": {
      "text/plain": [
       "['timestamp', 'username', 'heartrate']"
      ]
     },
     "execution_count": 31,
     "metadata": {},
     "output_type": "execute_result"
    }
   ],
   "source": [
    "list(df.dropna(thresh=int(df.shape[0] * .9), axis=1).columns)"
   ]
  },
  {
   "cell_type": "code",
   "execution_count": 32,
   "id": "4ae1a327",
   "metadata": {},
   "outputs": [
    {
     "data": {
      "text/plain": [
       "['temperature', 'build', 'latest', 'note']"
      ]
     },
     "execution_count": 32,
     "metadata": {},
     "output_type": "execute_result"
    }
   ],
   "source": [
    "#I want to find all columns that have missing data\n",
    "missing_info = list(df.columns[df.isnull().any()])\n",
    "missing_info"
   ]
  },
  {
   "cell_type": "code",
   "execution_count": 36,
   "id": "a90fc192",
   "metadata": {},
   "outputs": [
    {
     "name": "stdout",
     "output_type": "stream",
     "text": [
      "number missing for column temperature: 32357\n",
      "number missing for column build: 32350\n",
      "number missing for column latest: 32298\n",
      "number missing for column note: 48704\n",
      "\n",
      "\n",
      "#######################################################\n",
      "\n",
      "percent missing for column temperature: 0.22102228870810195\n",
      "percent missing for column build: 0.22097447352063226\n",
      "percent missing for column latest: 0.22061927498514314\n",
      "percent missing for column note: 0.332684412931959\n"
     ]
    }
   ],
   "source": [
    "for col in missing_info:\n",
    "    num_missing = df[df[col].isnull() == True].shape[0]\n",
    "    print('number missing for column {}: {}'.format(col, \n",
    "                                                    num_missing))\n",
    "print(\"\\n\")\n",
    "print(\"#######################################################\\n\")\n",
    "for col in missing_info:\n",
    "    percent_missing = df[df[col].isnull() == True].shape[0] / df.shape[0]\n",
    "    print('percent missing for column {}: {}'.format(\n",
    "        col, percent_missing))"
   ]
  },
  {
   "cell_type": "code",
   "execution_count": 43,
   "id": "f5e2835b",
   "metadata": {},
   "outputs": [],
   "source": [
    "#Can I easily substitute majority values in for missing data?\n",
    "df.note.value_counts()\n",
    "df.build.value_counts().head()\n",
    "df.latest.value_counts()\n",
    "df.latest = df.latest.fillna(0)"
   ]
  },
  {
   "cell_type": "code",
   "execution_count": 52,
   "id": "0e35f3ec",
   "metadata": {},
   "outputs": [
    {
     "data": {
      "text/html": [
       "<div>\n",
       "<style scoped>\n",
       "    .dataframe tbody tr th:only-of-type {\n",
       "        vertical-align: middle;\n",
       "    }\n",
       "\n",
       "    .dataframe tbody tr th {\n",
       "        vertical-align: top;\n",
       "    }\n",
       "\n",
       "    .dataframe thead th {\n",
       "        text-align: right;\n",
       "    }\n",
       "</style>\n",
       "<table border=\"1\" class=\"dataframe\">\n",
       "  <thead>\n",
       "    <tr style=\"text-align: right;\">\n",
       "      <th></th>\n",
       "      <th>username</th>\n",
       "      <th>temperature</th>\n",
       "      <th>heartrate</th>\n",
       "      <th>build</th>\n",
       "      <th>latest</th>\n",
       "      <th>note</th>\n",
       "    </tr>\n",
       "    <tr>\n",
       "      <th>timestamp</th>\n",
       "      <th></th>\n",
       "      <th></th>\n",
       "      <th></th>\n",
       "      <th></th>\n",
       "      <th></th>\n",
       "      <th></th>\n",
       "    </tr>\n",
       "  </thead>\n",
       "  <tbody>\n",
       "    <tr>\n",
       "      <th>2017-01-01T12:00:23</th>\n",
       "      <td>michaelsmith</td>\n",
       "      <td>12.0</td>\n",
       "      <td>67</td>\n",
       "      <td>4e6a7805-8faa-2768-6ef6-eb3198b483ac</td>\n",
       "      <td>0.0</td>\n",
       "      <td>interval</td>\n",
       "    </tr>\n",
       "    <tr>\n",
       "      <th>2017-01-01T12:01:09</th>\n",
       "      <td>kharrison</td>\n",
       "      <td>6.0</td>\n",
       "      <td>78</td>\n",
       "      <td>7256b7b0-e502-f576-62ec-ed73533c9c84</td>\n",
       "      <td>0.0</td>\n",
       "      <td>wake</td>\n",
       "    </tr>\n",
       "    <tr>\n",
       "      <th>2017-01-01T12:01:34</th>\n",
       "      <td>smithadam</td>\n",
       "      <td>5.0</td>\n",
       "      <td>89</td>\n",
       "      <td>9226c94b-bb4b-a6c8-8e02-cb42b53e9c90</td>\n",
       "      <td>0.0</td>\n",
       "      <td>NaN</td>\n",
       "    </tr>\n",
       "    <tr>\n",
       "      <th>2017-01-01T12:02:09</th>\n",
       "      <td>eddierodriguez</td>\n",
       "      <td>28.0</td>\n",
       "      <td>76</td>\n",
       "      <td>NaN</td>\n",
       "      <td>0.0</td>\n",
       "      <td>update</td>\n",
       "    </tr>\n",
       "    <tr>\n",
       "      <th>2017-01-01T12:02:36</th>\n",
       "      <td>kenneth94</td>\n",
       "      <td>29.0</td>\n",
       "      <td>62</td>\n",
       "      <td>122f1c6a-403c-2221-6ed1-b5caa08f11e0</td>\n",
       "      <td>0.0</td>\n",
       "      <td>NaN</td>\n",
       "    </tr>\n",
       "  </tbody>\n",
       "</table>\n",
       "</div>"
      ],
      "text/plain": [
       "                           username  temperature  heartrate  \\\n",
       "timestamp                                                     \n",
       "2017-01-01T12:00:23    michaelsmith         12.0         67   \n",
       "2017-01-01T12:01:09       kharrison          6.0         78   \n",
       "2017-01-01T12:01:34       smithadam          5.0         89   \n",
       "2017-01-01T12:02:09  eddierodriguez         28.0         76   \n",
       "2017-01-01T12:02:36       kenneth94         29.0         62   \n",
       "\n",
       "                                                    build  latest      note  \n",
       "timestamp                                                                    \n",
       "2017-01-01T12:00:23  4e6a7805-8faa-2768-6ef6-eb3198b483ac     0.0  interval  \n",
       "2017-01-01T12:01:09  7256b7b0-e502-f576-62ec-ed73533c9c84     0.0      wake  \n",
       "2017-01-01T12:01:34  9226c94b-bb4b-a6c8-8e02-cb42b53e9c90     0.0       NaN  \n",
       "2017-01-01T12:02:09                                   NaN     0.0    update  \n",
       "2017-01-01T12:02:36  122f1c6a-403c-2221-6ed1-b5caa08f11e0     0.0       NaN  "
      ]
     },
     "execution_count": 52,
     "metadata": {},
     "output_type": "execute_result"
    }
   ],
   "source": [
    "#Have not yet addressed temperature missing values... Let's find a way to fill\n",
    "df.username.value_counts().head()\n",
    "df.head()\n",
    "df.temperature = df.groupby('username').temperature.fillna(\n",
    "    method='backfill', limit=3)\n",
    "df.head()"
   ]
  },
  {
   "cell_type": "markdown",
   "id": "3adaefda",
   "metadata": {},
   "source": [
    "# Scikit Learn Preprocessing"
   ]
  },
  {
   "cell_type": "code",
   "execution_count": 61,
   "id": "ca0b1e93",
   "metadata": {},
   "outputs": [],
   "source": [
    "from sklearn import preprocessing\n",
    "from datetime import datetime\n",
    "hvac = pd.read_csv('HVAC_with_nulls.csv')"
   ]
  },
  {
   "cell_type": "code",
   "execution_count": 62,
   "id": "2313ef5f",
   "metadata": {},
   "outputs": [
    {
     "data": {
      "text/plain": [
       "Date           object\n",
       "Time           object\n",
       "TargetTemp    float64\n",
       "ActualTemp      int64\n",
       "System          int64\n",
       "SystemAge     float64\n",
       "BuildingID      int64\n",
       "10            float64\n",
       "dtype: object"
      ]
     },
     "execution_count": 62,
     "metadata": {},
     "output_type": "execute_result"
    }
   ],
   "source": [
    "#Checking Data Quality\n",
    "hvac.dtypes"
   ]
  },
  {
   "cell_type": "code",
   "execution_count": 63,
   "id": "6e42ecdb",
   "metadata": {},
   "outputs": [
    {
     "data": {
      "text/plain": [
       "(8000, 8)"
      ]
     },
     "execution_count": 63,
     "metadata": {},
     "output_type": "execute_result"
    }
   ],
   "source": [
    "hvac.shape"
   ]
  },
  {
   "cell_type": "code",
   "execution_count": 64,
   "id": "656b717e",
   "metadata": {},
   "outputs": [
    {
     "data": {
      "text/html": [
       "<div>\n",
       "<style scoped>\n",
       "    .dataframe tbody tr th:only-of-type {\n",
       "        vertical-align: middle;\n",
       "    }\n",
       "\n",
       "    .dataframe tbody tr th {\n",
       "        vertical-align: top;\n",
       "    }\n",
       "\n",
       "    .dataframe thead th {\n",
       "        text-align: right;\n",
       "    }\n",
       "</style>\n",
       "<table border=\"1\" class=\"dataframe\">\n",
       "  <thead>\n",
       "    <tr style=\"text-align: right;\">\n",
       "      <th></th>\n",
       "      <th>Date</th>\n",
       "      <th>Time</th>\n",
       "      <th>TargetTemp</th>\n",
       "      <th>ActualTemp</th>\n",
       "      <th>System</th>\n",
       "      <th>SystemAge</th>\n",
       "      <th>BuildingID</th>\n",
       "      <th>10</th>\n",
       "    </tr>\n",
       "  </thead>\n",
       "  <tbody>\n",
       "    <tr>\n",
       "      <th>0</th>\n",
       "      <td>6/1/13</td>\n",
       "      <td>0:00:01</td>\n",
       "      <td>66.0</td>\n",
       "      <td>58</td>\n",
       "      <td>13</td>\n",
       "      <td>20.0</td>\n",
       "      <td>4</td>\n",
       "      <td>NaN</td>\n",
       "    </tr>\n",
       "    <tr>\n",
       "      <th>1</th>\n",
       "      <td>6/2/13</td>\n",
       "      <td>1:00:01</td>\n",
       "      <td>NaN</td>\n",
       "      <td>68</td>\n",
       "      <td>3</td>\n",
       "      <td>20.0</td>\n",
       "      <td>17</td>\n",
       "      <td>NaN</td>\n",
       "    </tr>\n",
       "    <tr>\n",
       "      <th>2</th>\n",
       "      <td>6/3/13</td>\n",
       "      <td>2:00:01</td>\n",
       "      <td>70.0</td>\n",
       "      <td>73</td>\n",
       "      <td>17</td>\n",
       "      <td>20.0</td>\n",
       "      <td>18</td>\n",
       "      <td>NaN</td>\n",
       "    </tr>\n",
       "    <tr>\n",
       "      <th>3</th>\n",
       "      <td>6/4/13</td>\n",
       "      <td>3:00:01</td>\n",
       "      <td>67.0</td>\n",
       "      <td>63</td>\n",
       "      <td>2</td>\n",
       "      <td>NaN</td>\n",
       "      <td>15</td>\n",
       "      <td>NaN</td>\n",
       "    </tr>\n",
       "    <tr>\n",
       "      <th>4</th>\n",
       "      <td>6/5/13</td>\n",
       "      <td>4:00:01</td>\n",
       "      <td>68.0</td>\n",
       "      <td>74</td>\n",
       "      <td>16</td>\n",
       "      <td>9.0</td>\n",
       "      <td>3</td>\n",
       "      <td>NaN</td>\n",
       "    </tr>\n",
       "  </tbody>\n",
       "</table>\n",
       "</div>"
      ],
      "text/plain": [
       "     Date     Time  TargetTemp  ActualTemp  System  SystemAge  BuildingID  10\n",
       "0  6/1/13  0:00:01        66.0          58      13       20.0           4 NaN\n",
       "1  6/2/13  1:00:01         NaN          68       3       20.0          17 NaN\n",
       "2  6/3/13  2:00:01        70.0          73      17       20.0          18 NaN\n",
       "3  6/4/13  3:00:01        67.0          63       2        NaN          15 NaN\n",
       "4  6/5/13  4:00:01        68.0          74      16        9.0           3 NaN"
      ]
     },
     "execution_count": 64,
     "metadata": {},
     "output_type": "execute_result"
    }
   ],
   "source": [
    "hvac.head()"
   ]
  },
  {
   "cell_type": "code",
   "execution_count": 67,
   "id": "07b6e75e",
   "metadata": {},
   "outputs": [
    {
     "data": {
      "text/plain": [
       "0   -1.293272\n",
       "1    0.048732\n",
       "2    0.719733\n",
       "3   -0.622270\n",
       "4    0.853934\n",
       "Name: ScaledTemp, dtype: float64"
      ]
     },
     "execution_count": 67,
     "metadata": {},
     "output_type": "execute_result"
    }
   ],
   "source": [
    "#Scale temperature values\n",
    "hvac['ScaledTemp'] = preprocessing.scale(hvac['ActualTemp'])\n",
    "hvac['ScaledTemp'].head()"
   ]
  },
  {
   "cell_type": "code",
   "execution_count": 68,
   "id": "8bdd2716",
   "metadata": {},
   "outputs": [
    {
     "data": {
      "text/plain": [
       "array([[0.12],\n",
       "       [0.52],\n",
       "       [0.72],\n",
       "       ...,\n",
       "       [0.56],\n",
       "       [0.32],\n",
       "       [0.44]])"
      ]
     },
     "execution_count": 68,
     "metadata": {},
     "output_type": "execute_result"
    }
   ],
   "source": [
    "#Scale using a min and max scaler\n",
    "min_max_scaler = preprocessing.MinMaxScaler()\n",
    "temp_minmax = min_max_scaler.fit_transform(hvac[['ActualTemp']])\n",
    "temp_minmax"
   ]
  },
  {
   "cell_type": "markdown",
   "id": "85554a69",
   "metadata": {},
   "source": [
    "# Case Study: Preparing Lobste.rs Stories for Machine Learning"
   ]
  },
  {
   "cell_type": "code",
   "execution_count": 69,
   "id": "1c99d7ec",
   "metadata": {},
   "outputs": [],
   "source": [
    "import requests\n",
    "from fuzzywuzzy import fuzz\n",
    "from collections import Counter\n",
    "from sklearn import preprocessing"
   ]
  },
  {
   "cell_type": "code",
   "execution_count": 70,
   "id": "d858d26e",
   "metadata": {},
   "outputs": [],
   "source": [
    "#If you'd rather read from the API to get the latest, uncomment the details (and add comment to the final line)\n",
    "#resp = requests.get('https://lobste.rs/hottest.json')\n",
    "#stories = pd.read_json(resp.content)\n",
    "#stories = stories.set_index('short_id')\n",
    "\n",
    "stories = pd.read_json('all_lobsters.json')"
   ]
  },
  {
   "cell_type": "code",
   "execution_count": 71,
   "id": "c5e8cd82",
   "metadata": {},
   "outputs": [
    {
     "data": {
      "text/html": [
       "<div>\n",
       "<style scoped>\n",
       "    .dataframe tbody tr th:only-of-type {\n",
       "        vertical-align: middle;\n",
       "    }\n",
       "\n",
       "    .dataframe tbody tr th {\n",
       "        vertical-align: top;\n",
       "    }\n",
       "\n",
       "    .dataframe thead th {\n",
       "        text-align: right;\n",
       "    }\n",
       "</style>\n",
       "<table border=\"1\" class=\"dataframe\">\n",
       "  <thead>\n",
       "    <tr style=\"text-align: right;\">\n",
       "      <th></th>\n",
       "      <th>comment_count</th>\n",
       "      <th>comments_url</th>\n",
       "      <th>created_at</th>\n",
       "      <th>description</th>\n",
       "      <th>downvotes</th>\n",
       "      <th>last_updated</th>\n",
       "      <th>score</th>\n",
       "      <th>short_id_url</th>\n",
       "      <th>submitter_user</th>\n",
       "      <th>tags</th>\n",
       "      <th>title</th>\n",
       "      <th>upvotes</th>\n",
       "      <th>url</th>\n",
       "    </tr>\n",
       "  </thead>\n",
       "  <tbody>\n",
       "    <tr>\n",
       "      <th>09zw7r</th>\n",
       "      <td>0</td>\n",
       "      <td>https://lobste.rs/s/09zw7r/edited_truth</td>\n",
       "      <td>2017-08-08 20:11:09</td>\n",
       "      <td></td>\n",
       "      <td>0</td>\n",
       "      <td>2017-08-09T11:03:57.014269</td>\n",
       "      <td>3</td>\n",
       "      <td>https://lobste.rs/s/09zw7r</td>\n",
       "      <td>{'avatar_url': 'https://lobste.rs/avatars/trn-...</td>\n",
       "      <td>[crypto, pdf]</td>\n",
       "      <td>The Edited Truth</td>\n",
       "      <td>3</td>\n",
       "      <td>https://eprint.iacr.org/2017/714.pdf</td>\n",
       "    </tr>\n",
       "    <tr>\n",
       "      <th>0bdne7</th>\n",
       "      <td>17</td>\n",
       "      <td>https://lobste.rs/s/0bdne7/rise_social_media_v...</td>\n",
       "      <td>2017-08-08 21:12:38</td>\n",
       "      <td></td>\n",
       "      <td>9</td>\n",
       "      <td>2017-08-09T11:03:57.014269</td>\n",
       "      <td>-1</td>\n",
       "      <td>https://lobste.rs/s/0bdne7</td>\n",
       "      <td>{'avatar_url': 'https://lobste.rs/avatars/nkhu...</td>\n",
       "      <td>[law, privacy]</td>\n",
       "      <td>The Rise of The Social Media Vigilante</td>\n",
       "      <td>8</td>\n",
       "      <td>https://medium.com/@nkhumphreys_89452/the-rise...</td>\n",
       "    </tr>\n",
       "    <tr>\n",
       "      <th>1bhbod</th>\n",
       "      <td>11</td>\n",
       "      <td>https://lobste.rs/s/1bhbod/tcl_misunderstood_a...</td>\n",
       "      <td>2017-04-30 20:28:52</td>\n",
       "      <td>&lt;p&gt;Did any language end up taking that “highly...</td>\n",
       "      <td>0</td>\n",
       "      <td>2017-05-01T06:29:11.725518</td>\n",
       "      <td>17</td>\n",
       "      <td>https://lobste.rs/s/1bhbod</td>\n",
       "      <td>{'is_moderator': False, 'is_admin': False, 'us...</td>\n",
       "      <td>[programming]</td>\n",
       "      <td>Tcl the misunderstood - antirez</td>\n",
       "      <td>17</td>\n",
       "      <td>http://antirez.com/articoli/tclmisunderstood.html</td>\n",
       "    </tr>\n",
       "    <tr>\n",
       "      <th>1xkje1</th>\n",
       "      <td>0</td>\n",
       "      <td>https://lobste.rs/s/1xkje1/interview_4_jonatha...</td>\n",
       "      <td>2017-05-01 02:31:35</td>\n",
       "      <td>&lt;p&gt;Rust’s own Jonathan Turner on his backgroun...</td>\n",
       "      <td>0</td>\n",
       "      <td>2017-05-01T06:29:11.725518</td>\n",
       "      <td>1</td>\n",
       "      <td>https://lobste.rs/s/1xkje1</td>\n",
       "      <td>{'is_moderator': False, 'is_admin': False, 'us...</td>\n",
       "      <td>[audio, javascript, rust]</td>\n",
       "      <td>🎤🎙 Interview 4 – Jonathan Turner: Part 1/3</td>\n",
       "      <td>1</td>\n",
       "      <td>http://www.newrustacean.com/show_notes/intervi...</td>\n",
       "    </tr>\n",
       "    <tr>\n",
       "      <th>2dasvh</th>\n",
       "      <td>19</td>\n",
       "      <td>https://lobste.rs/s/2dasvh/return_hipster_pda</td>\n",
       "      <td>2017-08-08 14:25:29</td>\n",
       "      <td></td>\n",
       "      <td>0</td>\n",
       "      <td>2017-08-09T11:03:56.287654</td>\n",
       "      <td>20</td>\n",
       "      <td>https://lobste.rs/s/2dasvh</td>\n",
       "      <td>{'created_at': '2017-01-19T14:56:50.000-06:00'...</td>\n",
       "      <td>[practices]</td>\n",
       "      <td>The Return of the Hipster PDA</td>\n",
       "      <td>20</td>\n",
       "      <td>http://www.agilesysadmin.net/return-of-the-hip...</td>\n",
       "    </tr>\n",
       "  </tbody>\n",
       "</table>\n",
       "</div>"
      ],
      "text/plain": [
       "        comment_count                                       comments_url  \\\n",
       "09zw7r              0            https://lobste.rs/s/09zw7r/edited_truth   \n",
       "0bdne7             17  https://lobste.rs/s/0bdne7/rise_social_media_v...   \n",
       "1bhbod             11  https://lobste.rs/s/1bhbod/tcl_misunderstood_a...   \n",
       "1xkje1              0  https://lobste.rs/s/1xkje1/interview_4_jonatha...   \n",
       "2dasvh             19      https://lobste.rs/s/2dasvh/return_hipster_pda   \n",
       "\n",
       "                created_at                                        description  \\\n",
       "09zw7r 2017-08-08 20:11:09                                                      \n",
       "0bdne7 2017-08-08 21:12:38                                                      \n",
       "1bhbod 2017-04-30 20:28:52  <p>Did any language end up taking that “highly...   \n",
       "1xkje1 2017-05-01 02:31:35  <p>Rust’s own Jonathan Turner on his backgroun...   \n",
       "2dasvh 2017-08-08 14:25:29                                                      \n",
       "\n",
       "        downvotes                last_updated  score  \\\n",
       "09zw7r          0  2017-08-09T11:03:57.014269      3   \n",
       "0bdne7          9  2017-08-09T11:03:57.014269     -1   \n",
       "1bhbod          0  2017-05-01T06:29:11.725518     17   \n",
       "1xkje1          0  2017-05-01T06:29:11.725518      1   \n",
       "2dasvh          0  2017-08-09T11:03:56.287654     20   \n",
       "\n",
       "                      short_id_url  \\\n",
       "09zw7r  https://lobste.rs/s/09zw7r   \n",
       "0bdne7  https://lobste.rs/s/0bdne7   \n",
       "1bhbod  https://lobste.rs/s/1bhbod   \n",
       "1xkje1  https://lobste.rs/s/1xkje1   \n",
       "2dasvh  https://lobste.rs/s/2dasvh   \n",
       "\n",
       "                                           submitter_user  \\\n",
       "09zw7r  {'avatar_url': 'https://lobste.rs/avatars/trn-...   \n",
       "0bdne7  {'avatar_url': 'https://lobste.rs/avatars/nkhu...   \n",
       "1bhbod  {'is_moderator': False, 'is_admin': False, 'us...   \n",
       "1xkje1  {'is_moderator': False, 'is_admin': False, 'us...   \n",
       "2dasvh  {'created_at': '2017-01-19T14:56:50.000-06:00'...   \n",
       "\n",
       "                             tags                                       title  \\\n",
       "09zw7r              [crypto, pdf]                            The Edited Truth   \n",
       "0bdne7             [law, privacy]      The Rise of The Social Media Vigilante   \n",
       "1bhbod              [programming]             Tcl the misunderstood - antirez   \n",
       "1xkje1  [audio, javascript, rust]  🎤🎙 Interview 4 – Jonathan Turner: Part 1/3   \n",
       "2dasvh                [practices]               The Return of the Hipster PDA   \n",
       "\n",
       "        upvotes                                                url  \n",
       "09zw7r        3               https://eprint.iacr.org/2017/714.pdf  \n",
       "0bdne7        8  https://medium.com/@nkhumphreys_89452/the-rise...  \n",
       "1bhbod       17  http://antirez.com/articoli/tclmisunderstood.html  \n",
       "1xkje1        1  http://www.newrustacean.com/show_notes/intervi...  \n",
       "2dasvh       20  http://www.agilesysadmin.net/return-of-the-hip...  "
      ]
     },
     "execution_count": 71,
     "metadata": {},
     "output_type": "execute_result"
    }
   ],
   "source": [
    "stories.head()"
   ]
  },
  {
   "cell_type": "code",
   "execution_count": 73,
   "id": "aa8c5404",
   "metadata": {},
   "outputs": [
    {
     "data": {
      "text/plain": [
       "comment_count              int64\n",
       "comments_url              object\n",
       "created_at        datetime64[ns]\n",
       "description               object\n",
       "downvotes                  int64\n",
       "last_updated              object\n",
       "score                      int64\n",
       "short_id_url              object\n",
       "submitter_user            object\n",
       "tags                      object\n",
       "title                     object\n",
       "upvotes                    int64\n",
       "url                       object\n",
       "dtype: object"
      ]
     },
     "execution_count": 73,
     "metadata": {},
     "output_type": "execute_result"
    }
   ],
   "source": [
    "stories.dtypes"
   ]
  },
  {
   "cell_type": "code",
   "execution_count": 74,
   "id": "aabd4345",
   "metadata": {},
   "outputs": [
    {
     "data": {
      "text/plain": [
       "{'is_moderator': False,\n",
       " 'is_admin': False,\n",
       " 'username': 'chriskrycho',\n",
       " 'karma': 27,\n",
       " 'avatar_url': 'https://secure.gravatar.com/avatar/c096ed07142659408dc6651f8320acd3?r=pg&d=identicon&s=100',\n",
       " 'created_at': '2016-08-15T09:33:28.000-05:00',\n",
       " 'about': \"I'm a husband and father; a theologian, composer, poet, and essayist; a front end developer at [Olo](http://www.olo.com); a [Rust](https://www.rust-lang.org/en-US/) enthusiast host; and the host of the [Winning Slowly](http://www.winningslowly.org), [New Rustacean](http://www.newrustacean.com/), [Sap.py](http://www.sap-py.com), and [Run With Me](http://runwith.chriskrycho.com/) podcasts.\"}"
      ]
     },
     "execution_count": 74,
     "metadata": {},
     "output_type": "execute_result"
    }
   ],
   "source": [
    "#Let's take a look at the submitter_user field, as it appears like a dict\n",
    "stories.submitter_user.iloc[3]"
   ]
  },
  {
   "cell_type": "code",
   "execution_count": 75,
   "id": "402d3cb1",
   "metadata": {},
   "outputs": [],
   "source": [
    "user_df = stories['submitter_user'].apply(pd.Series)"
   ]
  },
  {
   "cell_type": "code",
   "execution_count": 76,
   "id": "c9d8c5e0",
   "metadata": {},
   "outputs": [
    {
     "data": {
      "text/html": [
       "<div>\n",
       "<style scoped>\n",
       "    .dataframe tbody tr th:only-of-type {\n",
       "        vertical-align: middle;\n",
       "    }\n",
       "\n",
       "    .dataframe tbody tr th {\n",
       "        vertical-align: top;\n",
       "    }\n",
       "\n",
       "    .dataframe thead th {\n",
       "        text-align: right;\n",
       "    }\n",
       "</style>\n",
       "<table border=\"1\" class=\"dataframe\">\n",
       "  <thead>\n",
       "    <tr style=\"text-align: right;\">\n",
       "      <th></th>\n",
       "      <th>avatar_url</th>\n",
       "      <th>created_at</th>\n",
       "      <th>is_admin</th>\n",
       "      <th>username</th>\n",
       "      <th>karma</th>\n",
       "      <th>is_moderator</th>\n",
       "      <th>about</th>\n",
       "      <th>github_username</th>\n",
       "    </tr>\n",
       "  </thead>\n",
       "  <tbody>\n",
       "    <tr>\n",
       "      <th>09zw7r</th>\n",
       "      <td>https://lobste.rs/avatars/trn-100.png</td>\n",
       "      <td>2017-01-19T14:56:50.000-06:00</td>\n",
       "      <td>False</td>\n",
       "      <td>trn</td>\n",
       "      <td>429</td>\n",
       "      <td>False</td>\n",
       "      <td></td>\n",
       "      <td>NaN</td>\n",
       "    </tr>\n",
       "    <tr>\n",
       "      <th>0bdne7</th>\n",
       "      <td>https://lobste.rs/avatars/nkhumphreys-100.png</td>\n",
       "      <td>2014-07-02T06:36:39.000-05:00</td>\n",
       "      <td>False</td>\n",
       "      <td>nkhumphreys</td>\n",
       "      <td>-1</td>\n",
       "      <td>False</td>\n",
       "      <td>Web developer and previously embedded C developer</td>\n",
       "      <td>NaN</td>\n",
       "    </tr>\n",
       "    <tr>\n",
       "      <th>1bhbod</th>\n",
       "      <td>https://secure.gravatar.com/avatar/85002353297...</td>\n",
       "      <td>2016-11-30T10:14:24.000-06:00</td>\n",
       "      <td>False</td>\n",
       "      <td>yumaikas</td>\n",
       "      <td>578</td>\n",
       "      <td>False</td>\n",
       "      <td>I blog infrequently at https://junglecoder.com...</td>\n",
       "      <td>NaN</td>\n",
       "    </tr>\n",
       "    <tr>\n",
       "      <th>1xkje1</th>\n",
       "      <td>https://secure.gravatar.com/avatar/c096ed07142...</td>\n",
       "      <td>2016-08-15T09:33:28.000-05:00</td>\n",
       "      <td>False</td>\n",
       "      <td>chriskrycho</td>\n",
       "      <td>27</td>\n",
       "      <td>False</td>\n",
       "      <td>I'm a husband and father; a theologian, compos...</td>\n",
       "      <td>NaN</td>\n",
       "    </tr>\n",
       "    <tr>\n",
       "      <th>2dasvh</th>\n",
       "      <td>https://lobste.rs/avatars/trn-100.png</td>\n",
       "      <td>2017-01-19T14:56:50.000-06:00</td>\n",
       "      <td>False</td>\n",
       "      <td>trn</td>\n",
       "      <td>429</td>\n",
       "      <td>False</td>\n",
       "      <td></td>\n",
       "      <td>NaN</td>\n",
       "    </tr>\n",
       "  </tbody>\n",
       "</table>\n",
       "</div>"
      ],
      "text/plain": [
       "                                               avatar_url  \\\n",
       "09zw7r              https://lobste.rs/avatars/trn-100.png   \n",
       "0bdne7      https://lobste.rs/avatars/nkhumphreys-100.png   \n",
       "1bhbod  https://secure.gravatar.com/avatar/85002353297...   \n",
       "1xkje1  https://secure.gravatar.com/avatar/c096ed07142...   \n",
       "2dasvh              https://lobste.rs/avatars/trn-100.png   \n",
       "\n",
       "                           created_at  is_admin     username  karma  \\\n",
       "09zw7r  2017-01-19T14:56:50.000-06:00     False          trn    429   \n",
       "0bdne7  2014-07-02T06:36:39.000-05:00     False  nkhumphreys     -1   \n",
       "1bhbod  2016-11-30T10:14:24.000-06:00     False     yumaikas    578   \n",
       "1xkje1  2016-08-15T09:33:28.000-05:00     False  chriskrycho     27   \n",
       "2dasvh  2017-01-19T14:56:50.000-06:00     False          trn    429   \n",
       "\n",
       "        is_moderator                                              about  \\\n",
       "09zw7r         False                                                      \n",
       "0bdne7         False  Web developer and previously embedded C developer   \n",
       "1bhbod         False  I blog infrequently at https://junglecoder.com...   \n",
       "1xkje1         False  I'm a husband and father; a theologian, compos...   \n",
       "2dasvh         False                                                      \n",
       "\n",
       "       github_username  \n",
       "09zw7r             NaN  \n",
       "0bdne7             NaN  \n",
       "1bhbod             NaN  \n",
       "1xkje1             NaN  \n",
       "2dasvh             NaN  "
      ]
     },
     "execution_count": 76,
     "metadata": {},
     "output_type": "execute_result"
    }
   ],
   "source": [
    "user_df.head()"
   ]
  },
  {
   "cell_type": "code",
   "execution_count": 77,
   "id": "8c22d600",
   "metadata": {},
   "outputs": [
    {
     "data": {
      "text/plain": [
       "{'created_at'}"
      ]
     },
     "execution_count": 77,
     "metadata": {},
     "output_type": "execute_result"
    }
   ],
   "source": [
    "#Can we combine the user data without potential column overlap?\n",
    "set(user_df.columns).intersection(stories.columns)"
   ]
  },
  {
   "cell_type": "code",
   "execution_count": 78,
   "id": "5ee750bf",
   "metadata": {},
   "outputs": [],
   "source": [
    "user_df = user_df.rename(columns={'created_at': \n",
    "                                  'user_created_at'})"
   ]
  },
  {
   "cell_type": "code",
   "execution_count": 79,
   "id": "4e14b125",
   "metadata": {},
   "outputs": [],
   "source": [
    "stories = pd.concat([stories.drop(['submitter_user'], axis=1), \n",
    "                     user_df], axis=1)"
   ]
  },
  {
   "cell_type": "code",
   "execution_count": 80,
   "id": "8b4c5ded",
   "metadata": {},
   "outputs": [
    {
     "data": {
      "text/html": [
       "<div>\n",
       "<style scoped>\n",
       "    .dataframe tbody tr th:only-of-type {\n",
       "        vertical-align: middle;\n",
       "    }\n",
       "\n",
       "    .dataframe tbody tr th {\n",
       "        vertical-align: top;\n",
       "    }\n",
       "\n",
       "    .dataframe thead th {\n",
       "        text-align: right;\n",
       "    }\n",
       "</style>\n",
       "<table border=\"1\" class=\"dataframe\">\n",
       "  <thead>\n",
       "    <tr style=\"text-align: right;\">\n",
       "      <th></th>\n",
       "      <th>comment_count</th>\n",
       "      <th>comments_url</th>\n",
       "      <th>created_at</th>\n",
       "      <th>description</th>\n",
       "      <th>downvotes</th>\n",
       "      <th>last_updated</th>\n",
       "      <th>score</th>\n",
       "      <th>short_id_url</th>\n",
       "      <th>tags</th>\n",
       "      <th>title</th>\n",
       "      <th>upvotes</th>\n",
       "      <th>url</th>\n",
       "      <th>avatar_url</th>\n",
       "      <th>user_created_at</th>\n",
       "      <th>is_admin</th>\n",
       "      <th>username</th>\n",
       "      <th>karma</th>\n",
       "      <th>is_moderator</th>\n",
       "      <th>about</th>\n",
       "      <th>github_username</th>\n",
       "    </tr>\n",
       "  </thead>\n",
       "  <tbody>\n",
       "    <tr>\n",
       "      <th>09zw7r</th>\n",
       "      <td>0</td>\n",
       "      <td>https://lobste.rs/s/09zw7r/edited_truth</td>\n",
       "      <td>2017-08-08 20:11:09</td>\n",
       "      <td></td>\n",
       "      <td>0</td>\n",
       "      <td>2017-08-09T11:03:57.014269</td>\n",
       "      <td>3</td>\n",
       "      <td>https://lobste.rs/s/09zw7r</td>\n",
       "      <td>[crypto, pdf]</td>\n",
       "      <td>The Edited Truth</td>\n",
       "      <td>3</td>\n",
       "      <td>https://eprint.iacr.org/2017/714.pdf</td>\n",
       "      <td>https://lobste.rs/avatars/trn-100.png</td>\n",
       "      <td>2017-01-19T14:56:50.000-06:00</td>\n",
       "      <td>False</td>\n",
       "      <td>trn</td>\n",
       "      <td>429</td>\n",
       "      <td>False</td>\n",
       "      <td></td>\n",
       "      <td>NaN</td>\n",
       "    </tr>\n",
       "    <tr>\n",
       "      <th>0bdne7</th>\n",
       "      <td>17</td>\n",
       "      <td>https://lobste.rs/s/0bdne7/rise_social_media_v...</td>\n",
       "      <td>2017-08-08 21:12:38</td>\n",
       "      <td></td>\n",
       "      <td>9</td>\n",
       "      <td>2017-08-09T11:03:57.014269</td>\n",
       "      <td>-1</td>\n",
       "      <td>https://lobste.rs/s/0bdne7</td>\n",
       "      <td>[law, privacy]</td>\n",
       "      <td>The Rise of The Social Media Vigilante</td>\n",
       "      <td>8</td>\n",
       "      <td>https://medium.com/@nkhumphreys_89452/the-rise...</td>\n",
       "      <td>https://lobste.rs/avatars/nkhumphreys-100.png</td>\n",
       "      <td>2014-07-02T06:36:39.000-05:00</td>\n",
       "      <td>False</td>\n",
       "      <td>nkhumphreys</td>\n",
       "      <td>-1</td>\n",
       "      <td>False</td>\n",
       "      <td>Web developer and previously embedded C developer</td>\n",
       "      <td>NaN</td>\n",
       "    </tr>\n",
       "    <tr>\n",
       "      <th>1bhbod</th>\n",
       "      <td>11</td>\n",
       "      <td>https://lobste.rs/s/1bhbod/tcl_misunderstood_a...</td>\n",
       "      <td>2017-04-30 20:28:52</td>\n",
       "      <td>&lt;p&gt;Did any language end up taking that “highly...</td>\n",
       "      <td>0</td>\n",
       "      <td>2017-05-01T06:29:11.725518</td>\n",
       "      <td>17</td>\n",
       "      <td>https://lobste.rs/s/1bhbod</td>\n",
       "      <td>[programming]</td>\n",
       "      <td>Tcl the misunderstood - antirez</td>\n",
       "      <td>17</td>\n",
       "      <td>http://antirez.com/articoli/tclmisunderstood.html</td>\n",
       "      <td>https://secure.gravatar.com/avatar/85002353297...</td>\n",
       "      <td>2016-11-30T10:14:24.000-06:00</td>\n",
       "      <td>False</td>\n",
       "      <td>yumaikas</td>\n",
       "      <td>578</td>\n",
       "      <td>False</td>\n",
       "      <td>I blog infrequently at https://junglecoder.com...</td>\n",
       "      <td>NaN</td>\n",
       "    </tr>\n",
       "    <tr>\n",
       "      <th>1xkje1</th>\n",
       "      <td>0</td>\n",
       "      <td>https://lobste.rs/s/1xkje1/interview_4_jonatha...</td>\n",
       "      <td>2017-05-01 02:31:35</td>\n",
       "      <td>&lt;p&gt;Rust’s own Jonathan Turner on his backgroun...</td>\n",
       "      <td>0</td>\n",
       "      <td>2017-05-01T06:29:11.725518</td>\n",
       "      <td>1</td>\n",
       "      <td>https://lobste.rs/s/1xkje1</td>\n",
       "      <td>[audio, javascript, rust]</td>\n",
       "      <td>🎤🎙 Interview 4 – Jonathan Turner: Part 1/3</td>\n",
       "      <td>1</td>\n",
       "      <td>http://www.newrustacean.com/show_notes/intervi...</td>\n",
       "      <td>https://secure.gravatar.com/avatar/c096ed07142...</td>\n",
       "      <td>2016-08-15T09:33:28.000-05:00</td>\n",
       "      <td>False</td>\n",
       "      <td>chriskrycho</td>\n",
       "      <td>27</td>\n",
       "      <td>False</td>\n",
       "      <td>I'm a husband and father; a theologian, compos...</td>\n",
       "      <td>NaN</td>\n",
       "    </tr>\n",
       "    <tr>\n",
       "      <th>2dasvh</th>\n",
       "      <td>19</td>\n",
       "      <td>https://lobste.rs/s/2dasvh/return_hipster_pda</td>\n",
       "      <td>2017-08-08 14:25:29</td>\n",
       "      <td></td>\n",
       "      <td>0</td>\n",
       "      <td>2017-08-09T11:03:56.287654</td>\n",
       "      <td>20</td>\n",
       "      <td>https://lobste.rs/s/2dasvh</td>\n",
       "      <td>[practices]</td>\n",
       "      <td>The Return of the Hipster PDA</td>\n",
       "      <td>20</td>\n",
       "      <td>http://www.agilesysadmin.net/return-of-the-hip...</td>\n",
       "      <td>https://lobste.rs/avatars/trn-100.png</td>\n",
       "      <td>2017-01-19T14:56:50.000-06:00</td>\n",
       "      <td>False</td>\n",
       "      <td>trn</td>\n",
       "      <td>429</td>\n",
       "      <td>False</td>\n",
       "      <td></td>\n",
       "      <td>NaN</td>\n",
       "    </tr>\n",
       "  </tbody>\n",
       "</table>\n",
       "</div>"
      ],
      "text/plain": [
       "        comment_count                                       comments_url  \\\n",
       "09zw7r              0            https://lobste.rs/s/09zw7r/edited_truth   \n",
       "0bdne7             17  https://lobste.rs/s/0bdne7/rise_social_media_v...   \n",
       "1bhbod             11  https://lobste.rs/s/1bhbod/tcl_misunderstood_a...   \n",
       "1xkje1              0  https://lobste.rs/s/1xkje1/interview_4_jonatha...   \n",
       "2dasvh             19      https://lobste.rs/s/2dasvh/return_hipster_pda   \n",
       "\n",
       "                created_at                                        description  \\\n",
       "09zw7r 2017-08-08 20:11:09                                                      \n",
       "0bdne7 2017-08-08 21:12:38                                                      \n",
       "1bhbod 2017-04-30 20:28:52  <p>Did any language end up taking that “highly...   \n",
       "1xkje1 2017-05-01 02:31:35  <p>Rust’s own Jonathan Turner on his backgroun...   \n",
       "2dasvh 2017-08-08 14:25:29                                                      \n",
       "\n",
       "        downvotes                last_updated  score  \\\n",
       "09zw7r          0  2017-08-09T11:03:57.014269      3   \n",
       "0bdne7          9  2017-08-09T11:03:57.014269     -1   \n",
       "1bhbod          0  2017-05-01T06:29:11.725518     17   \n",
       "1xkje1          0  2017-05-01T06:29:11.725518      1   \n",
       "2dasvh          0  2017-08-09T11:03:56.287654     20   \n",
       "\n",
       "                      short_id_url                       tags  \\\n",
       "09zw7r  https://lobste.rs/s/09zw7r              [crypto, pdf]   \n",
       "0bdne7  https://lobste.rs/s/0bdne7             [law, privacy]   \n",
       "1bhbod  https://lobste.rs/s/1bhbod              [programming]   \n",
       "1xkje1  https://lobste.rs/s/1xkje1  [audio, javascript, rust]   \n",
       "2dasvh  https://lobste.rs/s/2dasvh                [practices]   \n",
       "\n",
       "                                             title  upvotes  \\\n",
       "09zw7r                            The Edited Truth        3   \n",
       "0bdne7      The Rise of The Social Media Vigilante        8   \n",
       "1bhbod             Tcl the misunderstood - antirez       17   \n",
       "1xkje1  🎤🎙 Interview 4 – Jonathan Turner: Part 1/3        1   \n",
       "2dasvh               The Return of the Hipster PDA       20   \n",
       "\n",
       "                                                      url  \\\n",
       "09zw7r               https://eprint.iacr.org/2017/714.pdf   \n",
       "0bdne7  https://medium.com/@nkhumphreys_89452/the-rise...   \n",
       "1bhbod  http://antirez.com/articoli/tclmisunderstood.html   \n",
       "1xkje1  http://www.newrustacean.com/show_notes/intervi...   \n",
       "2dasvh  http://www.agilesysadmin.net/return-of-the-hip...   \n",
       "\n",
       "                                               avatar_url  \\\n",
       "09zw7r              https://lobste.rs/avatars/trn-100.png   \n",
       "0bdne7      https://lobste.rs/avatars/nkhumphreys-100.png   \n",
       "1bhbod  https://secure.gravatar.com/avatar/85002353297...   \n",
       "1xkje1  https://secure.gravatar.com/avatar/c096ed07142...   \n",
       "2dasvh              https://lobste.rs/avatars/trn-100.png   \n",
       "\n",
       "                      user_created_at  is_admin     username  karma  \\\n",
       "09zw7r  2017-01-19T14:56:50.000-06:00     False          trn    429   \n",
       "0bdne7  2014-07-02T06:36:39.000-05:00     False  nkhumphreys     -1   \n",
       "1bhbod  2016-11-30T10:14:24.000-06:00     False     yumaikas    578   \n",
       "1xkje1  2016-08-15T09:33:28.000-05:00     False  chriskrycho     27   \n",
       "2dasvh  2017-01-19T14:56:50.000-06:00     False          trn    429   \n",
       "\n",
       "        is_moderator                                              about  \\\n",
       "09zw7r         False                                                      \n",
       "0bdne7         False  Web developer and previously embedded C developer   \n",
       "1bhbod         False  I blog infrequently at https://junglecoder.com...   \n",
       "1xkje1         False  I'm a husband and father; a theologian, compos...   \n",
       "2dasvh         False                                                      \n",
       "\n",
       "       github_username  \n",
       "09zw7r             NaN  \n",
       "0bdne7             NaN  \n",
       "1bhbod             NaN  \n",
       "1xkje1             NaN  \n",
       "2dasvh             NaN  "
      ]
     },
     "execution_count": 80,
     "metadata": {},
     "output_type": "execute_result"
    }
   ],
   "source": [
    "stories.head()"
   ]
  },
  {
   "cell_type": "code",
   "execution_count": 81,
   "id": "067a8c9e",
   "metadata": {},
   "outputs": [
    {
     "data": {
      "text/plain": [
       "(74, 20)"
      ]
     },
     "execution_count": 81,
     "metadata": {},
     "output_type": "execute_result"
    }
   ],
   "source": [
    "#Let's check for nulls\n",
    "stories.shape"
   ]
  },
  {
   "cell_type": "code",
   "execution_count": 82,
   "id": "801dfe22",
   "metadata": {},
   "outputs": [
    {
     "data": {
      "text/plain": [
       "(8, 20)"
      ]
     },
     "execution_count": 82,
     "metadata": {},
     "output_type": "execute_result"
    }
   ],
   "source": [
    "stories.dropna().shape"
   ]
  },
  {
   "cell_type": "code",
   "execution_count": 83,
   "id": "e3381b71",
   "metadata": {},
   "outputs": [
    {
     "data": {
      "text/plain": [
       "(74, 19)"
      ]
     },
     "execution_count": 83,
     "metadata": {},
     "output_type": "execute_result"
    }
   ],
   "source": [
    "stories.dropna(thresh=10, axis=1).shape"
   ]
  },
  {
   "cell_type": "code",
   "execution_count": 84,
   "id": "28764657",
   "metadata": {},
   "outputs": [],
   "source": [
    "#Let's make the tags easier to use by having them as features in the columns.\n",
    "tag_df = stories.tags.apply(pd.Series)"
   ]
  },
  {
   "cell_type": "code",
   "execution_count": 85,
   "id": "2a355c6e",
   "metadata": {},
   "outputs": [
    {
     "data": {
      "text/html": [
       "<div>\n",
       "<style scoped>\n",
       "    .dataframe tbody tr th:only-of-type {\n",
       "        vertical-align: middle;\n",
       "    }\n",
       "\n",
       "    .dataframe tbody tr th {\n",
       "        vertical-align: top;\n",
       "    }\n",
       "\n",
       "    .dataframe thead th {\n",
       "        text-align: right;\n",
       "    }\n",
       "</style>\n",
       "<table border=\"1\" class=\"dataframe\">\n",
       "  <thead>\n",
       "    <tr style=\"text-align: right;\">\n",
       "      <th></th>\n",
       "      <th>0</th>\n",
       "      <th>1</th>\n",
       "      <th>2</th>\n",
       "      <th>3</th>\n",
       "      <th>4</th>\n",
       "    </tr>\n",
       "  </thead>\n",
       "  <tbody>\n",
       "    <tr>\n",
       "      <th>09zw7r</th>\n",
       "      <td>crypto</td>\n",
       "      <td>pdf</td>\n",
       "      <td>NaN</td>\n",
       "      <td>NaN</td>\n",
       "      <td>NaN</td>\n",
       "    </tr>\n",
       "    <tr>\n",
       "      <th>0bdne7</th>\n",
       "      <td>law</td>\n",
       "      <td>privacy</td>\n",
       "      <td>NaN</td>\n",
       "      <td>NaN</td>\n",
       "      <td>NaN</td>\n",
       "    </tr>\n",
       "    <tr>\n",
       "      <th>1bhbod</th>\n",
       "      <td>programming</td>\n",
       "      <td>NaN</td>\n",
       "      <td>NaN</td>\n",
       "      <td>NaN</td>\n",
       "      <td>NaN</td>\n",
       "    </tr>\n",
       "    <tr>\n",
       "      <th>1xkje1</th>\n",
       "      <td>audio</td>\n",
       "      <td>javascript</td>\n",
       "      <td>rust</td>\n",
       "      <td>NaN</td>\n",
       "      <td>NaN</td>\n",
       "    </tr>\n",
       "    <tr>\n",
       "      <th>2dasvh</th>\n",
       "      <td>practices</td>\n",
       "      <td>NaN</td>\n",
       "      <td>NaN</td>\n",
       "      <td>NaN</td>\n",
       "      <td>NaN</td>\n",
       "    </tr>\n",
       "  </tbody>\n",
       "</table>\n",
       "</div>"
      ],
      "text/plain": [
       "                  0           1     2    3    4\n",
       "09zw7r       crypto         pdf   NaN  NaN  NaN\n",
       "0bdne7          law     privacy   NaN  NaN  NaN\n",
       "1bhbod  programming         NaN   NaN  NaN  NaN\n",
       "1xkje1        audio  javascript  rust  NaN  NaN\n",
       "2dasvh    practices         NaN   NaN  NaN  NaN"
      ]
     },
     "execution_count": 85,
     "metadata": {},
     "output_type": "execute_result"
    }
   ],
   "source": [
    "tag_df.head()"
   ]
  },
  {
   "cell_type": "code",
   "execution_count": 86,
   "id": "502d720c",
   "metadata": {},
   "outputs": [
    {
     "data": {
      "text/plain": [
       "array(['crypto', 'pdf', nan, 'law', 'privacy', 'programming', 'audio',\n",
       "       'javascript', 'rust', 'practices', 'ruby', 'devops', 'web',\n",
       "       'hardware', 'science', 'reversing', 'security', 'openbsd',\n",
       "       'windows', 'design', 'compilers', 'haskell', 'c++', 'assembly',\n",
       "       'games', 'math', 'release', 'event', 'netbsd', 'unix', 'c',\n",
       "       'linux', 'testing', 'lua', 'job', 'video', 'philosophy', 'android',\n",
       "       'networking', 'erlang', 'emacs', 'historical', 'browsers',\n",
       "       'person', 'culture', 'java', 'go', 'book', 'css', 'debugging',\n",
       "       'education', 'art', 'compsci', 'databases'], dtype=object)"
      ]
     },
     "execution_count": 86,
     "metadata": {},
     "output_type": "execute_result"
    }
   ],
   "source": [
    "pd.unique(tag_df.values.ravel())"
   ]
  },
  {
   "cell_type": "code",
   "execution_count": 87,
   "id": "2e0392d0",
   "metadata": {},
   "outputs": [
    {
     "data": {
      "text/plain": [
       "{'android',\n",
       " 'art',\n",
       " 'assembly',\n",
       " 'audio',\n",
       " 'book',\n",
       " 'browsers',\n",
       " 'c',\n",
       " 'c++',\n",
       " 'compilers',\n",
       " 'compsci',\n",
       " 'crypto',\n",
       " 'css',\n",
       " 'culture',\n",
       " 'databases',\n",
       " 'debugging',\n",
       " 'design',\n",
       " 'devops',\n",
       " 'education',\n",
       " 'emacs',\n",
       " 'erlang',\n",
       " 'event',\n",
       " 'games',\n",
       " 'go',\n",
       " 'hardware',\n",
       " 'haskell',\n",
       " 'historical',\n",
       " 'java',\n",
       " 'javascript',\n",
       " 'job',\n",
       " 'law',\n",
       " 'linux',\n",
       " 'lua',\n",
       " 'math',\n",
       " nan,\n",
       " 'netbsd',\n",
       " 'networking',\n",
       " 'openbsd',\n",
       " 'pdf',\n",
       " 'person',\n",
       " 'philosophy',\n",
       " 'practices',\n",
       " 'privacy',\n",
       " 'programming',\n",
       " 'release',\n",
       " 'reversing',\n",
       " 'ruby',\n",
       " 'rust',\n",
       " 'science',\n",
       " 'security',\n",
       " 'testing',\n",
       " 'unix',\n",
       " 'video',\n",
       " 'web',\n",
       " 'windows'}"
      ]
     },
     "execution_count": 87,
     "metadata": {},
     "output_type": "execute_result"
    }
   ],
   "source": [
    "set(tag_df.values.ravel())"
   ]
  },
  {
   "cell_type": "code",
   "execution_count": 88,
   "id": "810174b4",
   "metadata": {},
   "outputs": [
    {
     "data": {
      "text/plain": [
       "54"
      ]
     },
     "execution_count": 88,
     "metadata": {},
     "output_type": "execute_result"
    }
   ],
   "source": [
    "len(pd.unique(tag_df.values.ravel()))\n"
   ]
  },
  {
   "cell_type": "code",
   "execution_count": 89,
   "id": "71447076",
   "metadata": {},
   "outputs": [
    {
     "data": {
      "text/plain": [
       "[(nan, 231),\n",
       " ('programming', 13),\n",
       " ('hardware', 10),\n",
       " ('security', 10),\n",
       " ('practices', 8)]"
      ]
     },
     "execution_count": 89,
     "metadata": {},
     "output_type": "execute_result"
    }
   ],
   "source": [
    "# most common tags\n",
    "\n",
    "Counter(tag_df.values.ravel()).most_common(5)"
   ]
  },
  {
   "cell_type": "code",
   "execution_count": 91,
   "id": "74928b31",
   "metadata": {},
   "outputs": [],
   "source": [
    "#Let's create a dummy df with our tags\n",
    "tag_df = pd.get_dummies(\n",
    "    tag_df.apply(pd.Series).stack()).sum()"
   ]
  },
  {
   "cell_type": "code",
   "execution_count": 92,
   "id": "e7684741",
   "metadata": {},
   "outputs": [
    {
     "data": {
      "text/plain": [
       "android     1\n",
       "art         1\n",
       "assembly    3\n",
       "audio       1\n",
       "book        2\n",
       "dtype: int64"
      ]
     },
     "execution_count": 92,
     "metadata": {},
     "output_type": "execute_result"
    }
   ],
   "source": [
    "tag_df.head()"
   ]
  },
  {
   "cell_type": "code",
   "execution_count": 93,
   "id": "fb706c87",
   "metadata": {},
   "outputs": [],
   "source": [
    "#Now we can add it back to our stories DataFrame\n",
    "stories = pd.concat([stories.drop('tags', axis=1), \n",
    "                     tag_df], axis=1)"
   ]
  },
  {
   "cell_type": "code",
   "execution_count": 94,
   "id": "e64e2bb6",
   "metadata": {},
   "outputs": [
    {
     "data": {
      "text/html": [
       "<div>\n",
       "<style scoped>\n",
       "    .dataframe tbody tr th:only-of-type {\n",
       "        vertical-align: middle;\n",
       "    }\n",
       "\n",
       "    .dataframe tbody tr th {\n",
       "        vertical-align: top;\n",
       "    }\n",
       "\n",
       "    .dataframe thead th {\n",
       "        text-align: right;\n",
       "    }\n",
       "</style>\n",
       "<table border=\"1\" class=\"dataframe\">\n",
       "  <thead>\n",
       "    <tr style=\"text-align: right;\">\n",
       "      <th></th>\n",
       "      <th>comment_count</th>\n",
       "      <th>comments_url</th>\n",
       "      <th>created_at</th>\n",
       "      <th>description</th>\n",
       "      <th>downvotes</th>\n",
       "      <th>last_updated</th>\n",
       "      <th>score</th>\n",
       "      <th>short_id_url</th>\n",
       "      <th>title</th>\n",
       "      <th>upvotes</th>\n",
       "      <th>url</th>\n",
       "      <th>avatar_url</th>\n",
       "      <th>user_created_at</th>\n",
       "      <th>is_admin</th>\n",
       "      <th>username</th>\n",
       "      <th>karma</th>\n",
       "      <th>is_moderator</th>\n",
       "      <th>about</th>\n",
       "      <th>github_username</th>\n",
       "      <th>0</th>\n",
       "    </tr>\n",
       "  </thead>\n",
       "  <tbody>\n",
       "    <tr>\n",
       "      <th>09zw7r</th>\n",
       "      <td>0.0</td>\n",
       "      <td>https://lobste.rs/s/09zw7r/edited_truth</td>\n",
       "      <td>2017-08-08 20:11:09</td>\n",
       "      <td></td>\n",
       "      <td>0.0</td>\n",
       "      <td>2017-08-09T11:03:57.014269</td>\n",
       "      <td>3.0</td>\n",
       "      <td>https://lobste.rs/s/09zw7r</td>\n",
       "      <td>The Edited Truth</td>\n",
       "      <td>3.0</td>\n",
       "      <td>https://eprint.iacr.org/2017/714.pdf</td>\n",
       "      <td>https://lobste.rs/avatars/trn-100.png</td>\n",
       "      <td>2017-01-19T14:56:50.000-06:00</td>\n",
       "      <td>False</td>\n",
       "      <td>trn</td>\n",
       "      <td>429.0</td>\n",
       "      <td>False</td>\n",
       "      <td></td>\n",
       "      <td>NaN</td>\n",
       "      <td>NaN</td>\n",
       "    </tr>\n",
       "    <tr>\n",
       "      <th>0bdne7</th>\n",
       "      <td>17.0</td>\n",
       "      <td>https://lobste.rs/s/0bdne7/rise_social_media_v...</td>\n",
       "      <td>2017-08-08 21:12:38</td>\n",
       "      <td></td>\n",
       "      <td>9.0</td>\n",
       "      <td>2017-08-09T11:03:57.014269</td>\n",
       "      <td>-1.0</td>\n",
       "      <td>https://lobste.rs/s/0bdne7</td>\n",
       "      <td>The Rise of The Social Media Vigilante</td>\n",
       "      <td>8.0</td>\n",
       "      <td>https://medium.com/@nkhumphreys_89452/the-rise...</td>\n",
       "      <td>https://lobste.rs/avatars/nkhumphreys-100.png</td>\n",
       "      <td>2014-07-02T06:36:39.000-05:00</td>\n",
       "      <td>False</td>\n",
       "      <td>nkhumphreys</td>\n",
       "      <td>-1.0</td>\n",
       "      <td>False</td>\n",
       "      <td>Web developer and previously embedded C developer</td>\n",
       "      <td>NaN</td>\n",
       "      <td>NaN</td>\n",
       "    </tr>\n",
       "    <tr>\n",
       "      <th>1bhbod</th>\n",
       "      <td>11.0</td>\n",
       "      <td>https://lobste.rs/s/1bhbod/tcl_misunderstood_a...</td>\n",
       "      <td>2017-04-30 20:28:52</td>\n",
       "      <td>&lt;p&gt;Did any language end up taking that “highly...</td>\n",
       "      <td>0.0</td>\n",
       "      <td>2017-05-01T06:29:11.725518</td>\n",
       "      <td>17.0</td>\n",
       "      <td>https://lobste.rs/s/1bhbod</td>\n",
       "      <td>Tcl the misunderstood - antirez</td>\n",
       "      <td>17.0</td>\n",
       "      <td>http://antirez.com/articoli/tclmisunderstood.html</td>\n",
       "      <td>https://secure.gravatar.com/avatar/85002353297...</td>\n",
       "      <td>2016-11-30T10:14:24.000-06:00</td>\n",
       "      <td>False</td>\n",
       "      <td>yumaikas</td>\n",
       "      <td>578.0</td>\n",
       "      <td>False</td>\n",
       "      <td>I blog infrequently at https://junglecoder.com...</td>\n",
       "      <td>NaN</td>\n",
       "      <td>NaN</td>\n",
       "    </tr>\n",
       "    <tr>\n",
       "      <th>1xkje1</th>\n",
       "      <td>0.0</td>\n",
       "      <td>https://lobste.rs/s/1xkje1/interview_4_jonatha...</td>\n",
       "      <td>2017-05-01 02:31:35</td>\n",
       "      <td>&lt;p&gt;Rust’s own Jonathan Turner on his backgroun...</td>\n",
       "      <td>0.0</td>\n",
       "      <td>2017-05-01T06:29:11.725518</td>\n",
       "      <td>1.0</td>\n",
       "      <td>https://lobste.rs/s/1xkje1</td>\n",
       "      <td>🎤🎙 Interview 4 – Jonathan Turner: Part 1/3</td>\n",
       "      <td>1.0</td>\n",
       "      <td>http://www.newrustacean.com/show_notes/intervi...</td>\n",
       "      <td>https://secure.gravatar.com/avatar/c096ed07142...</td>\n",
       "      <td>2016-08-15T09:33:28.000-05:00</td>\n",
       "      <td>False</td>\n",
       "      <td>chriskrycho</td>\n",
       "      <td>27.0</td>\n",
       "      <td>False</td>\n",
       "      <td>I'm a husband and father; a theologian, compos...</td>\n",
       "      <td>NaN</td>\n",
       "      <td>NaN</td>\n",
       "    </tr>\n",
       "    <tr>\n",
       "      <th>2dasvh</th>\n",
       "      <td>19.0</td>\n",
       "      <td>https://lobste.rs/s/2dasvh/return_hipster_pda</td>\n",
       "      <td>2017-08-08 14:25:29</td>\n",
       "      <td></td>\n",
       "      <td>0.0</td>\n",
       "      <td>2017-08-09T11:03:56.287654</td>\n",
       "      <td>20.0</td>\n",
       "      <td>https://lobste.rs/s/2dasvh</td>\n",
       "      <td>The Return of the Hipster PDA</td>\n",
       "      <td>20.0</td>\n",
       "      <td>http://www.agilesysadmin.net/return-of-the-hip...</td>\n",
       "      <td>https://lobste.rs/avatars/trn-100.png</td>\n",
       "      <td>2017-01-19T14:56:50.000-06:00</td>\n",
       "      <td>False</td>\n",
       "      <td>trn</td>\n",
       "      <td>429.0</td>\n",
       "      <td>False</td>\n",
       "      <td></td>\n",
       "      <td>NaN</td>\n",
       "      <td>NaN</td>\n",
       "    </tr>\n",
       "  </tbody>\n",
       "</table>\n",
       "</div>"
      ],
      "text/plain": [
       "        comment_count                                       comments_url  \\\n",
       "09zw7r            0.0            https://lobste.rs/s/09zw7r/edited_truth   \n",
       "0bdne7           17.0  https://lobste.rs/s/0bdne7/rise_social_media_v...   \n",
       "1bhbod           11.0  https://lobste.rs/s/1bhbod/tcl_misunderstood_a...   \n",
       "1xkje1            0.0  https://lobste.rs/s/1xkje1/interview_4_jonatha...   \n",
       "2dasvh           19.0      https://lobste.rs/s/2dasvh/return_hipster_pda   \n",
       "\n",
       "                created_at                                        description  \\\n",
       "09zw7r 2017-08-08 20:11:09                                                      \n",
       "0bdne7 2017-08-08 21:12:38                                                      \n",
       "1bhbod 2017-04-30 20:28:52  <p>Did any language end up taking that “highly...   \n",
       "1xkje1 2017-05-01 02:31:35  <p>Rust’s own Jonathan Turner on his backgroun...   \n",
       "2dasvh 2017-08-08 14:25:29                                                      \n",
       "\n",
       "        downvotes                last_updated  score  \\\n",
       "09zw7r        0.0  2017-08-09T11:03:57.014269    3.0   \n",
       "0bdne7        9.0  2017-08-09T11:03:57.014269   -1.0   \n",
       "1bhbod        0.0  2017-05-01T06:29:11.725518   17.0   \n",
       "1xkje1        0.0  2017-05-01T06:29:11.725518    1.0   \n",
       "2dasvh        0.0  2017-08-09T11:03:56.287654   20.0   \n",
       "\n",
       "                      short_id_url  \\\n",
       "09zw7r  https://lobste.rs/s/09zw7r   \n",
       "0bdne7  https://lobste.rs/s/0bdne7   \n",
       "1bhbod  https://lobste.rs/s/1bhbod   \n",
       "1xkje1  https://lobste.rs/s/1xkje1   \n",
       "2dasvh  https://lobste.rs/s/2dasvh   \n",
       "\n",
       "                                             title  upvotes  \\\n",
       "09zw7r                            The Edited Truth      3.0   \n",
       "0bdne7      The Rise of The Social Media Vigilante      8.0   \n",
       "1bhbod             Tcl the misunderstood - antirez     17.0   \n",
       "1xkje1  🎤🎙 Interview 4 – Jonathan Turner: Part 1/3      1.0   \n",
       "2dasvh               The Return of the Hipster PDA     20.0   \n",
       "\n",
       "                                                      url  \\\n",
       "09zw7r               https://eprint.iacr.org/2017/714.pdf   \n",
       "0bdne7  https://medium.com/@nkhumphreys_89452/the-rise...   \n",
       "1bhbod  http://antirez.com/articoli/tclmisunderstood.html   \n",
       "1xkje1  http://www.newrustacean.com/show_notes/intervi...   \n",
       "2dasvh  http://www.agilesysadmin.net/return-of-the-hip...   \n",
       "\n",
       "                                               avatar_url  \\\n",
       "09zw7r              https://lobste.rs/avatars/trn-100.png   \n",
       "0bdne7      https://lobste.rs/avatars/nkhumphreys-100.png   \n",
       "1bhbod  https://secure.gravatar.com/avatar/85002353297...   \n",
       "1xkje1  https://secure.gravatar.com/avatar/c096ed07142...   \n",
       "2dasvh              https://lobste.rs/avatars/trn-100.png   \n",
       "\n",
       "                      user_created_at is_admin     username  karma  \\\n",
       "09zw7r  2017-01-19T14:56:50.000-06:00    False          trn  429.0   \n",
       "0bdne7  2014-07-02T06:36:39.000-05:00    False  nkhumphreys   -1.0   \n",
       "1bhbod  2016-11-30T10:14:24.000-06:00    False     yumaikas  578.0   \n",
       "1xkje1  2016-08-15T09:33:28.000-05:00    False  chriskrycho   27.0   \n",
       "2dasvh  2017-01-19T14:56:50.000-06:00    False          trn  429.0   \n",
       "\n",
       "       is_moderator                                              about  \\\n",
       "09zw7r        False                                                      \n",
       "0bdne7        False  Web developer and previously embedded C developer   \n",
       "1bhbod        False  I blog infrequently at https://junglecoder.com...   \n",
       "1xkje1        False  I'm a husband and father; a theologian, compos...   \n",
       "2dasvh        False                                                      \n",
       "\n",
       "       github_username   0  \n",
       "09zw7r             NaN NaN  \n",
       "0bdne7             NaN NaN  \n",
       "1bhbod             NaN NaN  \n",
       "1xkje1             NaN NaN  \n",
       "2dasvh             NaN NaN  "
      ]
     },
     "execution_count": 94,
     "metadata": {},
     "output_type": "execute_result"
    }
   ],
   "source": [
    "stories.head()"
   ]
  },
  {
   "cell_type": "code",
   "execution_count": 95,
   "id": "65071db1",
   "metadata": {},
   "outputs": [],
   "source": [
    "#Another potentially useful feature is the post times...\n",
    "stories['created_hour'] = stories.created_at.map(\n",
    "    lambda x: x.hour)\n"
   ]
  },
  {
   "cell_type": "code",
   "execution_count": 96,
   "id": "2f76cfe5",
   "metadata": {},
   "outputs": [],
   "source": [
    "stories['created_dow'] = stories.created_at.map(\n",
    "    lambda x: x.weekday())"
   ]
  },
  {
   "cell_type": "code",
   "execution_count": 97,
   "id": "985f2709",
   "metadata": {},
   "outputs": [
    {
     "data": {
      "text/html": [
       "<div>\n",
       "<style scoped>\n",
       "    .dataframe tbody tr th:only-of-type {\n",
       "        vertical-align: middle;\n",
       "    }\n",
       "\n",
       "    .dataframe tbody tr th {\n",
       "        vertical-align: top;\n",
       "    }\n",
       "\n",
       "    .dataframe thead th {\n",
       "        text-align: right;\n",
       "    }\n",
       "</style>\n",
       "<table border=\"1\" class=\"dataframe\">\n",
       "  <thead>\n",
       "    <tr style=\"text-align: right;\">\n",
       "      <th></th>\n",
       "      <th>created_hour</th>\n",
       "      <th>score</th>\n",
       "    </tr>\n",
       "  </thead>\n",
       "  <tbody>\n",
       "    <tr>\n",
       "      <th>created_hour</th>\n",
       "      <td>1.000000</td>\n",
       "      <td>0.253917</td>\n",
       "    </tr>\n",
       "    <tr>\n",
       "      <th>score</th>\n",
       "      <td>0.253917</td>\n",
       "      <td>1.000000</td>\n",
       "    </tr>\n",
       "  </tbody>\n",
       "</table>\n",
       "</div>"
      ],
      "text/plain": [
       "              created_hour     score\n",
       "created_hour      1.000000  0.253917\n",
       "score             0.253917  1.000000"
      ]
     },
     "execution_count": 97,
     "metadata": {},
     "output_type": "execute_result"
    }
   ],
   "source": [
    "#Let's analyze some of the correlations in our features so far...\n",
    "stories[['created_hour', 'score']].corr()\n"
   ]
  },
  {
   "cell_type": "code",
   "execution_count": 98,
   "id": "6a64a3af",
   "metadata": {},
   "outputs": [
    {
     "data": {
      "text/html": [
       "<div>\n",
       "<style scoped>\n",
       "    .dataframe tbody tr th:only-of-type {\n",
       "        vertical-align: middle;\n",
       "    }\n",
       "\n",
       "    .dataframe tbody tr th {\n",
       "        vertical-align: top;\n",
       "    }\n",
       "\n",
       "    .dataframe thead th {\n",
       "        text-align: right;\n",
       "    }\n",
       "</style>\n",
       "<table border=\"1\" class=\"dataframe\">\n",
       "  <thead>\n",
       "    <tr style=\"text-align: right;\">\n",
       "      <th></th>\n",
       "      <th>created_dow</th>\n",
       "      <th>score</th>\n",
       "    </tr>\n",
       "  </thead>\n",
       "  <tbody>\n",
       "    <tr>\n",
       "      <th>created_dow</th>\n",
       "      <td>1.000000</td>\n",
       "      <td>-0.113918</td>\n",
       "    </tr>\n",
       "    <tr>\n",
       "      <th>score</th>\n",
       "      <td>-0.113918</td>\n",
       "      <td>1.000000</td>\n",
       "    </tr>\n",
       "  </tbody>\n",
       "</table>\n",
       "</div>"
      ],
      "text/plain": [
       "             created_dow     score\n",
       "created_dow     1.000000 -0.113918\n",
       "score          -0.113918  1.000000"
      ]
     },
     "execution_count": 98,
     "metadata": {},
     "output_type": "execute_result"
    }
   ],
   "source": [
    "stories[['created_dow', 'score']].corr()\n"
   ]
  },
  {
   "cell_type": "code",
   "execution_count": 99,
   "id": "73ac20f5",
   "metadata": {},
   "outputs": [
    {
     "data": {
      "text/html": [
       "<div>\n",
       "<style scoped>\n",
       "    .dataframe tbody tr th:only-of-type {\n",
       "        vertical-align: middle;\n",
       "    }\n",
       "\n",
       "    .dataframe tbody tr th {\n",
       "        vertical-align: top;\n",
       "    }\n",
       "\n",
       "    .dataframe thead th {\n",
       "        text-align: right;\n",
       "    }\n",
       "</style>\n",
       "<table border=\"1\" class=\"dataframe\">\n",
       "  <thead>\n",
       "    <tr style=\"text-align: right;\">\n",
       "      <th></th>\n",
       "      <th>karma</th>\n",
       "      <th>score</th>\n",
       "    </tr>\n",
       "  </thead>\n",
       "  <tbody>\n",
       "    <tr>\n",
       "      <th>karma</th>\n",
       "      <td>1.000000</td>\n",
       "      <td>-0.061921</td>\n",
       "    </tr>\n",
       "    <tr>\n",
       "      <th>score</th>\n",
       "      <td>-0.061921</td>\n",
       "      <td>1.000000</td>\n",
       "    </tr>\n",
       "  </tbody>\n",
       "</table>\n",
       "</div>"
      ],
      "text/plain": [
       "          karma     score\n",
       "karma  1.000000 -0.061921\n",
       "score -0.061921  1.000000"
      ]
     },
     "execution_count": 99,
     "metadata": {},
     "output_type": "execute_result"
    }
   ],
   "source": [
    "stories[['karma', 'score']].corr()\n"
   ]
  },
  {
   "cell_type": "code",
   "execution_count": 100,
   "id": "ed31a894",
   "metadata": {},
   "outputs": [
    {
     "data": {
      "text/html": [
       "<div>\n",
       "<style scoped>\n",
       "    .dataframe tbody tr th:only-of-type {\n",
       "        vertical-align: middle;\n",
       "    }\n",
       "\n",
       "    .dataframe tbody tr th {\n",
       "        vertical-align: top;\n",
       "    }\n",
       "\n",
       "    .dataframe thead th {\n",
       "        text-align: right;\n",
       "    }\n",
       "</style>\n",
       "<table border=\"1\" class=\"dataframe\">\n",
       "  <thead>\n",
       "    <tr style=\"text-align: right;\">\n",
       "      <th></th>\n",
       "      <th>comment_count</th>\n",
       "      <th>score</th>\n",
       "    </tr>\n",
       "  </thead>\n",
       "  <tbody>\n",
       "    <tr>\n",
       "      <th>comment_count</th>\n",
       "      <td>1.000000</td>\n",
       "      <td>0.637632</td>\n",
       "    </tr>\n",
       "    <tr>\n",
       "      <th>score</th>\n",
       "      <td>0.637632</td>\n",
       "      <td>1.000000</td>\n",
       "    </tr>\n",
       "  </tbody>\n",
       "</table>\n",
       "</div>"
      ],
      "text/plain": [
       "               comment_count     score\n",
       "comment_count       1.000000  0.637632\n",
       "score               0.637632  1.000000"
      ]
     },
     "execution_count": 100,
     "metadata": {},
     "output_type": "execute_result"
    }
   ],
   "source": [
    "stories[['comment_count', 'score']].corr()\n"
   ]
  },
  {
   "cell_type": "code",
   "execution_count": 108,
   "id": "46bc16e7",
   "metadata": {},
   "outputs": [
    {
     "data": {
      "text/html": [
       "<div>\n",
       "<style scoped>\n",
       "    .dataframe tbody tr th:only-of-type {\n",
       "        vertical-align: middle;\n",
       "    }\n",
       "\n",
       "    .dataframe tbody tr th {\n",
       "        vertical-align: top;\n",
       "    }\n",
       "\n",
       "    .dataframe thead th {\n",
       "        text-align: right;\n",
       "    }\n",
       "</style>\n",
       "<table border=\"1\" class=\"dataframe\">\n",
       "  <thead>\n",
       "    <tr style=\"text-align: right;\">\n",
       "      <th></th>\n",
       "      <th>comment_count</th>\n",
       "      <th>comments_url</th>\n",
       "      <th>created_at</th>\n",
       "      <th>description</th>\n",
       "      <th>downvotes</th>\n",
       "      <th>last_updated</th>\n",
       "      <th>score</th>\n",
       "      <th>short_id_url</th>\n",
       "      <th>title</th>\n",
       "      <th>upvotes</th>\n",
       "      <th>...</th>\n",
       "      <th>is_admin</th>\n",
       "      <th>username</th>\n",
       "      <th>karma</th>\n",
       "      <th>is_moderator</th>\n",
       "      <th>about</th>\n",
       "      <th>github_username</th>\n",
       "      <th>0</th>\n",
       "      <th>created_hour</th>\n",
       "      <th>created_dow</th>\n",
       "      <th>scaled_score</th>\n",
       "    </tr>\n",
       "  </thead>\n",
       "  <tbody>\n",
       "    <tr>\n",
       "      <th>09zw7r</th>\n",
       "      <td>0.0</td>\n",
       "      <td>https://lobste.rs/s/09zw7r/edited_truth</td>\n",
       "      <td>2017-08-08 20:11:09</td>\n",
       "      <td></td>\n",
       "      <td>0.0</td>\n",
       "      <td>2017-08-09T11:03:57.014269</td>\n",
       "      <td>3.0</td>\n",
       "      <td>https://lobste.rs/s/09zw7r</td>\n",
       "      <td>The Edited Truth</td>\n",
       "      <td>3.0</td>\n",
       "      <td>...</td>\n",
       "      <td>False</td>\n",
       "      <td>trn</td>\n",
       "      <td>429.0</td>\n",
       "      <td>False</td>\n",
       "      <td></td>\n",
       "      <td>NaN</td>\n",
       "      <td>NaN</td>\n",
       "      <td>20.0</td>\n",
       "      <td>1.0</td>\n",
       "      <td>0.072727</td>\n",
       "    </tr>\n",
       "    <tr>\n",
       "      <th>0bdne7</th>\n",
       "      <td>17.0</td>\n",
       "      <td>https://lobste.rs/s/0bdne7/rise_social_media_v...</td>\n",
       "      <td>2017-08-08 21:12:38</td>\n",
       "      <td></td>\n",
       "      <td>9.0</td>\n",
       "      <td>2017-08-09T11:03:57.014269</td>\n",
       "      <td>-1.0</td>\n",
       "      <td>https://lobste.rs/s/0bdne7</td>\n",
       "      <td>The Rise of The Social Media Vigilante</td>\n",
       "      <td>8.0</td>\n",
       "      <td>...</td>\n",
       "      <td>False</td>\n",
       "      <td>nkhumphreys</td>\n",
       "      <td>-1.0</td>\n",
       "      <td>False</td>\n",
       "      <td>Web developer and previously embedded C developer</td>\n",
       "      <td>NaN</td>\n",
       "      <td>NaN</td>\n",
       "      <td>21.0</td>\n",
       "      <td>1.0</td>\n",
       "      <td>0.000000</td>\n",
       "    </tr>\n",
       "    <tr>\n",
       "      <th>1bhbod</th>\n",
       "      <td>11.0</td>\n",
       "      <td>https://lobste.rs/s/1bhbod/tcl_misunderstood_a...</td>\n",
       "      <td>2017-04-30 20:28:52</td>\n",
       "      <td>&lt;p&gt;Did any language end up taking that “highly...</td>\n",
       "      <td>0.0</td>\n",
       "      <td>2017-05-01T06:29:11.725518</td>\n",
       "      <td>17.0</td>\n",
       "      <td>https://lobste.rs/s/1bhbod</td>\n",
       "      <td>Tcl the misunderstood - antirez</td>\n",
       "      <td>17.0</td>\n",
       "      <td>...</td>\n",
       "      <td>False</td>\n",
       "      <td>yumaikas</td>\n",
       "      <td>578.0</td>\n",
       "      <td>False</td>\n",
       "      <td>I blog infrequently at https://junglecoder.com...</td>\n",
       "      <td>NaN</td>\n",
       "      <td>NaN</td>\n",
       "      <td>20.0</td>\n",
       "      <td>6.0</td>\n",
       "      <td>0.327273</td>\n",
       "    </tr>\n",
       "    <tr>\n",
       "      <th>1xkje1</th>\n",
       "      <td>0.0</td>\n",
       "      <td>https://lobste.rs/s/1xkje1/interview_4_jonatha...</td>\n",
       "      <td>2017-05-01 02:31:35</td>\n",
       "      <td>&lt;p&gt;Rust’s own Jonathan Turner on his backgroun...</td>\n",
       "      <td>0.0</td>\n",
       "      <td>2017-05-01T06:29:11.725518</td>\n",
       "      <td>1.0</td>\n",
       "      <td>https://lobste.rs/s/1xkje1</td>\n",
       "      <td>🎤🎙 Interview 4 – Jonathan Turner: Part 1/3</td>\n",
       "      <td>1.0</td>\n",
       "      <td>...</td>\n",
       "      <td>False</td>\n",
       "      <td>chriskrycho</td>\n",
       "      <td>27.0</td>\n",
       "      <td>False</td>\n",
       "      <td>I'm a husband and father; a theologian, compos...</td>\n",
       "      <td>NaN</td>\n",
       "      <td>NaN</td>\n",
       "      <td>2.0</td>\n",
       "      <td>0.0</td>\n",
       "      <td>0.036364</td>\n",
       "    </tr>\n",
       "    <tr>\n",
       "      <th>2dasvh</th>\n",
       "      <td>19.0</td>\n",
       "      <td>https://lobste.rs/s/2dasvh/return_hipster_pda</td>\n",
       "      <td>2017-08-08 14:25:29</td>\n",
       "      <td></td>\n",
       "      <td>0.0</td>\n",
       "      <td>2017-08-09T11:03:56.287654</td>\n",
       "      <td>20.0</td>\n",
       "      <td>https://lobste.rs/s/2dasvh</td>\n",
       "      <td>The Return of the Hipster PDA</td>\n",
       "      <td>20.0</td>\n",
       "      <td>...</td>\n",
       "      <td>False</td>\n",
       "      <td>trn</td>\n",
       "      <td>429.0</td>\n",
       "      <td>False</td>\n",
       "      <td></td>\n",
       "      <td>NaN</td>\n",
       "      <td>NaN</td>\n",
       "      <td>14.0</td>\n",
       "      <td>1.0</td>\n",
       "      <td>0.381818</td>\n",
       "    </tr>\n",
       "  </tbody>\n",
       "</table>\n",
       "<p>5 rows × 23 columns</p>\n",
       "</div>"
      ],
      "text/plain": [
       "        comment_count                                       comments_url  \\\n",
       "09zw7r            0.0            https://lobste.rs/s/09zw7r/edited_truth   \n",
       "0bdne7           17.0  https://lobste.rs/s/0bdne7/rise_social_media_v...   \n",
       "1bhbod           11.0  https://lobste.rs/s/1bhbod/tcl_misunderstood_a...   \n",
       "1xkje1            0.0  https://lobste.rs/s/1xkje1/interview_4_jonatha...   \n",
       "2dasvh           19.0      https://lobste.rs/s/2dasvh/return_hipster_pda   \n",
       "\n",
       "                created_at                                        description  \\\n",
       "09zw7r 2017-08-08 20:11:09                                                      \n",
       "0bdne7 2017-08-08 21:12:38                                                      \n",
       "1bhbod 2017-04-30 20:28:52  <p>Did any language end up taking that “highly...   \n",
       "1xkje1 2017-05-01 02:31:35  <p>Rust’s own Jonathan Turner on his backgroun...   \n",
       "2dasvh 2017-08-08 14:25:29                                                      \n",
       "\n",
       "        downvotes                last_updated  score  \\\n",
       "09zw7r        0.0  2017-08-09T11:03:57.014269    3.0   \n",
       "0bdne7        9.0  2017-08-09T11:03:57.014269   -1.0   \n",
       "1bhbod        0.0  2017-05-01T06:29:11.725518   17.0   \n",
       "1xkje1        0.0  2017-05-01T06:29:11.725518    1.0   \n",
       "2dasvh        0.0  2017-08-09T11:03:56.287654   20.0   \n",
       "\n",
       "                      short_id_url  \\\n",
       "09zw7r  https://lobste.rs/s/09zw7r   \n",
       "0bdne7  https://lobste.rs/s/0bdne7   \n",
       "1bhbod  https://lobste.rs/s/1bhbod   \n",
       "1xkje1  https://lobste.rs/s/1xkje1   \n",
       "2dasvh  https://lobste.rs/s/2dasvh   \n",
       "\n",
       "                                             title  upvotes  ... is_admin  \\\n",
       "09zw7r                            The Edited Truth      3.0  ...    False   \n",
       "0bdne7      The Rise of The Social Media Vigilante      8.0  ...    False   \n",
       "1bhbod             Tcl the misunderstood - antirez     17.0  ...    False   \n",
       "1xkje1  🎤🎙 Interview 4 – Jonathan Turner: Part 1/3      1.0  ...    False   \n",
       "2dasvh               The Return of the Hipster PDA     20.0  ...    False   \n",
       "\n",
       "           username  karma is_moderator  \\\n",
       "09zw7r          trn  429.0        False   \n",
       "0bdne7  nkhumphreys   -1.0        False   \n",
       "1bhbod     yumaikas  578.0        False   \n",
       "1xkje1  chriskrycho   27.0        False   \n",
       "2dasvh          trn  429.0        False   \n",
       "\n",
       "                                                    about  github_username  \\\n",
       "09zw7r                                                                 NaN   \n",
       "0bdne7  Web developer and previously embedded C developer              NaN   \n",
       "1bhbod  I blog infrequently at https://junglecoder.com...              NaN   \n",
       "1xkje1  I'm a husband and father; a theologian, compos...              NaN   \n",
       "2dasvh                                                                 NaN   \n",
       "\n",
       "         0 created_hour created_dow  scaled_score  \n",
       "09zw7r NaN         20.0         1.0      0.072727  \n",
       "0bdne7 NaN         21.0         1.0      0.000000  \n",
       "1bhbod NaN         20.0         6.0      0.327273  \n",
       "1xkje1 NaN          2.0         0.0      0.036364  \n",
       "2dasvh NaN         14.0         1.0      0.381818  \n",
       "\n",
       "[5 rows x 23 columns]"
      ]
     },
     "execution_count": 108,
     "metadata": {},
     "output_type": "execute_result"
    }
   ],
   "source": [
    "scaler = preprocessing.MinMaxScaler()\n",
    "scaled_score = scaler.fit_transform(stories[['score']])\n",
    "scaled_score[:5]\n",
    "stories['scaled_score'] = scaled_score[:,0]\n",
    "stories.head()"
   ]
  },
  {
   "cell_type": "markdown",
   "id": "58bb33e8",
   "metadata": {},
   "source": [
    "# Tracking the International Space Station with Dask"
   ]
  },
  {
   "cell_type": "code",
   "execution_count": 111,
   "id": "0dd2b5b9",
   "metadata": {},
   "outputs": [],
   "source": [
    "import requests\n",
    "import logging\n",
    "import sys\n",
    "from time import sleep\n",
    "from datetime import datetime\n",
    "from math import radians\n",
    "from dask import delayed\n",
    "from operator import itemgetter"
   ]
  },
  {
   "cell_type": "code",
   "execution_count": 112,
   "id": "aa2a350e",
   "metadata": {},
   "outputs": [],
   "source": [
    "logger = logging.getLogger()\n",
    "logger.setLevel(logging.INFO)"
   ]
  },
  {
   "cell_type": "code",
   "execution_count": 113,
   "id": "ec625de3",
   "metadata": {},
   "outputs": [],
   "source": [
    "#First, we need to get lat and long pairs from a list of cities\n",
    "def get_lat_long(address):\n",
    "    resp = requests.get(\n",
    "        'https://eu1.locationiq.org/v1/search.php',\n",
    "        params={'key': '92e7ba84cf3465', #Please be kind, you can generate your own for more use here - https://locationiq.org :D\n",
    "                'q': address,\n",
    "                'format': 'json'}\n",
    "    )\n",
    "    if resp.status_code != 200:\n",
    "        print('There was a problem with your request!')\n",
    "        print(resp.content)\n",
    "        return\n",
    "    data = resp.json()[0]\n",
    "    return {\n",
    "        'name': data.get('display_name'),\n",
    "        'lat': float(data.get('lat')),\n",
    "        'long': float(data.get('lon')),\n",
    "    }"
   ]
  },
  {
   "cell_type": "code",
   "execution_count": 114,
   "id": "19b83e13",
   "metadata": {},
   "outputs": [
    {
     "name": "stdout",
     "output_type": "stream",
     "text": [
      "There was a problem with your request!\n",
      "b'{\"error\":\"Invalid key\"}'\n"
     ]
    }
   ],
   "source": [
    "get_lat_long('Berlin, Germany')"
   ]
  },
  {
   "cell_type": "code",
   "execution_count": 115,
   "id": "4c74400c",
   "metadata": {},
   "outputs": [
    {
     "name": "stdout",
     "output_type": "stream",
     "text": [
      "There was a problem with your request!\n",
      "b'{\"error\":\"Invalid key\"}'\n",
      "There was a problem with your request!\n",
      "b'{\"error\":\"Invalid key\"}'\n",
      "There was a problem with your request!\n",
      "b'{\"error\":\"Invalid key\"}'\n",
      "There was a problem with your request!\n",
      "b'{\"error\":\"Invalid key\"}'\n",
      "There was a problem with your request!\n",
      "b'{\"error\":\"Invalid key\"}'\n",
      "There was a problem with your request!\n",
      "b'{\"error\":\"Invalid key\"}'\n",
      "There was a problem with your request!\n",
      "b'{\"error\":\"Invalid key\"}'\n",
      "There was a problem with your request!\n",
      "b'{\"error\":\"Invalid key\"}'\n",
      "There was a problem with your request!\n",
      "b'{\"error\":\"Invalid key\"}'\n",
      "There was a problem with your request!\n",
      "b'{\"error\":\"Invalid key\"}'\n"
     ]
    }
   ],
   "source": [
    "locations = []\n",
    "for city in ['Seattle, Washington', 'Miami, Florida', \n",
    "             'Berlin, Germany', 'Singapore', \n",
    "             'Wellington, New Zealand',\n",
    "             'Beirut, Lebanon', 'Beijing, China', 'Nairobi, Kenya',\n",
    "             'Cape Town, South Africa', 'Buenos Aires, Argentina']:\n",
    "    locations.append(get_lat_long(city))\n",
    "    sleep(2)"
   ]
  },
  {
   "cell_type": "code",
   "execution_count": 116,
   "id": "a7599d0b",
   "metadata": {},
   "outputs": [
    {
     "data": {
      "text/plain": [
       "[None, None, None, None, None, None, None, None, None, None]"
      ]
     },
     "execution_count": 116,
     "metadata": {},
     "output_type": "execute_result"
    }
   ],
   "source": [
    "locations"
   ]
  },
  {
   "cell_type": "code",
   "execution_count": 117,
   "id": "27a2b1a5",
   "metadata": {},
   "outputs": [],
   "source": [
    "#Now we can define the functions we will use to get the ISS data and compare location and next pass times amongst cities\n",
    "def get_spaceship_location():\n",
    "    resp = requests.get('http://api.open-notify.org/iss-now.json')\n",
    "    location = resp.json()['iss_position']\n",
    "    return {'lat': float(location.get('latitude')),\n",
    "            'long': float(location.get('longitude'))}"
   ]
  },
  {
   "cell_type": "code",
   "execution_count": 118,
   "id": "43c22990",
   "metadata": {},
   "outputs": [],
   "source": [
    "def great_circle_dist(lon1, lat1, lon2, lat2):\n",
    "    \"Found on SO: http://stackoverflow.com/a/41858332/380442\"\n",
    "    dist = DistanceMetric.get_metric('haversine')\n",
    "    lon1, lat1, lon2, lat2 = map(np.radians, [lon1, lat1, lon2, lat2])\n",
    "\n",
    "    X = [[lat1, lon1], [lat2, lon2]]\n",
    "    kms = 6367\n",
    "    return (kms * dist.pairwise(X)).max()"
   ]
  },
  {
   "cell_type": "code",
   "execution_count": 119,
   "id": "e7712825",
   "metadata": {},
   "outputs": [],
   "source": [
    "def iss_dist_from_loc(issloc, loc):\n",
    "    distance = great_circle_dist(issloc.get('long'), \n",
    "                                 issloc.get('lat'), \n",
    "                                 loc.get('long'), loc.get('lat'))\n",
    "    logging.info('ISS is ~%dkm from %s', int(distance), loc.get('name'))\n",
    "    return distance"
   ]
  },
  {
   "cell_type": "code",
   "execution_count": 120,
   "id": "5b67863f",
   "metadata": {},
   "outputs": [],
   "source": [
    "def iss_pass_near_loc(loc):\n",
    "    resp = requests.get('http://api.open-notify.org/iss-pass.json',\n",
    "                        params={'lat': loc.get('lat'), \n",
    "                                'lon': loc.get('long')})\n",
    "    data = resp.json().get('response')[0]\n",
    "    td = datetime.fromtimestamp(data.get('risetime')) - datetime.now()\n",
    "    m, s = divmod(int(td.total_seconds()), 60)\n",
    "    h, m = divmod(m, 60)\n",
    "    logging.info('ISS will pass near %s in %02d:%02d:%02d',loc.get('name'), h, m, s)\n",
    "    return td.total_seconds()"
   ]
  },
  {
   "cell_type": "code",
   "execution_count": 127,
   "id": "013379e9",
   "metadata": {},
   "outputs": [],
   "source": [
    "#Let's create a delayed pipeline\n",
    "output = []\n",
    "\n",
    "for loc in locations:\n",
    "    issloc = delayed(get_spaceship_location)()\n",
    "    dist = delayed(iss_dist_from_loc)(issloc, loc)\n",
    "\n",
    "closest = delayed(lambda x: sorted(x, \n",
    "                                   key=itemgetter(1))[0])(output)"
   ]
  },
  {
   "cell_type": "code",
   "execution_count": 128,
   "id": "5ecda96a",
   "metadata": {},
   "outputs": [
    {
     "data": {
      "text/plain": [
       "Delayed('lambda-18936bf9-bac1-42fb-8393-3c81780ee660')"
      ]
     },
     "execution_count": 128,
     "metadata": {},
     "output_type": "execute_result"
    }
   ],
   "source": [
    "closest"
   ]
  },
  {
   "cell_type": "code",
   "execution_count": 130,
   "id": "9d87b8ba",
   "metadata": {},
   "outputs": [
    {
     "name": "stdout",
     "output_type": "stream",
     "text": [
      "Collecting graphviz\n",
      "  Downloading graphviz-0.20.1-py3-none-any.whl (47 kB)\n",
      "     ---------------------------------------- 0.0/47.0 kB ? eta -:--:--\n",
      "     ---------------- --------------------- 20.5/47.0 kB 330.3 kB/s eta 0:00:01\n",
      "     --------------------------------- ---- 41.0/47.0 kB 495.5 kB/s eta 0:00:01\n",
      "     -------------------------------------- 47.0/47.0 kB 391.5 kB/s eta 0:00:00\n",
      "Installing collected packages: graphviz\n",
      "Successfully installed graphviz-0.20.1\n",
      "Note: you may need to restart the kernel to use updated packages.\n"
     ]
    }
   ],
   "source": [
    "pip install graphviz"
   ]
  },
  {
   "cell_type": "code",
   "execution_count": 133,
   "id": "b0febf5c",
   "metadata": {},
   "outputs": [
    {
     "data": {
      "text/plain": [
       "Delayed('head-af1a3019-966c-415a-ab1f-e5b61c0966bf')"
      ]
     },
     "execution_count": 133,
     "metadata": {},
     "output_type": "execute_result"
    }
   ],
   "source": [
    "#Let's see our DAG!\n",
    "closest.visualize()\n",
    "closest.head()"
   ]
  }
 ],
 "metadata": {
  "kernelspec": {
   "display_name": "Python 3 (ipykernel)",
   "language": "python",
   "name": "python3"
  },
  "language_info": {
   "codemirror_mode": {
    "name": "ipython",
    "version": 3
   },
   "file_extension": ".py",
   "mimetype": "text/x-python",
   "name": "python",
   "nbconvert_exporter": "python",
   "pygments_lexer": "ipython3",
   "version": "3.11.5"
  }
 },
 "nbformat": 4,
 "nbformat_minor": 5
}
