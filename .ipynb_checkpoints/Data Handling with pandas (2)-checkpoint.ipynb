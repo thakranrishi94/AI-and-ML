{
 "cells": [
  {
   "cell_type": "markdown",
   "metadata": {},
   "source": [
    "# Pandas\n",
    "\n",
    "-Pandas is an open-source, BSD-licensed Python library providing high-performance, easy-to-use data structures and data analysis tools for the Python programming language.\n",
    "\n",
    "- Most widely used tool for data minging. It contains high-level data structures and manipulation tools designed to make data analysis and fast and flexible data acess to relational data.\n",
    "\n",
    "-they are defined as two-dimensional labeled data structures with columns of potentially different types\n",
    "\n",
    "- Two primary data structures in pandas are series and DataFrame.\n",
    "\n",
    "- Panadas has a lot of built in functions that can be applied directly on DataFrame Series.\n",
    "\n",
    "- To install pandas : pip install pandas\n",
    "\n",
    "- Pandas comes with default Anaconda package.\n",
    "\n",
    "- To use pandas we need to first import it. Syntax: import pandas\n",
    "\n",
    "- To check pandas version. pandas.version"
   ]
  },
  {
   "cell_type": "code",
   "execution_count": 1,
   "metadata": {},
   "outputs": [
    {
     "name": "stdout",
     "output_type": "stream",
     "text": [
      "Requirement already satisfied: pandas in c:\\users\\pankaj agarwal\\anaconda3\\lib\\site-packages (1.4.2)\n",
      "Requirement already satisfied: python-dateutil>=2.8.1 in c:\\users\\pankaj agarwal\\anaconda3\\lib\\site-packages (from pandas) (2.8.2)\n",
      "Requirement already satisfied: pytz>=2020.1 in c:\\users\\pankaj agarwal\\anaconda3\\lib\\site-packages (from pandas) (2021.3)\n",
      "Requirement already satisfied: numpy>=1.18.5 in c:\\users\\pankaj agarwal\\anaconda3\\lib\\site-packages (from pandas) (1.21.5)\n",
      "Requirement already satisfied: six>=1.5 in c:\\users\\pankaj agarwal\\anaconda3\\lib\\site-packages (from python-dateutil>=2.8.1->pandas) (1.16.0)\n",
      "Note: you may need to restart the kernel to use updated packages.\n"
     ]
    },
    {
     "name": "stderr",
     "output_type": "stream",
     "text": [
      "\n",
      "[notice] A new release of pip is available: 23.1.2 -> 23.2.1\n",
      "[notice] To update, run: python.exe -m pip install --upgrade pip\n"
     ]
    }
   ],
   "source": [
    "pip install pandas"
   ]
  },
  {
   "cell_type": "code",
   "execution_count": 1,
   "metadata": {},
   "outputs": [],
   "source": [
    "import pandas"
   ]
  },
  {
   "cell_type": "markdown",
   "metadata": {},
   "source": [
    "# Key Features of Pandas\n",
    "#####  Fast and efficient DataFrame object with default and customized indexing.\n",
    "\n",
    "#####  Tools for loading data into in-memory data objects from different file formats.\n",
    "\n",
    "##### Data alignment and integrated handling of missing data.\n",
    "\n",
    "##### Reshaping and pivoting of date sets.\n",
    "\n",
    "##### Label-based slicing, indexing and subsetting of large data sets.\n",
    "\n",
    "##### Columns from a data structure can be deleted or inserted.\n",
    "\n",
    "##### Group by data for aggregation and transformations.\n",
    "\n",
    "##### High performance merging and joining of data.\n",
    "\n",
    "##### Time Series functionality."
   ]
  },
  {
   "cell_type": "markdown",
   "metadata": {},
   "source": [
    "# Series:\n",
    "Series is one dimensional(1-D) array defined in pandas that can be used to store any data type.\n",
    "\n",
    "import pandas as pd\n",
    "##### Create series with Data, and Index \n",
    "a = pd.Series(Data, index = Index)   \n",
    "Here, Data can be:\n",
    "\n",
    "-A Scalar value which can be integerValue, string\n",
    "-A Python Dictionary which can be Key, Value pair\n",
    "-A Ndarray"
   ]
  },
  {
   "cell_type": "code",
   "execution_count": null,
   "metadata": {},
   "outputs": [],
   "source": [
    "import pandas as pd\n"
   ]
  },
  {
   "cell_type": "code",
   "execution_count": null,
   "metadata": {},
   "outputs": [],
   "source": []
  },
  {
   "cell_type": "code",
   "execution_count": 2,
   "metadata": {},
   "outputs": [
    {
     "name": "stdout",
     "output_type": "stream",
     "text": [
      "[1, 3, 4, 5, 6, 2, 9]\n",
      "0    1\n",
      "1    3\n",
      "2    4\n",
      "3    5\n",
      "4    6\n",
      "5    2\n",
      "6    9\n",
      "dtype: int64\n"
     ]
    }
   ],
   "source": [
    "import pandas as pd \n",
    "Data =[1, 3, 4, 5, 6, 2, 9]   \n",
    "print(Data)\n",
    "# Creating series with default index values \n",
    "s = pd.Series(Data)     \n",
    "print(s)  \n"
   ]
  },
  {
   "cell_type": "code",
   "execution_count": 3,
   "metadata": {},
   "outputs": [
    {
     "data": {
      "text/plain": [
       "1    3\n",
       "2    4\n",
       "3    5\n",
       "dtype: int64"
      ]
     },
     "execution_count": 3,
     "metadata": {},
     "output_type": "execute_result"
    }
   ],
   "source": [
    "s[1:4]"
   ]
  },
  {
   "cell_type": "code",
   "execution_count": 3,
   "metadata": {},
   "outputs": [
    {
     "name": "stdout",
     "output_type": "stream",
     "text": [
      "a    1\n",
      "b    3\n",
      "c    4\n",
      "d    5\n",
      "e    6\n",
      "f    2\n",
      "g    9\n",
      "dtype: int64\n"
     ]
    }
   ],
   "source": [
    "# predefined index values \n",
    "Index =['a', 'b', 'c', 'd', 'e', 'f', 'g']  \n",
    "  \n",
    "# Creating series with predefined index values \n",
    "si = pd.Series(Data, Index) \n",
    "print(si)"
   ]
  },
  {
   "cell_type": "code",
   "execution_count": 6,
   "metadata": {},
   "outputs": [
    {
     "data": {
      "text/plain": [
       "5"
      ]
     },
     "execution_count": 6,
     "metadata": {},
     "output_type": "execute_result"
    }
   ],
   "source": [
    "si['d']"
   ]
  },
  {
   "cell_type": "code",
   "execution_count": 4,
   "metadata": {},
   "outputs": [
    {
     "name": "stdout",
     "output_type": "stream",
     "text": [
      "a    1\n",
      "b    2\n",
      "c    3\n",
      "d    4\n",
      "e    5\n",
      "dtype: int64\n"
     ]
    }
   ],
   "source": [
    "dictionary ={'a':1, 'b':2, 'c':3, 'd':4, 'e':5}  \n",
    "\n",
    "# Creating series of Dictionary type \n",
    "sd = pd.Series(dictionary)  \n",
    "print(sd)"
   ]
  },
  {
   "cell_type": "code",
   "execution_count": 10,
   "metadata": {},
   "outputs": [
    {
     "name": "stdout",
     "output_type": "stream",
     "text": [
      "[[2, 3, 4], [5, 6, 7], [8, 9, 11]]\n",
      "0     [2, 3, 4]\n",
      "1     [5, 6, 7]\n",
      "2    [8, 9, 11]\n",
      "dtype: object\n"
     ]
    }
   ],
   "source": [
    "Data =[[2, 3, 4], [5, 6, 7],[8,9,11]]   \n",
    "print(Data) \n",
    "# Creating series of 2darray \n",
    "snd = pd.Series(Data)     \n",
    "print(snd)"
   ]
  },
  {
   "cell_type": "markdown",
   "metadata": {},
   "source": [
    "# data Frame\n",
    "DataFrames is two-dimensional(2-D) data structure defined in pandas which consists of rows and columns."
   ]
  },
  {
   "cell_type": "code",
   "execution_count": null,
   "metadata": {},
   "outputs": [],
   "source": [
    "import pandas as pd    \n",
    "  \n",
    "# Create DataFrame with Data \n",
    "a = pd.DataFrame(Data)   \n",
    "\n",
    "Here, Data can be:\n",
    "\n",
    "-One or more dictionaries\n",
    "-One or more Series\n",
    "-2D-numpy Ndarray"
   ]
  },
  {
   "cell_type": "code",
   "execution_count": 5,
   "metadata": {},
   "outputs": [
    {
     "name": "stdout",
     "output_type": "stream",
     "text": [
      "   0\n",
      "0  1\n",
      "1  3\n",
      "2  4\n",
      "3  5\n",
      "4  6\n",
      "5  2\n",
      "6  9\n"
     ]
    }
   ],
   "source": [
    "a = pd.DataFrame(Data)\n",
    "print(a)"
   ]
  },
  {
   "cell_type": "code",
   "execution_count": 6,
   "metadata": {},
   "outputs": [
    {
     "name": "stdout",
     "output_type": "stream",
     "text": [
      "{'1st': {'a': 1, 'b': 2, 'c': 3, 'd': 4}, '2nd': {'a': 5, 'b': 6, 'c': 7, 'e': 8, 'f': 9}}\n",
      "   1st  2nd\n",
      "a  1.0  5.0\n",
      "b  2.0  6.0\n",
      "c  3.0  7.0\n",
      "d  4.0  NaN\n",
      "e  NaN  8.0\n",
      "f  NaN  9.0\n"
     ]
    }
   ],
   "source": [
    "# Program to Create Data Frame with two dictionaries \n",
    "dict1 ={'a':1, 'b':2, 'c':3, 'd':4}        # Define Dictionary 1 \n",
    "dict2 ={'a':5, 'b':6, 'c':7, 'e':8, 'f':9} # Define Dictionary 2 \n",
    "Data = {'1st':dict1, '2nd':dict2}\n",
    "print(Data)\n",
    "# Define Data with dict1 and dict2 \n",
    "df = pd.DataFrame(Data)  # Create DataFrame \n",
    "print(df)"
   ]
  },
  {
   "cell_type": "code",
   "execution_count": 7,
   "metadata": {},
   "outputs": [
    {
     "name": "stdout",
     "output_type": "stream",
     "text": [
      "   first  second third\n",
      "0      1     1.1     a\n",
      "1      3     3.5     b\n",
      "2      4     4.7     c\n",
      "3      5     5.8     d\n",
      "4      6     2.9     e\n",
      "5      2     9.3   NaN\n",
      "6      9     NaN   NaN\n"
     ]
    }
   ],
   "source": [
    "import pandas as pd \n",
    "\n",
    "# Define series 1 \n",
    "s1 = pd.Series([1, 3, 4, 5, 6, 2, 9])    \n",
    "# Define series 2        \n",
    "s2 = pd.Series([1.1, 3.5, 4.7, 5.8, 2.9, 9.3])  \n",
    "# Define series 3 \n",
    "s3 = pd.Series(['a', 'b', 'c', 'd', 'e'])      \n",
    "  \n",
    "# Define Data \n",
    "Data ={'first':s1, 'second':s2, 'third':s3}  \n",
    "  \n",
    "# Create DataFrame \n",
    "dfseries = pd.DataFrame(Data)        \n",
    "print(dfseries)"
   ]
  },
  {
   "cell_type": "code",
   "execution_count": 8,
   "metadata": {},
   "outputs": [
    {
     "name": "stdout",
     "output_type": "stream",
     "text": [
      "       first     second\n",
      "0  [2, 3, 4]  [2, 4, 8]\n",
      "1  [5, 6, 7]  [1, 3, 9]\n"
     ]
    }
   ],
   "source": [
    "# Program to create DataFrame from 2D array \n",
    "import pandas as pd # Import Library \n",
    "d1 =[[2, 3, 4], [5, 6, 7]] # Define 2d array 1 \n",
    "d2 =[[2, 4, 8], [1, 3, 9]] # Define 2d array 2 \n",
    "Data ={'first': d1, 'second': d2} # Define Data  \n",
    "df2d = pd.DataFrame(Data)    # Create DataFrame \n",
    "print(df2d)"
   ]
  },
  {
   "cell_type": "code",
   "execution_count": 10,
   "metadata": {},
   "outputs": [
    {
     "name": "stdout",
     "output_type": "stream",
     "text": [
      "[('01/01/2019', 17, 7, 'Rain'), ('01/02/2019', 29, 5, 'Sunny'), ('01/03/2019', 32, 3, 'Snow')]\n",
      "            0   1  2      3\n",
      "0  01/01/2019  17  7   Rain\n",
      "1  01/02/2019  29  5  Sunny\n",
      "2  01/03/2019  32  3   Snow\n"
     ]
    }
   ],
   "source": [
    "import pandas as pd \n",
    "weather_data = [\n",
    "('01/01/2019', 17, 7, 'Rain'),\n",
    "('01/02/2019', 29, 5, 'Sunny'),\n",
    "('01/03/2019', 32, 3, 'Snow')\n",
    "]\n",
    "print(weather_data)\n",
    "\n",
    "d=pd.DataFrame(weather_data)\n",
    "print(d)"
   ]
  },
  {
   "cell_type": "code",
   "execution_count": null,
   "metadata": {},
   "outputs": [],
   "source": [
    "import pandas as pd \n",
    " D={'first':s1, 'second':s2, 'third':s3}  "
   ]
  },
  {
   "cell_type": "code",
   "execution_count": 11,
   "metadata": {},
   "outputs": [
    {
     "data": {
      "text/html": [
       "<div>\n",
       "<style scoped>\n",
       "    .dataframe tbody tr th:only-of-type {\n",
       "        vertical-align: middle;\n",
       "    }\n",
       "\n",
       "    .dataframe tbody tr th {\n",
       "        vertical-align: top;\n",
       "    }\n",
       "\n",
       "    .dataframe thead th {\n",
       "        text-align: right;\n",
       "    }\n",
       "</style>\n",
       "<table border=\"1\" class=\"dataframe\">\n",
       "  <thead>\n",
       "    <tr style=\"text-align: right;\">\n",
       "      <th></th>\n",
       "      <th>date</th>\n",
       "      <th>temp</th>\n",
       "      <th>wind speed</th>\n",
       "      <th>type</th>\n",
       "    </tr>\n",
       "  </thead>\n",
       "  <tbody>\n",
       "    <tr>\n",
       "      <th>0</th>\n",
       "      <td>01/01/2019</td>\n",
       "      <td>17</td>\n",
       "      <td>7</td>\n",
       "      <td>Rain</td>\n",
       "    </tr>\n",
       "    <tr>\n",
       "      <th>1</th>\n",
       "      <td>01/02/2019</td>\n",
       "      <td>29</td>\n",
       "      <td>5</td>\n",
       "      <td>Sunny</td>\n",
       "    </tr>\n",
       "    <tr>\n",
       "      <th>2</th>\n",
       "      <td>01/03/2019</td>\n",
       "      <td>32</td>\n",
       "      <td>3</td>\n",
       "      <td>Snow</td>\n",
       "    </tr>\n",
       "  </tbody>\n",
       "</table>\n",
       "</div>"
      ],
      "text/plain": [
       "         date  temp  wind speed   type\n",
       "0  01/01/2019    17           7   Rain\n",
       "1  01/02/2019    29           5  Sunny\n",
       "2  01/03/2019    32           3   Snow"
      ]
     },
     "execution_count": 11,
     "metadata": {},
     "output_type": "execute_result"
    }
   ],
   "source": [
    "wd = pd.DataFrame(weather_data,columns=['date','temp','wind speed','type'])\n",
    "wd"
   ]
  },
  {
   "cell_type": "code",
   "execution_count": 12,
   "metadata": {},
   "outputs": [],
   "source": [
    "wd.to_csv('d:\\\\weather.csv', index = False)"
   ]
  },
  {
   "cell_type": "code",
   "execution_count": 14,
   "metadata": {},
   "outputs": [
    {
     "data": {
      "text/plain": [
       "'Sunny'"
      ]
     },
     "execution_count": 14,
     "metadata": {},
     "output_type": "execute_result"
    }
   ],
   "source": [
    "wd.loc[1]['type']"
   ]
  },
  {
   "cell_type": "code",
   "execution_count": 16,
   "metadata": {},
   "outputs": [
    {
     "name": "stdout",
     "output_type": "stream",
     "text": [
      "   first  second third\n",
      "0      1     1.1     a\n",
      "1      3     3.5     b\n",
      "2      4     4.7     c\n",
      "3      5     5.8     d\n",
      "4      6     2.9     e\n",
      "5      2     9.3   NaN\n",
      "6      9     NaN   NaN\n"
     ]
    }
   ],
   "source": [
    "import pandas as pd \n",
    "s1 = pd.Series([1, 3, 4, 5, 6, 2, 9])           # Define series 1 \n",
    "s2 = pd.Series([1.1, 3.5, 4.7, 5.8, 2.9, 9.3]) # Define series 2 \n",
    "s3 = pd.Series(['a', 'b', 'c', 'd', 'e'])     # Define series 3 \n",
    "\n",
    "Data ={'first':s1, 'second':s2, 'third':s3} # Define Data \n",
    "dfseries = pd.DataFrame(Data)\n",
    "print(dfseries)\n",
    "dfseries.to_csv('d:\\\\dfseries.csv')"
   ]
  },
  {
   "cell_type": "code",
   "execution_count": 17,
   "metadata": {},
   "outputs": [
    {
     "name": "stdout",
     "output_type": "stream",
     "text": [
      "   Pankaj  hansika  parth\n",
      "0       0        4      8\n",
      "1       1        5      9\n",
      "2       2        6     10\n"
     ]
    }
   ],
   "source": [
    "import pandas as pd \n",
    "  \n",
    "# assigning three series to s1, s2, s3 \n",
    "s1 = pd.Series([0, 4, 8]) \n",
    "s2 = pd.Series([1, 5, 9]) \n",
    "s3 = pd.Series([2, 6, 10]) \n",
    "  \n",
    "# taking index and column values \n",
    "dframe = pd.DataFrame([s1, s2, s3]) \n",
    "  \n",
    "# assign column name \n",
    "dframe.columns =['Pankaj', 'hansika', 'parth'] \n",
    "print(dframe) \n",
    "# write data to csv file \n",
    "dframe.to_csv('d:\\\\mycsvwithoutindex.csv', index = False)   \n",
    "dframe.to_csv('d:\\\\mycsvwithIndex.csv', index = True) "
   ]
  },
  {
   "cell_type": "markdown",
   "metadata": {},
   "source": [
    "##### How To Select an Index or Column From a Pandas DataFrame"
   ]
  },
  {
   "cell_type": "code",
   "execution_count": 19,
   "metadata": {
    "scrolled": true
   },
   "outputs": [
    {
     "name": "stdout",
     "output_type": "stream",
     "text": [
      "   Pankaj  hansika  parth\n",
      "0       0        4      8\n",
      "1       1        5      9\n",
      "2       2        6     10\n",
      "8\n"
     ]
    }
   ],
   "source": [
    "print(dframe)\n",
    "print(dframe.iloc[0][2])\n"
   ]
  },
  {
   "cell_type": "code",
   "execution_count": 20,
   "metadata": {},
   "outputs": [
    {
     "name": "stdout",
     "output_type": "stream",
     "text": [
      "9\n",
      "10\n"
     ]
    }
   ],
   "source": [
    "print(dframe.loc[1]['parth'])\n",
    "print(dframe.iloc[2,2])"
   ]
  },
  {
   "cell_type": "markdown",
   "metadata": {},
   "source": [
    "-loc[] works on labels of your index. This means that if you give in loc[2], you look for the values of your DataFrame that have an index labeled 2.\n",
    "\n",
    "-iloc[] works on the positions in your index. This means that if you give in iloc[2], you look for the values of your DataFrame that are at index ’2`."
   ]
  },
  {
   "cell_type": "code",
   "execution_count": 21,
   "metadata": {},
   "outputs": [
    {
     "data": {
      "text/html": [
       "<div>\n",
       "<style scoped>\n",
       "    .dataframe tbody tr th:only-of-type {\n",
       "        vertical-align: middle;\n",
       "    }\n",
       "\n",
       "    .dataframe tbody tr th {\n",
       "        vertical-align: top;\n",
       "    }\n",
       "\n",
       "    .dataframe thead th {\n",
       "        text-align: right;\n",
       "    }\n",
       "</style>\n",
       "<table border=\"1\" class=\"dataframe\">\n",
       "  <thead>\n",
       "    <tr style=\"text-align: right;\">\n",
       "      <th></th>\n",
       "      <th>Pankaj</th>\n",
       "      <th>hansika</th>\n",
       "      <th>parth</th>\n",
       "    </tr>\n",
       "  </thead>\n",
       "  <tbody>\n",
       "    <tr>\n",
       "      <th>0</th>\n",
       "      <td>0</td>\n",
       "      <td>4</td>\n",
       "      <td>8</td>\n",
       "    </tr>\n",
       "    <tr>\n",
       "      <th>1</th>\n",
       "      <td>1</td>\n",
       "      <td>5</td>\n",
       "      <td>9</td>\n",
       "    </tr>\n",
       "    <tr>\n",
       "      <th>2</th>\n",
       "      <td>2</td>\n",
       "      <td>6</td>\n",
       "      <td>12</td>\n",
       "    </tr>\n",
       "  </tbody>\n",
       "</table>\n",
       "</div>"
      ],
      "text/plain": [
       "   Pankaj  hansika  parth\n",
       "0       0        4      8\n",
       "1       1        5      9\n",
       "2       2        6     12"
      ]
     },
     "execution_count": 21,
     "metadata": {},
     "output_type": "execute_result"
    }
   ],
   "source": [
    "dframe.iloc[2,2]=12\n",
    "dframe"
   ]
  },
  {
   "cell_type": "code",
   "execution_count": null,
   "metadata": {},
   "outputs": [],
   "source": [
    "dframe.loc[1][1]=10\n",
    "dframe"
   ]
  },
  {
   "cell_type": "markdown",
   "metadata": {},
   "source": [
    "# Handling tabular Data with pandas"
   ]
  },
  {
   "cell_type": "markdown",
   "metadata": {},
   "source": [
    "methods: read_table, read_csv, read_excel.\n",
    "\n",
    "-read_table can be as a \"generic\" importer for other formats\n",
    "-read_table is read_csv with sep=',' replaced by sep='\\t', they are two thin wrappers around the same function so the performance will be identical\n",
    "-CSV and tab-delimited text (.txt) are equivalent in read and write speed, both are much faster than reading and writing MS Excel files. \n",
    "-However, Excel format compresses the file size a lot."
   ]
  },
  {
   "cell_type": "code",
   "execution_count": 9,
   "metadata": {},
   "outputs": [
    {
     "name": "stdout",
     "output_type": "stream",
     "text": [
      "   sepal_width  petal_length  petal_width\n",
      "0          3.5           1.4          0.2\n",
      "1          3.0           1.4          0.2\n",
      "2          3.2           1.3          0.2\n",
      "3          3.1           1.5          0.2\n",
      "4          3.6           1.4          0.2\n",
      "(150, 3)\n"
     ]
    }
   ],
   "source": [
    "import pandas as pd\n",
    "data=pd.read_csv('d://MLDataset//iris_dataset.csv',usecols=[1,2,3])\n",
    "print(data.head())\n",
    "print(data.shape)"
   ]
  },
  {
   "cell_type": "code",
   "execution_count": 3,
   "metadata": {},
   "outputs": [
    {
     "name": "stdout",
     "output_type": "stream",
     "text": [
      "     sepal_length          flower\n",
      "0             5.1     Iris-setosa\n",
      "1             4.9     Iris-setosa\n",
      "2             4.7     Iris-setosa\n",
      "3             4.6     Iris-setosa\n",
      "4             5.0     Iris-setosa\n",
      "..            ...             ...\n",
      "145           6.7  Iris-virginica\n",
      "146           6.3  Iris-virginica\n",
      "147           6.5  Iris-virginica\n",
      "148           6.2  Iris-virginica\n",
      "149           5.9  Iris-virginica\n",
      "\n",
      "[150 rows x 2 columns]\n"
     ]
    }
   ],
   "source": [
    "d=data[['sepal_length','flower']]\n",
    "print(d)"
   ]
  },
  {
   "cell_type": "code",
   "execution_count": null,
   "metadata": {},
   "outputs": [],
   "source": [
    "s1 = pd.Series([0, 4, 8]) \n",
    "s2 = pd.Series([1, 5, 9]) \n",
    "s3 = pd.Series([2, 6, 10]) "
   ]
  },
  {
   "cell_type": "code",
   "execution_count": null,
   "metadata": {},
   "outputs": [],
   "source": [
    "df=pd.DataFrame([s1,s2,s3])\n",
    "df.columns=['x','y','z']\n",
    "df"
   ]
  },
  {
   "cell_type": "code",
   "execution_count": 5,
   "metadata": {},
   "outputs": [],
   "source": [
    "d.to_csv(\"d://filter_iris.csv\")\n",
    "d.to_csv(\"d://iris.txt\",sep=\"\\t\")\n"
   ]
  },
  {
   "cell_type": "code",
   "execution_count": 4,
   "metadata": {},
   "outputs": [
    {
     "name": "stdout",
     "output_type": "stream",
     "text": [
      "     sepal_length  sepal_width  petal_length  petal_width          flower\n",
      "0             5.1          3.5           1.4          0.2     Iris-setosa\n",
      "1             4.9          3.0           1.4          0.2     Iris-setosa\n",
      "2             4.7          3.2           1.3          0.2     Iris-setosa\n",
      "3             4.6          3.1           1.5          0.2     Iris-setosa\n",
      "4             5.0          3.6           1.4          0.2     Iris-setosa\n",
      "..            ...          ...           ...          ...             ...\n",
      "145           6.7          3.0           5.2          2.3  Iris-virginica\n",
      "146           6.3          2.5           5.0          1.9  Iris-virginica\n",
      "147           6.5          3.0           5.2          2.0  Iris-virginica\n",
      "148           6.2          3.4           5.4          2.3  Iris-virginica\n",
      "149           5.9          3.0           5.1          1.8  Iris-virginica\n",
      "\n",
      "[150 rows x 5 columns]\n"
     ]
    }
   ],
   "source": [
    "data=pd.read_table(\"d://MLdataSet//iris_dataset.csv\",delimiter=',')\n",
    "print(data)"
   ]
  },
  {
   "cell_type": "code",
   "execution_count": 18,
   "metadata": {},
   "outputs": [
    {
     "ename": "TypeError",
     "evalue": "read_csv() got an unexpected keyword argument 'ncols'",
     "output_type": "error",
     "traceback": [
      "\u001b[1;31m---------------------------------------------------------------------------\u001b[0m",
      "\u001b[1;31mTypeError\u001b[0m                                 Traceback (most recent call last)",
      "Input \u001b[1;32mIn [18]\u001b[0m, in \u001b[0;36m<cell line: 1>\u001b[1;34m()\u001b[0m\n\u001b[1;32m----> 1\u001b[0m csv\u001b[38;5;241m=\u001b[39m\u001b[43mpd\u001b[49m\u001b[38;5;241;43m.\u001b[39;49m\u001b[43mread_csv\u001b[49m\u001b[43m(\u001b[49m\u001b[38;5;124;43m\"\u001b[39;49m\u001b[38;5;124;43md://MLdataSet//iris_dataset.csv\u001b[39;49m\u001b[38;5;124;43m\"\u001b[39;49m\u001b[43m,\u001b[49m\u001b[43mnrows\u001b[49m\u001b[38;5;241;43m=\u001b[39;49m\u001b[38;5;241;43m50\u001b[39;49m\u001b[43m,\u001b[49m\u001b[43mncols\u001b[49m\u001b[38;5;241;43m=\u001b[39;49m\u001b[43m[\u001b[49m\u001b[38;5;241;43m1\u001b[39;49m\u001b[43m,\u001b[49m\u001b[38;5;241;43m3\u001b[39;49m\u001b[43m]\u001b[49m\u001b[43m)\u001b[49m\n\u001b[0;32m      2\u001b[0m css\u001b[38;5;241m.\u001b[39mhead()\n",
      "File \u001b[1;32m~\\anaconda3\\lib\\site-packages\\pandas\\util\\_decorators.py:311\u001b[0m, in \u001b[0;36mdeprecate_nonkeyword_arguments.<locals>.decorate.<locals>.wrapper\u001b[1;34m(*args, **kwargs)\u001b[0m\n\u001b[0;32m    305\u001b[0m \u001b[38;5;28;01mif\u001b[39;00m \u001b[38;5;28mlen\u001b[39m(args) \u001b[38;5;241m>\u001b[39m num_allow_args:\n\u001b[0;32m    306\u001b[0m     warnings\u001b[38;5;241m.\u001b[39mwarn(\n\u001b[0;32m    307\u001b[0m         msg\u001b[38;5;241m.\u001b[39mformat(arguments\u001b[38;5;241m=\u001b[39marguments),\n\u001b[0;32m    308\u001b[0m         \u001b[38;5;167;01mFutureWarning\u001b[39;00m,\n\u001b[0;32m    309\u001b[0m         stacklevel\u001b[38;5;241m=\u001b[39mstacklevel,\n\u001b[0;32m    310\u001b[0m     )\n\u001b[1;32m--> 311\u001b[0m \u001b[38;5;28;01mreturn\u001b[39;00m func(\u001b[38;5;241m*\u001b[39margs, \u001b[38;5;241m*\u001b[39m\u001b[38;5;241m*\u001b[39mkwargs)\n",
      "\u001b[1;31mTypeError\u001b[0m: read_csv() got an unexpected keyword argument 'ncols'"
     ]
    }
   ],
   "source": [
    "csv=pd.read_csv(\"d://MLdataSet//iris_dataset.csv\",nrows=50)\n",
    "css.head()"
   ]
  },
  {
   "cell_type": "code",
   "execution_count": 11,
   "metadata": {},
   "outputs": [
    {
     "data": {
      "text/html": [
       "<div>\n",
       "<style scoped>\n",
       "    .dataframe tbody tr th:only-of-type {\n",
       "        vertical-align: middle;\n",
       "    }\n",
       "\n",
       "    .dataframe tbody tr th {\n",
       "        vertical-align: top;\n",
       "    }\n",
       "\n",
       "    .dataframe thead th {\n",
       "        text-align: right;\n",
       "    }\n",
       "</style>\n",
       "<table border=\"1\" class=\"dataframe\">\n",
       "  <thead>\n",
       "    <tr style=\"text-align: right;\">\n",
       "      <th></th>\n",
       "      <th>sepal_length</th>\n",
       "      <th>sepal_width</th>\n",
       "      <th>petal_length</th>\n",
       "      <th>petal_width</th>\n",
       "      <th>flower</th>\n",
       "    </tr>\n",
       "  </thead>\n",
       "  <tbody>\n",
       "    <tr>\n",
       "      <th>14</th>\n",
       "      <td>5.8</td>\n",
       "      <td>4.0</td>\n",
       "      <td>1.2</td>\n",
       "      <td>0.2</td>\n",
       "      <td>Iris-setosa</td>\n",
       "    </tr>\n",
       "    <tr>\n",
       "      <th>15</th>\n",
       "      <td>5.7</td>\n",
       "      <td>4.4</td>\n",
       "      <td>1.5</td>\n",
       "      <td>0.4</td>\n",
       "      <td>Iris-setosa</td>\n",
       "    </tr>\n",
       "    <tr>\n",
       "      <th>18</th>\n",
       "      <td>5.7</td>\n",
       "      <td>3.8</td>\n",
       "      <td>1.7</td>\n",
       "      <td>0.3</td>\n",
       "      <td>Iris-setosa</td>\n",
       "    </tr>\n",
       "  </tbody>\n",
       "</table>\n",
       "</div>"
      ],
      "text/plain": [
       "    sepal_length  sepal_width  petal_length  petal_width       flower\n",
       "14           5.8          4.0           1.2          0.2  Iris-setosa\n",
       "15           5.7          4.4           1.5          0.4  Iris-setosa\n",
       "18           5.7          3.8           1.7          0.3  Iris-setosa"
      ]
     },
     "execution_count": 11,
     "metadata": {},
     "output_type": "execute_result"
    }
   ],
   "source": [
    "csv[(csv['sepal_length']>5.5) & (csv['flower']=='Iris-setosa')]"
   ]
  },
  {
   "cell_type": "code",
   "execution_count": null,
   "metadata": {},
   "outputs": [],
   "source": []
  },
  {
   "cell_type": "code",
   "execution_count": 7,
   "metadata": {},
   "outputs": [
    {
     "data": {
      "text/plain": [
       "(150, 5)"
      ]
     },
     "execution_count": 7,
     "metadata": {},
     "output_type": "execute_result"
    }
   ],
   "source": [
    "csv.shape"
   ]
  },
  {
   "cell_type": "markdown",
   "metadata": {},
   "source": [
    "# Handling CSV file\n",
    "- Syntax: csv_file = pandas.read_csv(fileName)\n",
    "- Above command will create a DataFrame and load data from file to it.\n",
    "\n",
    "#### What is CSV File\n",
    "###### A CSV is a comma separated values file which allows to store data in tabular format. That data includes numbers and text in plain text form. CSV is an extension of any file or spreadsheet .\n",
    "\n",
    "###### Advantages of CSV File\n",
    "1. Universally used\n",
    "2. Easy to read\n",
    "3. Easy to understand\n",
    "4. Quick to create"
   ]
  },
  {
   "cell_type": "code",
   "execution_count": null,
   "metadata": {},
   "outputs": [],
   "source": []
  },
  {
   "cell_type": "code",
   "execution_count": null,
   "metadata": {},
   "outputs": [],
   "source": [
    "#Handling Missing Data\n",
    "import pandas as pds\n",
    "myfile=pds.read_table(\"d:\\\\MLDataSet\\\\myTips.csv\",delimiter=',',nrows=40)\n",
    "df=pds.DataFrame(myfile)\n",
    "#df.dropna(axis=1,inplace=True)\n",
    "df.dropna(inplace=True)\n",
    "print(df)\n"
   ]
  },
  {
   "cell_type": "code",
   "execution_count": 10,
   "metadata": {},
   "outputs": [
    {
     "name": "stdout",
     "output_type": "stream",
     "text": [
      "     sepal.length  sepal.width  petal.length  petal.width    variety\n",
      "0             NaN          3.0           1.4          1.9     Setosa\n",
      "1             4.9          3.0           1.5          0.2     Setosa\n",
      "2             4.7          3.2           NaN          0.2     Setosa\n",
      "3             4.6          3.1           1.5          0.2     Setosa\n",
      "4             5.0          3.6           1.4          NaN     Setosa\n",
      "..            ...          ...           ...          ...        ...\n",
      "145           NaN          NaN           5.2          2.3  Virginica\n",
      "146           6.3          2.5           5.0          1.9  Virginica\n",
      "147           6.5          3.0           5.2          2.0  Virginica\n",
      "148           NaN          3.4           5.4          NaN  Virginica\n",
      "149           5.9          NaN           NaN          1.8  Virginica\n",
      "\n",
      "[150 rows x 5 columns]\n"
     ]
    }
   ],
   "source": [
    "import pandas as pds\n",
    "df=pds.read_csv(\"d:\\\\MLDataSet\\\\iris.csv\")\n",
    "#df=pds.DataFrame(myfile)\n",
    "# Use fillna of complete Dataframe  \n",
    "# value function will be applied on every column \n",
    "print(df)\n"
   ]
  },
  {
   "cell_type": "code",
   "execution_count": null,
   "metadata": {},
   "outputs": [],
   "source": []
  },
  {
   "cell_type": "code",
   "execution_count": 11,
   "metadata": {},
   "outputs": [
    {
     "name": "stdout",
     "output_type": "stream",
     "text": [
      "filling null with mean\n",
      "     sepal.length  sepal.width  petal.length  petal.width    variety\n",
      "0         5.84964     3.000000      1.400000     1.900000     Setosa\n",
      "1         4.90000     3.000000      1.500000     0.200000     Setosa\n",
      "2         4.70000     3.200000      3.719858     0.200000     Setosa\n",
      "3         4.60000     3.100000      1.500000     0.200000     Setosa\n",
      "4         5.00000     3.600000      1.400000     1.182857     Setosa\n",
      "..            ...          ...           ...          ...        ...\n",
      "145       5.84964     3.060432      5.200000     2.300000  Virginica\n",
      "146       6.30000     2.500000      5.000000     1.900000  Virginica\n",
      "147       6.50000     3.000000      5.200000     2.000000  Virginica\n",
      "148       5.84964     3.400000      5.400000     1.182857  Virginica\n",
      "149       5.90000     3.060432      3.719858     1.800000  Virginica\n",
      "\n",
      "[150 rows x 5 columns]\n"
     ]
    },
    {
     "name": "stderr",
     "output_type": "stream",
     "text": [
      "C:\\Users\\Pankaj Agarwal\\AppData\\Local\\Temp\\ipykernel_5928\\2455543134.py:1: FutureWarning: Dropping of nuisance columns in DataFrame reductions (with 'numeric_only=None') is deprecated; in a future version this will raise TypeError.  Select only valid columns before calling the reduction.\n",
      "  df.fillna(value = df.mean(), inplace = True)\n"
     ]
    }
   ],
   "source": [
    "df.fillna(value = df.mean(), inplace = True) \n",
    "print(\"filling null with mean\")\n",
    "print(df) \n"
   ]
  },
  {
   "cell_type": "code",
   "execution_count": null,
   "metadata": {},
   "outputs": [],
   "source": [
    "# filling value of one column \n",
    "df['Size'].fillna(value = df['Size'].mean(),inplace = True)\n",
    "print(\"for single column\")\n",
    "print(df)"
   ]
  },
  {
   "cell_type": "code",
   "execution_count": null,
   "metadata": {},
   "outputs": [],
   "source": [
    "#Skipping rows with indexing\n",
    "#if you want to read only few lines then give required number of lines to nrows.\n",
    "import pandas as p\n",
    "myread=p.read_table(\"f:\\\\Tips.csv\",delimiter=',',skiprows=90,nrows=10)\n",
    "print(myread)"
   ]
  },
  {
   "cell_type": "code",
   "execution_count": null,
   "metadata": {},
   "outputs": [],
   "source": [
    "#If you want to skip lines from bottom of file then give required number of lines to skipfooter.\n",
    "import pandas as p\n",
    "myread=p.read_table(\"f:\\\\Tips.csv\",delimiter=',',engine='python',skipfooter=75)\n",
    "print(myread)"
   ]
  },
  {
   "cell_type": "code",
   "execution_count": null,
   "metadata": {},
   "outputs": [],
   "source": [
    "#Row number(s) to use as the column names, and the start of the data occurs after the last row number given in header.\n",
    "import pandas as p\n",
    "myread=p.read_table(\"f:\\\\Tips.csv\",delimiter=',',index_col=0,header=[1,3,5])\n",
    "print(myread)"
   ]
  },
  {
   "cell_type": "code",
   "execution_count": null,
   "metadata": {},
   "outputs": [],
   "source": [
    "import pandas as pd\n",
    "myCSV = pd.read_table(\"f:\\\\iris.csv\",delimiter=',',skiprows=4,index_col=0)\n",
    "#mydata=myCSV.columns=['SEPAL LENGTH','SEPAL WIDTH','PETAL LENGTH','SEPAL WIDTH','CLASS']\n",
    "print(myCSV)\n"
   ]
  },
  {
   "cell_type": "code",
   "execution_count": null,
   "metadata": {},
   "outputs": [],
   "source": [
    "import pandas as pd\n",
    "print(pd.Series([1., 2., 3.]) )\n",
    "print(pd.Series([1., 2., 3.], index=['a', 'b', 'c']))\n"
   ]
  },
  {
   "cell_type": "code",
   "execution_count": null,
   "metadata": {},
   "outputs": [],
   "source": [
    "import numpy as np\n",
    "import pandas as pd\n",
    "dt=pd.Series(['John','David','Smith','steve'],index=['a','b','c','d'])\n",
    "print(dt)\n",
    "nan=pd.Series([1,2,np.nan])\n",
    "print(nan)\n"
   ]
  },
  {
   "cell_type": "code",
   "execution_count": null,
   "metadata": {},
   "outputs": [],
   "source": [
    "data=[[1,2,3,4],[5,6,7,8]]\n",
    "print(data)\n",
    "DF=pd.DataFrame(data)\n",
    "print(DF)\n",
    "ar=np.array(DF)\n",
    "print(ar)"
   ]
  },
  {
   "cell_type": "code",
   "execution_count": null,
   "metadata": {},
   "outputs": [],
   "source": [
    "dic = {'Name': [\"John\", \"Smith\"], 'Age': [30, 40]}\n",
    "mydata=pd.DataFrame(data=dic)\n",
    "print(mydata)\n",
    "mydata.head(1)\n",
    "mydata.describe()"
   ]
  },
  {
   "cell_type": "code",
   "execution_count": null,
   "metadata": {},
   "outputs": [],
   "source": [
    "dates = pd.date_range('20300101', periods=6, freq='D')\n",
    "print('Day:', dates)"
   ]
  },
  {
   "cell_type": "code",
   "execution_count": null,
   "metadata": {},
   "outputs": [],
   "source": [
    "mydata[['Name','Age']]"
   ]
  },
  {
   "cell_type": "code",
   "execution_count": null,
   "metadata": {},
   "outputs": [],
   "source": [
    "mydata[0:2]"
   ]
  },
  {
   "cell_type": "code",
   "execution_count": 23,
   "metadata": {},
   "outputs": [
    {
     "data": {
      "text/html": [
       "<div>\n",
       "<style scoped>\n",
       "    .dataframe tbody tr th:only-of-type {\n",
       "        vertical-align: middle;\n",
       "    }\n",
       "\n",
       "    .dataframe tbody tr th {\n",
       "        vertical-align: top;\n",
       "    }\n",
       "\n",
       "    .dataframe thead th {\n",
       "        text-align: right;\n",
       "    }\n",
       "</style>\n",
       "<table border=\"1\" class=\"dataframe\">\n",
       "  <thead>\n",
       "    <tr style=\"text-align: right;\">\n",
       "      <th></th>\n",
       "      <th>sepal.length</th>\n",
       "      <th>sepal.width</th>\n",
       "      <th>petal.length</th>\n",
       "      <th>petal.width</th>\n",
       "      <th>variety</th>\n",
       "    </tr>\n",
       "  </thead>\n",
       "  <tbody>\n",
       "    <tr>\n",
       "      <th>8</th>\n",
       "      <td>6.8</td>\n",
       "      <td>2.900000</td>\n",
       "      <td>1.400000</td>\n",
       "      <td>0.200000</td>\n",
       "      <td>Setosa</td>\n",
       "    </tr>\n",
       "    <tr>\n",
       "      <th>50</th>\n",
       "      <td>7.0</td>\n",
       "      <td>3.200000</td>\n",
       "      <td>4.700000</td>\n",
       "      <td>1.400000</td>\n",
       "      <td>Versicolor</td>\n",
       "    </tr>\n",
       "    <tr>\n",
       "      <th>51</th>\n",
       "      <td>6.4</td>\n",
       "      <td>3.200000</td>\n",
       "      <td>5.400000</td>\n",
       "      <td>1.500000</td>\n",
       "      <td>Versicolor</td>\n",
       "    </tr>\n",
       "    <tr>\n",
       "      <th>52</th>\n",
       "      <td>6.9</td>\n",
       "      <td>3.100000</td>\n",
       "      <td>4.900000</td>\n",
       "      <td>1.500000</td>\n",
       "      <td>Versicolor</td>\n",
       "    </tr>\n",
       "    <tr>\n",
       "      <th>54</th>\n",
       "      <td>6.5</td>\n",
       "      <td>2.800000</td>\n",
       "      <td>3.600000</td>\n",
       "      <td>1.500000</td>\n",
       "      <td>Versicolor</td>\n",
       "    </tr>\n",
       "    <tr>\n",
       "      <th>56</th>\n",
       "      <td>6.3</td>\n",
       "      <td>3.300000</td>\n",
       "      <td>4.700000</td>\n",
       "      <td>1.600000</td>\n",
       "      <td>Versicolor</td>\n",
       "    </tr>\n",
       "    <tr>\n",
       "      <th>58</th>\n",
       "      <td>6.6</td>\n",
       "      <td>2.900000</td>\n",
       "      <td>4.600000</td>\n",
       "      <td>1.300000</td>\n",
       "      <td>Versicolor</td>\n",
       "    </tr>\n",
       "    <tr>\n",
       "      <th>63</th>\n",
       "      <td>6.1</td>\n",
       "      <td>2.900000</td>\n",
       "      <td>4.700000</td>\n",
       "      <td>1.400000</td>\n",
       "      <td>Versicolor</td>\n",
       "    </tr>\n",
       "    <tr>\n",
       "      <th>65</th>\n",
       "      <td>6.7</td>\n",
       "      <td>3.100000</td>\n",
       "      <td>4.400000</td>\n",
       "      <td>1.400000</td>\n",
       "      <td>Versicolor</td>\n",
       "    </tr>\n",
       "    <tr>\n",
       "      <th>68</th>\n",
       "      <td>6.2</td>\n",
       "      <td>2.200000</td>\n",
       "      <td>4.900000</td>\n",
       "      <td>1.500000</td>\n",
       "      <td>Versicolor</td>\n",
       "    </tr>\n",
       "    <tr>\n",
       "      <th>69</th>\n",
       "      <td>6.9</td>\n",
       "      <td>2.500000</td>\n",
       "      <td>3.900000</td>\n",
       "      <td>1.100000</td>\n",
       "      <td>Versicolor</td>\n",
       "    </tr>\n",
       "    <tr>\n",
       "      <th>71</th>\n",
       "      <td>6.1</td>\n",
       "      <td>3.800000</td>\n",
       "      <td>4.000000</td>\n",
       "      <td>1.300000</td>\n",
       "      <td>Versicolor</td>\n",
       "    </tr>\n",
       "    <tr>\n",
       "      <th>72</th>\n",
       "      <td>6.3</td>\n",
       "      <td>2.500000</td>\n",
       "      <td>4.900000</td>\n",
       "      <td>1.500000</td>\n",
       "      <td>Versicolor</td>\n",
       "    </tr>\n",
       "    <tr>\n",
       "      <th>73</th>\n",
       "      <td>6.1</td>\n",
       "      <td>2.800000</td>\n",
       "      <td>4.700000</td>\n",
       "      <td>1.200000</td>\n",
       "      <td>Versicolor</td>\n",
       "    </tr>\n",
       "    <tr>\n",
       "      <th>74</th>\n",
       "      <td>6.4</td>\n",
       "      <td>2.900000</td>\n",
       "      <td>4.300000</td>\n",
       "      <td>1.300000</td>\n",
       "      <td>Versicolor</td>\n",
       "    </tr>\n",
       "    <tr>\n",
       "      <th>75</th>\n",
       "      <td>6.6</td>\n",
       "      <td>3.000000</td>\n",
       "      <td>4.400000</td>\n",
       "      <td>1.400000</td>\n",
       "      <td>Versicolor</td>\n",
       "    </tr>\n",
       "    <tr>\n",
       "      <th>76</th>\n",
       "      <td>6.8</td>\n",
       "      <td>2.800000</td>\n",
       "      <td>4.800000</td>\n",
       "      <td>1.400000</td>\n",
       "      <td>Versicolor</td>\n",
       "    </tr>\n",
       "    <tr>\n",
       "      <th>77</th>\n",
       "      <td>6.7</td>\n",
       "      <td>3.000000</td>\n",
       "      <td>5.000000</td>\n",
       "      <td>1.700000</td>\n",
       "      <td>Versicolor</td>\n",
       "    </tr>\n",
       "    <tr>\n",
       "      <th>82</th>\n",
       "      <td>6.8</td>\n",
       "      <td>2.700000</td>\n",
       "      <td>4.200000</td>\n",
       "      <td>1.200000</td>\n",
       "      <td>Versicolor</td>\n",
       "    </tr>\n",
       "    <tr>\n",
       "      <th>86</th>\n",
       "      <td>6.7</td>\n",
       "      <td>3.100000</td>\n",
       "      <td>4.700000</td>\n",
       "      <td>1.500000</td>\n",
       "      <td>Versicolor</td>\n",
       "    </tr>\n",
       "    <tr>\n",
       "      <th>87</th>\n",
       "      <td>6.3</td>\n",
       "      <td>2.300000</td>\n",
       "      <td>4.400000</td>\n",
       "      <td>1.300000</td>\n",
       "      <td>Versicolor</td>\n",
       "    </tr>\n",
       "    <tr>\n",
       "      <th>91</th>\n",
       "      <td>6.1</td>\n",
       "      <td>3.000000</td>\n",
       "      <td>4.600000</td>\n",
       "      <td>1.400000</td>\n",
       "      <td>Versicolor</td>\n",
       "    </tr>\n",
       "    <tr>\n",
       "      <th>97</th>\n",
       "      <td>6.2</td>\n",
       "      <td>3.060432</td>\n",
       "      <td>4.300000</td>\n",
       "      <td>1.300000</td>\n",
       "      <td>Versicolor</td>\n",
       "    </tr>\n",
       "    <tr>\n",
       "      <th>100</th>\n",
       "      <td>6.3</td>\n",
       "      <td>3.300000</td>\n",
       "      <td>3.719858</td>\n",
       "      <td>2.500000</td>\n",
       "      <td>Virginica</td>\n",
       "    </tr>\n",
       "    <tr>\n",
       "      <th>102</th>\n",
       "      <td>7.1</td>\n",
       "      <td>3.000000</td>\n",
       "      <td>5.900000</td>\n",
       "      <td>2.100000</td>\n",
       "      <td>Virginica</td>\n",
       "    </tr>\n",
       "    <tr>\n",
       "      <th>104</th>\n",
       "      <td>6.5</td>\n",
       "      <td>3.000000</td>\n",
       "      <td>5.800000</td>\n",
       "      <td>2.200000</td>\n",
       "      <td>Virginica</td>\n",
       "    </tr>\n",
       "    <tr>\n",
       "      <th>105</th>\n",
       "      <td>7.6</td>\n",
       "      <td>3.000000</td>\n",
       "      <td>6.600000</td>\n",
       "      <td>2.100000</td>\n",
       "      <td>Virginica</td>\n",
       "    </tr>\n",
       "    <tr>\n",
       "      <th>107</th>\n",
       "      <td>7.3</td>\n",
       "      <td>2.900000</td>\n",
       "      <td>6.300000</td>\n",
       "      <td>1.800000</td>\n",
       "      <td>Virginica</td>\n",
       "    </tr>\n",
       "    <tr>\n",
       "      <th>108</th>\n",
       "      <td>6.7</td>\n",
       "      <td>2.500000</td>\n",
       "      <td>5.800000</td>\n",
       "      <td>1.800000</td>\n",
       "      <td>Virginica</td>\n",
       "    </tr>\n",
       "    <tr>\n",
       "      <th>110</th>\n",
       "      <td>6.5</td>\n",
       "      <td>3.200000</td>\n",
       "      <td>5.100000</td>\n",
       "      <td>2.000000</td>\n",
       "      <td>Virginica</td>\n",
       "    </tr>\n",
       "    <tr>\n",
       "      <th>111</th>\n",
       "      <td>6.4</td>\n",
       "      <td>2.700000</td>\n",
       "      <td>5.300000</td>\n",
       "      <td>1.182857</td>\n",
       "      <td>Virginica</td>\n",
       "    </tr>\n",
       "    <tr>\n",
       "      <th>112</th>\n",
       "      <td>6.8</td>\n",
       "      <td>3.000000</td>\n",
       "      <td>5.500000</td>\n",
       "      <td>2.100000</td>\n",
       "      <td>Virginica</td>\n",
       "    </tr>\n",
       "    <tr>\n",
       "      <th>115</th>\n",
       "      <td>6.4</td>\n",
       "      <td>3.200000</td>\n",
       "      <td>5.300000</td>\n",
       "      <td>2.300000</td>\n",
       "      <td>Virginica</td>\n",
       "    </tr>\n",
       "    <tr>\n",
       "      <th>116</th>\n",
       "      <td>6.5</td>\n",
       "      <td>3.000000</td>\n",
       "      <td>5.500000</td>\n",
       "      <td>1.800000</td>\n",
       "      <td>Virginica</td>\n",
       "    </tr>\n",
       "    <tr>\n",
       "      <th>117</th>\n",
       "      <td>7.7</td>\n",
       "      <td>3.800000</td>\n",
       "      <td>6.700000</td>\n",
       "      <td>2.200000</td>\n",
       "      <td>Virginica</td>\n",
       "    </tr>\n",
       "    <tr>\n",
       "      <th>118</th>\n",
       "      <td>7.7</td>\n",
       "      <td>2.600000</td>\n",
       "      <td>6.900000</td>\n",
       "      <td>2.300000</td>\n",
       "      <td>Virginica</td>\n",
       "    </tr>\n",
       "    <tr>\n",
       "      <th>120</th>\n",
       "      <td>6.9</td>\n",
       "      <td>3.200000</td>\n",
       "      <td>5.700000</td>\n",
       "      <td>2.300000</td>\n",
       "      <td>Virginica</td>\n",
       "    </tr>\n",
       "    <tr>\n",
       "      <th>122</th>\n",
       "      <td>7.7</td>\n",
       "      <td>2.800000</td>\n",
       "      <td>6.700000</td>\n",
       "      <td>2.000000</td>\n",
       "      <td>Virginica</td>\n",
       "    </tr>\n",
       "    <tr>\n",
       "      <th>123</th>\n",
       "      <td>6.3</td>\n",
       "      <td>2.700000</td>\n",
       "      <td>4.900000</td>\n",
       "      <td>1.182857</td>\n",
       "      <td>Virginica</td>\n",
       "    </tr>\n",
       "    <tr>\n",
       "      <th>124</th>\n",
       "      <td>6.7</td>\n",
       "      <td>3.060432</td>\n",
       "      <td>5.700000</td>\n",
       "      <td>2.100000</td>\n",
       "      <td>Virginica</td>\n",
       "    </tr>\n",
       "    <tr>\n",
       "      <th>125</th>\n",
       "      <td>7.2</td>\n",
       "      <td>3.200000</td>\n",
       "      <td>3.719858</td>\n",
       "      <td>1.800000</td>\n",
       "      <td>Virginica</td>\n",
       "    </tr>\n",
       "    <tr>\n",
       "      <th>127</th>\n",
       "      <td>6.1</td>\n",
       "      <td>3.000000</td>\n",
       "      <td>4.900000</td>\n",
       "      <td>1.800000</td>\n",
       "      <td>Virginica</td>\n",
       "    </tr>\n",
       "    <tr>\n",
       "      <th>128</th>\n",
       "      <td>6.4</td>\n",
       "      <td>2.800000</td>\n",
       "      <td>5.600000</td>\n",
       "      <td>2.100000</td>\n",
       "      <td>Virginica</td>\n",
       "    </tr>\n",
       "    <tr>\n",
       "      <th>129</th>\n",
       "      <td>7.2</td>\n",
       "      <td>3.000000</td>\n",
       "      <td>5.800000</td>\n",
       "      <td>1.600000</td>\n",
       "      <td>Virginica</td>\n",
       "    </tr>\n",
       "    <tr>\n",
       "      <th>130</th>\n",
       "      <td>7.4</td>\n",
       "      <td>2.800000</td>\n",
       "      <td>6.100000</td>\n",
       "      <td>1.900000</td>\n",
       "      <td>Virginica</td>\n",
       "    </tr>\n",
       "    <tr>\n",
       "      <th>131</th>\n",
       "      <td>7.9</td>\n",
       "      <td>3.800000</td>\n",
       "      <td>6.400000</td>\n",
       "      <td>2.000000</td>\n",
       "      <td>Virginica</td>\n",
       "    </tr>\n",
       "    <tr>\n",
       "      <th>132</th>\n",
       "      <td>6.4</td>\n",
       "      <td>2.800000</td>\n",
       "      <td>5.600000</td>\n",
       "      <td>1.182857</td>\n",
       "      <td>Virginica</td>\n",
       "    </tr>\n",
       "    <tr>\n",
       "      <th>134</th>\n",
       "      <td>6.1</td>\n",
       "      <td>3.060432</td>\n",
       "      <td>5.600000</td>\n",
       "      <td>1.400000</td>\n",
       "      <td>Virginica</td>\n",
       "    </tr>\n",
       "    <tr>\n",
       "      <th>135</th>\n",
       "      <td>7.7</td>\n",
       "      <td>3.000000</td>\n",
       "      <td>3.719858</td>\n",
       "      <td>1.182857</td>\n",
       "      <td>Virginica</td>\n",
       "    </tr>\n",
       "    <tr>\n",
       "      <th>137</th>\n",
       "      <td>6.4</td>\n",
       "      <td>3.100000</td>\n",
       "      <td>5.500000</td>\n",
       "      <td>1.182857</td>\n",
       "      <td>Virginica</td>\n",
       "    </tr>\n",
       "    <tr>\n",
       "      <th>139</th>\n",
       "      <td>6.9</td>\n",
       "      <td>3.100000</td>\n",
       "      <td>5.400000</td>\n",
       "      <td>2.100000</td>\n",
       "      <td>Virginica</td>\n",
       "    </tr>\n",
       "    <tr>\n",
       "      <th>141</th>\n",
       "      <td>6.9</td>\n",
       "      <td>3.060432</td>\n",
       "      <td>5.100000</td>\n",
       "      <td>2.300000</td>\n",
       "      <td>Virginica</td>\n",
       "    </tr>\n",
       "    <tr>\n",
       "      <th>143</th>\n",
       "      <td>6.8</td>\n",
       "      <td>3.200000</td>\n",
       "      <td>3.719858</td>\n",
       "      <td>1.182857</td>\n",
       "      <td>Virginica</td>\n",
       "    </tr>\n",
       "    <tr>\n",
       "      <th>144</th>\n",
       "      <td>6.7</td>\n",
       "      <td>3.060432</td>\n",
       "      <td>5.700000</td>\n",
       "      <td>2.500000</td>\n",
       "      <td>Virginica</td>\n",
       "    </tr>\n",
       "    <tr>\n",
       "      <th>146</th>\n",
       "      <td>6.3</td>\n",
       "      <td>2.500000</td>\n",
       "      <td>5.000000</td>\n",
       "      <td>1.900000</td>\n",
       "      <td>Virginica</td>\n",
       "    </tr>\n",
       "    <tr>\n",
       "      <th>147</th>\n",
       "      <td>6.5</td>\n",
       "      <td>3.000000</td>\n",
       "      <td>5.200000</td>\n",
       "      <td>2.000000</td>\n",
       "      <td>Virginica</td>\n",
       "    </tr>\n",
       "  </tbody>\n",
       "</table>\n",
       "</div>"
      ],
      "text/plain": [
       "     sepal.length  sepal.width  petal.length  petal.width     variety\n",
       "8             6.8     2.900000      1.400000     0.200000      Setosa\n",
       "50            7.0     3.200000      4.700000     1.400000  Versicolor\n",
       "51            6.4     3.200000      5.400000     1.500000  Versicolor\n",
       "52            6.9     3.100000      4.900000     1.500000  Versicolor\n",
       "54            6.5     2.800000      3.600000     1.500000  Versicolor\n",
       "56            6.3     3.300000      4.700000     1.600000  Versicolor\n",
       "58            6.6     2.900000      4.600000     1.300000  Versicolor\n",
       "63            6.1     2.900000      4.700000     1.400000  Versicolor\n",
       "65            6.7     3.100000      4.400000     1.400000  Versicolor\n",
       "68            6.2     2.200000      4.900000     1.500000  Versicolor\n",
       "69            6.9     2.500000      3.900000     1.100000  Versicolor\n",
       "71            6.1     3.800000      4.000000     1.300000  Versicolor\n",
       "72            6.3     2.500000      4.900000     1.500000  Versicolor\n",
       "73            6.1     2.800000      4.700000     1.200000  Versicolor\n",
       "74            6.4     2.900000      4.300000     1.300000  Versicolor\n",
       "75            6.6     3.000000      4.400000     1.400000  Versicolor\n",
       "76            6.8     2.800000      4.800000     1.400000  Versicolor\n",
       "77            6.7     3.000000      5.000000     1.700000  Versicolor\n",
       "82            6.8     2.700000      4.200000     1.200000  Versicolor\n",
       "86            6.7     3.100000      4.700000     1.500000  Versicolor\n",
       "87            6.3     2.300000      4.400000     1.300000  Versicolor\n",
       "91            6.1     3.000000      4.600000     1.400000  Versicolor\n",
       "97            6.2     3.060432      4.300000     1.300000  Versicolor\n",
       "100           6.3     3.300000      3.719858     2.500000   Virginica\n",
       "102           7.1     3.000000      5.900000     2.100000   Virginica\n",
       "104           6.5     3.000000      5.800000     2.200000   Virginica\n",
       "105           7.6     3.000000      6.600000     2.100000   Virginica\n",
       "107           7.3     2.900000      6.300000     1.800000   Virginica\n",
       "108           6.7     2.500000      5.800000     1.800000   Virginica\n",
       "110           6.5     3.200000      5.100000     2.000000   Virginica\n",
       "111           6.4     2.700000      5.300000     1.182857   Virginica\n",
       "112           6.8     3.000000      5.500000     2.100000   Virginica\n",
       "115           6.4     3.200000      5.300000     2.300000   Virginica\n",
       "116           6.5     3.000000      5.500000     1.800000   Virginica\n",
       "117           7.7     3.800000      6.700000     2.200000   Virginica\n",
       "118           7.7     2.600000      6.900000     2.300000   Virginica\n",
       "120           6.9     3.200000      5.700000     2.300000   Virginica\n",
       "122           7.7     2.800000      6.700000     2.000000   Virginica\n",
       "123           6.3     2.700000      4.900000     1.182857   Virginica\n",
       "124           6.7     3.060432      5.700000     2.100000   Virginica\n",
       "125           7.2     3.200000      3.719858     1.800000   Virginica\n",
       "127           6.1     3.000000      4.900000     1.800000   Virginica\n",
       "128           6.4     2.800000      5.600000     2.100000   Virginica\n",
       "129           7.2     3.000000      5.800000     1.600000   Virginica\n",
       "130           7.4     2.800000      6.100000     1.900000   Virginica\n",
       "131           7.9     3.800000      6.400000     2.000000   Virginica\n",
       "132           6.4     2.800000      5.600000     1.182857   Virginica\n",
       "134           6.1     3.060432      5.600000     1.400000   Virginica\n",
       "135           7.7     3.000000      3.719858     1.182857   Virginica\n",
       "137           6.4     3.100000      5.500000     1.182857   Virginica\n",
       "139           6.9     3.100000      5.400000     2.100000   Virginica\n",
       "141           6.9     3.060432      5.100000     2.300000   Virginica\n",
       "143           6.8     3.200000      3.719858     1.182857   Virginica\n",
       "144           6.7     3.060432      5.700000     2.500000   Virginica\n",
       "146           6.3     2.500000      5.000000     1.900000   Virginica\n",
       "147           6.5     3.000000      5.200000     2.000000   Virginica"
      ]
     },
     "execution_count": 23,
     "metadata": {},
     "output_type": "execute_result"
    }
   ],
   "source": [
    "df[(df['sepal.length']>6.0) df['variety']=='Versicolor']"
   ]
  },
  {
   "cell_type": "code",
   "execution_count": 24,
   "metadata": {},
   "outputs": [
    {
     "data": {
      "text/plain": [
       "Index(['sepal.length', 'sepal.width', 'petal.length', 'petal.width',\n",
       "       'variety'],\n",
       "      dtype='object')"
      ]
     },
     "execution_count": 24,
     "metadata": {},
     "output_type": "execute_result"
    }
   ],
   "source": [
    "df.columns"
   ]
  },
  {
   "cell_type": "code",
   "execution_count": 21,
   "metadata": {},
   "outputs": [
    {
     "data": {
      "text/html": [
       "<div>\n",
       "<style scoped>\n",
       "    .dataframe tbody tr th:only-of-type {\n",
       "        vertical-align: middle;\n",
       "    }\n",
       "\n",
       "    .dataframe tbody tr th {\n",
       "        vertical-align: top;\n",
       "    }\n",
       "\n",
       "    .dataframe thead th {\n",
       "        text-align: right;\n",
       "    }\n",
       "</style>\n",
       "<table border=\"1\" class=\"dataframe\">\n",
       "  <thead>\n",
       "    <tr style=\"text-align: right;\">\n",
       "      <th></th>\n",
       "      <th>sepal.length</th>\n",
       "      <th>variety</th>\n",
       "    </tr>\n",
       "  </thead>\n",
       "  <tbody>\n",
       "    <tr>\n",
       "      <th>0</th>\n",
       "      <td>5.84964</td>\n",
       "      <td>Setosa</td>\n",
       "    </tr>\n",
       "    <tr>\n",
       "      <th>1</th>\n",
       "      <td>4.90000</td>\n",
       "      <td>Setosa</td>\n",
       "    </tr>\n",
       "    <tr>\n",
       "      <th>2</th>\n",
       "      <td>4.70000</td>\n",
       "      <td>Setosa</td>\n",
       "    </tr>\n",
       "    <tr>\n",
       "      <th>3</th>\n",
       "      <td>4.60000</td>\n",
       "      <td>Setosa</td>\n",
       "    </tr>\n",
       "    <tr>\n",
       "      <th>4</th>\n",
       "      <td>5.00000</td>\n",
       "      <td>Setosa</td>\n",
       "    </tr>\n",
       "    <tr>\n",
       "      <th>...</th>\n",
       "      <td>...</td>\n",
       "      <td>...</td>\n",
       "    </tr>\n",
       "    <tr>\n",
       "      <th>145</th>\n",
       "      <td>5.84964</td>\n",
       "      <td>Virginica</td>\n",
       "    </tr>\n",
       "    <tr>\n",
       "      <th>146</th>\n",
       "      <td>6.30000</td>\n",
       "      <td>Virginica</td>\n",
       "    </tr>\n",
       "    <tr>\n",
       "      <th>147</th>\n",
       "      <td>6.50000</td>\n",
       "      <td>Virginica</td>\n",
       "    </tr>\n",
       "    <tr>\n",
       "      <th>148</th>\n",
       "      <td>5.84964</td>\n",
       "      <td>Virginica</td>\n",
       "    </tr>\n",
       "    <tr>\n",
       "      <th>149</th>\n",
       "      <td>5.90000</td>\n",
       "      <td>Virginica</td>\n",
       "    </tr>\n",
       "  </tbody>\n",
       "</table>\n",
       "<p>150 rows × 2 columns</p>\n",
       "</div>"
      ],
      "text/plain": [
       "     sepal.length    variety\n",
       "0         5.84964     Setosa\n",
       "1         4.90000     Setosa\n",
       "2         4.70000     Setosa\n",
       "3         4.60000     Setosa\n",
       "4         5.00000     Setosa\n",
       "..            ...        ...\n",
       "145       5.84964  Virginica\n",
       "146       6.30000  Virginica\n",
       "147       6.50000  Virginica\n",
       "148       5.84964  Virginica\n",
       "149       5.90000  Virginica\n",
       "\n",
       "[150 rows x 2 columns]"
      ]
     },
     "execution_count": 21,
     "metadata": {},
     "output_type": "execute_result"
    }
   ],
   "source": [
    "df.loc[:,['sepal.length','variety']]"
   ]
  },
  {
   "cell_type": "code",
   "execution_count": null,
   "metadata": {},
   "outputs": [],
   "source": [
    "# The loc function is used to select columns by names. \n",
    "#the values before the coma stand for the rows and after refer to the column\n",
    "mydata.loc[:,['Name','Age']]\n",
    "mydata.iloc[:,0:2]\n"
   ]
  },
  {
   "cell_type": "code",
   "execution_count": null,
   "metadata": {},
   "outputs": [],
   "source": [
    "import pandas as p\n",
    "df=p.read_table(\"d:\\\\MLDataSet\\\\Tips.csv\",delimiter=',')\n",
    "print(df)\n",
    "#df.loc[5:,['Day','Time']]\n",
    "myday=df.loc[df['Day']=='Sun']\n",
    "print(myday)"
   ]
  },
  {
   "cell_type": "code",
   "execution_count": null,
   "metadata": {},
   "outputs": [],
   "source": [
    "import pandas as p\n",
    "df=p.read_table(\"d:\\\\MLDataSet\\\\Tips.csv\",delimiter=',')\n",
    "#print(df)\n",
    "mytips=df.loc[df['Tips']>5]\n",
    "print(mytips)"
   ]
  },
  {
   "cell_type": "code",
   "execution_count": 1,
   "metadata": {},
   "outputs": [
    {
     "name": "stdout",
     "output_type": "stream",
     "text": [
      "    SINO  TotalBill  Tips Smoker  Day    Time  Size\n",
      "5      6      25.29  4.71     No  Sun  Dinner   4.0\n",
      "11    12      35.26  5.00     No  Sun  Dinner   4.0\n",
      "44    45      30.40  5.60     No  Sun  Dinner   4.0\n",
      "46    47      22.23  5.00     No  Sun  Dinner   2.0\n",
      "47    48      32.40  6.00     No  Sun  Dinner   4.0\n",
      "52    53      34.81  5.20     No  Sun  Dinner   4.0\n",
      "54    55      25.56  4.34     No  Sun  Dinner   4.0\n"
     ]
    }
   ],
   "source": [
    "import pandas as p\n",
    "df=p.read_table(\"d:\\\\MLDataSet\\\\Tips.csv\",delimiter=',')\n",
    "#print(df)\n",
    "mytips=df.loc[(df['Tips']>4) & (df['Day']=='Sun')]\n",
    "print(mytips)"
   ]
  },
  {
   "cell_type": "code",
   "execution_count": null,
   "metadata": {},
   "outputs": [],
   "source": [
    "import pandas as p\n",
    "df=p.read_table(\"d:\\\\MLDataSet\\\\Tips.csv\",delimiter=',')\n",
    "print(df)"
   ]
  },
  {
   "cell_type": "code",
   "execution_count": null,
   "metadata": {},
   "outputs": [],
   "source": [
    "df[df['Smoker']=='Yes']"
   ]
  },
  {
   "cell_type": "code",
   "execution_count": null,
   "metadata": {},
   "outputs": [],
   "source": [
    "df[df['TotalBill']>30]"
   ]
  },
  {
   "cell_type": "code",
   "execution_count": null,
   "metadata": {},
   "outputs": [],
   "source": [
    "df[(df['TotalBill']>30) & (df['Day']=='Sun')]"
   ]
  },
  {
   "cell_type": "code",
   "execution_count": null,
   "metadata": {},
   "outputs": [],
   "source": [
    "df[(df['TotalBill']>30) | (df['Day']=='Sun')]"
   ]
  },
  {
   "cell_type": "code",
   "execution_count": null,
   "metadata": {},
   "outputs": [],
   "source": [
    "df['TotalBill'].max()"
   ]
  },
  {
   "cell_type": "code",
   "execution_count": null,
   "metadata": {},
   "outputs": [],
   "source": [
    "df.describe()"
   ]
  },
  {
   "cell_type": "code",
   "execution_count": null,
   "metadata": {},
   "outputs": [],
   "source": [
    "df.info()"
   ]
  },
  {
   "cell_type": "markdown",
   "metadata": {},
   "source": [
    "# Pandas Append() Function"
   ]
  },
  {
   "cell_type": "code",
   "execution_count": null,
   "metadata": {},
   "outputs": [],
   "source": [
    "df1 = pd.DataFrame({\"a\":[1, 2, 3, 4], \n",
    "                         \"b\":[5, 6, 7, 8]}) \n",
    "  \n",
    "# Creating the Second Dataframe using dictionary \n",
    "df2 = pd.DataFrame({\"a\":[1, 2, 3,4], \n",
    "                    \"b\":[5, 6, 7,10],\n",
    "                    \"C\":[10,20,30,40]}) "
   ]
  },
  {
   "cell_type": "code",
   "execution_count": null,
   "metadata": {},
   "outputs": [],
   "source": [
    "display(df1,df2)"
   ]
  },
  {
   "cell_type": "code",
   "execution_count": null,
   "metadata": {},
   "outputs": [],
   "source": [
    "df1.append(df2)"
   ]
  },
  {
   "cell_type": "markdown",
   "metadata": {},
   "source": [
    "### Pandas Join(), Merge(),Concat() Method\n",
    "-merge() for combining data on common columns or indices\n",
    "-join() for combining data on a key column or an index\n",
    "-concat() for combining DataFrames across rows or columns\n",
    "\n",
    "various forms of joins:\n",
    "\n",
    "1.inner\n",
    "2.outer\n",
    "3.left\n",
    "4.right"
   ]
  },
  {
   "attachments": {
    "join_diagram.webp": {
     "image/webp": "[encoded data removed]"
    }
   },
   "cell_type": "markdown",
   "metadata": {},
   "source": [
    "![join_diagram.webp](attachment:join_diagram.webp)"
   ]
  },
  {
   "cell_type": "code",
   "execution_count": 13,
   "metadata": {},
   "outputs": [],
   "source": [
    "import pandas as pd\n",
    "d1 = {\n",
    "        'id': ['1', '2', '3', '4', '5'],\n",
    "        'Feature1': ['A', 'C', 'E', 'G', 'I'],\n",
    "        'Feature2': ['B', 'D', 'F', 'H', 'J']}\n",
    "data1 = pd.DataFrame(d1, columns = ['id', 'Feature1', 'Feature2'])"
   ]
  },
  {
   "cell_type": "code",
   "execution_count": 6,
   "metadata": {},
   "outputs": [
    {
     "name": "stdout",
     "output_type": "stream",
     "text": [
      "  id Feature1 Feature2\n",
      "0  1        K        L\n",
      "1  2        M        N\n",
      "2  6        O        P\n",
      "3  7        Q        R\n",
      "4  8        S        T\n"
     ]
    }
   ],
   "source": [
    "d2 = {\n",
    "        'id': ['1', '2', '3', '7', '8'],\n",
    "        'Feature1': ['K', 'M', 'O', 'Q', 'S'],\n",
    "        'Feature2': ['L', 'N', 'P', 'R', 'T']}\n",
    "data2 = pd.DataFrame(d2, columns = ['id', 'Feature1', 'Feature2'])\n",
    "print(data2)"
   ]
  },
  {
   "cell_type": "code",
   "execution_count": 14,
   "metadata": {},
   "outputs": [
    {
     "data": {
      "text/html": [
       "<div>\n",
       "<style scoped>\n",
       "    .dataframe tbody tr th:only-of-type {\n",
       "        vertical-align: middle;\n",
       "    }\n",
       "\n",
       "    .dataframe tbody tr th {\n",
       "        vertical-align: top;\n",
       "    }\n",
       "\n",
       "    .dataframe thead th {\n",
       "        text-align: right;\n",
       "    }\n",
       "</style>\n",
       "<table border=\"1\" class=\"dataframe\">\n",
       "  <thead>\n",
       "    <tr style=\"text-align: right;\">\n",
       "      <th></th>\n",
       "      <th>id</th>\n",
       "      <th>Feature3</th>\n",
       "    </tr>\n",
       "  </thead>\n",
       "  <tbody>\n",
       "    <tr>\n",
       "      <th>0</th>\n",
       "      <td>1</td>\n",
       "      <td>12</td>\n",
       "    </tr>\n",
       "    <tr>\n",
       "      <th>1</th>\n",
       "      <td>2</td>\n",
       "      <td>13</td>\n",
       "    </tr>\n",
       "    <tr>\n",
       "      <th>2</th>\n",
       "      <td>3</td>\n",
       "      <td>14</td>\n",
       "    </tr>\n",
       "    <tr>\n",
       "      <th>3</th>\n",
       "      <td>4</td>\n",
       "      <td>15</td>\n",
       "    </tr>\n",
       "    <tr>\n",
       "      <th>4</th>\n",
       "      <td>5</td>\n",
       "      <td>16</td>\n",
       "    </tr>\n",
       "    <tr>\n",
       "      <th>5</th>\n",
       "      <td>7</td>\n",
       "      <td>17</td>\n",
       "    </tr>\n",
       "    <tr>\n",
       "      <th>6</th>\n",
       "      <td>8</td>\n",
       "      <td>15</td>\n",
       "    </tr>\n",
       "    <tr>\n",
       "      <th>7</th>\n",
       "      <td>9</td>\n",
       "      <td>12</td>\n",
       "    </tr>\n",
       "    <tr>\n",
       "      <th>8</th>\n",
       "      <td>10</td>\n",
       "      <td>13</td>\n",
       "    </tr>\n",
       "    <tr>\n",
       "      <th>9</th>\n",
       "      <td>11</td>\n",
       "      <td>23</td>\n",
       "    </tr>\n",
       "  </tbody>\n",
       "</table>\n",
       "</div>"
      ],
      "text/plain": [
       "   id  Feature3\n",
       "0   1        12\n",
       "1   2        13\n",
       "2   3        14\n",
       "3   4        15\n",
       "4   5        16\n",
       "5   7        17\n",
       "6   8        15\n",
       "7   9        12\n",
       "8  10        13\n",
       "9  11        23"
      ]
     },
     "execution_count": 14,
     "metadata": {},
     "output_type": "execute_result"
    }
   ],
   "source": [
    "d3 = {\n",
    "        'id': ['1', '2', '3', '4', '5', '7', '8', '9', '10', '11'],\n",
    "        'Feature3': [12, 13, 14, 15, 16, 17, 15, 12, 13, 23]}\n",
    "data3 = pd.DataFrame(d3, columns = ['id', 'Feature3'])\n",
    "\n",
    "data3"
   ]
  },
  {
   "cell_type": "code",
   "execution_count": null,
   "metadata": {},
   "outputs": [],
   "source": [
    "#concatenate the DataFrames along the row you can \n",
    "#use the concat() function in pandas"
   ]
  },
  {
   "cell_type": "code",
   "execution_count": 7,
   "metadata": {},
   "outputs": [
    {
     "data": {
      "text/html": [
       "<div>\n",
       "<style scoped>\n",
       "    .dataframe tbody tr th:only-of-type {\n",
       "        vertical-align: middle;\n",
       "    }\n",
       "\n",
       "    .dataframe tbody tr th {\n",
       "        vertical-align: top;\n",
       "    }\n",
       "\n",
       "    .dataframe thead th {\n",
       "        text-align: right;\n",
       "    }\n",
       "</style>\n",
       "<table border=\"1\" class=\"dataframe\">\n",
       "  <thead>\n",
       "    <tr style=\"text-align: right;\">\n",
       "      <th></th>\n",
       "      <th>id</th>\n",
       "      <th>Feature1</th>\n",
       "      <th>Feature2</th>\n",
       "    </tr>\n",
       "  </thead>\n",
       "  <tbody>\n",
       "    <tr>\n",
       "      <th>0</th>\n",
       "      <td>1</td>\n",
       "      <td>A</td>\n",
       "      <td>B</td>\n",
       "    </tr>\n",
       "    <tr>\n",
       "      <th>1</th>\n",
       "      <td>2</td>\n",
       "      <td>C</td>\n",
       "      <td>D</td>\n",
       "    </tr>\n",
       "    <tr>\n",
       "      <th>2</th>\n",
       "      <td>3</td>\n",
       "      <td>E</td>\n",
       "      <td>F</td>\n",
       "    </tr>\n",
       "    <tr>\n",
       "      <th>3</th>\n",
       "      <td>4</td>\n",
       "      <td>G</td>\n",
       "      <td>H</td>\n",
       "    </tr>\n",
       "    <tr>\n",
       "      <th>4</th>\n",
       "      <td>5</td>\n",
       "      <td>I</td>\n",
       "      <td>J</td>\n",
       "    </tr>\n",
       "    <tr>\n",
       "      <th>0</th>\n",
       "      <td>1</td>\n",
       "      <td>K</td>\n",
       "      <td>L</td>\n",
       "    </tr>\n",
       "    <tr>\n",
       "      <th>1</th>\n",
       "      <td>2</td>\n",
       "      <td>M</td>\n",
       "      <td>N</td>\n",
       "    </tr>\n",
       "    <tr>\n",
       "      <th>2</th>\n",
       "      <td>6</td>\n",
       "      <td>O</td>\n",
       "      <td>P</td>\n",
       "    </tr>\n",
       "    <tr>\n",
       "      <th>3</th>\n",
       "      <td>7</td>\n",
       "      <td>Q</td>\n",
       "      <td>R</td>\n",
       "    </tr>\n",
       "    <tr>\n",
       "      <th>4</th>\n",
       "      <td>8</td>\n",
       "      <td>S</td>\n",
       "      <td>T</td>\n",
       "    </tr>\n",
       "  </tbody>\n",
       "</table>\n",
       "</div>"
      ],
      "text/plain": [
       "  id Feature1 Feature2\n",
       "0  1        A        B\n",
       "1  2        C        D\n",
       "2  3        E        F\n",
       "3  4        G        H\n",
       "4  5        I        J\n",
       "0  1        K        L\n",
       "1  2        M        N\n",
       "2  6        O        P\n",
       "3  7        Q        R\n",
       "4  8        S        T"
      ]
     },
     "execution_count": 7,
     "metadata": {},
     "output_type": "execute_result"
    }
   ],
   "source": [
    "df_row = pd.concat([data1, data2])\n",
    "\n",
    "df_row"
   ]
  },
  {
   "cell_type": "markdown",
   "metadata": {},
   "source": [
    "However, the row labels seem to be wrong! If you want the row labels to adjust automatically according to the join, you will have to set the argument ignore_index as True while calling the concat() function:"
   ]
  },
  {
   "cell_type": "code",
   "execution_count": null,
   "metadata": {},
   "outputs": [],
   "source": [
    "df_row_reindex = pd.concat([data1, data2], ignore_index=True)\n",
    "\n",
    "df_row_reindex"
   ]
  },
  {
   "cell_type": "markdown",
   "metadata": {},
   "source": [
    "pandas also provides you with an option to label the DataFrames, after the concatenation, with a key so that you may know which data came from which DataFrame. You can achieve the same by passing additional argument keys specifying the label names of the DataFrames in a list."
   ]
  },
  {
   "cell_type": "code",
   "execution_count": null,
   "metadata": {},
   "outputs": [],
   "source": [
    "frames = [data1,data2]\n",
    "df_keys = pd.concat(frames, keys=['x', 'y'])\n",
    "\n",
    "df_keys"
   ]
  },
  {
   "cell_type": "code",
   "execution_count": null,
   "metadata": {},
   "outputs": [],
   "source": [
    "df_keys.loc['y']"
   ]
  },
  {
   "cell_type": "code",
   "execution_count": null,
   "metadata": {},
   "outputs": [],
   "source": [
    "#To concatenate DataFrames along column, you can specify the axis parameter as 1 :\n",
    "df_col = pd.concat([data1,data2], axis=1)\n",
    "\n",
    "df_col"
   ]
  },
  {
   "cell_type": "markdown",
   "metadata": {},
   "source": [
    "# Merge DataFrames\n",
    "Another ubiquitous operation related to DataFrames is the merging operation. Two DataFrames might hold different kinds of information about the same entity and linked by some common feature/column. To join these DataFrames, pandas provides multiple functions like concat(), merge() , join()"
   ]
  },
  {
   "cell_type": "code",
   "execution_count": null,
   "metadata": {},
   "outputs": [],
   "source": [
    "df_row = pd.concat([df1, df2])\n",
    "\n",
    "df_row"
   ]
  },
  {
   "cell_type": "code",
   "execution_count": 15,
   "metadata": {},
   "outputs": [
    {
     "data": {
      "text/html": [
       "<div>\n",
       "<style scoped>\n",
       "    .dataframe tbody tr th:only-of-type {\n",
       "        vertical-align: middle;\n",
       "    }\n",
       "\n",
       "    .dataframe tbody tr th {\n",
       "        vertical-align: top;\n",
       "    }\n",
       "\n",
       "    .dataframe thead th {\n",
       "        text-align: right;\n",
       "    }\n",
       "</style>\n",
       "<table border=\"1\" class=\"dataframe\">\n",
       "  <thead>\n",
       "    <tr style=\"text-align: right;\">\n",
       "      <th></th>\n",
       "      <th>id</th>\n",
       "      <th>Feature1</th>\n",
       "      <th>Feature2</th>\n",
       "      <th>Feature3</th>\n",
       "    </tr>\n",
       "  </thead>\n",
       "  <tbody>\n",
       "    <tr>\n",
       "      <th>0</th>\n",
       "      <td>1</td>\n",
       "      <td>A</td>\n",
       "      <td>B</td>\n",
       "      <td>12</td>\n",
       "    </tr>\n",
       "    <tr>\n",
       "      <th>1</th>\n",
       "      <td>2</td>\n",
       "      <td>C</td>\n",
       "      <td>D</td>\n",
       "      <td>13</td>\n",
       "    </tr>\n",
       "    <tr>\n",
       "      <th>2</th>\n",
       "      <td>3</td>\n",
       "      <td>E</td>\n",
       "      <td>F</td>\n",
       "      <td>14</td>\n",
       "    </tr>\n",
       "    <tr>\n",
       "      <th>3</th>\n",
       "      <td>4</td>\n",
       "      <td>G</td>\n",
       "      <td>H</td>\n",
       "      <td>15</td>\n",
       "    </tr>\n",
       "    <tr>\n",
       "      <th>4</th>\n",
       "      <td>5</td>\n",
       "      <td>I</td>\n",
       "      <td>J</td>\n",
       "      <td>16</td>\n",
       "    </tr>\n",
       "  </tbody>\n",
       "</table>\n",
       "</div>"
      ],
      "text/plain": [
       "  id Feature1 Feature2  Feature3\n",
       "0  1        A        B        12\n",
       "1  2        C        D        13\n",
       "2  3        E        F        14\n",
       "3  4        G        H        15\n",
       "4  5        I        J        16"
      ]
     },
     "execution_count": 15,
     "metadata": {},
     "output_type": "execute_result"
    }
   ],
   "source": [
    "df_merge_col = pd.merge(data1, data3, on='id')\n",
    "df_merge_col"
   ]
  },
  {
   "cell_type": "markdown",
   "metadata": {},
   "source": [
    "It might happen that the column on which you want to merge the DataFrames have different names . For such merges, you will have to specify the arguments left_on as the left DataFrame name and right_on as the right DataFrame name, like :"
   ]
  },
  {
   "cell_type": "code",
   "execution_count": 18,
   "metadata": {},
   "outputs": [
    {
     "data": {
      "text/html": [
       "<div>\n",
       "<style scoped>\n",
       "    .dataframe tbody tr th:only-of-type {\n",
       "        vertical-align: middle;\n",
       "    }\n",
       "\n",
       "    .dataframe tbody tr th {\n",
       "        vertical-align: top;\n",
       "    }\n",
       "\n",
       "    .dataframe thead th {\n",
       "        text-align: right;\n",
       "    }\n",
       "</style>\n",
       "<table border=\"1\" class=\"dataframe\">\n",
       "  <thead>\n",
       "    <tr style=\"text-align: right;\">\n",
       "      <th></th>\n",
       "      <th>id</th>\n",
       "      <th>Feature1</th>\n",
       "      <th>Feature2</th>\n",
       "      <th>Feature3</th>\n",
       "    </tr>\n",
       "  </thead>\n",
       "  <tbody>\n",
       "    <tr>\n",
       "      <th>0</th>\n",
       "      <td>1</td>\n",
       "      <td>A</td>\n",
       "      <td>B</td>\n",
       "      <td>12</td>\n",
       "    </tr>\n",
       "    <tr>\n",
       "      <th>1</th>\n",
       "      <td>2</td>\n",
       "      <td>C</td>\n",
       "      <td>D</td>\n",
       "      <td>13</td>\n",
       "    </tr>\n",
       "    <tr>\n",
       "      <th>2</th>\n",
       "      <td>3</td>\n",
       "      <td>E</td>\n",
       "      <td>F</td>\n",
       "      <td>14</td>\n",
       "    </tr>\n",
       "    <tr>\n",
       "      <th>3</th>\n",
       "      <td>4</td>\n",
       "      <td>G</td>\n",
       "      <td>H</td>\n",
       "      <td>15</td>\n",
       "    </tr>\n",
       "    <tr>\n",
       "      <th>4</th>\n",
       "      <td>5</td>\n",
       "      <td>I</td>\n",
       "      <td>J</td>\n",
       "      <td>16</td>\n",
       "    </tr>\n",
       "  </tbody>\n",
       "</table>\n",
       "</div>"
      ],
      "text/plain": [
       "  id Feature1 Feature2  Feature3\n",
       "0  1        A        B        12\n",
       "1  2        C        D        13\n",
       "2  3        E        F        14\n",
       "3  4        G        H        15\n",
       "4  5        I        J        16"
      ]
     },
     "execution_count": 18,
     "metadata": {},
     "output_type": "execute_result"
    }
   ],
   "source": [
    "df_merge_difkey = pd.merge(data1, data3, left_on='id', right_on='id')\n",
    "df_merge_difkey"
   ]
  },
  {
   "cell_type": "markdown",
   "metadata": {},
   "source": [
    "# Join DataFrames\n",
    "\n",
    "-Inner Join or Natural join: To keep only rows that match from the data frames, specify the argument how=‘inner’.\n",
    "\n",
    "-Outer Join or Full outer join:To keep all rows from both data frames, specify how=‘outer’.\n",
    "\n",
    "-Left Join or Left outer join:To include all the rows of your data frame x and only those from y that match, specify how=‘left’.\n",
    "\n",
    "-Right Join or Right outer join:To include all the rows of your data frame y and only those from x that match, specify how=‘right’."
   ]
  },
  {
   "attachments": {
    "join-or-merge-in-python-pandas-1.png": {
     "image/png": "[encoded data removed]"
    }
   },
   "cell_type": "markdown",
   "metadata": {},
   "source": [
    "![join-or-merge-in-python-pandas-1.png](attachment:join-or-merge-in-python-pandas-1.png)"
   ]
  },
  {
   "cell_type": "markdown",
   "metadata": {},
   "source": [
    "#### Full Outer Join\n",
    "The FULL OUTER JOIN combines the results of both the left and the right outer joins. The joined DataFrame will contain all records from both the DataFrames and fill in NaNs for missing matches on either side. You can perform a full outer join by specifying the how argument as outer in the merge() function:"
   ]
  },
  {
   "cell_type": "code",
   "execution_count": 26,
   "metadata": {},
   "outputs": [
    {
     "data": {
      "text/html": [
       "<div>\n",
       "<style scoped>\n",
       "    .dataframe tbody tr th:only-of-type {\n",
       "        vertical-align: middle;\n",
       "    }\n",
       "\n",
       "    .dataframe tbody tr th {\n",
       "        vertical-align: top;\n",
       "    }\n",
       "\n",
       "    .dataframe thead th {\n",
       "        text-align: right;\n",
       "    }\n",
       "</style>\n",
       "<table border=\"1\" class=\"dataframe\">\n",
       "  <thead>\n",
       "    <tr style=\"text-align: right;\">\n",
       "      <th></th>\n",
       "      <th>id</th>\n",
       "      <th>Feature1_x</th>\n",
       "      <th>Feature2_x</th>\n",
       "      <th>Feature1_y</th>\n",
       "      <th>Feature2_y</th>\n",
       "    </tr>\n",
       "  </thead>\n",
       "  <tbody>\n",
       "    <tr>\n",
       "      <th>0</th>\n",
       "      <td>1</td>\n",
       "      <td>A</td>\n",
       "      <td>B</td>\n",
       "      <td>K</td>\n",
       "      <td>L</td>\n",
       "    </tr>\n",
       "    <tr>\n",
       "      <th>1</th>\n",
       "      <td>2</td>\n",
       "      <td>C</td>\n",
       "      <td>D</td>\n",
       "      <td>M</td>\n",
       "      <td>N</td>\n",
       "    </tr>\n",
       "    <tr>\n",
       "      <th>2</th>\n",
       "      <td>3</td>\n",
       "      <td>E</td>\n",
       "      <td>F</td>\n",
       "      <td>NaN</td>\n",
       "      <td>NaN</td>\n",
       "    </tr>\n",
       "    <tr>\n",
       "      <th>3</th>\n",
       "      <td>4</td>\n",
       "      <td>G</td>\n",
       "      <td>H</td>\n",
       "      <td>NaN</td>\n",
       "      <td>NaN</td>\n",
       "    </tr>\n",
       "    <tr>\n",
       "      <th>4</th>\n",
       "      <td>5</td>\n",
       "      <td>I</td>\n",
       "      <td>J</td>\n",
       "      <td>NaN</td>\n",
       "      <td>NaN</td>\n",
       "    </tr>\n",
       "    <tr>\n",
       "      <th>5</th>\n",
       "      <td>6</td>\n",
       "      <td>NaN</td>\n",
       "      <td>NaN</td>\n",
       "      <td>O</td>\n",
       "      <td>P</td>\n",
       "    </tr>\n",
       "    <tr>\n",
       "      <th>6</th>\n",
       "      <td>7</td>\n",
       "      <td>NaN</td>\n",
       "      <td>NaN</td>\n",
       "      <td>Q</td>\n",
       "      <td>R</td>\n",
       "    </tr>\n",
       "    <tr>\n",
       "      <th>7</th>\n",
       "      <td>8</td>\n",
       "      <td>NaN</td>\n",
       "      <td>NaN</td>\n",
       "      <td>S</td>\n",
       "      <td>T</td>\n",
       "    </tr>\n",
       "  </tbody>\n",
       "</table>\n",
       "</div>"
      ],
      "text/plain": [
       "  id Feature1_x Feature2_x Feature1_y Feature2_y\n",
       "0  1          A          B          K          L\n",
       "1  2          C          D          M          N\n",
       "2  3          E          F        NaN        NaN\n",
       "3  4          G          H        NaN        NaN\n",
       "4  5          I          J        NaN        NaN\n",
       "5  6        NaN        NaN          O          P\n",
       "6  7        NaN        NaN          Q          R\n",
       "7  8        NaN        NaN          S          T"
      ]
     },
     "execution_count": 26,
     "metadata": {},
     "output_type": "execute_result"
    }
   ],
   "source": [
    "df_outer=pd.merge(data1,data2,how ='outer',on='id')\n",
    "df_outer"
   ]
  },
  {
   "cell_type": "code",
   "execution_count": 23,
   "metadata": {},
   "outputs": [],
   "source": [
    "import pandas as pd\n",
    "\n",
    "import numpy as np\n",
    "\n",
    " \n",
    "\n",
    "# data frame 1\n",
    "\n",
    "d1 = {'Customer_id':pd.Series([1,2,3,4,5,6]),\n",
    "  'Product':pd.Series(['Oven','Oven','Oven','Television','Television','Television'])}\n",
    "\n",
    "df1 = pd.DataFrame(d1)\n",
    "\n",
    "# data frame 2\n",
    "\n",
    "d2 = {'Customer_id':pd.Series([2,4,6,7,8]),\n",
    "    'State':pd.Series(['California','California','Texas','New York','Indiana'])}\n",
    "df2 = pd.DataFrame(d2)\n"
   ]
  },
  {
   "cell_type": "code",
   "execution_count": 24,
   "metadata": {},
   "outputs": [
    {
     "data": {
      "text/html": [
       "<div>\n",
       "<style scoped>\n",
       "    .dataframe tbody tr th:only-of-type {\n",
       "        vertical-align: middle;\n",
       "    }\n",
       "\n",
       "    .dataframe tbody tr th {\n",
       "        vertical-align: top;\n",
       "    }\n",
       "\n",
       "    .dataframe thead th {\n",
       "        text-align: right;\n",
       "    }\n",
       "</style>\n",
       "<table border=\"1\" class=\"dataframe\">\n",
       "  <thead>\n",
       "    <tr style=\"text-align: right;\">\n",
       "      <th></th>\n",
       "      <th>Customer_id</th>\n",
       "      <th>Product</th>\n",
       "    </tr>\n",
       "  </thead>\n",
       "  <tbody>\n",
       "    <tr>\n",
       "      <th>0</th>\n",
       "      <td>1</td>\n",
       "      <td>Oven</td>\n",
       "    </tr>\n",
       "    <tr>\n",
       "      <th>1</th>\n",
       "      <td>2</td>\n",
       "      <td>Oven</td>\n",
       "    </tr>\n",
       "    <tr>\n",
       "      <th>2</th>\n",
       "      <td>3</td>\n",
       "      <td>Oven</td>\n",
       "    </tr>\n",
       "    <tr>\n",
       "      <th>3</th>\n",
       "      <td>4</td>\n",
       "      <td>Television</td>\n",
       "    </tr>\n",
       "    <tr>\n",
       "      <th>4</th>\n",
       "      <td>5</td>\n",
       "      <td>Television</td>\n",
       "    </tr>\n",
       "    <tr>\n",
       "      <th>5</th>\n",
       "      <td>6</td>\n",
       "      <td>Television</td>\n",
       "    </tr>\n",
       "  </tbody>\n",
       "</table>\n",
       "</div>"
      ],
      "text/plain": [
       "   Customer_id     Product\n",
       "0            1        Oven\n",
       "1            2        Oven\n",
       "2            3        Oven\n",
       "3            4  Television\n",
       "4            5  Television\n",
       "5            6  Television"
      ]
     },
     "metadata": {},
     "output_type": "display_data"
    },
    {
     "data": {
      "text/html": [
       "<div>\n",
       "<style scoped>\n",
       "    .dataframe tbody tr th:only-of-type {\n",
       "        vertical-align: middle;\n",
       "    }\n",
       "\n",
       "    .dataframe tbody tr th {\n",
       "        vertical-align: top;\n",
       "    }\n",
       "\n",
       "    .dataframe thead th {\n",
       "        text-align: right;\n",
       "    }\n",
       "</style>\n",
       "<table border=\"1\" class=\"dataframe\">\n",
       "  <thead>\n",
       "    <tr style=\"text-align: right;\">\n",
       "      <th></th>\n",
       "      <th>Customer_id</th>\n",
       "      <th>State</th>\n",
       "    </tr>\n",
       "  </thead>\n",
       "  <tbody>\n",
       "    <tr>\n",
       "      <th>0</th>\n",
       "      <td>2</td>\n",
       "      <td>California</td>\n",
       "    </tr>\n",
       "    <tr>\n",
       "      <th>1</th>\n",
       "      <td>4</td>\n",
       "      <td>California</td>\n",
       "    </tr>\n",
       "    <tr>\n",
       "      <th>2</th>\n",
       "      <td>6</td>\n",
       "      <td>Texas</td>\n",
       "    </tr>\n",
       "    <tr>\n",
       "      <th>3</th>\n",
       "      <td>7</td>\n",
       "      <td>New York</td>\n",
       "    </tr>\n",
       "    <tr>\n",
       "      <th>4</th>\n",
       "      <td>8</td>\n",
       "      <td>Indiana</td>\n",
       "    </tr>\n",
       "  </tbody>\n",
       "</table>\n",
       "</div>"
      ],
      "text/plain": [
       "   Customer_id       State\n",
       "0            2  California\n",
       "1            4  California\n",
       "2            6       Texas\n",
       "3            7    New York\n",
       "4            8     Indiana"
      ]
     },
     "metadata": {},
     "output_type": "display_data"
    }
   ],
   "source": [
    "display(df1,df2)\n"
   ]
  },
  {
   "cell_type": "code",
   "execution_count": 25,
   "metadata": {},
   "outputs": [
    {
     "data": {
      "text/html": [
       "<div>\n",
       "<style scoped>\n",
       "    .dataframe tbody tr th:only-of-type {\n",
       "        vertical-align: middle;\n",
       "    }\n",
       "\n",
       "    .dataframe tbody tr th {\n",
       "        vertical-align: top;\n",
       "    }\n",
       "\n",
       "    .dataframe thead th {\n",
       "        text-align: right;\n",
       "    }\n",
       "</style>\n",
       "<table border=\"1\" class=\"dataframe\">\n",
       "  <thead>\n",
       "    <tr style=\"text-align: right;\">\n",
       "      <th></th>\n",
       "      <th>Customer_id</th>\n",
       "      <th>Product</th>\n",
       "      <th>State</th>\n",
       "    </tr>\n",
       "  </thead>\n",
       "  <tbody>\n",
       "    <tr>\n",
       "      <th>0</th>\n",
       "      <td>2</td>\n",
       "      <td>Oven</td>\n",
       "      <td>California</td>\n",
       "    </tr>\n",
       "    <tr>\n",
       "      <th>1</th>\n",
       "      <td>4</td>\n",
       "      <td>Television</td>\n",
       "      <td>California</td>\n",
       "    </tr>\n",
       "    <tr>\n",
       "      <th>2</th>\n",
       "      <td>6</td>\n",
       "      <td>Television</td>\n",
       "      <td>Texas</td>\n",
       "    </tr>\n",
       "  </tbody>\n",
       "</table>\n",
       "</div>"
      ],
      "text/plain": [
       "   Customer_id     Product       State\n",
       "0            2        Oven  California\n",
       "1            4  Television  California\n",
       "2            6  Television       Texas"
      ]
     },
     "execution_count": 25,
     "metadata": {},
     "output_type": "execute_result"
    }
   ],
   "source": [
    "#inner join in python pandas\n",
    "inner_join_df= pd.merge(df1, df2, on='Customer_id', how='inner')\n",
    "inner_join_df"
   ]
  },
  {
   "cell_type": "code",
   "execution_count": null,
   "metadata": {},
   "outputs": [],
   "source": [
    "#Outer join in pandas:\n",
    "#Returns all rows from both tables, join records from the left \n",
    "#which have matching keys in the right table.When there is no \n",
    "#Matching from any table NaN will be returned\n",
    "outer_join_df=pd.merge(df1, df2, on='Customer_id', how='outer')\n",
    "outer_join_df\n"
   ]
  },
  {
   "cell_type": "code",
   "execution_count": null,
   "metadata": {},
   "outputs": [],
   "source": [
    "#Left outer Join or Left join pandas:\n",
    "#Return all rows from the left table, and any rows with \n",
    "#matching keys from the right table.When there is no Matching from\n",
    "#right table NaN will be returned"
   ]
  },
  {
   "cell_type": "code",
   "execution_count": null,
   "metadata": {},
   "outputs": [],
   "source": [
    "left_join_df= pd.merge(df1, df2, on='Customer_id', how='left')\n",
    "left_join_df"
   ]
  },
  {
   "cell_type": "code",
   "execution_count": null,
   "metadata": {},
   "outputs": [],
   "source": [
    "#Right outer join or Right Join pandas\n",
    "#Return all rows from the right table, and any rows with \n",
    "#matching keys from the left table.\n",
    "right_join_df= pd.merge(df1, df2, on='Customer_id', how='right')\n",
    "right_join_df "
   ]
  },
  {
   "cell_type": "markdown",
   "metadata": {},
   "source": [
    "# loc vs iloc\n",
    "You can use iloc in Python for selection. It is integer-location based and helps you select by the position. So, if you want to find the row with index 5, iloc will show you the fifth row of the data frame irrespective of its name or label. \n",
    "\n",
    "loc\n",
    "use loc to select data by the label.\n",
    "\n",
    "You can use loc in Pandas to access multiple rows and columns by using labels; however, you can use it with a boolean array as well. \n",
    "\n",
    "If you use loc to find a row with index 5, you won’t get the fifth row with it. Instead, you will only get the row which has the name ‘5’. "
   ]
  },
  {
   "cell_type": "code",
   "execution_count": null,
   "metadata": {},
   "outputs": [],
   "source": [
    "print(\"selecting row with specific column\")\n",
    "print(df.loc[3,'Day'])\n",
    "\n",
    "print(\"selecting specific rows and columns\")\n",
    "print(df.loc[1:10,['Day','Size']])\n",
    "\n",
    "print(\"selecting row with specific index\")\n",
    "print(df.iloc[3])\n",
    "\n",
    "print(\"selecting rows <= specific index\")\n",
    "print(df.loc[:3])\n",
    "\n",
    "print(\"selecting all rows and specific col\")\n",
    "print(df.iloc[:,1:3])"
   ]
  },
  {
   "cell_type": "markdown",
   "metadata": {},
   "source": []
  },
  {
   "cell_type": "code",
   "execution_count": null,
   "metadata": {},
   "outputs": [],
   "source": []
  },
  {
   "cell_type": "code",
   "execution_count": null,
   "metadata": {},
   "outputs": [],
   "source": [
    "#Select Rows from Pandas DataFrame with conditions\n",
    "from pandas import DataFrame\n",
    "\n",
    "boxes = {'Color': ['Green','Green','Green','Blue','Blue','Red','Red','Red'],\n",
    "         'Shape': ['Rectangle','Rectangle','Square','Rectangle','Square','Square','Square','Rectangle'],\n",
    "         'Price': [10,15,5,5,10,15,15,5]\n",
    "        }\n",
    "\n",
    "df = DataFrame(boxes, columns= ['Color','Shape','Price'])\n",
    "\n",
    "select_color = df.loc[df['Color'] == 'Green']\n",
    "print (select_color)\n"
   ]
  },
  {
   "cell_type": "markdown",
   "metadata": {},
   "source": [
    "# Read data from URL"
   ]
  },
  {
   "cell_type": "code",
   "execution_count": null,
   "metadata": {},
   "outputs": [],
   "source": [
    "url = 'https://www.fdic.gov/bank/individual/failed/banklist.html'\n",
    "u = pd.read_html(url)\n",
    "u"
   ]
  },
  {
   "cell_type": "markdown",
   "metadata": {},
   "source": [
    "# Reading/Writing files"
   ]
  },
  {
   "cell_type": "code",
   "execution_count": null,
   "metadata": {},
   "outputs": [],
   "source": [
    "import csv\n",
    "with open('F:\\\\iris.csv','rt')as f:\n",
    "  data = csv.reader(f)\n",
    "  for row in data:\n",
    "        print(row)"
   ]
  },
  {
   "cell_type": "code",
   "execution_count": null,
   "metadata": {},
   "outputs": [],
   "source": [
    "import csv\n",
    "import pandas as pd\n",
    "from pandas import DataFrame\n",
    "with open('F:\\\\iris.csv','rt')as f:\n",
    "    data = csv.reader(f)\n",
    "    print(df)"
   ]
  },
  {
   "cell_type": "code",
   "execution_count": null,
   "metadata": {},
   "outputs": [],
   "source": [
    "reader = csv.DictReader(open('F:\\\\iris.csv'))\n",
    "for raw in reader:\n",
    "    print(raw)\n"
   ]
  },
  {
   "cell_type": "code",
   "execution_count": null,
   "metadata": {},
   "outputs": [],
   "source": [
    "with open('F:\\\\csvWrite.csv', mode='w') as file:\n",
    "    writer = csv.writer(file, delimiter=',', quotechar='\"', quoting=csv.QUOTE_MINIMAL)\n",
    "    #way to write to csv file\n",
    "    writer.writerow(['Programming language', 'Designed by', 'Appeared', 'Extension'])\n",
    "    writer.writerow(['Python', 'Guido van Rossum', '1991', '.py'])\n",
    "    writer.writerow(['Java', 'James Gosling', '1995', '.java'])\n",
    "    writer.writerow(['C++', 'Bjarne Stroustrup', '1985', '.cpp'])\n"
   ]
  },
  {
   "cell_type": "code",
   "execution_count": null,
   "metadata": {},
   "outputs": [],
   "source": [
    "import pandas as pd\n",
    "myCSV = pd.read_txt(\"f:\\\\iris.csv\")\n",
    "mydata=myCSV.columns=['SEPAL LENGTH','SEPAL WIDTH','PETAL LENGTH','SEPAL WIDTH','CLASS']\n",
    "print(mydata)"
   ]
  },
  {
   "cell_type": "code",
   "execution_count": null,
   "metadata": {},
   "outputs": [],
   "source": [
    "from pandas import DataFrame\n",
    "C = {'Programming language': ['Python','Java', 'C++'],\n",
    "        'Designed by': ['Guido van Rossum', 'James Gosling', 'Bjarne Stroustrup'],\n",
    "        'Appeared': ['1991', '1995', '1985'],\n",
    "        'Extension': ['.py', '.java', '.cpp'],\n",
    "    }\n",
    "df = DataFrame(C,columns= ['Programming language', 'Designed by', 'Appeared', 'Extension'])\n",
    "export_csv = df.to_csv (r'F:\\\\pandaresult.csv', index = None, header=True) \n",
    "# here you have to write path, where result file will be stored\n",
    "print (df)\n"
   ]
  },
  {
   "cell_type": "code",
   "execution_count": null,
   "metadata": {},
   "outputs": [],
   "source": [
    "file = open('F:\\\\test.txt', 'r')\n",
    "# This will print every line one by one in the file\n",
    "#for each in file:\n",
    " #   print (each)\n",
    "print(file.read(40))\n",
    "\n",
    "file = open('F:\\\\TestW.txt', 'w')\n",
    "file.write(\"This is the write command\")\n",
    "file.write(\"\\n It allows us to write in a particular file\")\n",
    "file.close()\n",
    "\n",
    "\n",
    "file = open('F:\\\\test.txt', 'a')\n",
    "file.write(\"This is the test of append mode\")\n",
    "file.write(\"\\n we are appending the contents of a file\")\n",
    "file.close()\n"
   ]
  },
  {
   "cell_type": "code",
   "execution_count": null,
   "metadata": {},
   "outputs": [],
   "source": [
    "urldata = pd.read_csv(\"http://winterolympicsmedals.com/medals.csv\")\n",
    "print(urldata)\n"
   ]
  },
  {
   "cell_type": "code",
   "execution_count": null,
   "metadata": {},
   "outputs": [],
   "source": [
    "from collections import Counter\n",
    "#import xlsxwriter \n",
    "import pandas as pd\n",
    "import matplotlib.pyplot as plt\n",
    "import seaborn as sns\n",
    "import nltk.corpus\n",
    "from nltk.tokenize import word_tokenize\n",
    "import re\n",
    "myTAG=pd.read_excel(\"F:\\\\TAGGINGDATA.xlsx\",sheet_name='SHEET8',nrows=10)\n",
    "print(myTAG)\n",
    "pole=myTAG['POLE NO'].value_counts().idxmax()\n",
    "area=myTAG['AREA'].value_counts().idxmax()\n",
    "print(pole,area)\n",
    "myarea=myTAG['AREA'].value_counts()[:10].index.tolist()\n",
    "print(myarea)"
   ]
  },
  {
   "cell_type": "code",
   "execution_count": null,
   "metadata": {},
   "outputs": [],
   "source": [
    "myExcel=pd.read_excel(\"F:\\\\BILLING.xlsx\",sheet_name='2012')\n",
    "#print(myExcel['E Tax'])\n",
    "print(myExcel.columns.ravel())\n",
    "print(myExcel['Normal Unit'].tolist())\n",
    "normalunit=myExcel['Normal Unit'].tolist()\n",
    "print(normalunit)\n"
   ]
  },
  {
   "cell_type": "code",
   "execution_count": null,
   "metadata": {},
   "outputs": [],
   "source": [
    "import pandas as p\n",
    "myex=pd.read_excel(\"f:\\\\Tips1.xlsx\")\n",
    "mydf=pd.DataFrame(myex)\n",
    "print(mydf)"
   ]
  },
  {
   "cell_type": "code",
   "execution_count": null,
   "metadata": {},
   "outputs": [],
   "source": [
    "import pandas as pd\n",
    "myfile=pd.read_csv(\"f:\\\\tips.csv\")\n",
    "df=pd.DataFrame(myfile)\n",
    "#print(df)\n",
    "df1=pd.DataFrame(myfile, columns= ['Time', 'TotalBill', 'Tips'] )\n",
    "df2=myfile[['Time', 'TotalBill', 'Tips']]\n",
    "df3=myfile.iloc[:,0:2]\n",
    "df4=myfile.loc[:, ['Time', 'TotalBill', 'Tips'] ]\n",
    "#print(df1)\n",
    "#print(df2)\n",
    "#print(df3)\n",
    "#print(df4)\n",
    "myex=pd.read_excel(\"f:\\\\Tips1.xlsx\")\n",
    "data=pd.DataFrame(myex)\n",
    "data1=pd.DataFrame(myex)\n",
    "data2 = pd.merge(df, data1, how='left')\n",
    "#print(data2)\n",
    "data3 = data2.copy()\n",
    "#print(data3)\n",
    "#data3.groupby('Day')[['Tips']].aggregate(sum)\n",
    "#data3.groupby('Gender')['Time'].aggregate(sum)\n",
    "data3.groupby(['Gender', 'Time'])['Time'].count().unstack()\n",
    "\n",
    "\n"
   ]
  },
  {
   "cell_type": "code",
   "execution_count": null,
   "metadata": {},
   "outputs": [],
   "source": [
    "import copy\n",
    "x=[5,4,3,2,1]\n",
    "y=[7,8,9]\n",
    "z=[x,y]\n",
    "a=copy.deepcopy(z)\n",
    "b=copy.copy(z)\n",
    "x[2]=6\n",
    "print('a=',a,'b=',b)"
   ]
  },
  {
   "cell_type": "code",
   "execution_count": null,
   "metadata": {},
   "outputs": [],
   "source": [
    "import pandas as pd\n",
    "import matplotlib.pyplot as plt\n",
    "import seaborn as sns\n",
    "#mydata=pd.read_excel(\"f:\\\\BILLING.xlsx\",sheet_name='2012')\n",
    "myCSV = pd.read_csv(\"f:\\\\iris.csv\")\n",
    "myCSV.columns=['SEPAL LENGTH','SEPAL WIDTH','PETAL LENGTH','SEPAL WIDTH','CLASS']\n",
    "mycols = pd.read_csv(\"f:\\\\iris.csv\",nrows=10,usecols=(1,2,4))\n",
    "print(mycols)\n"
   ]
  },
  {
   "cell_type": "code",
   "execution_count": null,
   "metadata": {},
   "outputs": [],
   "source": [
    "#How to Plot a DataFrame using Pandas\n",
    "from pandas import DataFrame\n",
    "   \n",
    "Data = {'Unemployment_Rate': [6.1,5.8,5.7,5.7,5.8,5.6,5.5,5.3,5.2,5.2],\n",
    "        'Stock_Index_Price': [1500,1520,1525,1523,1515,1540,1545,1560,1555,1565]\n",
    "       }\n",
    "  \n",
    "df = DataFrame(Data,columns=['Unemployment_Rate','Stock_Index_Price'])\n",
    "print (df)\n"
   ]
  },
  {
   "cell_type": "code",
   "execution_count": null,
   "metadata": {},
   "outputs": [],
   "source": [
    "import pandas as pd\n",
    "import matplotlib.pyplot as plt\n",
    "#import seaborn as sns\n",
    "#mydata=pd.read_excel(\"f:\\\\BILLING.xlsx\",sheet_name='2012')\n",
    "myCSV = pd.read_csv(\"f:\\\\iris.csv\")\n",
    "myCSV.columns=['SEPAL LENGTH','SEPAL WIDTH','PETAL LENGTH','SEPAL WIDTH','CLASS']\n",
    "mycols = pd.read_csv(\"f:\\\\iris.csv\",nrows=20,usecols=(1,2,4))\n",
    "#print(mycols)\n",
    "df=pd.DataFrame(mycols)\n",
    "#print(df)\n",
    "mySelect = df.loc[df['sepal.width'] >= 3.5]\n",
    "print (mySelect)\n",
    "mySelect1 = df.loc[df['variety'] == 'Setosa']\n",
    "print (mySelect1)"
   ]
  },
  {
   "cell_type": "code",
   "execution_count": null,
   "metadata": {},
   "outputs": [],
   "source": [
    "#The groupby method allows us to group together the data based off any row or column\n",
    "import pandas as pds\n",
    "myfile=pds.read_table(\"f:\\\\myTips.csv\",delimiter=',',nrows=60)\n",
    "df=pds.DataFrame(myfile)\n",
    "df.groupby(['Day']).max()\n",
    "print(df)"
   ]
  },
  {
   "cell_type": "code",
   "execution_count": null,
   "metadata": {},
   "outputs": [],
   "source": [
    "#Plot the DataFrame using pandas\n",
    "from pandas import DataFrame\n",
    "   \n",
    "Data = {'Unemployment_Rate': [6.1,5.8,5.7,5.7,5.8,5.6,5.5,5.3,5.2,5.2],\n",
    "        'Stock_Index_Price': [1500,1520,1525,1523,1515,1540,1545,1560,1555,1565]\n",
    "       }\n",
    "  \n",
    "df = DataFrame(Data,columns=['Unemployment_Rate','Stock_Index_Price'])\n",
    "df.plot(x ='Unemployment_Rate', y='Stock_Index_Price', kind = 'scatter')"
   ]
  },
  {
   "cell_type": "code",
   "execution_count": null,
   "metadata": {},
   "outputs": [],
   "source": []
  },
  {
   "cell_type": "code",
   "execution_count": null,
   "metadata": {},
   "outputs": [],
   "source": [
    "#Plot a Line chart using pandas\n",
    "from pandas import DataFrame\n",
    "   \n",
    "Data = {'Year': [1920,1930,1940,1950,1960,1970,1980,1990,2000,2010],\n",
    "        'Unemployment_Rate': [9.8,12,8,7.2,6.9,7,6.5,6.2,5.5,6.3]\n",
    "       }\n",
    "  \n",
    "df = DataFrame(Data,columns=['Year','Unemployment_Rate'])\n",
    "print (df)\n",
    "df.plot(x ='Year', y='Unemployment_Rate', kind = 'line')"
   ]
  },
  {
   "cell_type": "code",
   "execution_count": null,
   "metadata": {},
   "outputs": [],
   "source": [
    "#Plot a bar chart using pandas\n",
    "from pandas import DataFrame\n",
    "   \n",
    "Data = {'Country': ['USA','Canada','Germany','UK','France'],\n",
    "        'GDP_Per_Capita': [45000,42000,52000,49000,47000]\n",
    "       }\n",
    "  \n",
    "df = DataFrame(Data,columns=['Country','GDP_Per_Capita'])\n",
    "df.plot(x ='Country', y='GDP_Per_Capita', kind = 'bar')"
   ]
  },
  {
   "cell_type": "code",
   "execution_count": null,
   "metadata": {},
   "outputs": [],
   "source": [
    "#Plot a pie chart using pandas\n",
    "from pandas import DataFrame\n",
    "\n",
    "Data = {'Tasks': [300,500,700]}\n",
    "df = DataFrame(Data,columns=['Tasks'],index = ['Tasks Pending','Tasks Ongoing','Tasks Completed'])\n",
    "\n",
    "df.plot.pie(y='Tasks',figsize=(5, 5),autopct='%1.1f%%', startangle=90)"
   ]
  },
  {
   "cell_type": "markdown",
   "metadata": {},
   "source": [
    "# Grouping data with pandas"
   ]
  },
  {
   "cell_type": "code",
   "execution_count": 1,
   "metadata": {},
   "outputs": [
    {
     "data": {
      "text/html": [
       "<div>\n",
       "<style scoped>\n",
       "    .dataframe tbody tr th:only-of-type {\n",
       "        vertical-align: middle;\n",
       "    }\n",
       "\n",
       "    .dataframe tbody tr th {\n",
       "        vertical-align: top;\n",
       "    }\n",
       "\n",
       "    .dataframe thead th {\n",
       "        text-align: right;\n",
       "    }\n",
       "</style>\n",
       "<table border=\"1\" class=\"dataframe\">\n",
       "  <thead>\n",
       "    <tr style=\"text-align: right;\">\n",
       "      <th></th>\n",
       "      <th>SINO</th>\n",
       "      <th>TotalBill</th>\n",
       "      <th>Tips</th>\n",
       "      <th>Smoker</th>\n",
       "      <th>Day</th>\n",
       "      <th>Time</th>\n",
       "      <th>Size</th>\n",
       "    </tr>\n",
       "  </thead>\n",
       "  <tbody>\n",
       "    <tr>\n",
       "      <th>0</th>\n",
       "      <td>1</td>\n",
       "      <td>16.99</td>\n",
       "      <td>1.01</td>\n",
       "      <td>No</td>\n",
       "      <td>Sun</td>\n",
       "      <td>Dinner</td>\n",
       "      <td>2.0</td>\n",
       "    </tr>\n",
       "    <tr>\n",
       "      <th>1</th>\n",
       "      <td>2</td>\n",
       "      <td>10.34</td>\n",
       "      <td>1.66</td>\n",
       "      <td>No</td>\n",
       "      <td>Sun</td>\n",
       "      <td>Dinner</td>\n",
       "      <td>3.0</td>\n",
       "    </tr>\n",
       "    <tr>\n",
       "      <th>2</th>\n",
       "      <td>3</td>\n",
       "      <td>NaN</td>\n",
       "      <td>3.50</td>\n",
       "      <td>No</td>\n",
       "      <td>Sun</td>\n",
       "      <td>Dinner</td>\n",
       "      <td>3.0</td>\n",
       "    </tr>\n",
       "    <tr>\n",
       "      <th>3</th>\n",
       "      <td>4</td>\n",
       "      <td>23.68</td>\n",
       "      <td>3.31</td>\n",
       "      <td>No</td>\n",
       "      <td>NaN</td>\n",
       "      <td>Dinner</td>\n",
       "      <td>2.0</td>\n",
       "    </tr>\n",
       "    <tr>\n",
       "      <th>4</th>\n",
       "      <td>5</td>\n",
       "      <td>24.59</td>\n",
       "      <td>3.61</td>\n",
       "      <td>No</td>\n",
       "      <td>Sun</td>\n",
       "      <td>Dinner</td>\n",
       "      <td>NaN</td>\n",
       "    </tr>\n",
       "    <tr>\n",
       "      <th>...</th>\n",
       "      <td>...</td>\n",
       "      <td>...</td>\n",
       "      <td>...</td>\n",
       "      <td>...</td>\n",
       "      <td>...</td>\n",
       "      <td>...</td>\n",
       "      <td>...</td>\n",
       "    </tr>\n",
       "    <tr>\n",
       "      <th>95</th>\n",
       "      <td>96</td>\n",
       "      <td>40.17</td>\n",
       "      <td>4.73</td>\n",
       "      <td>Yes</td>\n",
       "      <td>Fri</td>\n",
       "      <td>NaN</td>\n",
       "      <td>4.0</td>\n",
       "    </tr>\n",
       "    <tr>\n",
       "      <th>96</th>\n",
       "      <td>97</td>\n",
       "      <td>27.28</td>\n",
       "      <td>4.00</td>\n",
       "      <td>NaN</td>\n",
       "      <td>Fri</td>\n",
       "      <td>Dinner</td>\n",
       "      <td>2.0</td>\n",
       "    </tr>\n",
       "    <tr>\n",
       "      <th>97</th>\n",
       "      <td>98</td>\n",
       "      <td>NaN</td>\n",
       "      <td>1.50</td>\n",
       "      <td>Yes</td>\n",
       "      <td>Fri</td>\n",
       "      <td>Dinner</td>\n",
       "      <td>NaN</td>\n",
       "    </tr>\n",
       "    <tr>\n",
       "      <th>98</th>\n",
       "      <td>99</td>\n",
       "      <td>21.01</td>\n",
       "      <td>3.00</td>\n",
       "      <td>Yes</td>\n",
       "      <td>Fri</td>\n",
       "      <td>NaN</td>\n",
       "      <td>2.0</td>\n",
       "    </tr>\n",
       "    <tr>\n",
       "      <th>99</th>\n",
       "      <td>100</td>\n",
       "      <td>25.10</td>\n",
       "      <td>NaN</td>\n",
       "      <td>NaN</td>\n",
       "      <td>NaN</td>\n",
       "      <td>Lunch</td>\n",
       "      <td>2.0</td>\n",
       "    </tr>\n",
       "  </tbody>\n",
       "</table>\n",
       "<p>100 rows × 7 columns</p>\n",
       "</div>"
      ],
      "text/plain": [
       "    SINO  TotalBill  Tips Smoker  Day    Time  Size\n",
       "0      1      16.99  1.01     No  Sun  Dinner   2.0\n",
       "1      2      10.34  1.66     No  Sun  Dinner   3.0\n",
       "2      3        NaN  3.50     No  Sun  Dinner   3.0\n",
       "3      4      23.68  3.31     No  NaN  Dinner   2.0\n",
       "4      5      24.59  3.61     No  Sun  Dinner   NaN\n",
       "..   ...        ...   ...    ...  ...     ...   ...\n",
       "95    96      40.17  4.73    Yes  Fri     NaN   4.0\n",
       "96    97      27.28  4.00    NaN  Fri  Dinner   2.0\n",
       "97    98        NaN  1.50    Yes  Fri  Dinner   NaN\n",
       "98    99      21.01  3.00    Yes  Fri     NaN   2.0\n",
       "99   100      25.10   NaN    NaN  NaN   Lunch   2.0\n",
       "\n",
       "[100 rows x 7 columns]"
      ]
     },
     "execution_count": 1,
     "metadata": {},
     "output_type": "execute_result"
    }
   ],
   "source": [
    "import pandas as pds\n",
    "myfile=pds.read_table(\"d:\\\\MLDataSet\\\\myTips.csv\",delimiter=',')\n",
    "df=pds.DataFrame(myfile)\n",
    "#df.head()\n",
    "df"
   ]
  },
  {
   "cell_type": "code",
   "execution_count": 2,
   "metadata": {},
   "outputs": [
    {
     "data": {
      "text/html": [
       "<div>\n",
       "<style scoped>\n",
       "    .dataframe tbody tr th:only-of-type {\n",
       "        vertical-align: middle;\n",
       "    }\n",
       "\n",
       "    .dataframe tbody tr th {\n",
       "        vertical-align: top;\n",
       "    }\n",
       "\n",
       "    .dataframe thead th {\n",
       "        text-align: right;\n",
       "    }\n",
       "</style>\n",
       "<table border=\"1\" class=\"dataframe\">\n",
       "  <thead>\n",
       "    <tr style=\"text-align: right;\">\n",
       "      <th></th>\n",
       "      <th>SINO</th>\n",
       "      <th>TotalBill</th>\n",
       "      <th>Tips</th>\n",
       "      <th>Smoker</th>\n",
       "      <th>Time</th>\n",
       "      <th>Size</th>\n",
       "    </tr>\n",
       "    <tr>\n",
       "      <th>Day</th>\n",
       "      <th></th>\n",
       "      <th></th>\n",
       "      <th></th>\n",
       "      <th></th>\n",
       "      <th></th>\n",
       "      <th></th>\n",
       "    </tr>\n",
       "  </thead>\n",
       "  <tbody>\n",
       "    <tr>\n",
       "      <th>Fri</th>\n",
       "      <td>91</td>\n",
       "      <td>28.97</td>\n",
       "      <td>3.00</td>\n",
       "      <td>Yes</td>\n",
       "      <td>Dinner</td>\n",
       "      <td>2.0</td>\n",
       "    </tr>\n",
       "    <tr>\n",
       "      <th>Sat</th>\n",
       "      <td>20</td>\n",
       "      <td>20.65</td>\n",
       "      <td>3.35</td>\n",
       "      <td>No</td>\n",
       "      <td>Dinner</td>\n",
       "      <td>3.0</td>\n",
       "    </tr>\n",
       "    <tr>\n",
       "      <th>Sun</th>\n",
       "      <td>1</td>\n",
       "      <td>16.99</td>\n",
       "      <td>1.01</td>\n",
       "      <td>No</td>\n",
       "      <td>Dinner</td>\n",
       "      <td>2.0</td>\n",
       "    </tr>\n",
       "    <tr>\n",
       "      <th>Thur</th>\n",
       "      <td>78</td>\n",
       "      <td>27.20</td>\n",
       "      <td>4.00</td>\n",
       "      <td>No</td>\n",
       "      <td>Lunch</td>\n",
       "      <td>4.0</td>\n",
       "    </tr>\n",
       "  </tbody>\n",
       "</table>\n",
       "</div>"
      ],
      "text/plain": [
       "      SINO  TotalBill  Tips Smoker    Time  Size\n",
       "Day                                             \n",
       "Fri     91      28.97  3.00    Yes  Dinner   2.0\n",
       "Sat     20      20.65  3.35     No  Dinner   3.0\n",
       "Sun      1      16.99  1.01     No  Dinner   2.0\n",
       "Thur    78      27.20  4.00     No   Lunch   4.0"
      ]
     },
     "execution_count": 2,
     "metadata": {},
     "output_type": "execute_result"
    }
   ],
   "source": [
    "grp=df.groupby('Day')\n",
    "# print the first entries in all the groups formed. \n",
    "grp.first()"
   ]
  },
  {
   "cell_type": "code",
   "execution_count": 3,
   "metadata": {},
   "outputs": [
    {
     "data": {
      "text/html": [
       "<div>\n",
       "<style scoped>\n",
       "    .dataframe tbody tr th:only-of-type {\n",
       "        vertical-align: middle;\n",
       "    }\n",
       "\n",
       "    .dataframe tbody tr th {\n",
       "        vertical-align: top;\n",
       "    }\n",
       "\n",
       "    .dataframe thead th {\n",
       "        text-align: right;\n",
       "    }\n",
       "</style>\n",
       "<table border=\"1\" class=\"dataframe\">\n",
       "  <thead>\n",
       "    <tr style=\"text-align: right;\">\n",
       "      <th></th>\n",
       "      <th>SINO</th>\n",
       "      <th>TotalBill</th>\n",
       "      <th>Tips</th>\n",
       "      <th>Smoker</th>\n",
       "      <th>Day</th>\n",
       "      <th>Time</th>\n",
       "      <th>Size</th>\n",
       "    </tr>\n",
       "  </thead>\n",
       "  <tbody>\n",
       "    <tr>\n",
       "      <th>19</th>\n",
       "      <td>20</td>\n",
       "      <td>20.65</td>\n",
       "      <td>3.35</td>\n",
       "      <td>No</td>\n",
       "      <td>Sat</td>\n",
       "      <td>Dinner</td>\n",
       "      <td>3.0</td>\n",
       "    </tr>\n",
       "    <tr>\n",
       "      <th>20</th>\n",
       "      <td>21</td>\n",
       "      <td>17.92</td>\n",
       "      <td>4.08</td>\n",
       "      <td>No</td>\n",
       "      <td>Sat</td>\n",
       "      <td>Dinner</td>\n",
       "      <td>2.0</td>\n",
       "    </tr>\n",
       "    <tr>\n",
       "      <th>21</th>\n",
       "      <td>22</td>\n",
       "      <td>20.29</td>\n",
       "      <td>NaN</td>\n",
       "      <td>No</td>\n",
       "      <td>Sat</td>\n",
       "      <td>Dinner</td>\n",
       "      <td>2.0</td>\n",
       "    </tr>\n",
       "    <tr>\n",
       "      <th>22</th>\n",
       "      <td>23</td>\n",
       "      <td>15.77</td>\n",
       "      <td>2.23</td>\n",
       "      <td>No</td>\n",
       "      <td>Sat</td>\n",
       "      <td>Dinner</td>\n",
       "      <td>2.0</td>\n",
       "    </tr>\n",
       "    <tr>\n",
       "      <th>24</th>\n",
       "      <td>25</td>\n",
       "      <td>19.82</td>\n",
       "      <td>3.18</td>\n",
       "      <td>No</td>\n",
       "      <td>Sat</td>\n",
       "      <td>Dinner</td>\n",
       "      <td>2.0</td>\n",
       "    </tr>\n",
       "    <tr>\n",
       "      <th>25</th>\n",
       "      <td>26</td>\n",
       "      <td>17.81</td>\n",
       "      <td>2.34</td>\n",
       "      <td>No</td>\n",
       "      <td>Sat</td>\n",
       "      <td>Dinner</td>\n",
       "      <td>4.0</td>\n",
       "    </tr>\n",
       "    <tr>\n",
       "      <th>26</th>\n",
       "      <td>27</td>\n",
       "      <td>13.37</td>\n",
       "      <td>2.00</td>\n",
       "      <td>No</td>\n",
       "      <td>Sat</td>\n",
       "      <td>Dinner</td>\n",
       "      <td>2.0</td>\n",
       "    </tr>\n",
       "    <tr>\n",
       "      <th>27</th>\n",
       "      <td>28</td>\n",
       "      <td>NaN</td>\n",
       "      <td>NaN</td>\n",
       "      <td>No</td>\n",
       "      <td>Sat</td>\n",
       "      <td>Dinner</td>\n",
       "      <td>2.0</td>\n",
       "    </tr>\n",
       "    <tr>\n",
       "      <th>28</th>\n",
       "      <td>29</td>\n",
       "      <td>21.70</td>\n",
       "      <td>4.30</td>\n",
       "      <td>No</td>\n",
       "      <td>Sat</td>\n",
       "      <td>Dinner</td>\n",
       "      <td>2.0</td>\n",
       "    </tr>\n",
       "    <tr>\n",
       "      <th>29</th>\n",
       "      <td>30</td>\n",
       "      <td>19.65</td>\n",
       "      <td>3.00</td>\n",
       "      <td>No</td>\n",
       "      <td>Sat</td>\n",
       "      <td>Dinner</td>\n",
       "      <td>2.0</td>\n",
       "    </tr>\n",
       "    <tr>\n",
       "      <th>31</th>\n",
       "      <td>32</td>\n",
       "      <td>18.35</td>\n",
       "      <td>2.50</td>\n",
       "      <td>No</td>\n",
       "      <td>Sat</td>\n",
       "      <td>Dinner</td>\n",
       "      <td>4.0</td>\n",
       "    </tr>\n",
       "    <tr>\n",
       "      <th>32</th>\n",
       "      <td>33</td>\n",
       "      <td>15.06</td>\n",
       "      <td>3.00</td>\n",
       "      <td>No</td>\n",
       "      <td>Sat</td>\n",
       "      <td>Dinner</td>\n",
       "      <td>2.0</td>\n",
       "    </tr>\n",
       "    <tr>\n",
       "      <th>33</th>\n",
       "      <td>34</td>\n",
       "      <td>NaN</td>\n",
       "      <td>2.45</td>\n",
       "      <td>No</td>\n",
       "      <td>Sat</td>\n",
       "      <td>Dinner</td>\n",
       "      <td>4.0</td>\n",
       "    </tr>\n",
       "    <tr>\n",
       "      <th>34</th>\n",
       "      <td>35</td>\n",
       "      <td>17.78</td>\n",
       "      <td>3.27</td>\n",
       "      <td>No</td>\n",
       "      <td>Sat</td>\n",
       "      <td>Dinner</td>\n",
       "      <td>2.0</td>\n",
       "    </tr>\n",
       "    <tr>\n",
       "      <th>35</th>\n",
       "      <td>36</td>\n",
       "      <td>24.06</td>\n",
       "      <td>3.60</td>\n",
       "      <td>NaN</td>\n",
       "      <td>Sat</td>\n",
       "      <td>Dinner</td>\n",
       "      <td>3.0</td>\n",
       "    </tr>\n",
       "    <tr>\n",
       "      <th>36</th>\n",
       "      <td>37</td>\n",
       "      <td>16.31</td>\n",
       "      <td>2.00</td>\n",
       "      <td>No</td>\n",
       "      <td>Sat</td>\n",
       "      <td>Dinner</td>\n",
       "      <td>3.0</td>\n",
       "    </tr>\n",
       "    <tr>\n",
       "      <th>38</th>\n",
       "      <td>39</td>\n",
       "      <td>18.69</td>\n",
       "      <td>2.31</td>\n",
       "      <td>No</td>\n",
       "      <td>Sat</td>\n",
       "      <td>Dinner</td>\n",
       "      <td>3.0</td>\n",
       "    </tr>\n",
       "    <tr>\n",
       "      <th>40</th>\n",
       "      <td>41</td>\n",
       "      <td>16.04</td>\n",
       "      <td>2.24</td>\n",
       "      <td>No</td>\n",
       "      <td>Sat</td>\n",
       "      <td>Dinner</td>\n",
       "      <td>3.0</td>\n",
       "    </tr>\n",
       "    <tr>\n",
       "      <th>56</th>\n",
       "      <td>57</td>\n",
       "      <td>38.01</td>\n",
       "      <td>3.00</td>\n",
       "      <td>Yes</td>\n",
       "      <td>Sat</td>\n",
       "      <td>Dinner</td>\n",
       "      <td>4.0</td>\n",
       "    </tr>\n",
       "    <tr>\n",
       "      <th>57</th>\n",
       "      <td>58</td>\n",
       "      <td>26.41</td>\n",
       "      <td>1.50</td>\n",
       "      <td>No</td>\n",
       "      <td>Sat</td>\n",
       "      <td>Dinner</td>\n",
       "      <td>2.0</td>\n",
       "    </tr>\n",
       "    <tr>\n",
       "      <th>58</th>\n",
       "      <td>59</td>\n",
       "      <td>11.24</td>\n",
       "      <td>1.76</td>\n",
       "      <td>Yes</td>\n",
       "      <td>Sat</td>\n",
       "      <td>Dinner</td>\n",
       "      <td>2.0</td>\n",
       "    </tr>\n",
       "    <tr>\n",
       "      <th>59</th>\n",
       "      <td>60</td>\n",
       "      <td>48.27</td>\n",
       "      <td>6.73</td>\n",
       "      <td>No</td>\n",
       "      <td>Sat</td>\n",
       "      <td>Dinner</td>\n",
       "      <td>NaN</td>\n",
       "    </tr>\n",
       "    <tr>\n",
       "      <th>60</th>\n",
       "      <td>61</td>\n",
       "      <td>20.29</td>\n",
       "      <td>3.21</td>\n",
       "      <td>Yes</td>\n",
       "      <td>Sat</td>\n",
       "      <td>NaN</td>\n",
       "      <td>2.0</td>\n",
       "    </tr>\n",
       "    <tr>\n",
       "      <th>61</th>\n",
       "      <td>62</td>\n",
       "      <td>13.81</td>\n",
       "      <td>2.00</td>\n",
       "      <td>Yes</td>\n",
       "      <td>Sat</td>\n",
       "      <td>Dinner</td>\n",
       "      <td>2.0</td>\n",
       "    </tr>\n",
       "    <tr>\n",
       "      <th>62</th>\n",
       "      <td>63</td>\n",
       "      <td>11.02</td>\n",
       "      <td>1.98</td>\n",
       "      <td>Yes</td>\n",
       "      <td>Sat</td>\n",
       "      <td>Dinner</td>\n",
       "      <td>2.0</td>\n",
       "    </tr>\n",
       "    <tr>\n",
       "      <th>63</th>\n",
       "      <td>64</td>\n",
       "      <td>18.29</td>\n",
       "      <td>3.76</td>\n",
       "      <td>Yes</td>\n",
       "      <td>Sat</td>\n",
       "      <td>Dinner</td>\n",
       "      <td>4.0</td>\n",
       "    </tr>\n",
       "    <tr>\n",
       "      <th>64</th>\n",
       "      <td>65</td>\n",
       "      <td>17.59</td>\n",
       "      <td>2.64</td>\n",
       "      <td>No</td>\n",
       "      <td>Sat</td>\n",
       "      <td>Dinner</td>\n",
       "      <td>3.0</td>\n",
       "    </tr>\n",
       "    <tr>\n",
       "      <th>65</th>\n",
       "      <td>66</td>\n",
       "      <td>NaN</td>\n",
       "      <td>3.15</td>\n",
       "      <td>NaN</td>\n",
       "      <td>Sat</td>\n",
       "      <td>Dinner</td>\n",
       "      <td>3.0</td>\n",
       "    </tr>\n",
       "    <tr>\n",
       "      <th>66</th>\n",
       "      <td>67</td>\n",
       "      <td>16.45</td>\n",
       "      <td>2.47</td>\n",
       "      <td>No</td>\n",
       "      <td>Sat</td>\n",
       "      <td>Dinner</td>\n",
       "      <td>2.0</td>\n",
       "    </tr>\n",
       "    <tr>\n",
       "      <th>67</th>\n",
       "      <td>68</td>\n",
       "      <td>3.07</td>\n",
       "      <td>1.00</td>\n",
       "      <td>Yes</td>\n",
       "      <td>Sat</td>\n",
       "      <td>Dinner</td>\n",
       "      <td>1.0</td>\n",
       "    </tr>\n",
       "    <tr>\n",
       "      <th>68</th>\n",
       "      <td>69</td>\n",
       "      <td>20.23</td>\n",
       "      <td>2.01</td>\n",
       "      <td>No</td>\n",
       "      <td>Sat</td>\n",
       "      <td>Dinner</td>\n",
       "      <td>NaN</td>\n",
       "    </tr>\n",
       "    <tr>\n",
       "      <th>69</th>\n",
       "      <td>70</td>\n",
       "      <td>15.01</td>\n",
       "      <td>2.09</td>\n",
       "      <td>Yes</td>\n",
       "      <td>Sat</td>\n",
       "      <td>Dinner</td>\n",
       "      <td>2.0</td>\n",
       "    </tr>\n",
       "    <tr>\n",
       "      <th>70</th>\n",
       "      <td>71</td>\n",
       "      <td>12.02</td>\n",
       "      <td>1.97</td>\n",
       "      <td>No</td>\n",
       "      <td>Sat</td>\n",
       "      <td>Dinner</td>\n",
       "      <td>2.0</td>\n",
       "    </tr>\n",
       "    <tr>\n",
       "      <th>71</th>\n",
       "      <td>72</td>\n",
       "      <td>17.07</td>\n",
       "      <td>3.00</td>\n",
       "      <td>No</td>\n",
       "      <td>Sat</td>\n",
       "      <td>Dinner</td>\n",
       "      <td>3.0</td>\n",
       "    </tr>\n",
       "    <tr>\n",
       "      <th>72</th>\n",
       "      <td>73</td>\n",
       "      <td>NaN</td>\n",
       "      <td>3.14</td>\n",
       "      <td>Yes</td>\n",
       "      <td>Sat</td>\n",
       "      <td>Dinner</td>\n",
       "      <td>2.0</td>\n",
       "    </tr>\n",
       "    <tr>\n",
       "      <th>73</th>\n",
       "      <td>74</td>\n",
       "      <td>25.28</td>\n",
       "      <td>5.00</td>\n",
       "      <td>Yes</td>\n",
       "      <td>Sat</td>\n",
       "      <td>Dinner</td>\n",
       "      <td>NaN</td>\n",
       "    </tr>\n",
       "    <tr>\n",
       "      <th>74</th>\n",
       "      <td>75</td>\n",
       "      <td>14.73</td>\n",
       "      <td>2.20</td>\n",
       "      <td>No</td>\n",
       "      <td>Sat</td>\n",
       "      <td>Dinner</td>\n",
       "      <td>2.0</td>\n",
       "    </tr>\n",
       "    <tr>\n",
       "      <th>75</th>\n",
       "      <td>76</td>\n",
       "      <td>10.51</td>\n",
       "      <td>1.25</td>\n",
       "      <td>No</td>\n",
       "      <td>Sat</td>\n",
       "      <td>Dinner</td>\n",
       "      <td>2.0</td>\n",
       "    </tr>\n",
       "    <tr>\n",
       "      <th>76</th>\n",
       "      <td>77</td>\n",
       "      <td>17.92</td>\n",
       "      <td>3.08</td>\n",
       "      <td>Yes</td>\n",
       "      <td>Sat</td>\n",
       "      <td>Dinner</td>\n",
       "      <td>2.0</td>\n",
       "    </tr>\n",
       "  </tbody>\n",
       "</table>\n",
       "</div>"
      ],
      "text/plain": [
       "    SINO  TotalBill  Tips Smoker  Day    Time  Size\n",
       "19    20      20.65  3.35     No  Sat  Dinner   3.0\n",
       "20    21      17.92  4.08     No  Sat  Dinner   2.0\n",
       "21    22      20.29   NaN     No  Sat  Dinner   2.0\n",
       "22    23      15.77  2.23     No  Sat  Dinner   2.0\n",
       "24    25      19.82  3.18     No  Sat  Dinner   2.0\n",
       "25    26      17.81  2.34     No  Sat  Dinner   4.0\n",
       "26    27      13.37  2.00     No  Sat  Dinner   2.0\n",
       "27    28        NaN   NaN     No  Sat  Dinner   2.0\n",
       "28    29      21.70  4.30     No  Sat  Dinner   2.0\n",
       "29    30      19.65  3.00     No  Sat  Dinner   2.0\n",
       "31    32      18.35  2.50     No  Sat  Dinner   4.0\n",
       "32    33      15.06  3.00     No  Sat  Dinner   2.0\n",
       "33    34        NaN  2.45     No  Sat  Dinner   4.0\n",
       "34    35      17.78  3.27     No  Sat  Dinner   2.0\n",
       "35    36      24.06  3.60    NaN  Sat  Dinner   3.0\n",
       "36    37      16.31  2.00     No  Sat  Dinner   3.0\n",
       "38    39      18.69  2.31     No  Sat  Dinner   3.0\n",
       "40    41      16.04  2.24     No  Sat  Dinner   3.0\n",
       "56    57      38.01  3.00    Yes  Sat  Dinner   4.0\n",
       "57    58      26.41  1.50     No  Sat  Dinner   2.0\n",
       "58    59      11.24  1.76    Yes  Sat  Dinner   2.0\n",
       "59    60      48.27  6.73     No  Sat  Dinner   NaN\n",
       "60    61      20.29  3.21    Yes  Sat     NaN   2.0\n",
       "61    62      13.81  2.00    Yes  Sat  Dinner   2.0\n",
       "62    63      11.02  1.98    Yes  Sat  Dinner   2.0\n",
       "63    64      18.29  3.76    Yes  Sat  Dinner   4.0\n",
       "64    65      17.59  2.64     No  Sat  Dinner   3.0\n",
       "65    66        NaN  3.15    NaN  Sat  Dinner   3.0\n",
       "66    67      16.45  2.47     No  Sat  Dinner   2.0\n",
       "67    68       3.07  1.00    Yes  Sat  Dinner   1.0\n",
       "68    69      20.23  2.01     No  Sat  Dinner   NaN\n",
       "69    70      15.01  2.09    Yes  Sat  Dinner   2.0\n",
       "70    71      12.02  1.97     No  Sat  Dinner   2.0\n",
       "71    72      17.07  3.00     No  Sat  Dinner   3.0\n",
       "72    73        NaN  3.14    Yes  Sat  Dinner   2.0\n",
       "73    74      25.28  5.00    Yes  Sat  Dinner   NaN\n",
       "74    75      14.73  2.20     No  Sat  Dinner   2.0\n",
       "75    76      10.51  1.25     No  Sat  Dinner   2.0\n",
       "76    77      17.92  3.08    Yes  Sat  Dinner   2.0"
      ]
     },
     "execution_count": 3,
     "metadata": {},
     "output_type": "execute_result"
    }
   ],
   "source": [
    "#finding all values in one group\n",
    "grp.get_group('Sat')"
   ]
  },
  {
   "cell_type": "markdown",
   "metadata": {},
   "source": [
    "# Data Cleaning with Pandas\n",
    "According to IBM Data Analytics you can expect to spend up to 80% of your time cleaning data.\n",
    "\n",
    "Data Cleaning activities -Missing Data -Irregular Data (Outliers) -Unnecessary Data — Repetitive Data, Duplicates and more -Inconsistent Data — Capitalization, Addresses and more"
   ]
  },
  {
   "cell_type": "code",
   "execution_count": 6,
   "metadata": {},
   "outputs": [
    {
     "name": "stdout",
     "output_type": "stream",
     "text": [
      "   SINO  TotalBill  Tips Smoker  Day    Time  Size\n",
      "0     1      16.99  1.01     No  Sun  Dinner   2.0\n",
      "1     2      10.34  1.66     No  Sun  Dinner   3.0\n",
      "2     3        NaN  3.50     No  Sun  Dinner   3.0\n",
      "3     4      23.68  3.31     No  NaN  Dinner   2.0\n",
      "4     5      24.59  3.61     No  Sun  Dinner   NaN\n",
      "   SINO  TotalBill  Tips Smoker  Day    Time\n",
      "0     1      16.99  1.01     No  Sun  Dinner\n",
      "1     2      10.34  1.66     No  Sun  Dinner\n",
      "2     3        NaN  3.50     No  Sun  Dinner\n",
      "3     4      23.68  3.31     No  NaN  Dinner\n",
      "4     5      24.59  3.61     No  Sun  Dinner\n"
     ]
    }
   ],
   "source": [
    "#Drop Columns\n",
    "import pandas as pds\n",
    "myfile=pds.read_table(\"d:\\\\MLDataSet\\\\myTips.csv\",delimiter=',')\n",
    "df=pds.DataFrame(myfile)\n",
    "print(df.head())\n",
    "noSize=df.drop(columns='Size')\n",
    "print(noSize.head())"
   ]
  },
  {
   "cell_type": "code",
   "execution_count": 7,
   "metadata": {},
   "outputs": [
    {
     "name": "stdout",
     "output_type": "stream",
     "text": [
      "    SINO  TotalBill  Tips Smoker  Day\n",
      "0      1      16.99  1.01     No  Sun\n",
      "1      2      10.34  1.66     No  Sun\n",
      "2      3        NaN  3.50     No  Sun\n",
      "3      4      23.68  3.31     No  NaN\n",
      "4      5      24.59  3.61     No  Sun\n",
      "..   ...        ...   ...    ...  ...\n",
      "95    96      40.17  4.73    Yes  Fri\n",
      "96    97      27.28  4.00    NaN  Fri\n",
      "97    98        NaN  1.50    Yes  Fri\n",
      "98    99      21.01  3.00    Yes  Fri\n",
      "99   100      25.10   NaN    NaN  NaN\n",
      "\n",
      "[100 rows x 5 columns]\n"
     ]
    }
   ],
   "source": [
    "#Drop Multiple Columns\n",
    "multiDrop=df.drop(columns=['Time','Size'])\n",
    "print(multiDrop)"
   ]
  },
  {
   "cell_type": "code",
   "execution_count": 8,
   "metadata": {},
   "outputs": [
    {
     "name": "stdout",
     "output_type": "stream",
     "text": [
      "    SINO  TotalBill  Tips Smoker  Day    Time  Size\n",
      "0      1      16.99  1.01     No  Sun  Dinner   2.0\n",
      "2      3        NaN  3.50     No  Sun  Dinner   3.0\n",
      "3      4      23.68  3.31     No  NaN  Dinner   2.0\n",
      "4      5      24.59  3.61     No  Sun  Dinner   NaN\n",
      "5      6      25.29  4.71     No  Sun  Dinner   4.0\n",
      "..   ...        ...   ...    ...  ...     ...   ...\n",
      "95    96      40.17  4.73    Yes  Fri     NaN   4.0\n",
      "96    97      27.28  4.00    NaN  Fri  Dinner   2.0\n",
      "97    98        NaN  1.50    Yes  Fri  Dinner   NaN\n",
      "98    99      21.01  3.00    Yes  Fri     NaN   2.0\n",
      "99   100      25.10   NaN    NaN  NaN   Lunch   2.0\n",
      "\n",
      "[99 rows x 7 columns]\n"
     ]
    }
   ],
   "source": [
    "#Drop Rows\n",
    "oneRow=df.drop(index=1)\n",
    "print(oneRow)"
   ]
  },
  {
   "cell_type": "code",
   "execution_count": 9,
   "metadata": {},
   "outputs": [
    {
     "name": "stdout",
     "output_type": "stream",
     "text": [
      "    SINO  TotalBill  Tips Smoker  Day    Time  Size\n",
      "3      4      23.68  3.31     No  NaN  Dinner   2.0\n",
      "4      5      24.59  3.61     No  Sun  Dinner   NaN\n",
      "5      6      25.29  4.71     No  Sun  Dinner   4.0\n",
      "6      7       8.77  2.00     No  Sun  Dinner   NaN\n",
      "7      8        NaN  3.12     No  Sun  Dinner   4.0\n",
      "..   ...        ...   ...    ...  ...     ...   ...\n",
      "95    96      40.17  4.73    Yes  Fri     NaN   4.0\n",
      "96    97      27.28  4.00    NaN  Fri  Dinner   2.0\n",
      "97    98        NaN  1.50    Yes  Fri  Dinner   NaN\n",
      "98    99      21.01  3.00    Yes  Fri     NaN   2.0\n",
      "99   100      25.10   NaN    NaN  NaN   Lunch   2.0\n",
      "\n",
      "[97 rows x 7 columns]\n"
     ]
    }
   ],
   "source": [
    "#Drop Multiple Rows\n",
    "multiRow=df.drop(index=[0,1,2])\n",
    "#multiRow=df.drop(index=[0:10])\n",
    "print(multiRow)"
   ]
  },
  {
   "cell_type": "code",
   "execution_count": 10,
   "metadata": {},
   "outputs": [
    {
     "name": "stdout",
     "output_type": "stream",
     "text": [
      "{'Name': ['Pankaj', 'sapna', 'Parth', 'Hansika'], 'ID': [1, 2, 3, 4], 'Role': ['Professor', 'Asst. Professor', 'CEO', 'Director']}\n",
      "      Name  ID             Role\n",
      "0   Pankaj   1        Professor\n",
      "1    sapna   2  Asst. Professor\n",
      "2    Parth   3              CEO\n",
      "3  Hansika   4         Director\n",
      "      Name             Role\n",
      "0   Pankaj        Professor\n",
      "1    sapna  Asst. Professor\n",
      "2    Parth              CEO\n",
      "3  Hansika         Director\n"
     ]
    }
   ],
   "source": [
    "import pandas as pd\n",
    "\n",
    "d1 = {'Name': ['Pankaj', 'sapna', 'Parth','Hansika'], 'ID': [1, 2, 3,4], 'Role': ['Professor', 'Asst. Professor', 'CEO','Director']}\n",
    "print(d1)\n",
    "dr=pd.DataFrame(d1)\n",
    "print(dr)\n",
    "dr.drop(columns=['ID'],inplace=True)\n",
    "print(dr)"
   ]
  },
  {
   "cell_type": "code",
   "execution_count": 11,
   "metadata": {},
   "outputs": [
    {
     "name": "stdout",
     "output_type": "stream",
     "text": [
      "      Name      Role\n",
      "2    Parth       CEO\n",
      "3  Hansika  Director\n"
     ]
    }
   ],
   "source": [
    "dropRows=dr.drop(labels=[0,1],axis=0)\n",
    "print(dropRows)"
   ]
  },
  {
   "cell_type": "code",
   "execution_count": 12,
   "metadata": {},
   "outputs": [
    {
     "name": "stdout",
     "output_type": "stream",
     "text": [
      "      Name\n",
      "0   Pankaj\n",
      "1    sapna\n",
      "2    Parth\n",
      "3  Hansika\n"
     ]
    }
   ],
   "source": [
    "dropCols=dr.drop(labels=['Role'],axis=1)\n",
    "print(dropCols)"
   ]
  },
  {
   "cell_type": "code",
   "execution_count": 14,
   "metadata": {},
   "outputs": [
    {
     "name": "stdout",
     "output_type": "stream",
     "text": [
      "      Name             Role\n",
      "0   Pankaj        Professor\n",
      "1    sapna  Asst. Professor\n",
      "2    Parth              CEO\n",
      "3  Hansika         Director\n"
     ]
    }
   ],
   "source": [
    "#We can suppress this error by specifying errors='ignore' \n",
    "#in the drop() function call.\n",
    "dropErr=dr.drop(labels=['XYZ'],axis=1,errors='ignore')\n",
    "print(dropErr)"
   ]
  },
  {
   "cell_type": "markdown",
   "metadata": {},
   "source": [
    "# drop Duplicates\n",
    "Pandas drop_duplicates() function removes duplicate rows from the DataFrame.\n",
    "\n",
    "Its syntax is:\n",
    "\n",
    "drop_duplicates(self, subset=None, keep=\"first\", inplace=False)\n",
    "\n",
    "subset: column label or sequence of labels to consider for identifying duplicate rows. By default, all the columns are used to find the duplicate rows.\n",
    "\n",
    "keep: allowed values are {‘first’, ‘last’, False}, default ‘first’. If ‘first’, duplicate rows except the first one is deleted. If ‘last’, duplicate rows except the last one is deleted. If False, all the duplicate rows are deleted.\n",
    "\n",
    "inplace: if True, the source DataFrame is changed and None is returned. By default, source DataFrame remains unchanged and a new DataFrame instance is returned."
   ]
  },
  {
   "cell_type": "code",
   "execution_count": 15,
   "metadata": {},
   "outputs": [
    {
     "name": "stdout",
     "output_type": "stream",
     "text": [
      "Source DataFrame:\n",
      "    A  B  C  D\n",
      "0  1  2  3  3\n",
      "1  1  2  3  3\n",
      "2  1  2  4  4\n",
      "3  2  3  5  5\n",
      "Result dataframe\n",
      "    A  B  C  D\n",
      "0  1  2  3  3\n",
      "2  1  2  4  4\n",
      "3  2  3  5  5\n"
     ]
    }
   ],
   "source": [
    "#Drop Duplicate Rows Keeping the First One\n",
    "import pandas as pd\n",
    "\n",
    "d1 = {'A': [1, 1, 1, 2], 'B': [2, 2, 2, 3], 'C': [3, 3, 4, 5],'D': [3, 3, 4, 5]}\n",
    "\n",
    "source_df = pd.DataFrame(d1)\n",
    "print('Source DataFrame:\\n', source_df)\n",
    "\n",
    "# keep first duplicate row\n",
    "result_df = source_df.drop_duplicates()\n",
    "print('Result dataframe\\n',result_df)"
   ]
  },
  {
   "cell_type": "code",
   "execution_count": 16,
   "metadata": {},
   "outputs": [
    {
     "name": "stdout",
     "output_type": "stream",
     "text": [
      "Result dataframe\n",
      "    A  B  C  D\n",
      "1  1  2  3  3\n",
      "2  1  2  4  4\n",
      "3  2  3  5  5\n"
     ]
    }
   ],
   "source": [
    "#Drop Duplicates and Keep Last Row\n",
    "\n",
    "result_df = source_df.drop_duplicates(keep='last')\n",
    "print('Result dataframe\\n',result_df)"
   ]
  },
  {
   "cell_type": "code",
   "execution_count": 17,
   "metadata": {},
   "outputs": [
    {
     "name": "stdout",
     "output_type": "stream",
     "text": [
      "Source DataFrame:\n",
      "    A  B  C  D\n",
      "0  1  2  3  3\n",
      "1  1  2  3  3\n",
      "2  1  2  4  4\n",
      "3  2  3  5  5\n",
      "Result dataframe\n",
      "    A  B  C  D\n",
      "2  1  2  4  4\n",
      "3  2  3  5  5\n"
     ]
    }
   ],
   "source": [
    "#Delete All Duplicate Rows from DataFrame\n",
    "print('Source DataFrame:\\n', source_df)\n",
    "result_df = source_df.drop_duplicates(keep=False)\n",
    "print('Result dataframe\\n',result_df)"
   ]
  },
  {
   "cell_type": "code",
   "execution_count": 18,
   "metadata": {},
   "outputs": [
    {
     "name": "stdout",
     "output_type": "stream",
     "text": [
      "Source DataFrame:\n",
      "    A  B  C  D\n",
      "0  1  2  3  3\n",
      "1  1  2  3  3\n",
      "2  1  2  4  4\n",
      "3  2  3  5  5\n",
      "Result dataframe\n",
      "    A  B  C  D\n",
      "0  1  2  3  3\n",
      "3  2  3  5  5\n"
     ]
    }
   ],
   "source": [
    "#Identify Duplicate Rows based on Specific Columns\n",
    "print('Source DataFrame:\\n', source_df)\n",
    "result_df = source_df.drop_duplicates(subset=['A','B'])\n",
    "print('Result dataframe\\n',result_df)"
   ]
  },
  {
   "cell_type": "code",
   "execution_count": 19,
   "metadata": {},
   "outputs": [
    {
     "name": "stdout",
     "output_type": "stream",
     "text": [
      "Source DataFrame:\n",
      "    A  B  C  D\n",
      "0  1  2  3  3\n",
      "1  1  2  3  3\n",
      "2  1  2  4  4\n",
      "3  2  3  5  5\n",
      "Result dataframe\n",
      " None\n"
     ]
    }
   ],
   "source": [
    "print('Source DataFrame:\\n', source_df)\n",
    "dupRows=source_df.drop_duplicates(inplace=True)\n",
    "print('Result dataframe\\n',dupRows)"
   ]
  },
  {
   "cell_type": "markdown",
   "metadata": {},
   "source": [
    "### Python Pandas String and Regular Expression"
   ]
  },
  {
   "cell_type": "markdown",
   "metadata": {},
   "source": [
    "Write a Pandas program to convert all the string values to upper, lower cases in a given pandas series."
   ]
  },
  {
   "cell_type": "code",
   "execution_count": 20,
   "metadata": {},
   "outputs": [
    {
     "name": "stdout",
     "output_type": "stream",
     "text": [
      "Original series:\n",
      "0         X\n",
      "1         Y\n",
      "2         Z\n",
      "3      Aaba\n",
      "4      Baca\n",
      "5       NaN\n",
      "6      CABA\n",
      "7      None\n",
      "8      bird\n",
      "9     horse\n",
      "10      dog\n",
      "dtype: object\n",
      "\n",
      "Convert all string values of the said Series to upper case:\n",
      "0         X\n",
      "1         Y\n",
      "2         Z\n",
      "3      AABA\n",
      "4      BACA\n",
      "5       NaN\n",
      "6      CABA\n",
      "7      None\n",
      "8      BIRD\n",
      "9     HORSE\n",
      "10      DOG\n",
      "dtype: object\n",
      "\n",
      "Convert all string values of the said Series to lower case:\n",
      "0         x\n",
      "1         y\n",
      "2         z\n",
      "3      aaba\n",
      "4      baca\n",
      "5       NaN\n",
      "6      caba\n",
      "7      None\n",
      "8      bird\n",
      "9     horse\n",
      "10      dog\n",
      "dtype: object\n",
      "\n",
      "Length of the string values of the said Series:\n",
      "0     1.0\n",
      "1     1.0\n",
      "2     1.0\n",
      "3     4.0\n",
      "4     4.0\n",
      "5     NaN\n",
      "6     4.0\n",
      "7     NaN\n",
      "8     4.0\n",
      "9     5.0\n",
      "10    3.0\n",
      "dtype: float64\n"
     ]
    }
   ],
   "source": [
    "import pandas as pd\n",
    "import numpy as np\n",
    "s = pd.Series(['X', 'Y', 'Z', 'Aaba', 'Baca', np.nan, 'CABA', None, 'bird', 'horse', 'dog'])\n",
    "print(\"Original series:\")\n",
    "print(s)\n",
    "print(\"\\nConvert all string values of the said Series to upper case:\")\n",
    "print(s.str.upper())\n",
    "print(\"\\nConvert all string values of the said Series to lower case:\")\n",
    "print(s.str.lower())\n",
    "print(\"\\nLength of the string values of the said Series:\")\n",
    "print(s.str.len())"
   ]
  },
  {
   "cell_type": "markdown",
   "metadata": {},
   "source": [
    "Write a Pandas program to remove whitespaces, left sided whitespaces and right sided whitespaces of the string values of a given pandas series"
   ]
  },
  {
   "cell_type": "code",
   "execution_count": 21,
   "metadata": {},
   "outputs": [
    {
     "name": "stdout",
     "output_type": "stream",
     "text": [
      "Original series:\n",
      "Index([' Green', 'Black ', ' Red ', 'White', ' Pink '], dtype='object')\n",
      "\n",
      "Remove whitespace\n",
      "Index(['Green', 'Black', 'Red', 'White', 'Pink'], dtype='object')\n",
      "\n",
      "Remove left sided whitespace\n",
      "Index(['Green', 'Black ', 'Red ', 'White', 'Pink '], dtype='object')\n",
      "\n",
      "Remove Right sided whitespace\n",
      "Index([' Green', 'Black', ' Red', 'White', ' Pink'], dtype='object')\n"
     ]
    }
   ],
   "source": [
    "import pandas as pd\n",
    "color1 = pd.Index([' Green', 'Black ', ' Red ', 'White', ' Pink '])\n",
    "print(\"Original series:\")\n",
    "print(color1)\n",
    "print(\"\\nRemove whitespace\")\n",
    "print(color1.str.strip())\n",
    "print(\"\\nRemove left sided whitespace\")\n",
    "print(color1.str.lstrip())\n",
    "print(\"\\nRemove Right sided whitespace\")\n",
    "print(color1.str.rstrip())"
   ]
  },
  {
   "cell_type": "markdown",
   "metadata": {},
   "source": [
    "Write a Pandas program to add leading zeros to the integer column in a pandas series and makes the length of the field to 8 digit"
   ]
  },
  {
   "cell_type": "code",
   "execution_count": 22,
   "metadata": {},
   "outputs": [
    {
     "name": "stdout",
     "output_type": "stream",
     "text": [
      "Original dataframe:\n",
      "   amount\n",
      "0      10\n",
      "1     250\n",
      "2    3000\n",
      "3   40000\n",
      "4  500000\n",
      "\n",
      "Add leading zeros:\n",
      "     amount\n",
      "0  00000010\n",
      "1  00000250\n",
      "2  00003000\n",
      "3  00040000\n",
      "4  00500000\n"
     ]
    }
   ],
   "source": [
    "import pandas as pd\n",
    "nums = {'amount': [10, 250, 3000, 40000, 500000]}\n",
    "print(\"Original dataframe:\")\n",
    "df = pd.DataFrame(nums)\n",
    "print(df)\n",
    "print(\"\\nAdd leading zeros:\")\n",
    "df['amount'] = df['amount'].apply(lambda x: '{0:0>8}'.format(x))\n",
    "print(df)"
   ]
  },
  {
   "cell_type": "markdown",
   "metadata": {},
   "source": [
    "Write a Pandas program to count of occurrence of a specified substring in a DataFrame column"
   ]
  },
  {
   "cell_type": "code",
   "execution_count": 26,
   "metadata": {},
   "outputs": [
    {
     "name": "stdout",
     "output_type": "stream",
     "text": [
      "Original DataFrame:\n",
      "  name_code date_of_birth    age\n",
      "0      c001     12/05/2002  18.5\n",
      "1      c002     16/02/1999  21.2\n",
      "2      c022     25/09/1998  22.5\n",
      "3     c2002     12/02/2022  22.0\n",
      "4     c2222     15/09/1997  23.0\n",
      "\n",
      "Count occurrence of 2 in date_of_birth column:\n",
      "  name_code date_of_birth    age  count\n",
      "0      c001     12/05/2002  18.5      0\n",
      "1      c002     16/02/1999  21.2      1\n",
      "2      c022     25/09/1998  22.5      2\n",
      "3     c2002     12/02/2022  22.0      2\n",
      "4     c2222     15/09/1997  23.0      4\n"
     ]
    }
   ],
   "source": [
    "import pandas as pd\n",
    "df = pd.DataFrame({\n",
    "    'name_code': ['c001','c002','c022', 'c2002', 'c2222'],\n",
    "    'date_of_birth ': ['12/05/2002','16/02/1999','25/09/1998','12/02/2022','15/09/1997'],\n",
    "    'age': [18.5, 21.2, 22.5, 22, 23]\n",
    "})\n",
    "print(\"Original DataFrame:\")\n",
    "print(df)\n",
    "print(\"\\nCount occurrence of 2 in date_of_birth column:\")\n",
    "df['count'] = list(map(lambda x: x.count(\"2\"), df['name_code']))\n",
    "print(df)"
   ]
  },
  {
   "cell_type": "markdown",
   "metadata": {},
   "source": [
    "Write a Pandas program to find the index of a given substring of a DataFrame column"
   ]
  },
  {
   "cell_type": "code",
   "execution_count": 27,
   "metadata": {},
   "outputs": [
    {
     "name": "stdout",
     "output_type": "stream",
     "text": [
      "Original DataFrame:\n",
      "  name_code date_of_birth    age\n",
      "0      c001     12/05/2002  18.5\n",
      "1      c002     16/02/1999  21.2\n",
      "2      c022     25/09/1998  22.5\n",
      "3     c2002     12/02/2022  22.0\n",
      "4     c2222     15/09/1997  23.0\n",
      "\n",
      "Count occurrence of 22 in date_of_birth column:\n",
      "  name_code date_of_birth    age  Index\n",
      "0      c001     12/05/2002  18.5     -1\n",
      "1      c002     16/02/1999  21.2     -1\n",
      "2      c022     25/09/1998  22.5      2\n",
      "3     c2002     12/02/2022  22.0     -1\n",
      "4     c2222     15/09/1997  23.0      1\n"
     ]
    }
   ],
   "source": [
    "import pandas as pd\n",
    "df = pd.DataFrame({\n",
    "    'name_code': ['c001','c002','c022', 'c2002', 'c2222'],\n",
    "    'date_of_birth ': ['12/05/2002','16/02/1999','25/09/1998','12/02/2022','15/09/1997'],\n",
    "    'age': [18.5, 21.2, 22.5, 22, 23]\n",
    "})\n",
    "print(\"Original DataFrame:\")\n",
    "print(df)\n",
    "print(\"\\nCount occurrence of 22 in date_of_birth column:\")\n",
    "df['Index'] = list(map(lambda x: x.find('22'), df['name_code']))\n",
    "print(df)"
   ]
  },
  {
   "cell_type": "markdown",
   "metadata": {},
   "source": [
    "Write a Pandas program to find the index of a substring of DataFrame with beginning and end position"
   ]
  },
  {
   "cell_type": "code",
   "execution_count": 28,
   "metadata": {},
   "outputs": [
    {
     "name": "stdout",
     "output_type": "stream",
     "text": [
      "Original DataFrame:\n",
      "  name_code date_of_birth    age\n",
      "0     c0001     12/05/2002  18.5\n",
      "1     1000c     16/02/1999  21.2\n",
      "2     b00c2     25/09/1998  22.5\n",
      "3     b2c02     12/02/2022  22.0\n",
      "4     c2222     15/09/1997  23.0\n",
      "\n",
      "Index of a substring in a specified column of a dataframe:\n",
      "  name_code date_of_birth    age  Index\n",
      "0     c0001     12/05/2002  18.5      0\n",
      "1     1000c     16/02/1999  21.2      4\n",
      "2     b00c2     25/09/1998  22.5      3\n",
      "3     b2c02     12/02/2022  22.0      2\n",
      "4     c2222     15/09/1997  23.0      0\n"
     ]
    }
   ],
   "source": [
    "import pandas as pd\n",
    "df = pd.DataFrame({\n",
    "    'name_code': ['c0001','1000c','b00c2', 'b2c02', 'c2222'],\n",
    "    'date_of_birth ': ['12/05/2002','16/02/1999','25/09/1998','12/02/2022','15/09/1997'],\n",
    "    'age': [18.5, 21.2, 22.5, 22, 23]\n",
    "})\n",
    "print(\"Original DataFrame:\")\n",
    "print(df)\n",
    "print(\"\\nIndex of a substring in a specified column of a dataframe:\")\n",
    "df['Index'] = list(map(lambda x: x.find('c', 0, 5), df['name_code']))\n",
    "print(df)"
   ]
  },
  {
   "cell_type": "markdown",
   "metadata": {},
   "source": [
    "Write a Pandas program to check whether only numeric values present in a given column of a DataFrame."
   ]
  },
  {
   "cell_type": "code",
   "execution_count": 29,
   "metadata": {},
   "outputs": [
    {
     "name": "stdout",
     "output_type": "stream",
     "text": [
      "Original DataFrame:\n",
      "   company_code date_of_sale   sale_amount\n",
      "0       Company    12/05/2002      12348.5\n",
      "1  Company a001    16/02/1999     233331.2\n",
      "2          2055    25/09/1998         22.5\n",
      "3          abcd    12/02/2022    2566552.0\n",
      "4        123345    15/09/1997         23.0\n",
      "\n",
      "Numeric values present in company_code column:\n",
      "   company_code date_of_sale   sale_amount  company_code_is_digit\n",
      "0       Company    12/05/2002      12348.5                  False\n",
      "1  Company a001    16/02/1999     233331.2                  False\n",
      "2          2055    25/09/1998         22.5                   True\n",
      "3          abcd    12/02/2022    2566552.0                  False\n",
      "4        123345    15/09/1997         23.0                   True\n"
     ]
    }
   ],
   "source": [
    "import pandas as pd\n",
    "df = pd.DataFrame({\n",
    "    'company_code': ['Company','Company a001', '2055', 'abcd', '123345'],\n",
    "    'date_of_sale ': ['12/05/2002','16/02/1999','25/09/1998','12/02/2022','15/09/1997'],\n",
    "    'sale_amount': [12348.5, 233331.2, 22.5, 2566552.0, 23.0]})\n",
    "\n",
    "print(\"Original DataFrame:\")\n",
    "print(df)\n",
    "print(\"\\nNumeric values present in company_code column:\")\n",
    "df['company_code_is_digit'] = list(map(lambda x: x.isdigit(), df['company_code']))\n",
    "print(df)"
   ]
  },
  {
   "cell_type": "markdown",
   "metadata": {},
   "source": [
    "Write a Pandas program to replace more than one value with other values in a given DataFrame."
   ]
  },
  {
   "cell_type": "code",
   "execution_count": 30,
   "metadata": {},
   "outputs": [
    {
     "name": "stdout",
     "output_type": "stream",
     "text": [
      "Original DataFrame:\n",
      "  company_code date_of_sale  sale_amount\n",
      "0            A   12/05/2002      12348.5\n",
      "1            B   16/02/1999     233331.2\n",
      "2            C   25/09/1998         22.5\n",
      "3            D   12/02/2022    2566552.0\n",
      "4            A   15/09/1997         23.0\n",
      "\n",
      "Replace A with c:\n",
      "  company_code date_of_sale  sale_amount\n",
      "0            X   12/05/2002      12348.5\n",
      "1            B   16/02/1999     233331.2\n",
      "2            C   25/09/1998         22.5\n",
      "3            Y   12/02/2022    2566552.0\n",
      "4            X   15/09/1997         23.0\n"
     ]
    }
   ],
   "source": [
    "import pandas as pd\n",
    "df = pd.DataFrame({\n",
    "    'company_code': ['A','B', 'C', 'D', 'A'],\n",
    "    'date_of_sale': ['12/05/2002','16/02/1999','25/09/1998','12/02/2022','15/09/1997'],\n",
    "    'sale_amount': [12348.5, 233331.2, 22.5, 2566552.0, 23.0]\n",
    "})\n",
    "\n",
    "print(\"Original DataFrame:\")\n",
    "print(df)\n",
    "\n",
    "print(\"\\nReplace A with c:\")\n",
    "df = df.replace([\"A\", \"D\"], [\"X\", \"Y\"])\n",
    "print(df)"
   ]
  },
  {
   "cell_type": "markdown",
   "metadata": {},
   "source": [
    "Write a Pandas program to split a string of a column of a given DataFrame into multiple columns."
   ]
  },
  {
   "cell_type": "code",
   "execution_count": 31,
   "metadata": {},
   "outputs": [
    {
     "name": "stdout",
     "output_type": "stream",
     "text": [
      "Original DataFrame:\n",
      "                 name date_of_birth    age\n",
      "0     Alberto  Franco     17/05/2002  18.5\n",
      "1    Gino Ann Mcneill     16/02/1999  21.2\n",
      "2        Ryan  Parkes     25/09/1998  22.5\n",
      "3  Eesha Artur Hinton     11/05/2002  22.0\n",
      "4       Syed  Wharton     15/09/1997  23.0\n",
      "\n",
      "New DataFrame:\n",
      "                 name date_of_birth    age    first middle     last\n",
      "0     Alberto  Franco     17/05/2002  18.5  Alberto          Franco\n",
      "1    Gino Ann Mcneill     16/02/1999  21.2     Gino    Ann  Mcneill\n",
      "2        Ryan  Parkes     25/09/1998  22.5     Ryan          Parkes\n",
      "3  Eesha Artur Hinton     11/05/2002  22.0    Eesha  Artur   Hinton\n",
      "4       Syed  Wharton     15/09/1997  23.0     Syed         Wharton\n"
     ]
    }
   ],
   "source": [
    "import pandas as pd\n",
    "df = pd.DataFrame({\n",
    "    'name': ['Alberto  Franco','Gino Ann Mcneill','Ryan  Parkes', 'Eesha Artur Hinton', 'Syed  Wharton'],\n",
    "    'date_of_birth ': ['17/05/2002','16/02/1999','25/09/1998','11/05/2002','15/09/1997'],\n",
    "    'age': [18.5, 21.2, 22.5, 22, 23]\n",
    "})\n",
    "print(\"Original DataFrame:\")\n",
    "print(df)\n",
    "df[[\"first\", \"middle\", \"last\"]] = df[\"name\"].str.split(\" \", expand = True)\n",
    "print(\"\\nNew DataFrame:\")\n",
    "print(df)"
   ]
  },
  {
   "cell_type": "markdown",
   "metadata": {},
   "source": [
    "Write a Pandas program to extract email from a specified column of string type of a given DataFrame"
   ]
  },
  {
   "cell_type": "code",
   "execution_count": 32,
   "metadata": {},
   "outputs": [
    {
     "name": "stdout",
     "output_type": "stream",
     "text": [
      "Original DataFrame:\n",
      "                    name_email\n",
      "0  Alberto Franco af@gmail.com\n",
      "1    Gino Mcneill gm@yahoo.com\n",
      "2        Ryan Parkes rp@abc.io\n",
      "3                 Eesha Hinton\n",
      "4   Gino Mcneill gm@github.com\n",
      "\\Extracting email from dataframe columns:\n",
      "                    name_email          email\n",
      "0  Alberto Franco af@gmail.com   af@gmail.com\n",
      "1    Gino Mcneill gm@yahoo.com   gm@yahoo.com\n",
      "2        Ryan Parkes rp@abc.io      rp@abc.io\n",
      "3                 Eesha Hinton               \n",
      "4   Gino Mcneill gm@github.com  gm@github.com\n"
     ]
    }
   ],
   "source": [
    "import pandas as pd\n",
    "import re as re\n",
    "pd.set_option('display.max_columns', 10)\n",
    "df = pd.DataFrame({\n",
    "    'name_email': ['Alberto Franco af@gmail.com','Gino Mcneill gm@yahoo.com','Ryan Parkes rp@abc.io', 'Eesha Hinton', 'Gino Mcneill gm@github.com']\n",
    "    })\n",
    "print(\"Original DataFrame:\")\n",
    "print(df)\n",
    "def find_email(text):\n",
    "    email = re.findall(r'[\\w\\.-]+@[\\w\\.-]+',str(text))\n",
    "    return \",\".join(email)\n",
    "df['email']=df['name_email'].apply(lambda x: find_email(x))\n",
    "print(\"\\Extracting email from dataframe columns:\")\n",
    "print(df)"
   ]
  },
  {
   "cell_type": "markdown",
   "metadata": {},
   "source": [
    "Write a Pandas program to extract hash attached word from twitter text from the specified column of a given DataFrame."
   ]
  },
  {
   "cell_type": "code",
   "execution_count": 33,
   "metadata": {},
   "outputs": [
    {
     "name": "stdout",
     "output_type": "stream",
     "text": [
      "Original DataFrame:\n",
      "                                  tweets\n",
      "0                    #Obama says goodbye\n",
      "1                     Retweets for #cash\n",
      "2  A political endorsement in #Indonesia\n",
      "3                 1 dog = many #retweets\n",
      "4                     Just a simple #egg\n",
      "\\Extracting#@word from dataframe columns:\n",
      "                                  tweets  hash_word\n",
      "0                    #Obama says goodbye      Obama\n",
      "1                     Retweets for #cash       cash\n",
      "2  A political endorsement in #Indonesia  Indonesia\n",
      "3                 1 dog = many #retweets   retweets\n",
      "4                     Just a simple #egg        egg\n"
     ]
    }
   ],
   "source": [
    "import pandas as pd\n",
    "import re as re\n",
    "pd.set_option('display.max_columns', 10)\n",
    "df = pd.DataFrame({\n",
    "    'tweets': ['#Obama says goodbye','Retweets for #cash','A political endorsement in #Indonesia', '1 dog = many #retweets', 'Just a simple #egg']\n",
    "    })\n",
    "print(\"Original DataFrame:\")\n",
    "print(df)\n",
    "def find_hash(text):\n",
    "    hword=re.findall(r'(?<=#)\\w+',text)\n",
    "    return \" \".join(hword)\n",
    "df['hash_word']=df['tweets'].apply(lambda x: find_hash(x))\n",
    "print(\"\\Extracting#@word from dataframe columns:\")\n",
    "print(df)"
   ]
  },
  {
   "cell_type": "markdown",
   "metadata": {},
   "source": [
    "Write a Pandas program to extract only phone number from the specified column of a given DataFrame."
   ]
  },
  {
   "cell_type": "code",
   "execution_count": 34,
   "metadata": {},
   "outputs": [
    {
     "name": "stdout",
     "output_type": "stream",
     "text": [
      "Original DataFrame:\n",
      "  company_code               company_phone_no\n",
      "0        c0001  Company1-Phone no. 4695168357\n",
      "1        c0002  Company2-Phone no. 8088729013\n",
      "2        c0003  Company3-Phone no. 6204658086\n",
      "3        c0003  Company4-Phone no. 5159530096\n",
      "4        c0004  Company5-Phone no. 9037952371\n",
      "\\Extracting numbers from dataframe columns:\n",
      "  company_code               company_phone_no      number\n",
      "0        c0001  Company1-Phone no. 4695168357  4695168357\n",
      "1        c0002  Company2-Phone no. 8088729013  8088729013\n",
      "2        c0003  Company3-Phone no. 6204658086  6204658086\n",
      "3        c0003  Company4-Phone no. 5159530096  5159530096\n",
      "4        c0004  Company5-Phone no. 9037952371  9037952371\n"
     ]
    }
   ],
   "source": [
    "import pandas as pd\n",
    "import re as re\n",
    "pd.set_option('display.max_columns', 10)\n",
    "df = pd.DataFrame({\n",
    "    'company_code': ['c0001','c0002','c0003', 'c0003', 'c0004'],\n",
    "    'company_phone_no': ['Company1-Phone no. 4695168357','Company2-Phone no. 8088729013','Company3-Phone no. 6204658086', 'Company4-Phone no. 5159530096', 'Company5-Phone no. 9037952371']\n",
    "    })\n",
    "print(\"Original DataFrame:\")\n",
    "print(df)\n",
    "def find_phone_number(text):\n",
    "    ph_no = re.findall(r\"\\b\\d{10}\\b\",text)\n",
    "    return \"\".join(ph_no)\n",
    "df['number']=df['company_phone_no'].apply(lambda x: find_phone_number(x))\n",
    "print(\"\\Extracting numbers from dataframe columns:\")\n",
    "print(df)"
   ]
  },
  {
   "cell_type": "markdown",
   "metadata": {},
   "source": [
    "Write a Pandas program to extract year between 1800 to 2200 from the specified column of a given DataFrame."
   ]
  },
  {
   "cell_type": "code",
   "execution_count": 35,
   "metadata": {},
   "outputs": [
    {
     "name": "stdout",
     "output_type": "stream",
     "text": [
      "Original DataFrame:\n",
      "  company_code       year\n",
      "0        c0001  year 1800\n",
      "1        c0002  year 1700\n",
      "2        c0003  year 2300\n",
      "3        c0003  year 1900\n",
      "4        c0004  year 2200\n",
      "\\Extracting year between 1800 to 2200:\n",
      "  company_code       year year_range\n",
      "0        c0001  year 1800     [1800]\n",
      "1        c0002  year 1700         []\n",
      "2        c0003  year 2300         []\n",
      "3        c0003  year 1900     [1900]\n",
      "4        c0004  year 2200     [2200]\n"
     ]
    }
   ],
   "source": [
    "import pandas as pd\n",
    "import re as re\n",
    "pd.set_option('display.max_columns', 10)\n",
    "df = pd.DataFrame({\n",
    "    'company_code': ['c0001','c0002','c0003', 'c0003', 'c0004'],\n",
    "    'year': ['year 1800','year 1700','year 2300', 'year 1900', 'year 2200']\n",
    "    })\n",
    "print(\"Original DataFrame:\")\n",
    "print(df)\n",
    "def find_year(text):\n",
    "    #line=re.findall(r\"\\b(18[0][0]|2[0-2][00])\\b\",text)\n",
    "    result = re.findall(r\"\\b(18[0-9]{2}|19[0-8][0-9]|199[0-9]|2[01][0-9]{2}|2200)\\b\",text)\n",
    "    return result\n",
    "df['year_range']=df['year'].apply(lambda x: find_year(x))\n",
    "print(\"\\Extracting year between 1800 to 2200:\")\n",
    "print(df)"
   ]
  },
  {
   "cell_type": "markdown",
   "metadata": {},
   "source": [
    "Write a Pandas program to extract only non alphanumeric characters from the specified column of a given DataFrame."
   ]
  },
  {
   "cell_type": "code",
   "execution_count": 36,
   "metadata": {},
   "outputs": [
    {
     "name": "stdout",
     "output_type": "stream",
     "text": [
      "Original DataFrame:\n",
      "  company_code       year\n",
      "0       c0001#  year 1800\n",
      "1      c00@0^2  year 1700\n",
      "2       $c0003  year 2300\n",
      "3        c0003  year 1900\n",
      "4       &c0004  year 2200\n",
      "\\Extracting only non alphanumeric characters from company_code:\n",
      "  company_code       year nonalpha\n",
      "0       c0001#  year 1800      [#]\n",
      "1      c00@0^2  year 1700   [@, ^]\n",
      "2       $c0003  year 2300      [$]\n",
      "3        c0003  year 1900       []\n",
      "4       &c0004  year 2200      [&]\n"
     ]
    }
   ],
   "source": [
    "import pandas as pd\n",
    "import re as re\n",
    "pd.set_option('display.max_columns', 10)\n",
    "df = pd.DataFrame({\n",
    "    'company_code': ['c0001#','c00@0^2','$c0003', 'c0003', '&c0004'],\n",
    "    'year': ['year 1800','year 1700','year 2300', 'year 1900', 'year 2200']\n",
    "    })\n",
    "print(\"Original DataFrame:\")\n",
    "print(df)\n",
    "def find_nonalpha(text):\n",
    "    result = re.findall(\"[^A-Za-z0-9 ]\",text)\n",
    "    return result\n",
    "df['nonalpha']=df['company_code'].apply(lambda x: find_nonalpha(x))\n",
    "print(\"\\Extracting only non alphanumeric characters from company_code:\")\n",
    "print(df)"
   ]
  },
  {
   "cell_type": "markdown",
   "metadata": {},
   "source": [
    "Write a Pandas program to extract only punctuations from the specified column of a given DataFrame"
   ]
  },
  {
   "cell_type": "code",
   "execution_count": 37,
   "metadata": {},
   "outputs": [
    {
     "name": "stdout",
     "output_type": "stream",
     "text": [
      "Original DataFrame:\n",
      "  company_code       year\n",
      "0       c0001.  year 1800\n",
      "1       c000,2  year 1700\n",
      "2        c0003  year 2300\n",
      "3       c0003#  year 1900\n",
      "4       c0004,  year 2200\n",
      "\n",
      "Extracting punctuation:\n",
      "  company_code       year nonalpha\n",
      "0       c0001.  year 1800      [.]\n",
      "1       c000,2  year 1700      [,]\n",
      "2        c0003  year 2300       []\n",
      "3       c0003#  year 1900      [#]\n",
      "4       c0004,  year 2200      [,]\n"
     ]
    }
   ],
   "source": [
    "import pandas as pd\n",
    "import re as re\n",
    "pd.set_option('display.max_columns', 10)\n",
    "df = pd.DataFrame({\n",
    "    'company_code': ['c0001.','c000,2','c0003', 'c0003#', 'c0004,'],\n",
    "    'year': ['year 1800','year 1700','year 2300', 'year 1900', 'year 2200']\n",
    "    })\n",
    "print(\"Original DataFrame:\")\n",
    "print(df)\n",
    "def find_punctuations(text):\n",
    "    result = re.findall(r'[!\"\\$%&\\'()*+,\\-.\\/:;=#@?\\[\\\\\\]^_`{|}~]*', text)\n",
    "    string=\"\".join(result)\n",
    "    return list(string)\n",
    "df['nonalpha']=df['company_code'].apply(lambda x: find_punctuations(x))\n",
    "print(\"\\nExtracting punctuation:\")\n",
    "print(df)"
   ]
  },
  {
   "cell_type": "raw",
   "metadata": {},
   "source": [
    "Write a Pandas program to remove repetitive characters from the specified column of a given DataFrame."
   ]
  },
  {
   "cell_type": "code",
   "execution_count": 38,
   "metadata": {},
   "outputs": [
    {
     "name": "stdout",
     "output_type": "stream",
     "text": [
      "Original DataFrame:\n",
      "  text_code                    text_lang\n",
      "0    t0001.      She livedd a long life.\n",
      "1     t0002     How oold is your father?\n",
      "2     t0003        What is tthe problem?\n",
      "3     t0004  TThhis desk is used by Tom.\n",
      "\n",
      "Remove repetitive characters:\n",
      "  text_code                    text_lang                normal_text\n",
      "0    t0001.      She livedd a long life.     She lived a long life.\n",
      "1     t0002     How oold is your father?    How old is your father?\n",
      "2     t0003        What is tthe problem?       What is the problem?\n",
      "3     t0004  TThhis desk is used by Tom.  This desk is used by Tom.\n"
     ]
    }
   ],
   "source": [
    "import pandas as pd\n",
    "import re as re\n",
    "pd.set_option('display.max_columns', 10)\n",
    "df = pd.DataFrame({\n",
    "    'text_code': ['t0001.','t0002','t0003', 't0004'],\n",
    "    'text_lang': ['She livedd a long life.', 'How oold is your father?', 'What is tthe problem?','TThhis desk is used by Tom.']\n",
    "    })\n",
    "print(\"Original DataFrame:\")\n",
    "print(df)\n",
    "def rep_char(str1):\n",
    "    tchr = str1.group(0)\n",
    "    if len(tchr) > 1:\n",
    "        return tchr[0:1] # can change the value here on repetition\n",
    "def unique_char(rep, sent_text):\n",
    "    convert = re.sub(r'(\\w)\\1+', rep, sent_text) \n",
    "    return convert\n",
    "df['normal_text']=df['text_lang'].apply(lambda x : unique_char(rep_char,x))\n",
    "print(\"\\nRemove repetitive characters:\")\n",
    "print(df)"
   ]
  },
  {
   "cell_type": "markdown",
   "metadata": {},
   "source": [
    "Write a Pandas program to extract numbers less than 100 from the specified column of a given DataFrame."
   ]
  },
  {
   "cell_type": "code",
   "execution_count": 39,
   "metadata": {},
   "outputs": [
    {
     "name": "stdout",
     "output_type": "stream",
     "text": [
      "Original DataFrame:\n",
      "  company_code                   address\n",
      "0        c0001          72 Surrey Ave.11\n",
      "1        c0002         92 N. Bishop Ave.\n",
      "2        c0003      9910 Golden Star St.\n",
      "3        c0003            102 Dunbar St.\n",
      "4        c0004  17 West Livingston Court\n",
      "\n",
      "Number less than 100:\n",
      "  company_code                   address num_less\n",
      "0        c0001          72 Surrey Ave.11    72 11\n",
      "1        c0002         92 N. Bishop Ave.       92\n",
      "2        c0003      9910 Golden Star St.         \n",
      "3        c0003            102 Dunbar St.         \n",
      "4        c0004  17 West Livingston Court       17\n"
     ]
    }
   ],
   "source": [
    "import pandas as pd\n",
    "import re as re\n",
    "pd.set_option('display.max_columns', 10)\n",
    "df = pd.DataFrame({\n",
    "    'company_code': ['c0001','c0002','c0003', 'c0003', 'c0004'],\n",
    "    'address': ['72 Surrey Ave.11','92 N. Bishop Ave.','9910 Golden Star St.', '102 Dunbar St.', '17 West Livingston Court']\n",
    "    })\n",
    "print(\"Original DataFrame:\")\n",
    "print(df)\n",
    "\n",
    "def test_num_less(n):\n",
    "    nums = []\n",
    "    for i in n.split():\n",
    "        result = re.findall(r'\\b(0*(?:[1-9][0-9]?|100))\\b',i)\n",
    "        nums.append(result)\n",
    "        all_num=[\",\".join(x) for x in nums if x != []]\n",
    "    return \" \".join(all_num)\n",
    "\n",
    "df['num_less'] = df['address'].apply(lambda x : test_num_less(x))\n",
    "print(\"\\nNumber less than 100:\")\n",
    "print(df)"
   ]
  },
  {
   "cell_type": "markdown",
   "metadata": {},
   "source": [
    " Write a Pandas program to extract date (format: mm-dd-yyyy) from a given column of a given DataFrame."
   ]
  },
  {
   "cell_type": "code",
   "execution_count": 40,
   "metadata": {},
   "outputs": [
    {
     "name": "stdout",
     "output_type": "stream",
     "text": [
      "Original DataFrame:\n",
      "  company_code date_of_sale  sale_amount\n",
      "0         Abcd   12/05/2002      12348.5\n",
      "1         EFGF   16/02/1999     233331.2\n",
      "2      zefsalf   05/09/1998         22.5\n",
      "3      sdfslew   12/02/2022    2566552.0\n",
      "4      zekfsdf   15/09/1997         23.0\n",
      "\n",
      "Valid dates (format: mm-dd-yyyy):\n",
      "  company_code date_of_sale  sale_amount       valid_dates\n",
      "0         Abcd   12/05/2002      12348.5  [(12, 05, 2002)]\n",
      "1         EFGF   16/02/1999     233331.2                []\n",
      "2      zefsalf   05/09/1998         22.5  [(05, 09, 1998)]\n",
      "3      sdfslew   12/02/2022    2566552.0  [(12, 02, 2022)]\n",
      "4      zekfsdf   15/09/1997         23.0                []\n"
     ]
    }
   ],
   "source": [
    "import pandas as pd\n",
    "import re as re\n",
    "df = pd.DataFrame({\n",
    "    'company_code': ['Abcd','EFGF', 'zefsalf', 'sdfslew', 'zekfsdf'],\n",
    "    'date_of_sale': ['12/05/2002','16/02/1999','05/09/1998','12/02/2022','15/09/1997'],\n",
    "    'sale_amount': [12348.5, 233331.2, 22.5, 2566552.0, 23.0]\n",
    "})\n",
    "print(\"Original DataFrame:\")\n",
    "print(df)\n",
    "def find_valid_dates(dt):\n",
    "    #format: mm-dd-yyyy\n",
    "    result = re.findall(r'\\b(1[0-2]|0[1-9])/(3[01]|[12][0-9]|0[1-9])/([0-9]{4})\\b',dt)\n",
    "    return result\n",
    "df['valid_dates']=df['date_of_sale'].apply(lambda dt : find_valid_dates(dt))\n",
    "print(\"\\nValid dates (format: mm-dd-yyyy):\")\n",
    "print(df)"
   ]
  },
  {
   "cell_type": "markdown",
   "metadata": {},
   "source": [
    "# Pandas Time Series"
   ]
  },
  {
   "cell_type": "markdown",
   "metadata": {},
   "source": [
    "1. Write a Pandas program to create\n",
    "a) Datetime object for Jan 15 2012.\n",
    "b) Specific date and time of 9:20 pm.\n",
    "c) Local date and time.\n",
    "d) A date without time.\n",
    "e) Current date.\n",
    "f) Time from a datetime.\n",
    "g) Current local time."
   ]
  },
  {
   "cell_type": "code",
   "execution_count": 49,
   "metadata": {},
   "outputs": [
    {
     "name": "stdout",
     "output_type": "stream",
     "text": [
      "Datetime object for Jan 11 2012:\n",
      "2012-01-11 00:00:00\n",
      "2023-11-12 21:27:33.595048\n",
      "2023-11-12\n",
      "21:27:33.595048\n"
     ]
    }
   ],
   "source": [
    "from datetime import datetime\n",
    "print(\"Datetime object for Jan 11 2012:\")\n",
    "print(datetime(2012,1,11))\n",
    "print(datetime.now())\n",
    "print(datetime.now().date())\n",
    "print(datetime.now().time())\n"
   ]
  },
  {
   "cell_type": "markdown",
   "metadata": {},
   "source": [
    " Write a Pandas program to create a date from a given year, month, day and another date from a given string formats."
   ]
  },
  {
   "cell_type": "code",
   "execution_count": 50,
   "metadata": {},
   "outputs": [
    {
     "name": "stdout",
     "output_type": "stream",
     "text": [
      "2023-11-12 00:00:00\n"
     ]
    }
   ],
   "source": [
    "d=datetime(year=2023,month=11,day=12)\n",
    "print(d)"
   ]
  },
  {
   "cell_type": "markdown",
   "metadata": {},
   "source": [
    "Write a Pandas program to print the day after and before a specified date. Also print the days between two given dates."
   ]
  },
  {
   "cell_type": "code",
   "execution_count": 55,
   "metadata": {},
   "outputs": [
    {
     "name": "stdout",
     "output_type": "stream",
     "text": [
      "2023-11-13\n",
      "Yesterday: 2023-11-11\n",
      "\n",
      "Difference between two dates:  14 days, 0:00:00\n"
     ]
    }
   ],
   "source": [
    "import pandas as pd\n",
    "today=datetime.now().date()\n",
    "\n",
    "tmrw=today+pd.Timedelta(days=1)\n",
    "print(tmrw)\n",
    "\n",
    "yesterday = today - pd.Timedelta(days=1)\n",
    "print(\"Yesterday:\", yesterday)\n",
    "\n",
    "date1 = datetime(2016, 8, 2)\n",
    "date2 = datetime(2016, 7, 19)\n",
    "print(\"\\nDifference between two dates: \",(date1 - date2))"
   ]
  },
  {
   "cell_type": "markdown",
   "metadata": {},
   "source": [
    "Write a Pandas program to create a time-series from a given list of dates as strings"
   ]
  },
  {
   "cell_type": "code",
   "execution_count": 56,
   "metadata": {},
   "outputs": [
    {
     "name": "stdout",
     "output_type": "stream",
     "text": [
      "2014-08-01    0.304222\n",
      "2014-08-02    0.226928\n",
      "2014-08-03    0.280396\n",
      "2014-08-04    0.737930\n",
      "dtype: float64\n"
     ]
    }
   ],
   "source": [
    "import pandas as pd\n",
    "import numpy as np\n",
    "import datetime\n",
    "from datetime import datetime, date \n",
    "dates = ['2014-08-01','2014-08-02','2014-08-03','2014-08-04']\n",
    "time_series = pd.Series(np.random.randn(4), dates)\n",
    "print(time_series)"
   ]
  },
  {
   "cell_type": "markdown",
   "metadata": {},
   "source": [
    "Write a Pandas program to calculate all Thursdays between two given days."
   ]
  },
  {
   "cell_type": "code",
   "execution_count": 57,
   "metadata": {},
   "outputs": [
    {
     "name": "stdout",
     "output_type": "stream",
     "text": [
      "All Thursdays between 2020-01-01 and 2020-12-31:\n",
      "\n",
      "['2020-01-02T00:00:00.000000000' '2020-01-09T00:00:00.000000000'\n",
      " '2020-01-16T00:00:00.000000000' '2020-01-23T00:00:00.000000000'\n",
      " '2020-01-30T00:00:00.000000000' '2020-02-06T00:00:00.000000000'\n",
      " '2020-02-13T00:00:00.000000000' '2020-02-20T00:00:00.000000000'\n",
      " '2020-02-27T00:00:00.000000000' '2020-03-05T00:00:00.000000000'\n",
      " '2020-03-12T00:00:00.000000000' '2020-03-19T00:00:00.000000000'\n",
      " '2020-03-26T00:00:00.000000000' '2020-04-02T00:00:00.000000000'\n",
      " '2020-04-09T00:00:00.000000000' '2020-04-16T00:00:00.000000000'\n",
      " '2020-04-23T00:00:00.000000000' '2020-04-30T00:00:00.000000000'\n",
      " '2020-05-07T00:00:00.000000000' '2020-05-14T00:00:00.000000000'\n",
      " '2020-05-21T00:00:00.000000000' '2020-05-28T00:00:00.000000000'\n",
      " '2020-06-04T00:00:00.000000000' '2020-06-11T00:00:00.000000000'\n",
      " '2020-06-18T00:00:00.000000000' '2020-06-25T00:00:00.000000000'\n",
      " '2020-07-02T00:00:00.000000000' '2020-07-09T00:00:00.000000000'\n",
      " '2020-07-16T00:00:00.000000000' '2020-07-23T00:00:00.000000000'\n",
      " '2020-07-30T00:00:00.000000000' '2020-08-06T00:00:00.000000000'\n",
      " '2020-08-13T00:00:00.000000000' '2020-08-20T00:00:00.000000000'\n",
      " '2020-08-27T00:00:00.000000000' '2020-09-03T00:00:00.000000000'\n",
      " '2020-09-10T00:00:00.000000000' '2020-09-17T00:00:00.000000000'\n",
      " '2020-09-24T00:00:00.000000000' '2020-10-01T00:00:00.000000000'\n",
      " '2020-10-08T00:00:00.000000000' '2020-10-15T00:00:00.000000000'\n",
      " '2020-10-22T00:00:00.000000000' '2020-10-29T00:00:00.000000000'\n",
      " '2020-11-05T00:00:00.000000000' '2020-11-12T00:00:00.000000000'\n",
      " '2020-11-19T00:00:00.000000000' '2020-11-26T00:00:00.000000000'\n",
      " '2020-12-03T00:00:00.000000000' '2020-12-10T00:00:00.000000000'\n",
      " '2020-12-17T00:00:00.000000000' '2020-12-24T00:00:00.000000000'\n",
      " '2020-12-31T00:00:00.000000000']\n"
     ]
    }
   ],
   "source": [
    "import pandas as pd\n",
    "thursdays  = pd.date_range('2020-01-01', \n",
    "                           '2020-12-31', freq=\"W-THU\")\n",
    "print(\"All Thursdays between 2020-01-01 and 2020-12-31:\\n\")\n",
    "print(thursdays.values)"
   ]
  },
  {
   "cell_type": "markdown",
   "metadata": {},
   "source": [
    "# Pandas Filter"
   ]
  },
  {
   "cell_type": "markdown",
   "metadata": {},
   "source": [
    "World alcohol consumption dataset\n",
    "This is a global beverage consumption record dataset. The first column means the year of the record, the second column refers to the place where the beverage was produced, and the third column refers to the place where the beverage was consumed. The fourth columns refer to the types of beverages, and the fifth column refers to the average consumption of beverages per person."
   ]
  },
  {
   "cell_type": "markdown",
   "metadata": {},
   "source": [
    "Write a Pandas program to display the dimensions or shape of the World alcohol consumption dataset. Also extract the column names from the dataset."
   ]
  },
  {
   "cell_type": "code",
   "execution_count": 65,
   "metadata": {},
   "outputs": [
    {
     "name": "stdout",
     "output_type": "stream",
     "text": [
      "(100, 5)\n",
      "Index(['Year', 'WHO region', 'Country', 'Beverage Types', 'Display Value'], dtype='object')\n"
     ]
    }
   ],
   "source": [
    "import pandas as pd\n",
    "df=pd.read_csv('d://MLDataSet//world_alcohol.csv')\n",
    "df.head()\n",
    "print(df.shape)\n",
    "print(df.columns)\n"
   ]
  },
  {
   "cell_type": "markdown",
   "metadata": {},
   "source": [
    "select first 2 rows, 2 columns and specific two columns from World alcohol consumption dataset"
   ]
  },
  {
   "cell_type": "code",
   "execution_count": 68,
   "metadata": {},
   "outputs": [
    {
     "data": {
      "text/html": [
       "<div>\n",
       "<style scoped>\n",
       "    .dataframe tbody tr th:only-of-type {\n",
       "        vertical-align: middle;\n",
       "    }\n",
       "\n",
       "    .dataframe tbody tr th {\n",
       "        vertical-align: top;\n",
       "    }\n",
       "\n",
       "    .dataframe thead th {\n",
       "        text-align: right;\n",
       "    }\n",
       "</style>\n",
       "<table border=\"1\" class=\"dataframe\">\n",
       "  <thead>\n",
       "    <tr style=\"text-align: right;\">\n",
       "      <th></th>\n",
       "      <th>Year</th>\n",
       "      <th>WHO region</th>\n",
       "      <th>Country</th>\n",
       "      <th>Beverage Types</th>\n",
       "      <th>Display Value</th>\n",
       "    </tr>\n",
       "  </thead>\n",
       "  <tbody>\n",
       "    <tr>\n",
       "      <th>0</th>\n",
       "      <td>1986</td>\n",
       "      <td>Western Pacific</td>\n",
       "      <td>Viet Nam</td>\n",
       "      <td>Wine</td>\n",
       "      <td>0.0</td>\n",
       "    </tr>\n",
       "    <tr>\n",
       "      <th>1</th>\n",
       "      <td>1986</td>\n",
       "      <td>Americas</td>\n",
       "      <td>Uruguay</td>\n",
       "      <td>Other</td>\n",
       "      <td>0.5</td>\n",
       "    </tr>\n",
       "  </tbody>\n",
       "</table>\n",
       "</div>"
      ],
      "text/plain": [
       "   Year       WHO region   Country Beverage Types  Display Value\n",
       "0  1986  Western Pacific  Viet Nam           Wine            0.0\n",
       "1  1986         Americas   Uruguay          Other            0.5"
      ]
     },
     "execution_count": 68,
     "metadata": {},
     "output_type": "execute_result"
    }
   ],
   "source": [
    "df.iloc[0:2,:]"
   ]
  },
  {
   "cell_type": "code",
   "execution_count": 69,
   "metadata": {},
   "outputs": [
    {
     "data": {
      "text/html": [
       "<div>\n",
       "<style scoped>\n",
       "    .dataframe tbody tr th:only-of-type {\n",
       "        vertical-align: middle;\n",
       "    }\n",
       "\n",
       "    .dataframe tbody tr th {\n",
       "        vertical-align: top;\n",
       "    }\n",
       "\n",
       "    .dataframe thead th {\n",
       "        text-align: right;\n",
       "    }\n",
       "</style>\n",
       "<table border=\"1\" class=\"dataframe\">\n",
       "  <thead>\n",
       "    <tr style=\"text-align: right;\">\n",
       "      <th></th>\n",
       "      <th>Year</th>\n",
       "      <th>WHO region</th>\n",
       "    </tr>\n",
       "  </thead>\n",
       "  <tbody>\n",
       "    <tr>\n",
       "      <th>0</th>\n",
       "      <td>1986</td>\n",
       "      <td>Western Pacific</td>\n",
       "    </tr>\n",
       "    <tr>\n",
       "      <th>1</th>\n",
       "      <td>1986</td>\n",
       "      <td>Americas</td>\n",
       "    </tr>\n",
       "    <tr>\n",
       "      <th>2</th>\n",
       "      <td>1985</td>\n",
       "      <td>Africa</td>\n",
       "    </tr>\n",
       "    <tr>\n",
       "      <th>3</th>\n",
       "      <td>1986</td>\n",
       "      <td>Americas</td>\n",
       "    </tr>\n",
       "    <tr>\n",
       "      <th>4</th>\n",
       "      <td>1987</td>\n",
       "      <td>Americas</td>\n",
       "    </tr>\n",
       "    <tr>\n",
       "      <th>...</th>\n",
       "      <td>...</td>\n",
       "      <td>...</td>\n",
       "    </tr>\n",
       "    <tr>\n",
       "      <th>95</th>\n",
       "      <td>1984</td>\n",
       "      <td>Africa</td>\n",
       "    </tr>\n",
       "    <tr>\n",
       "      <th>96</th>\n",
       "      <td>1985</td>\n",
       "      <td>Europe</td>\n",
       "    </tr>\n",
       "    <tr>\n",
       "      <th>97</th>\n",
       "      <td>1984</td>\n",
       "      <td>South-East Asia</td>\n",
       "    </tr>\n",
       "    <tr>\n",
       "      <th>98</th>\n",
       "      <td>1984</td>\n",
       "      <td>Africa</td>\n",
       "    </tr>\n",
       "    <tr>\n",
       "      <th>99</th>\n",
       "      <td>1985</td>\n",
       "      <td>South-East Asia</td>\n",
       "    </tr>\n",
       "  </tbody>\n",
       "</table>\n",
       "<p>100 rows × 2 columns</p>\n",
       "</div>"
      ],
      "text/plain": [
       "    Year       WHO region\n",
       "0   1986  Western Pacific\n",
       "1   1986         Americas\n",
       "2   1985           Africa\n",
       "3   1986         Americas\n",
       "4   1987         Americas\n",
       "..   ...              ...\n",
       "95  1984           Africa\n",
       "96  1985           Europe\n",
       "97  1984  South-East Asia\n",
       "98  1984           Africa\n",
       "99  1985  South-East Asia\n",
       "\n",
       "[100 rows x 2 columns]"
      ]
     },
     "execution_count": 69,
     "metadata": {},
     "output_type": "execute_result"
    }
   ],
   "source": [
    "df.iloc[:,0:2]"
   ]
  },
  {
   "cell_type": "code",
   "execution_count": 71,
   "metadata": {},
   "outputs": [
    {
     "name": "stdout",
     "output_type": "stream",
     "text": [
      "\n",
      "Select random number of rows:\n"
     ]
    },
    {
     "data": {
      "text/html": [
       "<div>\n",
       "<style scoped>\n",
       "    .dataframe tbody tr th:only-of-type {\n",
       "        vertical-align: middle;\n",
       "    }\n",
       "\n",
       "    .dataframe tbody tr th {\n",
       "        vertical-align: top;\n",
       "    }\n",
       "\n",
       "    .dataframe thead th {\n",
       "        text-align: right;\n",
       "    }\n",
       "</style>\n",
       "<table border=\"1\" class=\"dataframe\">\n",
       "  <thead>\n",
       "    <tr style=\"text-align: right;\">\n",
       "      <th></th>\n",
       "      <th>Year</th>\n",
       "      <th>WHO region</th>\n",
       "      <th>Country</th>\n",
       "      <th>Beverage Types</th>\n",
       "      <th>Display Value</th>\n",
       "    </tr>\n",
       "  </thead>\n",
       "  <tbody>\n",
       "    <tr>\n",
       "      <th>94</th>\n",
       "      <td>1985</td>\n",
       "      <td>Europe</td>\n",
       "      <td>Ukraine</td>\n",
       "      <td>Spirits</td>\n",
       "      <td>3.06</td>\n",
       "    </tr>\n",
       "    <tr>\n",
       "      <th>46</th>\n",
       "      <td>1987</td>\n",
       "      <td>Americas</td>\n",
       "      <td>Trinidad and Tobago</td>\n",
       "      <td>Spirits</td>\n",
       "      <td>2.26</td>\n",
       "    </tr>\n",
       "    <tr>\n",
       "      <th>17</th>\n",
       "      <td>1989</td>\n",
       "      <td>Africa</td>\n",
       "      <td>Seychelles</td>\n",
       "      <td>Beer</td>\n",
       "      <td>2.23</td>\n",
       "    </tr>\n",
       "    <tr>\n",
       "      <th>66</th>\n",
       "      <td>1987</td>\n",
       "      <td>Eastern Mediterranean</td>\n",
       "      <td>Iraq</td>\n",
       "      <td>Wine</td>\n",
       "      <td>0.01</td>\n",
       "    </tr>\n",
       "    <tr>\n",
       "      <th>10</th>\n",
       "      <td>1987</td>\n",
       "      <td>Africa</td>\n",
       "      <td>Botswana</td>\n",
       "      <td>Wine</td>\n",
       "      <td>0.20</td>\n",
       "    </tr>\n",
       "  </tbody>\n",
       "</table>\n",
       "</div>"
      ],
      "text/plain": [
       "    Year             WHO region              Country Beverage Types  \\\n",
       "94  1985                 Europe              Ukraine        Spirits   \n",
       "46  1987               Americas  Trinidad and Tobago        Spirits   \n",
       "17  1989                 Africa           Seychelles           Beer   \n",
       "66  1987  Eastern Mediterranean                 Iraq           Wine   \n",
       "10  1987                 Africa             Botswana           Wine   \n",
       "\n",
       "    Display Value  \n",
       "94           3.06  \n",
       "46           2.26  \n",
       "17           2.23  \n",
       "66           0.01  \n",
       "10           0.20  "
      ]
     },
     "execution_count": 71,
     "metadata": {},
     "output_type": "execute_result"
    }
   ],
   "source": [
    "print(\"\\nSelect random number of rows:\")\n",
    "df.sample(5)"
   ]
  },
  {
   "cell_type": "code",
   "execution_count": 74,
   "metadata": {},
   "outputs": [
    {
     "name": "stdout",
     "output_type": "stream",
     "text": [
      "     Year  WHO region  Country  Beverage Types  Display Value\n",
      "0   False       False    False           False          False\n",
      "1   False       False    False           False          False\n",
      "2   False       False    False           False          False\n",
      "3   False       False    False           False          False\n",
      "4   False       False    False           False          False\n",
      "..    ...         ...      ...             ...            ...\n",
      "95  False       False    False           False          False\n",
      "96  False       False    False           False          False\n",
      "97  False       False    False           False          False\n",
      "98  False       False    False           False          False\n",
      "99  False       False    False           False          False\n",
      "\n",
      "[100 rows x 5 columns]\n"
     ]
    },
    {
     "data": {
      "text/html": [
       "<div>\n",
       "<style scoped>\n",
       "    .dataframe tbody tr th:only-of-type {\n",
       "        vertical-align: middle;\n",
       "    }\n",
       "\n",
       "    .dataframe tbody tr th {\n",
       "        vertical-align: top;\n",
       "    }\n",
       "\n",
       "    .dataframe thead th {\n",
       "        text-align: right;\n",
       "    }\n",
       "</style>\n",
       "<table border=\"1\" class=\"dataframe\">\n",
       "  <thead>\n",
       "    <tr style=\"text-align: right;\">\n",
       "      <th></th>\n",
       "      <th>Year</th>\n",
       "      <th>WHO region</th>\n",
       "      <th>Country</th>\n",
       "      <th>Beverage Types</th>\n",
       "      <th>Display Value</th>\n",
       "    </tr>\n",
       "  </thead>\n",
       "  <tbody>\n",
       "    <tr>\n",
       "      <th>0</th>\n",
       "      <td>1986</td>\n",
       "      <td>Western Pacific</td>\n",
       "      <td>Viet Nam</td>\n",
       "      <td>Wine</td>\n",
       "      <td>0.00</td>\n",
       "    </tr>\n",
       "    <tr>\n",
       "      <th>1</th>\n",
       "      <td>1986</td>\n",
       "      <td>Americas</td>\n",
       "      <td>Uruguay</td>\n",
       "      <td>Other</td>\n",
       "      <td>0.50</td>\n",
       "    </tr>\n",
       "    <tr>\n",
       "      <th>2</th>\n",
       "      <td>1985</td>\n",
       "      <td>Africa</td>\n",
       "      <td>Cte d'Ivoire</td>\n",
       "      <td>Wine</td>\n",
       "      <td>1.62</td>\n",
       "    </tr>\n",
       "    <tr>\n",
       "      <th>3</th>\n",
       "      <td>1986</td>\n",
       "      <td>Americas</td>\n",
       "      <td>Colombia</td>\n",
       "      <td>Beer</td>\n",
       "      <td>4.27</td>\n",
       "    </tr>\n",
       "    <tr>\n",
       "      <th>4</th>\n",
       "      <td>1987</td>\n",
       "      <td>Americas</td>\n",
       "      <td>Saint Kitts and Nevis</td>\n",
       "      <td>Beer</td>\n",
       "      <td>1.98</td>\n",
       "    </tr>\n",
       "    <tr>\n",
       "      <th>...</th>\n",
       "      <td>...</td>\n",
       "      <td>...</td>\n",
       "      <td>...</td>\n",
       "      <td>...</td>\n",
       "      <td>...</td>\n",
       "    </tr>\n",
       "    <tr>\n",
       "      <th>95</th>\n",
       "      <td>1984</td>\n",
       "      <td>Africa</td>\n",
       "      <td>Niger</td>\n",
       "      <td>Other</td>\n",
       "      <td>0.00</td>\n",
       "    </tr>\n",
       "    <tr>\n",
       "      <th>96</th>\n",
       "      <td>1985</td>\n",
       "      <td>Europe</td>\n",
       "      <td>Luxembourg</td>\n",
       "      <td>Wine</td>\n",
       "      <td>7.38</td>\n",
       "    </tr>\n",
       "    <tr>\n",
       "      <th>97</th>\n",
       "      <td>1984</td>\n",
       "      <td>South-East Asia</td>\n",
       "      <td>Indonesia</td>\n",
       "      <td>Wine</td>\n",
       "      <td>0.00</td>\n",
       "    </tr>\n",
       "    <tr>\n",
       "      <th>98</th>\n",
       "      <td>1984</td>\n",
       "      <td>Africa</td>\n",
       "      <td>Equatorial Guinea</td>\n",
       "      <td>Wine</td>\n",
       "      <td>0.00</td>\n",
       "    </tr>\n",
       "    <tr>\n",
       "      <th>99</th>\n",
       "      <td>1985</td>\n",
       "      <td>South-East Asia</td>\n",
       "      <td>Democratic People's Republic of Korea</td>\n",
       "      <td>Wine</td>\n",
       "      <td>0.00</td>\n",
       "    </tr>\n",
       "  </tbody>\n",
       "</table>\n",
       "<p>95 rows × 5 columns</p>\n",
       "</div>"
      ],
      "text/plain": [
       "    Year       WHO region                                Country  \\\n",
       "0   1986  Western Pacific                               Viet Nam   \n",
       "1   1986         Americas                                Uruguay   \n",
       "2   1985           Africa                           Cte d'Ivoire   \n",
       "3   1986         Americas                               Colombia   \n",
       "4   1987         Americas                  Saint Kitts and Nevis   \n",
       "..   ...              ...                                    ...   \n",
       "95  1984           Africa                                  Niger   \n",
       "96  1985           Europe                             Luxembourg   \n",
       "97  1984  South-East Asia                              Indonesia   \n",
       "98  1984           Africa                      Equatorial Guinea   \n",
       "99  1985  South-East Asia  Democratic People's Republic of Korea   \n",
       "\n",
       "   Beverage Types  Display Value  \n",
       "0            Wine           0.00  \n",
       "1           Other           0.50  \n",
       "2            Wine           1.62  \n",
       "3            Beer           4.27  \n",
       "4            Beer           1.98  \n",
       "..            ...            ...  \n",
       "95          Other           0.00  \n",
       "96           Wine           7.38  \n",
       "97           Wine           0.00  \n",
       "98           Wine           0.00  \n",
       "99           Wine           0.00  \n",
       "\n",
       "[95 rows x 5 columns]"
      ]
     },
     "execution_count": 74,
     "metadata": {},
     "output_type": "execute_result"
    }
   ],
   "source": [
    "# find and drop the missing values from World alcohol consumption dataset.\n",
    "print(df.isnull())\n",
    "df.dropna()"
   ]
  },
  {
   "cell_type": "code",
   "execution_count": 75,
   "metadata": {},
   "outputs": [
    {
     "data": {
      "text/html": [
       "<div>\n",
       "<style scoped>\n",
       "    .dataframe tbody tr th:only-of-type {\n",
       "        vertical-align: middle;\n",
       "    }\n",
       "\n",
       "    .dataframe tbody tr th {\n",
       "        vertical-align: top;\n",
       "    }\n",
       "\n",
       "    .dataframe thead th {\n",
       "        text-align: right;\n",
       "    }\n",
       "</style>\n",
       "<table border=\"1\" class=\"dataframe\">\n",
       "  <thead>\n",
       "    <tr style=\"text-align: right;\">\n",
       "      <th></th>\n",
       "      <th>Year</th>\n",
       "      <th>WHO region</th>\n",
       "      <th>Country</th>\n",
       "      <th>Beverage Types</th>\n",
       "      <th>Display Value</th>\n",
       "    </tr>\n",
       "  </thead>\n",
       "  <tbody>\n",
       "    <tr>\n",
       "      <th>0</th>\n",
       "      <td>1986</td>\n",
       "      <td>Western Pacific</td>\n",
       "      <td>Viet Nam</td>\n",
       "      <td>Wine</td>\n",
       "      <td>0.00</td>\n",
       "    </tr>\n",
       "    <tr>\n",
       "      <th>1</th>\n",
       "      <td>1986</td>\n",
       "      <td>Americas</td>\n",
       "      <td>Uruguay</td>\n",
       "      <td>Other</td>\n",
       "      <td>0.50</td>\n",
       "    </tr>\n",
       "    <tr>\n",
       "      <th>2</th>\n",
       "      <td>1985</td>\n",
       "      <td>Africa</td>\n",
       "      <td>Cte d'Ivoire</td>\n",
       "      <td>Wine</td>\n",
       "      <td>1.62</td>\n",
       "    </tr>\n",
       "    <tr>\n",
       "      <th>13</th>\n",
       "      <td>1984</td>\n",
       "      <td>Eastern Mediterranean</td>\n",
       "      <td>Afghanistan</td>\n",
       "      <td>Other</td>\n",
       "      <td>0.00</td>\n",
       "    </tr>\n",
       "    <tr>\n",
       "      <th>18</th>\n",
       "      <td>1984</td>\n",
       "      <td>Europe</td>\n",
       "      <td>Norway</td>\n",
       "      <td>Spirits</td>\n",
       "      <td>1.62</td>\n",
       "    </tr>\n",
       "    <tr>\n",
       "      <th>20</th>\n",
       "      <td>1986</td>\n",
       "      <td>South-East Asia</td>\n",
       "      <td>Myanmar</td>\n",
       "      <td>Wine</td>\n",
       "      <td>0.00</td>\n",
       "    </tr>\n",
       "  </tbody>\n",
       "</table>\n",
       "</div>"
      ],
      "text/plain": [
       "    Year             WHO region       Country Beverage Types  Display Value\n",
       "0   1986        Western Pacific      Viet Nam           Wine           0.00\n",
       "1   1986               Americas       Uruguay          Other           0.50\n",
       "2   1985                 Africa  Cte d'Ivoire           Wine           1.62\n",
       "13  1984  Eastern Mediterranean   Afghanistan          Other           0.00\n",
       "18  1984                 Europe        Norway        Spirits           1.62\n",
       "20  1986        South-East Asia       Myanmar           Wine           0.00"
      ]
     },
     "execution_count": 75,
     "metadata": {},
     "output_type": "execute_result"
    }
   ],
   "source": [
    "#remove the duplicates from 'WHO region' column of World alcohol consumption dataset.\n",
    "\n",
    "df.drop_duplicates('WHO region')"
   ]
  },
  {
   "cell_type": "code",
   "execution_count": 83,
   "metadata": {},
   "outputs": [
    {
     "name": "stdout",
     "output_type": "stream",
     "text": [
      "\n",
      "The world alcohol consumption details in the year 1985:\n",
      "    Year       WHO region                                            Country  \\\n",
      "2   1985           Africa                                       Cte d'Ivoire   \n",
      "7   1985           Africa                                             Angola   \n",
      "12  1985  Western Pacific                   Lao People's Democratic Republic   \n",
      "14  1985  Western Pacific                                           Viet Nam   \n",
      "24  1985           Africa                                            Comoros   \n",
      "26  1985           Europe  United Kingdom of Great Britain and Northern I...   \n",
      "33  1985           Africa                                         Mauritania   \n",
      "35  1985         Americas                              Saint Kitts and Nevis   \n",
      "44  1985           Europe                                          Lithuania   \n",
      "50  1985           Europe                                        Switzerland   \n",
      "\n",
      "   Beverage Types  Display Value  \n",
      "2            Wine           1.62  \n",
      "7         Spirits           0.39  \n",
      "12           Beer           0.00  \n",
      "14        Spirits           0.05  \n",
      "24          Other            NaN  \n",
      "26           Wine           1.36  \n",
      "33          Other           0.00  \n",
      "35        Spirits           2.24  \n",
      "44          Other            NaN  \n",
      "50          Other           0.30  \n",
      "\n",
      "The world alcohol consumption details in the year 1989:\n",
      "    Year             WHO region                           Country  \\\n",
      "11  1989               Americas                         Guatemala   \n",
      "17  1989                 Africa                        Seychelles   \n",
      "21  1989               Americas                        Costa Rica   \n",
      "32  1989                 Africa                         Mauritius   \n",
      "45  1989                 Africa                          Zimbabwe   \n",
      "55  1989               Americas                          Suriname   \n",
      "57  1989                 Europe                           Croatia   \n",
      "59  1989  Eastern Mediterranean              Syrian Arab Republic   \n",
      "64  1989               Americas  Bolivia (Plurinational State of)   \n",
      "65  1989  Eastern Mediterranean                           Somalia   \n",
      "\n",
      "   Beverage Types  Display Value  \n",
      "11           Beer           0.62  \n",
      "17           Beer           2.23  \n",
      "21        Spirits           4.51  \n",
      "32           Beer           1.60  \n",
      "45           Beer           0.19  \n",
      "55           Wine           0.04  \n",
      "57           Wine           5.10  \n",
      "59          Other           0.00  \n",
      "64           Beer           1.26  \n",
      "65           Beer           0.00  \n",
      "\n",
      "The world alcohol consumption details where year is 1987 or 1989:\n"
     ]
    },
    {
     "ename": "TypeError",
     "evalue": "unsupported operand type(s) for |: 'float' and 'bool'",
     "output_type": "error",
     "traceback": [
      "\u001b[1;31m---------------------------------------------------------------------------\u001b[0m",
      "\u001b[1;31mTypeError\u001b[0m                                 Traceback (most recent call last)",
      "File \u001b[1;32m~\\anaconda3\\lib\\site-packages\\pandas\\core\\ops\\array_ops.py:301\u001b[0m, in \u001b[0;36mna_logical_op\u001b[1;34m(x, y, op)\u001b[0m\n\u001b[0;32m    292\u001b[0m \u001b[38;5;28;01mtry\u001b[39;00m:\n\u001b[0;32m    293\u001b[0m     \u001b[38;5;66;03m# For exposition, write:\u001b[39;00m\n\u001b[0;32m    294\u001b[0m     \u001b[38;5;66;03m#  yarr = isinstance(y, np.ndarray)\u001b[39;00m\n\u001b[1;32m   (...)\u001b[0m\n\u001b[0;32m    299\u001b[0m     \u001b[38;5;66;03m# Then Cases where this goes through without raising include:\u001b[39;00m\n\u001b[0;32m    300\u001b[0m     \u001b[38;5;66;03m#  (xint or xbool) and (yint or bool)\u001b[39;00m\n\u001b[1;32m--> 301\u001b[0m     result \u001b[38;5;241m=\u001b[39m \u001b[43mop\u001b[49m\u001b[43m(\u001b[49m\u001b[43mx\u001b[49m\u001b[43m,\u001b[49m\u001b[43m \u001b[49m\u001b[43my\u001b[49m\u001b[43m)\u001b[49m\n\u001b[0;32m    302\u001b[0m \u001b[38;5;28;01mexcept\u001b[39;00m \u001b[38;5;167;01mTypeError\u001b[39;00m:\n",
      "\u001b[1;31mTypeError\u001b[0m: unsupported operand type(s) for |: 'float' and 'bool'",
      "\nDuring handling of the above exception, another exception occurred:\n",
      "\u001b[1;31mTypeError\u001b[0m                                 Traceback (most recent call last)",
      "Input \u001b[1;32mIn [83]\u001b[0m, in \u001b[0;36m<cell line: 9>\u001b[1;34m()\u001b[0m\n\u001b[0;32m      6\u001b[0m \u001b[38;5;28mprint\u001b[39m(df[df[\u001b[38;5;124m'\u001b[39m\u001b[38;5;124mYear\u001b[39m\u001b[38;5;124m'\u001b[39m]\u001b[38;5;241m==\u001b[39m\u001b[38;5;241m1989\u001b[39m]\u001b[38;5;241m.\u001b[39mhead(\u001b[38;5;241m10\u001b[39m))\n\u001b[0;32m      8\u001b[0m \u001b[38;5;28mprint\u001b[39m(\u001b[38;5;124m\"\u001b[39m\u001b[38;5;130;01m\\n\u001b[39;00m\u001b[38;5;124mThe world alcohol consumption details where year is 1987 or 1989:\u001b[39m\u001b[38;5;124m\"\u001b[39m)\n\u001b[1;32m----> 9\u001b[0m \u001b[38;5;28mprint\u001b[39m(\u001b[43m(\u001b[49m\u001b[43mdf\u001b[49m\u001b[43m[\u001b[49m\u001b[43mdf\u001b[49m\u001b[43m[\u001b[49m\u001b[38;5;124;43m'\u001b[39;49m\u001b[38;5;124;43mYear\u001b[39;49m\u001b[38;5;124;43m'\u001b[39;49m\u001b[43m]\u001b[49m\u001b[38;5;241;43m==\u001b[39;49m\u001b[38;5;241;43m1985\u001b[39;49m\u001b[43m]\u001b[49m\u001b[43m)\u001b[49m\u001b[43m \u001b[49m\u001b[38;5;241;43m|\u001b[39;49m\u001b[43m \u001b[49m\u001b[43m(\u001b[49m\u001b[43mdf\u001b[49m\u001b[43m[\u001b[49m\u001b[43mdf\u001b[49m\u001b[43m[\u001b[49m\u001b[38;5;124;43m'\u001b[39;49m\u001b[38;5;124;43mYear\u001b[39;49m\u001b[38;5;124;43m'\u001b[39;49m\u001b[43m]\u001b[49m\u001b[38;5;241;43m==\u001b[39;49m\u001b[38;5;241;43m1989\u001b[39;49m\u001b[43m]\u001b[49m\u001b[43m)\u001b[49m)\n",
      "File \u001b[1;32m~\\anaconda3\\lib\\site-packages\\pandas\\core\\ops\\common.py:70\u001b[0m, in \u001b[0;36m_unpack_zerodim_and_defer.<locals>.new_method\u001b[1;34m(self, other)\u001b[0m\n\u001b[0;32m     66\u001b[0m             \u001b[38;5;28;01mreturn\u001b[39;00m \u001b[38;5;28mNotImplemented\u001b[39m\n\u001b[0;32m     68\u001b[0m other \u001b[38;5;241m=\u001b[39m item_from_zerodim(other)\n\u001b[1;32m---> 70\u001b[0m \u001b[38;5;28;01mreturn\u001b[39;00m \u001b[43mmethod\u001b[49m\u001b[43m(\u001b[49m\u001b[38;5;28;43mself\u001b[39;49m\u001b[43m,\u001b[49m\u001b[43m \u001b[49m\u001b[43mother\u001b[49m\u001b[43m)\u001b[49m\n",
      "File \u001b[1;32m~\\anaconda3\\lib\\site-packages\\pandas\\core\\arraylike.py:78\u001b[0m, in \u001b[0;36mOpsMixin.__or__\u001b[1;34m(self, other)\u001b[0m\n\u001b[0;32m     76\u001b[0m \u001b[38;5;129m@unpack_zerodim_and_defer\u001b[39m(\u001b[38;5;124m\"\u001b[39m\u001b[38;5;124m__or__\u001b[39m\u001b[38;5;124m\"\u001b[39m)\n\u001b[0;32m     77\u001b[0m \u001b[38;5;28;01mdef\u001b[39;00m \u001b[38;5;21m__or__\u001b[39m(\u001b[38;5;28mself\u001b[39m, other):\n\u001b[1;32m---> 78\u001b[0m     \u001b[38;5;28;01mreturn\u001b[39;00m \u001b[38;5;28;43mself\u001b[39;49m\u001b[38;5;241;43m.\u001b[39;49m\u001b[43m_logical_method\u001b[49m\u001b[43m(\u001b[49m\u001b[43mother\u001b[49m\u001b[43m,\u001b[49m\u001b[43m \u001b[49m\u001b[43moperator\u001b[49m\u001b[38;5;241;43m.\u001b[39;49m\u001b[43mor_\u001b[49m\u001b[43m)\u001b[49m\n",
      "File \u001b[1;32m~\\anaconda3\\lib\\site-packages\\pandas\\core\\frame.py:6946\u001b[0m, in \u001b[0;36mDataFrame._arith_method\u001b[1;34m(self, other, op)\u001b[0m\n\u001b[0;32m   6942\u001b[0m other \u001b[38;5;241m=\u001b[39m ops\u001b[38;5;241m.\u001b[39mmaybe_prepare_scalar_for_op(other, (\u001b[38;5;28mself\u001b[39m\u001b[38;5;241m.\u001b[39mshape[axis],))\n\u001b[0;32m   6944\u001b[0m \u001b[38;5;28mself\u001b[39m, other \u001b[38;5;241m=\u001b[39m ops\u001b[38;5;241m.\u001b[39malign_method_FRAME(\u001b[38;5;28mself\u001b[39m, other, axis, flex\u001b[38;5;241m=\u001b[39m\u001b[38;5;28;01mTrue\u001b[39;00m, level\u001b[38;5;241m=\u001b[39m\u001b[38;5;28;01mNone\u001b[39;00m)\n\u001b[1;32m-> 6946\u001b[0m new_data \u001b[38;5;241m=\u001b[39m \u001b[38;5;28;43mself\u001b[39;49m\u001b[38;5;241;43m.\u001b[39;49m\u001b[43m_dispatch_frame_op\u001b[49m\u001b[43m(\u001b[49m\u001b[43mother\u001b[49m\u001b[43m,\u001b[49m\u001b[43m \u001b[49m\u001b[43mop\u001b[49m\u001b[43m,\u001b[49m\u001b[43m \u001b[49m\u001b[43maxis\u001b[49m\u001b[38;5;241;43m=\u001b[39;49m\u001b[43maxis\u001b[49m\u001b[43m)\u001b[49m\n\u001b[0;32m   6947\u001b[0m \u001b[38;5;28;01mreturn\u001b[39;00m \u001b[38;5;28mself\u001b[39m\u001b[38;5;241m.\u001b[39m_construct_result(new_data)\n",
      "File \u001b[1;32m~\\anaconda3\\lib\\site-packages\\pandas\\core\\frame.py:6985\u001b[0m, in \u001b[0;36mDataFrame._dispatch_frame_op\u001b[1;34m(self, right, func, axis)\u001b[0m\n\u001b[0;32m   6979\u001b[0m     \u001b[38;5;66;03m# TODO: The previous assertion `assert right._indexed_same(self)`\u001b[39;00m\n\u001b[0;32m   6980\u001b[0m     \u001b[38;5;66;03m#  fails in cases with empty columns reached via\u001b[39;00m\n\u001b[0;32m   6981\u001b[0m     \u001b[38;5;66;03m#  _frame_arith_method_with_reindex\u001b[39;00m\n\u001b[0;32m   6982\u001b[0m \n\u001b[0;32m   6983\u001b[0m     \u001b[38;5;66;03m# TODO operate_blockwise expects a manager of the same type\u001b[39;00m\n\u001b[0;32m   6984\u001b[0m     \u001b[38;5;28;01mwith\u001b[39;00m np\u001b[38;5;241m.\u001b[39merrstate(\u001b[38;5;28mall\u001b[39m\u001b[38;5;241m=\u001b[39m\u001b[38;5;124m\"\u001b[39m\u001b[38;5;124mignore\u001b[39m\u001b[38;5;124m\"\u001b[39m):\n\u001b[1;32m-> 6985\u001b[0m         bm \u001b[38;5;241m=\u001b[39m \u001b[38;5;28;43mself\u001b[39;49m\u001b[38;5;241;43m.\u001b[39;49m\u001b[43m_mgr\u001b[49m\u001b[38;5;241;43m.\u001b[39;49m\u001b[43moperate_blockwise\u001b[49m\u001b[43m(\u001b[49m\n\u001b[0;32m   6986\u001b[0m \u001b[43m            \u001b[49m\u001b[38;5;66;43;03m# error: Argument 1 to \"operate_blockwise\" of \"ArrayManager\" has\u001b[39;49;00m\n\u001b[0;32m   6987\u001b[0m \u001b[43m            \u001b[49m\u001b[38;5;66;43;03m# incompatible type \"Union[ArrayManager, BlockManager]\"; expected\u001b[39;49;00m\n\u001b[0;32m   6988\u001b[0m \u001b[43m            \u001b[49m\u001b[38;5;66;43;03m# \"ArrayManager\"\u001b[39;49;00m\n\u001b[0;32m   6989\u001b[0m \u001b[43m            \u001b[49m\u001b[38;5;66;43;03m# error: Argument 1 to \"operate_blockwise\" of \"BlockManager\" has\u001b[39;49;00m\n\u001b[0;32m   6990\u001b[0m \u001b[43m            \u001b[49m\u001b[38;5;66;43;03m# incompatible type \"Union[ArrayManager, BlockManager]\"; expected\u001b[39;49;00m\n\u001b[0;32m   6991\u001b[0m \u001b[43m            \u001b[49m\u001b[38;5;66;43;03m# \"BlockManager\"\u001b[39;49;00m\n\u001b[0;32m   6992\u001b[0m \u001b[43m            \u001b[49m\u001b[43mright\u001b[49m\u001b[38;5;241;43m.\u001b[39;49m\u001b[43m_mgr\u001b[49m\u001b[43m,\u001b[49m\u001b[43m  \u001b[49m\u001b[38;5;66;43;03m# type: ignore[arg-type]\u001b[39;49;00m\n\u001b[0;32m   6993\u001b[0m \u001b[43m            \u001b[49m\u001b[43marray_op\u001b[49m\u001b[43m,\u001b[49m\n\u001b[0;32m   6994\u001b[0m \u001b[43m        \u001b[49m\u001b[43m)\u001b[49m\n\u001b[0;32m   6995\u001b[0m     \u001b[38;5;28;01mreturn\u001b[39;00m \u001b[38;5;28mself\u001b[39m\u001b[38;5;241m.\u001b[39m_constructor(bm)\n\u001b[0;32m   6997\u001b[0m \u001b[38;5;28;01melif\u001b[39;00m \u001b[38;5;28misinstance\u001b[39m(right, Series) \u001b[38;5;129;01mand\u001b[39;00m axis \u001b[38;5;241m==\u001b[39m \u001b[38;5;241m1\u001b[39m:\n\u001b[0;32m   6998\u001b[0m     \u001b[38;5;66;03m# axis=1 means we want to operate row-by-row\u001b[39;00m\n",
      "File \u001b[1;32m~\\anaconda3\\lib\\site-packages\\pandas\\core\\internals\\managers.py:1409\u001b[0m, in \u001b[0;36mBlockManager.operate_blockwise\u001b[1;34m(self, other, array_op)\u001b[0m\n\u001b[0;32m   1405\u001b[0m \u001b[38;5;28;01mdef\u001b[39;00m \u001b[38;5;21moperate_blockwise\u001b[39m(\u001b[38;5;28mself\u001b[39m, other: BlockManager, array_op) \u001b[38;5;241m-\u001b[39m\u001b[38;5;241m>\u001b[39m BlockManager:\n\u001b[0;32m   1406\u001b[0m     \u001b[38;5;124;03m\"\"\"\u001b[39;00m\n\u001b[0;32m   1407\u001b[0m \u001b[38;5;124;03m    Apply array_op blockwise with another (aligned) BlockManager.\u001b[39;00m\n\u001b[0;32m   1408\u001b[0m \u001b[38;5;124;03m    \"\"\"\u001b[39;00m\n\u001b[1;32m-> 1409\u001b[0m     \u001b[38;5;28;01mreturn\u001b[39;00m \u001b[43moperate_blockwise\u001b[49m\u001b[43m(\u001b[49m\u001b[38;5;28;43mself\u001b[39;49m\u001b[43m,\u001b[49m\u001b[43m \u001b[49m\u001b[43mother\u001b[49m\u001b[43m,\u001b[49m\u001b[43m \u001b[49m\u001b[43marray_op\u001b[49m\u001b[43m)\u001b[49m\n",
      "File \u001b[1;32m~\\anaconda3\\lib\\site-packages\\pandas\\core\\internals\\ops.py:63\u001b[0m, in \u001b[0;36moperate_blockwise\u001b[1;34m(left, right, array_op)\u001b[0m\n\u001b[0;32m     61\u001b[0m res_blks: \u001b[38;5;28mlist\u001b[39m[Block] \u001b[38;5;241m=\u001b[39m []\n\u001b[0;32m     62\u001b[0m \u001b[38;5;28;01mfor\u001b[39;00m lvals, rvals, locs, left_ea, right_ea, rblk \u001b[38;5;129;01min\u001b[39;00m _iter_block_pairs(left, right):\n\u001b[1;32m---> 63\u001b[0m     res_values \u001b[38;5;241m=\u001b[39m \u001b[43marray_op\u001b[49m\u001b[43m(\u001b[49m\u001b[43mlvals\u001b[49m\u001b[43m,\u001b[49m\u001b[43m \u001b[49m\u001b[43mrvals\u001b[49m\u001b[43m)\u001b[49m\n\u001b[0;32m     64\u001b[0m     \u001b[38;5;28;01mif\u001b[39;00m left_ea \u001b[38;5;129;01mand\u001b[39;00m \u001b[38;5;129;01mnot\u001b[39;00m right_ea \u001b[38;5;129;01mand\u001b[39;00m \u001b[38;5;28mhasattr\u001b[39m(res_values, \u001b[38;5;124m\"\u001b[39m\u001b[38;5;124mreshape\u001b[39m\u001b[38;5;124m\"\u001b[39m):\n\u001b[0;32m     65\u001b[0m         res_values \u001b[38;5;241m=\u001b[39m res_values\u001b[38;5;241m.\u001b[39mreshape(\u001b[38;5;241m1\u001b[39m, \u001b[38;5;241m-\u001b[39m\u001b[38;5;241m1\u001b[39m)\n",
      "File \u001b[1;32m~\\anaconda3\\lib\\site-packages\\pandas\\core\\ops\\array_ops.py:391\u001b[0m, in \u001b[0;36mlogical_op\u001b[1;34m(left, right, op)\u001b[0m\n\u001b[0;32m    387\u001b[0m \u001b[38;5;66;03m# For int vs int `^`, `|`, `&` are bitwise operators and return\u001b[39;00m\n\u001b[0;32m    388\u001b[0m \u001b[38;5;66;03m#   integer dtypes.  Otherwise these are boolean ops\u001b[39;00m\n\u001b[0;32m    389\u001b[0m filler \u001b[38;5;241m=\u001b[39m fill_int \u001b[38;5;28;01mif\u001b[39;00m is_self_int_dtype \u001b[38;5;129;01mand\u001b[39;00m is_other_int_dtype \u001b[38;5;28;01melse\u001b[39;00m fill_bool\n\u001b[1;32m--> 391\u001b[0m res_values \u001b[38;5;241m=\u001b[39m \u001b[43mna_logical_op\u001b[49m\u001b[43m(\u001b[49m\u001b[43mlvalues\u001b[49m\u001b[43m,\u001b[49m\u001b[43m \u001b[49m\u001b[43mrvalues\u001b[49m\u001b[43m,\u001b[49m\u001b[43m \u001b[49m\u001b[43mop\u001b[49m\u001b[43m)\u001b[49m\n\u001b[0;32m    392\u001b[0m \u001b[38;5;66;03m# error: Cannot call function of unknown type\u001b[39;00m\n\u001b[0;32m    393\u001b[0m res_values \u001b[38;5;241m=\u001b[39m filler(res_values)  \u001b[38;5;66;03m# type: ignore[operator]\u001b[39;00m\n",
      "File \u001b[1;32m~\\anaconda3\\lib\\site-packages\\pandas\\core\\ops\\array_ops.py:308\u001b[0m, in \u001b[0;36mna_logical_op\u001b[1;34m(x, y, op)\u001b[0m\n\u001b[0;32m    306\u001b[0m     x \u001b[38;5;241m=\u001b[39m ensure_object(x)\n\u001b[0;32m    307\u001b[0m     y \u001b[38;5;241m=\u001b[39m ensure_object(y)\n\u001b[1;32m--> 308\u001b[0m     result \u001b[38;5;241m=\u001b[39m \u001b[43mlibops\u001b[49m\u001b[38;5;241;43m.\u001b[39;49m\u001b[43mvec_binop\u001b[49m\u001b[43m(\u001b[49m\u001b[43mx\u001b[49m\u001b[38;5;241;43m.\u001b[39;49m\u001b[43mravel\u001b[49m\u001b[43m(\u001b[49m\u001b[43m)\u001b[49m\u001b[43m,\u001b[49m\u001b[43m \u001b[49m\u001b[43my\u001b[49m\u001b[38;5;241;43m.\u001b[39;49m\u001b[43mravel\u001b[49m\u001b[43m(\u001b[49m\u001b[43m)\u001b[49m\u001b[43m,\u001b[49m\u001b[43m \u001b[49m\u001b[43mop\u001b[49m\u001b[43m)\u001b[49m\n\u001b[0;32m    309\u001b[0m \u001b[38;5;28;01melse\u001b[39;00m:\n\u001b[0;32m    310\u001b[0m     \u001b[38;5;66;03m# let null fall thru\u001b[39;00m\n\u001b[0;32m    311\u001b[0m     \u001b[38;5;28;01massert\u001b[39;00m lib\u001b[38;5;241m.\u001b[39mis_scalar(y)\n",
      "File \u001b[1;32m~\\anaconda3\\lib\\site-packages\\pandas\\_libs\\ops.pyx:252\u001b[0m, in \u001b[0;36mpandas._libs.ops.vec_binop\u001b[1;34m()\u001b[0m\n",
      "File \u001b[1;32m~\\anaconda3\\lib\\site-packages\\pandas\\_libs\\ops.pyx:245\u001b[0m, in \u001b[0;36mpandas._libs.ops.vec_binop\u001b[1;34m()\u001b[0m\n",
      "\u001b[1;31mTypeError\u001b[0m: unsupported operand type(s) for |: 'float' and 'bool'"
     ]
    }
   ],
   "source": [
    "# find out the alcohol consumption of a given year from the world alcohol consumption dataset.\n",
    "\n",
    "print(\"\\nThe world alcohol consumption details in the year 1985:\")\n",
    "print(df[df['Year']==1985].head(10))\n",
    "print(\"\\nThe world alcohol consumption details in the year 1989:\")\n",
    "print(df[df['Year']==1989].head(10))\n",
    "\n",
    "print(\"\\nThe world alcohol consumption details where year is 1987 or 1989:\")\n",
    "print((df[df['Year']==1985]) | (df[df['Year']==1989]))"
   ]
  },
  {
   "cell_type": "code",
   "execution_count": 84,
   "metadata": {},
   "outputs": [
    {
     "name": "stdout",
     "output_type": "stream",
     "text": [
      "    Year             WHO region                                Country  \\\n",
      "13  1984  Eastern Mediterranean                            Afghanistan   \n",
      "20  1986        South-East Asia                                Myanmar   \n",
      "25  1984  Eastern Mediterranean                                Tunisia   \n",
      "27  1984  Eastern Mediterranean                                Bahrain   \n",
      "36  1987  Eastern Mediterranean                                  Egypt   \n",
      "38  1987  Eastern Mediterranean                                  Qatar   \n",
      "52  1986  Eastern Mediterranean                           Saudi Arabia   \n",
      "53  1984  Eastern Mediterranean                                 Kuwait   \n",
      "58  1984  Eastern Mediterranean                                Somalia   \n",
      "59  1989  Eastern Mediterranean                   Syrian Arab Republic   \n",
      "60  1987  Eastern Mediterranean             Iran (Islamic Republic of)   \n",
      "63  1985  Eastern Mediterranean                                  Libya   \n",
      "65  1989  Eastern Mediterranean                                Somalia   \n",
      "66  1987  Eastern Mediterranean                                   Iraq   \n",
      "73  1986  Eastern Mediterranean                               Pakistan   \n",
      "75  1989  Eastern Mediterranean                            Afghanistan   \n",
      "84  1986        South-East Asia                              Sri Lanka   \n",
      "87  1989  Eastern Mediterranean                                   Iraq   \n",
      "88  1987  Eastern Mediterranean                                Lebanon   \n",
      "89  1986  Eastern Mediterranean                                Lebanon   \n",
      "97  1984        South-East Asia                              Indonesia   \n",
      "99  1985        South-East Asia  Democratic People's Republic of Korea   \n",
      "\n",
      "   Beverage Types  Display Value  \n",
      "13          Other           0.00  \n",
      "20           Wine           0.00  \n",
      "25          Other           0.00  \n",
      "27           Beer           2.22  \n",
      "36           Beer           0.07  \n",
      "38          Other           0.00  \n",
      "52           Wine           0.00  \n",
      "53           Beer           0.00  \n",
      "58        Spirits           0.00  \n",
      "59          Other           0.00  \n",
      "60          Other           0.00  \n",
      "63          Other           0.00  \n",
      "65           Beer           0.00  \n",
      "66           Wine           0.01  \n",
      "73          Other           0.01  \n",
      "75          Other           0.00  \n",
      "84          Other           0.00  \n",
      "87           Wine           0.01  \n",
      "88           Beer           0.42  \n",
      "89           Wine           0.70  \n",
      "97           Wine           0.00  \n",
      "99           Wine           0.00  \n"
     ]
    }
   ],
   "source": [
    "print(df[df[\"WHO region\"].str.contains(\"Ea\")])"
   ]
  },
  {
   "cell_type": "code",
   "execution_count": 86,
   "metadata": {},
   "outputs": [
    {
     "name": "stdout",
     "output_type": "stream",
     "text": [
      "\n",
      "Select all rows which not appears in a given list:\n",
      "    Year       WHO region                                Country  \\\n",
      "0   1986  Western Pacific                               Viet Nam   \n",
      "1   1986         Americas                                Uruguay   \n",
      "3   1986         Americas                               Colombia   \n",
      "4   1987         Americas                  Saint Kitts and Nevis   \n",
      "5   1987         Americas                              Guatemala   \n",
      "8   1986         Americas                    Antigua and Barbuda   \n",
      "11  1989         Americas                              Guatemala   \n",
      "12  1985  Western Pacific       Lao People's Democratic Republic   \n",
      "14  1985  Western Pacific                               Viet Nam   \n",
      "16  1984         Americas                             Costa Rica   \n",
      "20  1986  South-East Asia                                Myanmar   \n",
      "21  1989         Americas                             Costa Rica   \n",
      "28  1987  Western Pacific                               Viet Nam   \n",
      "31  1986  Western Pacific       Micronesia (Federated States of)   \n",
      "35  1985         Americas                  Saint Kitts and Nevis   \n",
      "43  1984  Western Pacific                                  China   \n",
      "46  1987         Americas                    Trinidad and Tobago   \n",
      "47  1986         Americas                                 Mexico   \n",
      "48  1987         Americas                              Nicaragua   \n",
      "54  1984         Americas                            El Salvador   \n",
      "55  1989         Americas                               Suriname   \n",
      "56  1987  Western Pacific                               Viet Nam   \n",
      "61  1984  Western Pacific                       Papua New Guinea   \n",
      "62  1987         Americas                               Suriname   \n",
      "64  1989         Americas       Bolivia (Plurinational State of)   \n",
      "74  1986         Americas       Bolivia (Plurinational State of)   \n",
      "78  1989         Americas                                Jamaica   \n",
      "84  1986  South-East Asia                              Sri Lanka   \n",
      "86  1986         Americas                                Bahamas   \n",
      "97  1984  South-East Asia                              Indonesia   \n",
      "99  1985  South-East Asia  Democratic People's Republic of Korea   \n",
      "\n",
      "   Beverage Types  Display Value  \n",
      "0            Wine           0.00  \n",
      "1           Other           0.50  \n",
      "3            Beer           4.27  \n",
      "4            Beer           1.98  \n",
      "5           Other           0.00  \n",
      "8         Spirits           1.55  \n",
      "11           Beer           0.62  \n",
      "12           Beer           0.00  \n",
      "14        Spirits           0.05  \n",
      "16           Wine           0.06  \n",
      "20           Wine           0.00  \n",
      "21        Spirits           4.51  \n",
      "28           Beer           0.11  \n",
      "31           Wine           0.00  \n",
      "35        Spirits           2.24  \n",
      "43           Wine           0.03  \n",
      "46        Spirits           2.26  \n",
      "47          Other           0.04  \n",
      "48           Beer           0.70  \n",
      "54        Spirits           1.81  \n",
      "55           Wine           0.04  \n",
      "56           Wine           0.00  \n",
      "61        Spirits           0.08  \n",
      "62          Other           0.00  \n",
      "64           Beer           1.26  \n",
      "74        Spirits           2.06  \n",
      "78          Other           0.00  \n",
      "84          Other           0.00  \n",
      "86           Wine           1.83  \n",
      "97           Wine           0.00  \n",
      "99           Wine           0.00  \n"
     ]
    }
   ],
   "source": [
    "#filter those records which not appears in a given list from world alcohol consumption dataset.\n",
    "\n",
    "print(\"\\nSelect all rows which not appears in a given list:\")\n",
    "who_region = [\"Africa\", \"Eastern Mediterranean\", \"Europe\"]\n",
    "flt_wine = df[~df[\"WHO region\"].isin(who_region)]\n",
    "print(flt_wine)"
   ]
  },
  {
   "cell_type": "code",
   "execution_count": 89,
   "metadata": {},
   "outputs": [
    {
     "name": "stdout",
     "output_type": "stream",
     "text": [
      "\n",
      "Average consumption of wine per person greater than 2:\n",
      "    Year             WHO region  \\\n",
      "2   1985                 Africa   \n",
      "26  1985                 Europe   \n",
      "34  1986                 Europe   \n",
      "49  1986                 Europe   \n",
      "57  1989                 Europe   \n",
      "81  1985                 Europe   \n",
      "86  1986               Americas   \n",
      "89  1986  Eastern Mediterranean   \n",
      "96  1985                 Europe   \n",
      "\n",
      "                                              Country Beverage Types  \\\n",
      "2                                        Cte d'Ivoire           Wine   \n",
      "26  United Kingdom of Great Britain and Northern I...           Wine   \n",
      "34                                 Russian Federation           Wine   \n",
      "49                                              Malta           Wine   \n",
      "57                                            Croatia           Wine   \n",
      "81                                        Netherlands           Wine   \n",
      "86                                            Bahamas           Wine   \n",
      "89                                            Lebanon           Wine   \n",
      "96                                         Luxembourg           Wine   \n",
      "\n",
      "    Display Value  \n",
      "2            1.62  \n",
      "26           1.36  \n",
      "34           0.80  \n",
      "49           1.49  \n",
      "57           5.10  \n",
      "81           2.54  \n",
      "86           1.83  \n",
      "89           0.70  \n",
      "96           7.38  \n"
     ]
    }
   ],
   "source": [
    "print(\"\\nAverage consumption of wine per person greater than 2:\")\n",
    "print(df[(df['Beverage Types'] == 'Wine') & (df['Display Value'] > .2)])"
   ]
  },
  {
   "cell_type": "code",
   "execution_count": 90,
   "metadata": {},
   "outputs": [
    {
     "name": "stdout",
     "output_type": "stream",
     "text": [
      "\n",
      "Find  all columns which all entries present:\n",
      "    Year       WHO region                                Country  \\\n",
      "0   1986  Western Pacific                               Viet Nam   \n",
      "1   1986         Americas                                Uruguay   \n",
      "2   1985           Africa                           Cte d'Ivoire   \n",
      "3   1986         Americas                               Colombia   \n",
      "4   1987         Americas                  Saint Kitts and Nevis   \n",
      "..   ...              ...                                    ...   \n",
      "95  1984           Africa                                  Niger   \n",
      "96  1985           Europe                             Luxembourg   \n",
      "97  1984  South-East Asia                              Indonesia   \n",
      "98  1984           Africa                      Equatorial Guinea   \n",
      "99  1985  South-East Asia  Democratic People's Republic of Korea   \n",
      "\n",
      "   Beverage Types  \n",
      "0            Wine  \n",
      "1           Other  \n",
      "2            Wine  \n",
      "3            Beer  \n",
      "4            Beer  \n",
      "..            ...  \n",
      "95          Other  \n",
      "96           Wine  \n",
      "97           Wine  \n",
      "98           Wine  \n",
      "99           Wine  \n",
      "\n",
      "[100 rows x 4 columns]\n",
      "\n",
      "Rows and columns has a NaN:\n",
      "    Display Value\n",
      "0            0.00\n",
      "1            0.50\n",
      "2            1.62\n",
      "3            4.27\n",
      "4            1.98\n",
      "..            ...\n",
      "95           0.00\n",
      "96           7.38\n",
      "97           0.00\n",
      "98           0.00\n",
      "99           0.00\n",
      "\n",
      "[100 rows x 1 columns]\n",
      "\n",
      "Drop rows with any NaNs:\n",
      "    Year       WHO region                                Country  \\\n",
      "0   1986  Western Pacific                               Viet Nam   \n",
      "1   1986         Americas                                Uruguay   \n",
      "2   1985           Africa                           Cte d'Ivoire   \n",
      "3   1986         Americas                               Colombia   \n",
      "4   1987         Americas                  Saint Kitts and Nevis   \n",
      "..   ...              ...                                    ...   \n",
      "95  1984           Africa                                  Niger   \n",
      "96  1985           Europe                             Luxembourg   \n",
      "97  1984  South-East Asia                              Indonesia   \n",
      "98  1984           Africa                      Equatorial Guinea   \n",
      "99  1985  South-East Asia  Democratic People's Republic of Korea   \n",
      "\n",
      "   Beverage Types  Display Value  \n",
      "0            Wine           0.00  \n",
      "1           Other           0.50  \n",
      "2            Wine           1.62  \n",
      "3            Beer           4.27  \n",
      "4            Beer           1.98  \n",
      "..            ...            ...  \n",
      "95          Other           0.00  \n",
      "96           Wine           7.38  \n",
      "97           Wine           0.00  \n",
      "98           Wine           0.00  \n",
      "99           Wine           0.00  \n",
      "\n",
      "[95 rows x 5 columns]\n"
     ]
    }
   ],
   "source": [
    "#filter all columns where all entries present, check which rows and columns has a NaN and finally drop rows with any NaNs from world alcohol consumption dataset.\n",
    "\n",
    "print(\"\\nFind  all columns which all entries present:\")\n",
    "print(df.loc[:, df.notnull().all()])\n",
    "print(\"\\nRows and columns has a NaN:\")\n",
    "print(df.loc[:,df.isnull().any()])\n",
    "print(\"\\nDrop rows with any NaNs:\")\n",
    "print(df.dropna(how='any')) "
   ]
  },
  {
   "cell_type": "markdown",
   "metadata": {},
   "source": [
    "# Pandas Grouping and Aggregating"
   ]
  },
  {
   "cell_type": "code",
   "execution_count": 91,
   "metadata": {},
   "outputs": [
    {
     "name": "stdout",
     "output_type": "stream",
     "text": [
      "Original DataFrame:\n",
      "   school_code class            name date_Of_Birth   age  height  weight  \\\n",
      "S1        s001     V  Alberto Franco     15/05/2002   12     173      35   \n",
      "S2        s002     V    Gino Mcneill     17/05/2002   12     192      32   \n",
      "S3        s003    VI     Ryan Parkes     16/02/1999   13     186      33   \n",
      "S4        s001    VI    Eesha Hinton     25/09/1998   13     167      30   \n",
      "S5        s002     V    Gino Mcneill     11/05/2002   14     151      31   \n",
      "S6        s004    VI    David Parkes     15/09/1997   12     159      32   \n",
      "\n",
      "    address  \n",
      "S1  street1  \n",
      "S2  street2  \n",
      "S3  street3  \n",
      "S4  street1  \n",
      "S5  street2  \n",
      "S6  street4  \n"
     ]
    }
   ],
   "source": [
    "import pandas as pd\n",
    "pd.set_option('display.max_rows', None)\n",
    "#pd.set_option('display.max_columns', None)\n",
    "student_data = pd.DataFrame({\n",
    "    'school_code': ['s001','s002','s003','s001','s002','s004'],\n",
    "    'class': ['V', 'V', 'VI', 'VI', 'V', 'VI'],\n",
    "    'name': ['Alberto Franco','Gino Mcneill','Ryan Parkes', 'Eesha Hinton', 'Gino Mcneill', 'David Parkes'],\n",
    "    'date_Of_Birth ': ['15/05/2002','17/05/2002','16/02/1999','25/09/1998','11/05/2002','15/09/1997'],\n",
    "    'age': [12, 12, 13, 13, 14, 12],\n",
    "    'height': [173, 192, 186, 167, 151, 159],\n",
    "    'weight': [35, 32, 33, 30, 31, 32],\n",
    "    'address': ['street1', 'street2', 'street3', 'street1', 'street2', 'street4']},\n",
    "    index=['S1', 'S2', 'S3', 'S4', 'S5', 'S6'])\n",
    "\n",
    "print(\"Original DataFrame:\")\n",
    "print(student_data)"
   ]
  },
  {
   "cell_type": "code",
   "execution_count": 92,
   "metadata": {},
   "outputs": [
    {
     "name": "stdout",
     "output_type": "stream",
     "text": [
      "\n",
      "Split the said data on school_code wise:\n",
      "\n",
      "Group:\n",
      "s001\n",
      "   school_code class            name date_Of_Birth   age  height  weight  \\\n",
      "S1        s001     V  Alberto Franco     15/05/2002   12     173      35   \n",
      "S4        s001    VI    Eesha Hinton     25/09/1998   13     167      30   \n",
      "\n",
      "    address  \n",
      "S1  street1  \n",
      "S4  street1  \n",
      "\n",
      "Group:\n",
      "s002\n",
      "   school_code class          name date_Of_Birth   age  height  weight  \\\n",
      "S2        s002     V  Gino Mcneill     17/05/2002   12     192      32   \n",
      "S5        s002     V  Gino Mcneill     11/05/2002   14     151      31   \n",
      "\n",
      "    address  \n",
      "S2  street2  \n",
      "S5  street2  \n",
      "\n",
      "Group:\n",
      "s003\n",
      "   school_code class         name date_Of_Birth   age  height  weight  address\n",
      "S3        s003    VI  Ryan Parkes     16/02/1999   13     186      33  street3\n",
      "\n",
      "Group:\n",
      "s004\n",
      "   school_code class          name date_Of_Birth   age  height  weight  \\\n",
      "S6        s004    VI  David Parkes     15/09/1997   12     159      32   \n",
      "\n",
      "    address  \n",
      "S6  street4  \n",
      "\n",
      "Type of the object:\n",
      "<class 'pandas.core.groupby.generic.DataFrameGroupBy'>\n"
     ]
    }
   ],
   "source": [
    "#split the following dataframe into groups based on school code\n",
    "\n",
    "print('\\nSplit the said data on school_code wise:')\n",
    "result = student_data.groupby(['school_code'])\n",
    "for name,group in result:\n",
    "    print(\"\\nGroup:\")\n",
    "    print(name)\n",
    "    print(group)\n",
    "print(\"\\nType of the object:\")\n",
    "print(type(result))"
   ]
  },
  {
   "cell_type": "code",
   "execution_count": 95,
   "metadata": {},
   "outputs": [
    {
     "name": "stdout",
     "output_type": "stream",
     "text": [
      "              age        \n",
      "             mean min max\n",
      "school_code              \n",
      "s001         12.5  12  13\n",
      "s002         13.0  12  14\n",
      "s003         13.0  13  13\n",
      "s004         12.0  12  12\n"
     ]
    }
   ],
   "source": [
    "#split the following dataframe by school code and get mean, min, and max value of age for each school.\n",
    "grouped_single = student_data.groupby('school_code').agg({'age': ['mean', 'min', 'max']})\n",
    "print(grouped_single)"
   ]
  },
  {
   "cell_type": "code",
   "execution_count": 96,
   "metadata": {},
   "outputs": [
    {
     "name": "stdout",
     "output_type": "stream",
     "text": [
      "\n",
      "Split the said data on school_code, class wise:\n",
      "\n",
      "Group:\n",
      "('s001', 'V')\n",
      "   school_code class            name date_Of_Birth   age  height  weight  \\\n",
      "S1        s001     V  Alberto Franco     15/05/2002   12     173      35   \n",
      "\n",
      "    address  \n",
      "S1  street1  \n",
      "\n",
      "Group:\n",
      "('s001', 'VI')\n",
      "   school_code class          name date_Of_Birth   age  height  weight  \\\n",
      "S4        s001    VI  Eesha Hinton     25/09/1998   13     167      30   \n",
      "\n",
      "    address  \n",
      "S4  street1  \n",
      "\n",
      "Group:\n",
      "('s002', 'V')\n",
      "   school_code class          name date_Of_Birth   age  height  weight  \\\n",
      "S2        s002     V  Gino Mcneill     17/05/2002   12     192      32   \n",
      "S5        s002     V  Gino Mcneill     11/05/2002   14     151      31   \n",
      "\n",
      "    address  \n",
      "S2  street2  \n",
      "S5  street2  \n",
      "\n",
      "Group:\n",
      "('s003', 'VI')\n",
      "   school_code class         name date_Of_Birth   age  height  weight  address\n",
      "S3        s003    VI  Ryan Parkes     16/02/1999   13     186      33  street3\n",
      "\n",
      "Group:\n",
      "('s004', 'VI')\n",
      "   school_code class          name date_Of_Birth   age  height  weight  \\\n",
      "S6        s004    VI  David Parkes     15/09/1997   12     159      32   \n",
      "\n",
      "    address  \n",
      "S6  street4  \n"
     ]
    }
   ],
   "source": [
    "#split the following given dataframe into groups based on school code and class.\n",
    "\n",
    "print('\\nSplit the said data on school_code, class wise:')\n",
    "result = student_data.groupby(['school_code', 'class'])\n",
    "for name,group in result:\n",
    "    print(\"\\nGroup:\")\n",
    "    print(name)\n",
    "    print(group)"
   ]
  },
  {
   "cell_type": "code",
   "execution_count": 97,
   "metadata": {},
   "outputs": [
    {
     "name": "stdout",
     "output_type": "stream",
     "text": [
      "\n",
      "Split the said data on school_code wise:\n",
      "Call school code 's001':\n",
      "   school_code class            name date_Of_Birth   age  height  weight  \\\n",
      "S1        s001     V  Alberto Franco     15/05/2002   12     173      35   \n",
      "S4        s001    VI    Eesha Hinton     25/09/1998   13     167      30   \n",
      "\n",
      "    address  \n",
      "S1  street1  \n",
      "S4  street1  \n",
      "\n",
      "Call school code 's004':\n",
      "   school_code class          name date_Of_Birth   age  height  weight  \\\n",
      "S6        s004    VI  David Parkes     15/09/1997   12     159      32   \n",
      "\n",
      "    address  \n",
      "S6  street4  \n"
     ]
    }
   ],
   "source": [
    "print('\\nSplit the said data on school_code wise:')\n",
    "grouped = student_data.groupby(['school_code'])\n",
    "print(\"Call school code 's001':\")\n",
    "print(grouped.get_group('s001'))\n",
    "print(\"\\nCall school code 's004':\")\n",
    "print(grouped.get_group('s004'))"
   ]
  },
  {
   "cell_type": "code",
   "execution_count": 99,
   "metadata": {},
   "outputs": [
    {
     "name": "stdout",
     "output_type": "stream",
     "text": [
      "Original Orders DataFrame:\n",
      "  book_name book_type  book_id\n",
      "0     Book1      Math        1\n",
      "1     Book2   Physics        2\n",
      "2     Book3  Computer        3\n",
      "3     Book4   Science        4\n",
      "4     Book1      Math        1\n",
      "5     Book2   Physics        2\n",
      "6     Book3  Computer        3\n",
      "7     Book5   English        5\n",
      "\n",
      "New column with count from groupby:\n",
      "  book_name book_type  count\n",
      "0     Book1      Math      2\n",
      "1     Book2   Physics      2\n",
      "2     Book3  Computer      2\n",
      "3     Book4   Science      1\n",
      "4     Book5   English      1\n"
     ]
    }
   ],
   "source": [
    "#split a given dataframe into groups and create a new column with count from GroupBy.\n",
    "\n",
    "import pandas as pd\n",
    "pd.set_option('display.max_rows', None)\n",
    "df = pd.DataFrame({\n",
    "'book_name':['Book1','Book2','Book3','Book4','Book1','Book2','Book3','Book5'],\n",
    "'book_type':['Math','Physics','Computer','Science','Math','Physics','Computer','English'],\n",
    "'book_id':[1,2,3,4,1,2,3,5]})\n",
    "print(\"Original Orders DataFrame:\")\n",
    "print(df)\n",
    "print(\"\\nNew column with count from groupby:\")\n",
    "result = df.groupby([\"book_name\", \"book_type\"])[\"book_type\"].count().reset_index(name=\"count\")\n",
    "print(result)"
   ]
  },
  {
   "cell_type": "code",
   "execution_count": null,
   "metadata": {},
   "outputs": [],
   "source": []
  },
  {
   "cell_type": "code",
   "execution_count": null,
   "metadata": {},
   "outputs": [],
   "source": []
  },
  {
   "cell_type": "code",
   "execution_count": null,
   "metadata": {},
   "outputs": [],
   "source": [
    "https://www.w3resource.com/python-exercises/pandas"
   ]
  },
  {
   "cell_type": "code",
   "execution_count": null,
   "metadata": {},
   "outputs": [],
   "source": [
    "Excellent Collection of Pandas Interview Questions\n",
    "\n",
    "https://analyticsindiamag.com/10-important-pandas-interview-questions-every-beginner-must-know/\n",
    "\n",
    "https://medium.com/@kacawi/tutorial-pandas-data-structures-736ded97842\n",
    "\n",
    "https://atraininghub.com/data-analysis-with-python-and-pandas-interview-questions-and-answers/\n",
    "\n",
    "https://www.mytectra.com/interview-question/python-pandas-interview-questions-and-answers/\n",
    "\n",
    "https://www.w3resource.com/python-exercises/pandas/index.php\n",
    "\n",
    "https://www.knowledgepowerhouse.com/top-50-pandas-interview-preparation-questions/2504\n",
    "    \n",
    "https://www.kaggle.com/code/kashnitsky/topic-1-exploratory-data-analysis-with-pandas/notebook\n",
    "    \n",
    "General Pandas Exercise\n",
    "https://pynative.com/python-pandas-exercise/\n",
    "\n",
    "Simple Exercise\n",
    "https://nbviewer.jupyter.org/github/guipsamora/pandas_exercises/blob/master/01_Getting_%26_Knowing_Your_Data/Chipotle/Exercises.ipynb\n",
    "https://nbviewer.jupyter.org/github/guipsamora/pandas_exercises/blob/master/01_Getting_%26_Knowing_Your_Data/Chipotle/Exercise_with_Solutions.ipynb\n",
    "\n",
    "Filtering and Sorting Exercise\n",
    "https://nbviewer.jupyter.org/github/guipsamora/pandas_exercises/blob/master/02_Filtering_%26_Sorting/Euro12/Exercises.ipynb\n",
    "\n",
    "https://nbviewer.jupyter.org/github/guipsamora/pandas_exercises/blob/master/02_Filtering_%26_Sorting/Euro12/Exercises_with_Solutions.ipynb\n",
    "\n",
    "GroupBy Exercise\n",
    "https://nbviewer.jupyter.org/github/guipsamora/pandas_exercises/blob/master/03_Grouping/Alcohol_Consumption/Exercise.ipynb\n",
    "\n",
    "https://nbviewer.jupyter.org/github/guipsamora/pandas_exercises/blob/master/03_Grouping/Alcohol_Consumption/Exercise_with_solutions.ipynb\n",
    "\n",
    "Apply method\n",
    "https://nbviewer.jupyter.org/github/guipsamora/pandas_exercises/blob/master/04_Apply/Students_Alcohol_Consumption/Exercises.ipynb\n",
    "\n",
    "https://nbviewer.jupyter.org/github/guipsamora/pandas_exercises/blob/master/04_Apply/Students_Alcohol_Consumption/Exercises_with_solutions.ipynb\n",
    "\n",
    "Merge\n",
    "https://nbviewer.jupyter.org/github/guipsamora/pandas_exercises/blob/master/05_Merge/Auto_MPG/Exercises.ipynb\n",
    "\n",
    "https://nbviewer.jupyter.org/github/guipsamora/pandas_exercises/blob/master/05_Merge/Auto_MPG/Exercises_with_solutions.ipynb\n",
    "\n",
    "Data Vizualization\n",
    "https://nbviewer.jupyter.org/github/guipsamora/pandas_exercises/blob/master/07_Visualization/Online_Retail/Exercises.ipynb\n",
    "\n",
    "https://nbviewer.jupyter.org/github/guipsamora/pandas_exercises/blob/master/07_Visualization/Online_Retail/Exercises_with_solutions_code.ipynb"
   ]
  },
  {
   "cell_type": "code",
   "execution_count": null,
   "metadata": {},
   "outputs": [],
   "source": [
    "#SQL to Pandas DataFrame \n"
   ]
  }
 ],
 "metadata": {
  "kernelspec": {
   "display_name": "Python 3 (ipykernel)",
   "language": "python",
   "name": "python3"
  },
  "language_info": {
   "codemirror_mode": {
    "name": "ipython",
    "version": 3
   },
   "file_extension": ".py",
   "mimetype": "text/x-python",
   "name": "python",
   "nbconvert_exporter": "python",
   "pygments_lexer": "ipython3",
   "version": "3.9.12"
  }
 },
 "nbformat": 4,
 "nbformat_minor": 2
}
