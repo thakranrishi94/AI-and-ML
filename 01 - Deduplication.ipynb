{
 "cells": [
  {
   "cell_type": "markdown",
   "metadata": {},
   "source": [
    "## Deduplicating data\n",
    "\n",
    "In this notebook, we deduplicate data using the [Dedupe library](https://dedupe.readthedocs.io/en/latest/), which utilizes a shallow neural network to learn from a small training exercise.\n",
    "\n",
    "If you are interested in building your own parser, the same folks have created the [Parserator](https://github.com/datamade/parserator) which you can use to extract text features and train your own text extraction (hooray! less brittle than regex!)"
   ]
  },
  {
   "cell_type": "code",
   "execution_count": 6,
   "metadata": {},
   "outputs": [
    {
     "name": "stdout",
     "output_type": "stream",
     "text": [
      "Collecting dedupeNote: you may need to restart the kernel to use updated packages.\n",
      "\n",
      "  Using cached dedupe-2.0.23-cp311-cp311-win_amd64.whl (96 kB)\n",
      "Requirement already satisfied: scikit-learn in c:\\users\\admin\\desktop\\new folder\\lib\\site-packages (from dedupe) (1.3.0)\n",
      "Collecting affinegap>=1.3 (from dedupe)\n",
      "  Using cached affinegap-1.12.tar.gz (33 kB)\n",
      "  Installing build dependencies: started\n",
      "  Installing build dependencies: finished with status 'done'\n",
      "  Getting requirements to build wheel: started\n",
      "  Getting requirements to build wheel: finished with status 'done'\n",
      "  Preparing metadata (pyproject.toml): started\n",
      "  Preparing metadata (pyproject.toml): finished with status 'done'\n",
      "Collecting categorical-distance>=1.9 (from dedupe)\n",
      "  Using cached categorical_distance-1.9-py3-none-any.whl (3.3 kB)\n",
      "Collecting dedupe-variable-datetime (from dedupe)\n",
      "  Using cached dedupe_variable_datetime-1.0.0-py3-none-any.whl (3.9 kB)\n",
      "Requirement already satisfied: numpy>=1.20 in c:\\users\\admin\\desktop\\new folder\\lib\\site-packages (from dedupe) (1.24.3)\n",
      "Collecting doublemetaphone (from dedupe)\n",
      "  Using cached DoubleMetaphone-1.1.tar.gz (34 kB)\n",
      "  Installing build dependencies: started\n",
      "  Installing build dependencies: finished with status 'done'\n",
      "  Getting requirements to build wheel: started\n",
      "  Getting requirements to build wheel: finished with status 'done'\n",
      "  Preparing metadata (pyproject.toml): started\n",
      "  Preparing metadata (pyproject.toml): finished with status 'done'\n",
      "Collecting highered>=0.2.0 (from dedupe)\n",
      "  Using cached highered-0.2.1-py2.py3-none-any.whl (3.3 kB)\n",
      "Collecting simplecosine>=1.2 (from dedupe)\n",
      "  Using cached simplecosine-1.2-py2.py3-none-any.whl (3.2 kB)\n",
      "Collecting haversine>=0.4.1 (from dedupe)\n",
      "  Using cached haversine-2.8.0-py2.py3-none-any.whl (7.7 kB)\n",
      "Collecting BTrees>=4.1.4 (from dedupe)\n",
      "  Obtaining dependency information for BTrees>=4.1.4 from https://files.pythonhosted.org/packages/c3/b3/a5fa35facef5bd85aba68a997fd8b1a1127bff3a18bd1bbf06c78d1a3aea/BTrees-5.1-cp311-cp311-win_amd64.whl.metadata\n",
      "  Using cached BTrees-5.1-cp311-cp311-win_amd64.whl.metadata (21 kB)\n",
      "Collecting zope.index (from dedupe)\n",
      "  Using cached zope.index-6.0-cp311-cp311-win_amd64.whl (94 kB)\n",
      "Collecting dedupe-Levenshtein-search (from dedupe)\n",
      "  Using cached dedupe_Levenshtein_search-1.4.5-cp311-cp311-win_amd64.whl (13 kB)\n",
      "Requirement already satisfied: typing-extensions in c:\\users\\admin\\desktop\\new folder\\lib\\site-packages (from dedupe) (4.7.1)\n",
      "Collecting persistent>=4.1.0 (from BTrees>=4.1.4->dedupe)\n",
      "  Obtaining dependency information for persistent>=4.1.0 from https://files.pythonhosted.org/packages/d6/3c/106195607e833abe4d2400d46e7b6a729c36853897a5bb2a38c7c452a239/persistent-5.1-cp311-cp311-win_amd64.whl.metadata\n",
      "  Using cached persistent-5.1-cp311-cp311-win_amd64.whl.metadata (21 kB)\n",
      "Requirement already satisfied: zope.interface>=5.0.0 in c:\\users\\admin\\desktop\\new folder\\lib\\site-packages (from BTrees>=4.1.4->dedupe) (5.4.0)\n",
      "Collecting pyhacrf-datamade>=0.2.0 (from highered>=0.2.0->dedupe)\n",
      "  Using cached pyhacrf-datamade-0.2.6.tar.gz (276 kB)\n",
      "  Installing build dependencies: started\n",
      "  Installing build dependencies: finished with status 'done'\n",
      "  Getting requirements to build wheel: started\n",
      "  Getting requirements to build wheel: finished with status 'done'\n",
      "  Preparing metadata (pyproject.toml): started\n",
      "  Preparing metadata (pyproject.toml): finished with status 'done'\n",
      "INFO: pip is looking at multiple versions of dedupe-variable-datetime to determine which version is compatible with other requirements. This could take a while.\n",
      "Collecting dedupe-variable-datetime (from dedupe)\n",
      "  Using cached dedupe_variable_datetime-0.1.5-py3-none-any.whl (4.8 kB)\n",
      "Collecting datetime-distance (from dedupe-variable-datetime->dedupe)\n",
      "  Using cached datetime_distance-0.1.3-py3-none-any.whl (4.1 kB)\n",
      "Requirement already satisfied: future in c:\\users\\admin\\desktop\\new folder\\lib\\site-packages (from dedupe-variable-datetime->dedupe) (0.18.3)\n",
      "Requirement already satisfied: scipy>=1.5.0 in c:\\users\\admin\\desktop\\new folder\\lib\\site-packages (from scikit-learn->dedupe) (1.11.1)\n",
      "Requirement already satisfied: joblib>=1.1.1 in c:\\users\\admin\\desktop\\new folder\\lib\\site-packages (from scikit-learn->dedupe) (1.2.0)\n",
      "Requirement already satisfied: threadpoolctl>=2.0.0 in c:\\users\\admin\\desktop\\new folder\\lib\\site-packages (from scikit-learn->dedupe) (2.2.0)\n",
      "Requirement already satisfied: setuptools in c:\\users\\admin\\desktop\\new folder\\lib\\site-packages (from zope.index->dedupe) (68.0.0)\n",
      "Requirement already satisfied: cffi in c:\\users\\admin\\desktop\\new folder\\lib\\site-packages (from persistent>=4.1.0->BTrees>=4.1.4->dedupe) (1.15.1)\n",
      "Collecting PyLBFGS>=0.1.3 (from pyhacrf-datamade>=0.2.0->highered>=0.2.0->dedupe)\n",
      "  Using cached PyLBFGS-0.2.0.14.tar.gz (98 kB)\n",
      "  Installing build dependencies: started\n",
      "  Installing build dependencies: finished with status 'done'\n",
      "  Getting requirements to build wheel: started\n",
      "  Getting requirements to build wheel: finished with status 'error'\n"
     ]
    },
    {
     "name": "stderr",
     "output_type": "stream",
     "text": [
      "  error: subprocess-exited-with-error\n",
      "  \n",
      "  Getting requirements to build wheel did not run successfully.\n",
      "  exit code: 1\n",
      "  \n",
      "  [56 lines of output]\n",
      "  C:\\Users\\admin\\AppData\\Local\\Temp\\pip-build-env-4fs4gpqo\\overlay\\Lib\\site-packages\\Cython\\Compiler\\Main.py:381: FutureWarning: Cython directive 'language_level' not set, using '3str' for now (Py3). This has changed from earlier releases! File: C:\\Users\\admin\\AppData\\Local\\Temp\\pip-install-scob0k16\\pylbfgs_c90dbaa5a59c47c7ba8a0d3b0650eb89\\lbfgs\\_lowlevel.pyx\n",
      "    tree = Parsing.p_module(s, pxd, full_module_name)\n",
      "  \n",
      "  Error compiling Cython file:\n",
      "  ------------------------------------------------------------\n",
      "  ...\n",
      "  \n",
      "          x_a = aligned_copy(x0.ravel())\n",
      "  \n",
      "          try:\n",
      "              callback_data = (f, progress, x0.shape, args)\n",
      "              r = lbfgs(n, x_a, fx_final, call_eval,\n",
      "                                          ^\n",
      "  ------------------------------------------------------------\n",
      "  \n",
      "  lbfgs\\_lowlevel.pyx:395:40: Cannot assign type 'lbfgsfloatval_t (void *, lbfgsconst_p, lbfgsfloatval_t *, int, lbfgsfloatval_t) except? -1' to 'lbfgs_evaluate_t'. Exception values are incompatible. Suggest adding 'noexcept' to type 'lbfgsfloatval_t (void *, lbfgsconst_p, lbfgsfloatval_t *, int, lbfgsfloatval_t) except? -1'.\n",
      "  \n",
      "  Error compiling Cython file:\n",
      "  ------------------------------------------------------------\n",
      "  ...\n",
      "          x_a = aligned_copy(x0.ravel())\n",
      "  \n",
      "          try:\n",
      "              callback_data = (f, progress, x0.shape, args)\n",
      "              r = lbfgs(n, x_a, fx_final, call_eval,\n",
      "                        call_progress, <void *>callback_data, &self.params)\n",
      "                        ^\n",
      "  ------------------------------------------------------------\n",
      "  \n",
      "  lbfgs\\_lowlevel.pyx:396:22: Cannot assign type 'int (void *, lbfgsconst_p, lbfgsconst_p, lbfgsfloatval_t, lbfgsfloatval_t, lbfgsfloatval_t, lbfgsfloatval_t, int, int, int) except? -1' to 'lbfgs_progress_t'. Exception values are incompatible. Suggest adding 'noexcept' to type 'int (void *, lbfgsconst_p, lbfgsconst_p, lbfgsfloatval_t, lbfgsfloatval_t, lbfgsfloatval_t, lbfgsfloatval_t, int, int, int) except? -1'.\n",
      "  Compiling lbfgs/_lowlevel.pyx because it changed.\n",
      "  [1/1] Cythonizing lbfgs/_lowlevel.pyx\n",
      "  Traceback (most recent call last):\n",
      "    File \"C:\\Users\\admin\\Desktop\\New folder\\Lib\\site-packages\\pip\\_vendor\\pyproject_hooks\\_in_process\\_in_process.py\", line 353, in <module>\n",
      "      main()\n",
      "    File \"C:\\Users\\admin\\Desktop\\New folder\\Lib\\site-packages\\pip\\_vendor\\pyproject_hooks\\_in_process\\_in_process.py\", line 335, in main\n",
      "      json_out['return_val'] = hook(**hook_input['kwargs'])\n",
      "                               ^^^^^^^^^^^^^^^^^^^^^^^^^^^^\n",
      "    File \"C:\\Users\\admin\\Desktop\\New folder\\Lib\\site-packages\\pip\\_vendor\\pyproject_hooks\\_in_process\\_in_process.py\", line 118, in get_requires_for_build_wheel\n",
      "      return hook(config_settings)\n",
      "             ^^^^^^^^^^^^^^^^^^^^^\n",
      "    File \"C:\\Users\\admin\\AppData\\Local\\Temp\\pip-build-env-4fs4gpqo\\overlay\\Lib\\site-packages\\setuptools\\build_meta.py\", line 355, in get_requires_for_build_wheel\n",
      "      return self._get_build_requires(config_settings, requirements=['wheel'])\n",
      "             ^^^^^^^^^^^^^^^^^^^^^^^^^^^^^^^^^^^^^^^^^^^^^^^^^^^^^^^^^^^^^^^^^\n",
      "    File \"C:\\Users\\admin\\AppData\\Local\\Temp\\pip-build-env-4fs4gpqo\\overlay\\Lib\\site-packages\\setuptools\\build_meta.py\", line 325, in _get_build_requires\n",
      "      self.run_setup()\n",
      "    File \"C:\\Users\\admin\\AppData\\Local\\Temp\\pip-build-env-4fs4gpqo\\overlay\\Lib\\site-packages\\setuptools\\build_meta.py\", line 507, in run_setup\n",
      "      super(_BuildMetaLegacyBackend, self).run_setup(setup_script=setup_script)\n",
      "    File \"C:\\Users\\admin\\AppData\\Local\\Temp\\pip-build-env-4fs4gpqo\\overlay\\Lib\\site-packages\\setuptools\\build_meta.py\", line 341, in run_setup\n",
      "      exec(code, locals())\n",
      "    File \"<string>\", line 27, in <module>\n",
      "    File \"C:\\Users\\admin\\AppData\\Local\\Temp\\pip-build-env-4fs4gpqo\\overlay\\Lib\\site-packages\\Cython\\Build\\Dependencies.py\", line 1154, in cythonize\n",
      "      cythonize_one(*args)\n",
      "    File \"C:\\Users\\admin\\AppData\\Local\\Temp\\pip-build-env-4fs4gpqo\\overlay\\Lib\\site-packages\\Cython\\Build\\Dependencies.py\", line 1321, in cythonize_one\n",
      "      raise CompileError(None, pyx_file)\n",
      "  Cython.Compiler.Errors.CompileError: lbfgs/_lowlevel.pyx\n",
      "  [end of output]\n",
      "  \n",
      "  note: This error originates from a subprocess, and is likely not a problem with pip.\n",
      "error: subprocess-exited-with-error\n",
      "\n",
      "Getting requirements to build wheel did not run successfully.\n",
      "exit code: 1\n",
      "\n",
      "See above for output.\n",
      "\n",
      "note: This error originates from a subprocess, and is likely not a problem with pip.\n"
     ]
    }
   ],
   "source": [
    "pip install dedupe"
   ]
  },
  {
   "cell_type": "code",
   "execution_count": 11,
   "metadata": {},
   "outputs": [
    {
     "ename": "ModuleNotFoundError",
     "evalue": "No module named 'dedpupe'",
     "output_type": "error",
     "traceback": [
      "\u001b[1;31m---------------------------------------------------------------------------\u001b[0m",
      "\u001b[1;31mModuleNotFoundError\u001b[0m                       Traceback (most recent call last)",
      "Cell \u001b[1;32mIn[11], line 2\u001b[0m\n\u001b[0;32m      1\u001b[0m \u001b[38;5;28;01mimport\u001b[39;00m \u001b[38;5;21;01mpandas\u001b[39;00m \u001b[38;5;28;01mas\u001b[39;00m \u001b[38;5;21;01mpd\u001b[39;00m\n\u001b[1;32m----> 2\u001b[0m \u001b[38;5;28;01mimport\u001b[39;00m \u001b[38;5;21;01mdedpupe\u001b[39;00m\n\u001b[0;32m      3\u001b[0m \u001b[38;5;28;01mimport\u001b[39;00m \u001b[38;5;21;01mos\u001b[39;00m\n",
      "\u001b[1;31mModuleNotFoundError\u001b[0m: No module named 'dedpupe'"
     ]
    }
   ],
   "source": [
    "import pandas as pd\n",
    "import dedpupe\n",
    "import os"
   ]
  },
  {
   "cell_type": "code",
   "execution_count": 7,
   "metadata": {},
   "outputs": [],
   "source": [
    "customers = pd.read_csv('customer_data_duped.csv', \n",
    "                        encoding='utf-8')"
   ]
  },
  {
   "cell_type": "markdown",
   "metadata": {},
   "source": [
    "## Checking Data Quality"
   ]
  },
  {
   "cell_type": "code",
   "execution_count": 9,
   "metadata": {
    "scrolled": true
   },
   "outputs": [
    {
     "data": {
      "text/html": [
       "<div>\n",
       "<style scoped>\n",
       "    .dataframe tbody tr th:only-of-type {\n",
       "        vertical-align: middle;\n",
       "    }\n",
       "\n",
       "    .dataframe tbody tr th {\n",
       "        vertical-align: top;\n",
       "    }\n",
       "\n",
       "    .dataframe thead th {\n",
       "        text-align: right;\n",
       "    }\n",
       "</style>\n",
       "<table border=\"1\" class=\"dataframe\">\n",
       "  <thead>\n",
       "    <tr style=\"text-align: right;\">\n",
       "      <th></th>\n",
       "      <th>name</th>\n",
       "      <th>job</th>\n",
       "      <th>company</th>\n",
       "      <th>street_address</th>\n",
       "      <th>city</th>\n",
       "      <th>state</th>\n",
       "      <th>email</th>\n",
       "      <th>user_name</th>\n",
       "    </tr>\n",
       "  </thead>\n",
       "  <tbody>\n",
       "    <tr>\n",
       "      <th>0</th>\n",
       "      <td>Patricia Schaefer</td>\n",
       "      <td>Programmer, systems</td>\n",
       "      <td>Estrada-Best</td>\n",
       "      <td>398 Paul Drive</td>\n",
       "      <td>Christianview</td>\n",
       "      <td>Delaware</td>\n",
       "      <td>lambdavid@gmail.com</td>\n",
       "      <td>ndavidson</td>\n",
       "    </tr>\n",
       "    <tr>\n",
       "      <th>1</th>\n",
       "      <td>Olivie Dubois</td>\n",
       "      <td>Ingénieur recherche et développement en agroal...</td>\n",
       "      <td>Moreno</td>\n",
       "      <td>rue Lucas Benard</td>\n",
       "      <td>Saint Anastasie-les-Bains</td>\n",
       "      <td>AR</td>\n",
       "      <td>berthelotjacqueline@mahe.fr</td>\n",
       "      <td>manonallain</td>\n",
       "    </tr>\n",
       "    <tr>\n",
       "      <th>2</th>\n",
       "      <td>Mary Davies-Kirk</td>\n",
       "      <td>Public affairs consultant</td>\n",
       "      <td>Baker Ltd</td>\n",
       "      <td>Flat 3\\nPugh mews</td>\n",
       "      <td>Stanleyfurt</td>\n",
       "      <td>ZA</td>\n",
       "      <td>middletonconor@hotmail.com</td>\n",
       "      <td>colemanmichael</td>\n",
       "    </tr>\n",
       "    <tr>\n",
       "      <th>3</th>\n",
       "      <td>Miroslawa Eckbauer</td>\n",
       "      <td>Dispensing optician</td>\n",
       "      <td>Ladeck GmbH</td>\n",
       "      <td>Mijo-Lübs-Straße 12</td>\n",
       "      <td>Neubrandenburg</td>\n",
       "      <td>Berlin</td>\n",
       "      <td>sophia01@yahoo.de</td>\n",
       "      <td>romanjunitz</td>\n",
       "    </tr>\n",
       "    <tr>\n",
       "      <th>4</th>\n",
       "      <td>Richard Bauer</td>\n",
       "      <td>Accountant, chartered certified</td>\n",
       "      <td>Hoffman-Rocha</td>\n",
       "      <td>6541 Rodriguez Wall</td>\n",
       "      <td>Carlosmouth</td>\n",
       "      <td>Texas</td>\n",
       "      <td>tross@jensen-ware.org</td>\n",
       "      <td>adam78</td>\n",
       "    </tr>\n",
       "  </tbody>\n",
       "</table>\n",
       "</div>"
      ],
      "text/plain": [
       "                 name                                                job  \\\n",
       "0   Patricia Schaefer                                Programmer, systems   \n",
       "1       Olivie Dubois  Ingénieur recherche et développement en agroal...   \n",
       "2    Mary Davies-Kirk                          Public affairs consultant   \n",
       "3  Miroslawa Eckbauer                                Dispensing optician   \n",
       "4       Richard Bauer                    Accountant, chartered certified   \n",
       "\n",
       "         company       street_address                       city     state  \\\n",
       "0   Estrada-Best       398 Paul Drive              Christianview  Delaware   \n",
       "1         Moreno     rue Lucas Benard  Saint Anastasie-les-Bains        AR   \n",
       "2      Baker Ltd    Flat 3\\nPugh mews                Stanleyfurt        ZA   \n",
       "3    Ladeck GmbH  Mijo-Lübs-Straße 12             Neubrandenburg    Berlin   \n",
       "4  Hoffman-Rocha  6541 Rodriguez Wall                Carlosmouth     Texas   \n",
       "\n",
       "                         email       user_name  \n",
       "0          lambdavid@gmail.com       ndavidson  \n",
       "1  berthelotjacqueline@mahe.fr     manonallain  \n",
       "2   middletonconor@hotmail.com  colemanmichael  \n",
       "3            sophia01@yahoo.de     romanjunitz  \n",
       "4        tross@jensen-ware.org          adam78  "
      ]
     },
     "execution_count": 9,
     "metadata": {},
     "output_type": "execute_result"
    }
   ],
   "source": [
    "customers.head()"
   ]
  },
  {
   "cell_type": "code",
   "execution_count": null,
   "metadata": {},
   "outputs": [],
   "source": [
    "customers.dtypes"
   ]
  },
  {
   "cell_type": "code",
   "execution_count": null,
   "metadata": {},
   "outputs": [],
   "source": [
    "for col in customers.columns:\n",
    "    print(col, customers[col].isnull().sum())"
   ]
  },
  {
   "cell_type": "markdown",
   "metadata": {},
   "source": [
    "## Setting up Dedupe"
   ]
  },
  {
   "cell_type": "code",
   "execution_count": null,
   "metadata": {},
   "outputs": [],
   "source": [
    "variables = [\n",
    "    {'field': 'name', 'type': 'String'},\n",
    "    {'field': 'job', 'type': 'String'},\n",
    "    {'field': 'company', 'type': 'String'},  \n",
    "    {'field': 'street_address','type': 'String'},\n",
    "    {'field': 'city','type': 'String'},\n",
    "    {'field': 'state', 'type': 'String', 'has_missing': True},\n",
    "    {'field': 'email', 'type': 'String', 'has_missing': True},\n",
    "    {'field': 'user_name', 'type': 'String'},\n",
    "]\n",
    "\n",
    "deduper = dedupe.Dedupe(variables)"
   ]
  },
  {
   "cell_type": "code",
   "execution_count": null,
   "metadata": {},
   "outputs": [],
   "source": [
    "deduper"
   ]
  },
  {
   "cell_type": "code",
   "execution_count": null,
   "metadata": {},
   "outputs": [],
   "source": [
    "customers.shape"
   ]
  },
  {
   "cell_type": "code",
   "execution_count": null,
   "metadata": {
    "scrolled": true
   },
   "outputs": [],
   "source": [
    "deduper.sample(customers.T.to_dict(), 500)"
   ]
  },
  {
   "cell_type": "markdown",
   "metadata": {},
   "source": [
    "Note: If you receive an error like this:\n",
    "\n",
    "```/usr/local/lib/python2.7/site-packages/dedupe/sampling.py:39: UserWarning: 250 blocked samples were requested, but only able to sample 249\n",
    "  % (sample_size, len(blocked_sample)))\n",
    "```\n",
    "\n",
    "you can continue (some were selected), or use the suggested number (^ here it would be 249)"
   ]
  },
  {
   "cell_type": "markdown",
   "metadata": {},
   "source": [
    "#### Either use training file (uncomment) or resume active training below"
   ]
  },
  {
   "cell_type": "code",
   "execution_count": null,
   "metadata": {},
   "outputs": [],
   "source": [
    "training_file = '../data/ignore-dedupe-training.json'\n",
    "#if os.path.exists(training_file):\n",
    "#    with open(training_file, 'rb') as f:\n",
    "#        deduper.readTraining(f)"
   ]
  },
  {
   "cell_type": "code",
   "execution_count": null,
   "metadata": {},
   "outputs": [],
   "source": [
    "dedupe.consoleLabel(deduper)"
   ]
  },
  {
   "cell_type": "code",
   "execution_count": null,
   "metadata": {},
   "outputs": [],
   "source": [
    "deduper.train()"
   ]
  },
  {
   "cell_type": "code",
   "execution_count": null,
   "metadata": {},
   "outputs": [],
   "source": [
    "with open(training_file, 'w') as tf:\n",
    "    deduper.writeTraining(tf)"
   ]
  },
  {
   "cell_type": "code",
   "execution_count": null,
   "metadata": {},
   "outputs": [],
   "source": [
    "dupes = deduper.match(customers.T.to_dict())"
   ]
  },
  {
   "cell_type": "code",
   "execution_count": null,
   "metadata": {},
   "outputs": [],
   "source": [
    "dupes"
   ]
  },
  {
   "cell_type": "code",
   "execution_count": null,
   "metadata": {},
   "outputs": [],
   "source": [
    "dupes[2]"
   ]
  },
  {
   "cell_type": "code",
   "execution_count": null,
   "metadata": {},
   "outputs": [],
   "source": [
    "customers.iloc[[741,1107]]"
   ]
  },
  {
   "cell_type": "markdown",
   "metadata": {
    "collapsed": true
   },
   "source": [
    "### Exercise: Flag duplicates by adding 2 extra columns, one for confidence score and one for duplicate_ids"
   ]
  },
  {
   "cell_type": "code",
   "execution_count": null,
   "metadata": {},
   "outputs": [],
   "source": [
    "# %load ../solutions/dedupe.py\n"
   ]
  },
  {
   "cell_type": "code",
   "execution_count": null,
   "metadata": {},
   "outputs": [],
   "source": []
  },
  {
   "cell_type": "code",
   "execution_count": null,
   "metadata": {},
   "outputs": [],
   "source": [
    "customers[customers.confidence.notnull() == True].head()"
   ]
  },
  {
   "cell_type": "code",
   "execution_count": null,
   "metadata": {},
   "outputs": [],
   "source": []
  }
 ],
 "metadata": {
  "kernelspec": {
   "display_name": "Python 3 (ipykernel)",
   "language": "python",
   "name": "python3"
  },
  "language_info": {
   "codemirror_mode": {
    "name": "ipython",
    "version": 3
   },
   "file_extension": ".py",
   "mimetype": "text/x-python",
   "name": "python",
   "nbconvert_exporter": "python",
   "pygments_lexer": "ipython3",
   "version": "3.11.5"
  }
 },
 "nbformat": 4,
 "nbformat_minor": 1
}
